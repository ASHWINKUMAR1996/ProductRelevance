{
  "nbformat": 4,
  "nbformat_minor": 0,
  "metadata": {
    "colab": {
      "name": "ProductRelevance.ipynb",
      "provenance": [],
      "collapsed_sections": [
        "uR_hBaeNni4H"
      ],
      "include_colab_link": true
    },
    "kernelspec": {
      "display_name": "Python 3",
      "language": "python",
      "name": "python3"
    },
    "language_info": {
      "codemirror_mode": {
        "name": "ipython",
        "version": 3
      },
      "file_extension": ".py",
      "mimetype": "text/x-python",
      "name": "python",
      "nbconvert_exporter": "python",
      "pygments_lexer": "ipython3",
      "version": "3.8.5"
    },
    "varInspector": {
      "cols": {
        "lenName": 16,
        "lenType": 16,
        "lenVar": 40
      },
      "kernels_config": {
        "python": {
          "delete_cmd_postfix": "",
          "delete_cmd_prefix": "del ",
          "library": "var_list.py",
          "varRefreshCmd": "print(var_dic_list())"
        },
        "r": {
          "delete_cmd_postfix": ") ",
          "delete_cmd_prefix": "rm(",
          "library": "var_list.r",
          "varRefreshCmd": "cat(var_dic_list()) "
        }
      },
      "types_to_exclude": [
        "module",
        "function",
        "builtin_function_or_method",
        "instance",
        "_Feature"
      ],
      "window_display": false
    }
  },
  "cells": [
    {
      "cell_type": "markdown",
      "metadata": {
        "id": "view-in-github",
        "colab_type": "text"
      },
      "source": [
        "<a href=\"https://colab.research.google.com/github/ASHWINKUMAR1996/ProductRelevance/blob/master/ProductRelevance.ipynb\" target=\"_parent\"><img src=\"https://colab.research.google.com/assets/colab-badge.svg\" alt=\"Open In Colab\"/></a>"
      ]
    },
    {
      "cell_type": "code",
      "metadata": {
        "id": "x6AnBdRWni3h"
      },
      "source": [
        "!apt-get update\n",
        "!apt-get install openjdk-8-jdk-headless -qq > /dev/null\n",
        "!wget http://archive.apache.org/dist/spark/spark-2.3.1/spark-2.3.1-bin-hadoop2.7.tgz\n",
        "!tar -xf spark-2.3.1-bin-hadoop2.7.tgz\n",
        "# !mv spark-2.3.1-bin-hadoop2.7 spark\n",
        "!pip install -q findspark"
      ],
      "execution_count": null,
      "outputs": []
    },
    {
      "cell_type": "code",
      "metadata": {
        "colab": {
          "base_uri": "https://localhost:8080/"
        },
        "id": "d1OtvUnMoFQ7",
        "outputId": "bdcab1f7-61de-42e2-b5af-4bca5723866f"
      },
      "source": [
        "from google.colab import drive\n",
        "drive.mount('/content/drive', force_remount=False)"
      ],
      "execution_count": null,
      "outputs": [
        {
          "output_type": "stream",
          "text": [
            "Mounted at /content/drive\n"
          ],
          "name": "stdout"
        }
      ]
    },
    {
      "cell_type": "code",
      "metadata": {
        "ExecuteTime": {
          "end_time": "2021-05-06T06:09:27.640133Z",
          "start_time": "2021-05-06T06:09:05.821952Z"
        },
        "id": "vlQUW_6TycyS",
        "scrolled": false,
        "colab": {
          "base_uri": "https://localhost:8080/"
        },
        "outputId": "ba310e3d-0f61-4d44-f697-ecc492b8dc42"
      },
      "source": [
        "import os\n",
        "os.environ[\"JAVA_HOME\"] = \"/usr/lib/jvm/java-8-openjdk-amd64\"\n",
        "os.environ[\"SPARK_HOME\"] = \"/content/spark-2.3.1-bin-hadoop2.7\"\n",
        "# os.environ[\"PATH\"] += os.environ[\"SPARK_HOME\"] + \"/bin\" + os.pathsep + os.environ[\"SPARK_HOME\"] + \"/sbin\"\n",
        "os.environ[\"NLTK_DATA\"] = \"/content/drive/MyDrive/downloads/nltk\"\n",
        "\n",
        "import sys\n",
        "sys.path.append(\"/content/drive/MyDrive/python3.7_packages/\")\n",
        "\n",
        "import findspark\n",
        "findspark.init()\n",
        "print(findspark.find())\n",
        "\n",
        "import sys\n",
        "import re\n",
        "import string\n",
        "import warnings\n",
        "import numpy as np\n",
        "import pandas as pd\n",
        "import seaborn as sns\n",
        "import bert\n",
        "import nltk\n",
        "import datetime\n",
        "from collections import Counter\n",
        "from operator import itemgetter\n",
        "from Levenshtein import ratio\n",
        "from nltk.corpus import stopwords\n",
        "import transformers\n",
        "import tensorflow as tf\n",
        "import tensorflow_hub as hub\n",
        "import matplotlib.pyplot as plt\n",
        "from wordcloud import WordCloud\n",
        "\n",
        "stop = stopwords.words(\"english\")\n",
        "warnings.filterwarnings(\"ignore\")\n",
        "pd.set_option(\"display.max_colwidth\", 200)\n",
        "pd.set_option('display.max_columns', None)\n",
        "\n",
        "import spacy\n",
        "nlp = spacy.load(\"en_core_web_sm\")"
      ],
      "execution_count": null,
      "outputs": [
        {
          "output_type": "stream",
          "text": [
            "/content/spark-2.3.1-bin-hadoop2.7\n"
          ],
          "name": "stdout"
        }
      ]
    },
    {
      "cell_type": "code",
      "metadata": {
        "ExecuteTime": {
          "end_time": "2021-05-06T06:09:33.176632Z",
          "start_time": "2021-05-06T06:09:27.643173Z"
        },
        "colab": {
          "base_uri": "https://localhost:8080/"
        },
        "id": "McaTbalQycym",
        "scrolled": true,
        "outputId": "f5456571-2924-4d77-f54a-b4fbfdaf66b8"
      },
      "source": [
        "# read data from files\n",
        "train = pd.read_csv(\"/content/drive/MyDrive/home_depot_product_search_relevance/train.csv\", encoding=\"ISO-8859-1\")\n",
        "test = pd.read_csv(\"/content/drive/MyDrive/home_depot_product_search_relevance/test.csv\", encoding=\"ISO-8859-1\")\n",
        "description = pd.read_csv(\"/content/drive/MyDrive/home_depot_product_search_relevance/product_descriptions.csv\", encoding=\"ISO-8859-1\")\n",
        "attributes = pd.read_csv(\"/content/drive/MyDrive/home_depot_product_search_relevance/attributes.csv\", encoding=\"ISO-8859-1\")\n",
        "train.shape, test.shape, description.shape, attributes.shape"
      ],
      "execution_count": null,
      "outputs": [
        {
          "output_type": "execute_result",
          "data": {
            "text/plain": [
              "((74067, 5), (166693, 4), (124428, 2), (2044803, 3))"
            ]
          },
          "metadata": {
            "tags": []
          },
          "execution_count": 6
        }
      ]
    },
    {
      "cell_type": "code",
      "metadata": {
        "ExecuteTime": {
          "end_time": "2021-05-06T06:09:33.195381Z",
          "start_time": "2021-05-06T06:09:33.182240Z"
        },
        "id": "mc16ZR6jIwkT"
      },
      "source": [
        "def preprocess_text(s):\n",
        "\n",
        "    if isinstance(s, str):\n",
        "    \n",
        "        s = s.lower()\n",
        "        s = s.translate(str.maketrans(string.punctuation, ' '*len(string.punctuation), \"\"))\n",
        "        s = re.sub(r\"([0-9])( *)\\.( *)([0-9])\", r\"\\1.\\4\", s)\n",
        "        s = re.sub(r\"([0-9]+)(\\s*)(inches|inch|in)\\.?(\\s*x\\s*)([0-9]+)(\\s*)(inches|inch|in)\\.?\", r\"\\1x\\5in.\", s)\n",
        "        s = re.sub(r\"([0-9]+)( *)(inches|inch|in|')\\.?\", r\"\\1in. \", s)\n",
        "        s = re.sub(r\"([0-9]+)(\\s*)(foot|feet|ft)\\.?(\\s*x\\s*)([0-9]+)(\\s*)(foot|feet|ft)\\.?\", r\"\\1x\\5ft.\", s)\n",
        "        s = re.sub(r\"([0-9]+)( *)(foot|feet|ft|'')\\.?\", r\"\\1ft. \", s)\n",
        "        s = re.sub(r\"([0-9]+)( *)(pounds|pound|lbs|lb)\\.?\", r\"\\1lb. \", s)\n",
        "        s = re.sub(r\"([0-9]+)( *)(square|sq) ?\\.?(feet|foot|ft)\\.?\", r\"\\1sq.ft. \", s)\n",
        "        s = re.sub(r\"([0-9]+)( *)(cubic|cu) ?\\.?(feet|foot|ft)\\.?\", r\"\\1cu.ft. \", s)\n",
        "        s = re.sub(r\"([0-9]+)( *)(gallons|gallon|gal)\\.?\", r\"\\1gal. \", s)\n",
        "        s = re.sub(r\"([0-9]+)( *)(ounces|ounce|oz)\\.?\", r\"\\1oz. \", s)\n",
        "        s = re.sub(r\"([0-9]+)( *)(centimeters|cm)\\.?\", r\"\\1cm. \", s)\n",
        "        s = re.sub(r\"([0-9]+)( *)(milimeters|mm)\\.?\", r\"\\1mm. \", s)\n",
        "        s = s.replace(\"°\",\" degrees \")\n",
        "        s = re.sub(r\"([0-9]+)( *)(degrees|degree)\\.?\", r\"\\1deg. \", s)\n",
        "        s = s.replace(\" v \",\" volts \")\n",
        "        s = re.sub(r\"([0-9]+)( *)(volts|volt)\\.?\", r\"\\1volt. \", s)\n",
        "        s = re.sub(r\"([0-9]+)( *)(watts|watt)\\.?\", r\"\\1watt. \", s)\n",
        "        s = re.sub(r\"([0-9]+)( *)(amperes|ampere|amps|amp)\\.?\", r\"\\1amp. \", s)\n",
        "        s = re.sub(r\"([0-9])( *)\\.( *)([0-9])\", r\"\\1.\\4\", s)\n",
        "        s = re.sub(r'(\\d+[\\s]{1}[\\d]+\\d*)+', lambda x: x.group(1).replace(\" \", \"\"), s)\n",
        "        s = re.sub(r\" +\", r\" \", s)    \n",
        "        return s\n",
        "    else:\n",
        "        return \"null\""
      ],
      "execution_count": null,
      "outputs": []
    },
    {
      "cell_type": "code",
      "metadata": {
        "ExecuteTime": {
          "end_time": "2021-05-06T06:09:33.460980Z",
          "start_time": "2021-05-06T06:09:33.198466Z"
        },
        "colab": {
          "base_uri": "https://localhost:8080/",
          "height": 204
        },
        "id": "e3juk2p6ycyq",
        "scrolled": false,
        "outputId": "4c5931ce-39ae-4d33-e8f7-b9d742c81fb2"
      },
      "source": [
        "train.head()"
      ],
      "execution_count": null,
      "outputs": [
        {
          "output_type": "execute_result",
          "data": {
            "text/html": [
              "<div>\n",
              "<style scoped>\n",
              "    .dataframe tbody tr th:only-of-type {\n",
              "        vertical-align: middle;\n",
              "    }\n",
              "\n",
              "    .dataframe tbody tr th {\n",
              "        vertical-align: top;\n",
              "    }\n",
              "\n",
              "    .dataframe thead th {\n",
              "        text-align: right;\n",
              "    }\n",
              "</style>\n",
              "<table border=\"1\" class=\"dataframe\">\n",
              "  <thead>\n",
              "    <tr style=\"text-align: right;\">\n",
              "      <th></th>\n",
              "      <th>id</th>\n",
              "      <th>product_uid</th>\n",
              "      <th>product_title</th>\n",
              "      <th>search_term</th>\n",
              "      <th>relevance</th>\n",
              "    </tr>\n",
              "  </thead>\n",
              "  <tbody>\n",
              "    <tr>\n",
              "      <th>0</th>\n",
              "      <td>2</td>\n",
              "      <td>100001</td>\n",
              "      <td>Simpson Strong-Tie 12-Gauge Angle</td>\n",
              "      <td>angle bracket</td>\n",
              "      <td>3.00</td>\n",
              "    </tr>\n",
              "    <tr>\n",
              "      <th>1</th>\n",
              "      <td>3</td>\n",
              "      <td>100001</td>\n",
              "      <td>Simpson Strong-Tie 12-Gauge Angle</td>\n",
              "      <td>l bracket</td>\n",
              "      <td>2.50</td>\n",
              "    </tr>\n",
              "    <tr>\n",
              "      <th>2</th>\n",
              "      <td>9</td>\n",
              "      <td>100002</td>\n",
              "      <td>BEHR Premium Textured DeckOver 1-gal. #SC-141 Tugboat Wood and Concrete Coating</td>\n",
              "      <td>deck over</td>\n",
              "      <td>3.00</td>\n",
              "    </tr>\n",
              "    <tr>\n",
              "      <th>3</th>\n",
              "      <td>16</td>\n",
              "      <td>100005</td>\n",
              "      <td>Delta Vero 1-Handle Shower Only Faucet Trim Kit in Chrome (Valve Not Included)</td>\n",
              "      <td>rain shower head</td>\n",
              "      <td>2.33</td>\n",
              "    </tr>\n",
              "    <tr>\n",
              "      <th>4</th>\n",
              "      <td>17</td>\n",
              "      <td>100005</td>\n",
              "      <td>Delta Vero 1-Handle Shower Only Faucet Trim Kit in Chrome (Valve Not Included)</td>\n",
              "      <td>shower only faucet</td>\n",
              "      <td>2.67</td>\n",
              "    </tr>\n",
              "  </tbody>\n",
              "</table>\n",
              "</div>"
            ],
            "text/plain": [
              "   id  product_uid  \\\n",
              "0   2       100001   \n",
              "1   3       100001   \n",
              "2   9       100002   \n",
              "3  16       100005   \n",
              "4  17       100005   \n",
              "\n",
              "                                                                     product_title  \\\n",
              "0                                                Simpson Strong-Tie 12-Gauge Angle   \n",
              "1                                                Simpson Strong-Tie 12-Gauge Angle   \n",
              "2  BEHR Premium Textured DeckOver 1-gal. #SC-141 Tugboat Wood and Concrete Coating   \n",
              "3   Delta Vero 1-Handle Shower Only Faucet Trim Kit in Chrome (Valve Not Included)   \n",
              "4   Delta Vero 1-Handle Shower Only Faucet Trim Kit in Chrome (Valve Not Included)   \n",
              "\n",
              "          search_term  relevance  \n",
              "0       angle bracket       3.00  \n",
              "1           l bracket       2.50  \n",
              "2           deck over       3.00  \n",
              "3    rain shower head       2.33  \n",
              "4  shower only faucet       2.67  "
            ]
          },
          "metadata": {
            "tags": []
          },
          "execution_count": 8
        }
      ]
    },
    {
      "cell_type": "code",
      "metadata": {
        "ExecuteTime": {
          "end_time": "2021-05-06T06:09:33.487129Z",
          "start_time": "2021-05-06T06:09:33.463681Z"
        },
        "colab": {
          "base_uri": "https://localhost:8080/",
          "height": 289
        },
        "id": "QmGde9ilycyr",
        "scrolled": true,
        "outputId": "1abb04b6-f311-4e12-be6c-aa168a631675"
      },
      "source": [
        "description.head()"
      ],
      "execution_count": null,
      "outputs": [
        {
          "output_type": "execute_result",
          "data": {
            "text/html": [
              "<div>\n",
              "<style scoped>\n",
              "    .dataframe tbody tr th:only-of-type {\n",
              "        vertical-align: middle;\n",
              "    }\n",
              "\n",
              "    .dataframe tbody tr th {\n",
              "        vertical-align: top;\n",
              "    }\n",
              "\n",
              "    .dataframe thead th {\n",
              "        text-align: right;\n",
              "    }\n",
              "</style>\n",
              "<table border=\"1\" class=\"dataframe\">\n",
              "  <thead>\n",
              "    <tr style=\"text-align: right;\">\n",
              "      <th></th>\n",
              "      <th>product_uid</th>\n",
              "      <th>product_description</th>\n",
              "    </tr>\n",
              "  </thead>\n",
              "  <tbody>\n",
              "    <tr>\n",
              "      <th>0</th>\n",
              "      <td>100001</td>\n",
              "      <td>Not only do angles make joints stronger, they also provide more consistent, straight corners. Simpson Strong-Tie offers a wide variety of angles in various sizes and thicknesses to handle light-du...</td>\n",
              "    </tr>\n",
              "    <tr>\n",
              "      <th>1</th>\n",
              "      <td>100002</td>\n",
              "      <td>BEHR Premium Textured DECKOVER is an innovative solid color coating. It will bring your old, weathered wood or concrete back to life. The advanced 100% acrylic resin formula creates a durable coat...</td>\n",
              "    </tr>\n",
              "    <tr>\n",
              "      <th>2</th>\n",
              "      <td>100003</td>\n",
              "      <td>Classic architecture meets contemporary design in the Ensemble Curve series, made of solid Vikrell material, blending sleek, clean lines with gentle curves. Corner shelving is perfect for storing ...</td>\n",
              "    </tr>\n",
              "    <tr>\n",
              "      <th>3</th>\n",
              "      <td>100004</td>\n",
              "      <td>The Grape Solar 265-Watt Polycrystalline PV Solar Panel bonus pack bundles 4 Grape Solar 265-Watt solar panels for extra savings. The Grape Solar 265-Watt Polycrystalline PV Solar Panel uses high ...</td>\n",
              "    </tr>\n",
              "    <tr>\n",
              "      <th>4</th>\n",
              "      <td>100005</td>\n",
              "      <td>Update your bathroom with the Delta Vero Single-Handle Shower Faucet Trim Kit in Chrome. It has a sleek, modern and minimalistic aesthetic. The MultiChoice universal valve keeps the water temperat...</td>\n",
              "    </tr>\n",
              "  </tbody>\n",
              "</table>\n",
              "</div>"
            ],
            "text/plain": [
              "   product_uid  \\\n",
              "0       100001   \n",
              "1       100002   \n",
              "2       100003   \n",
              "3       100004   \n",
              "4       100005   \n",
              "\n",
              "                                                                                                                                                                                       product_description  \n",
              "0  Not only do angles make joints stronger, they also provide more consistent, straight corners. Simpson Strong-Tie offers a wide variety of angles in various sizes and thicknesses to handle light-du...  \n",
              "1  BEHR Premium Textured DECKOVER is an innovative solid color coating. It will bring your old, weathered wood or concrete back to life. The advanced 100% acrylic resin formula creates a durable coat...  \n",
              "2  Classic architecture meets contemporary design in the Ensemble Curve series, made of solid Vikrell material, blending sleek, clean lines with gentle curves. Corner shelving is perfect for storing ...  \n",
              "3  The Grape Solar 265-Watt Polycrystalline PV Solar Panel bonus pack bundles 4 Grape Solar 265-Watt solar panels for extra savings. The Grape Solar 265-Watt Polycrystalline PV Solar Panel uses high ...  \n",
              "4  Update your bathroom with the Delta Vero Single-Handle Shower Faucet Trim Kit in Chrome. It has a sleek, modern and minimalistic aesthetic. The MultiChoice universal valve keeps the water temperat...  "
            ]
          },
          "metadata": {
            "tags": []
          },
          "execution_count": 9
        }
      ]
    },
    {
      "cell_type": "code",
      "metadata": {
        "ExecuteTime": {
          "end_time": "2021-05-06T06:09:33.543403Z",
          "start_time": "2021-05-06T06:09:33.491250Z"
        },
        "colab": {
          "base_uri": "https://localhost:8080/",
          "height": 204
        },
        "id": "vw1gwwnwycyt",
        "outputId": "3fd47232-7fa0-4463-88bc-f48591c391e7"
      },
      "source": [
        "attributes.head()"
      ],
      "execution_count": null,
      "outputs": [
        {
          "output_type": "execute_result",
          "data": {
            "text/html": [
              "<div>\n",
              "<style scoped>\n",
              "    .dataframe tbody tr th:only-of-type {\n",
              "        vertical-align: middle;\n",
              "    }\n",
              "\n",
              "    .dataframe tbody tr th {\n",
              "        vertical-align: top;\n",
              "    }\n",
              "\n",
              "    .dataframe thead th {\n",
              "        text-align: right;\n",
              "    }\n",
              "</style>\n",
              "<table border=\"1\" class=\"dataframe\">\n",
              "  <thead>\n",
              "    <tr style=\"text-align: right;\">\n",
              "      <th></th>\n",
              "      <th>product_uid</th>\n",
              "      <th>name</th>\n",
              "      <th>value</th>\n",
              "    </tr>\n",
              "  </thead>\n",
              "  <tbody>\n",
              "    <tr>\n",
              "      <th>0</th>\n",
              "      <td>100001.0</td>\n",
              "      <td>Bullet01</td>\n",
              "      <td>Versatile connector for various 90Â° connections and home repair projects</td>\n",
              "    </tr>\n",
              "    <tr>\n",
              "      <th>1</th>\n",
              "      <td>100001.0</td>\n",
              "      <td>Bullet02</td>\n",
              "      <td>Stronger than angled nailing or screw fastening alone</td>\n",
              "    </tr>\n",
              "    <tr>\n",
              "      <th>2</th>\n",
              "      <td>100001.0</td>\n",
              "      <td>Bullet03</td>\n",
              "      <td>Help ensure joints are consistently straight and strong</td>\n",
              "    </tr>\n",
              "    <tr>\n",
              "      <th>3</th>\n",
              "      <td>100001.0</td>\n",
              "      <td>Bullet04</td>\n",
              "      <td>Dimensions: 3 in. x 3 in. x 1-1/2 in.</td>\n",
              "    </tr>\n",
              "    <tr>\n",
              "      <th>4</th>\n",
              "      <td>100001.0</td>\n",
              "      <td>Bullet05</td>\n",
              "      <td>Made from 12-Gauge steel</td>\n",
              "    </tr>\n",
              "  </tbody>\n",
              "</table>\n",
              "</div>"
            ],
            "text/plain": [
              "   product_uid      name  \\\n",
              "0     100001.0  Bullet01   \n",
              "1     100001.0  Bullet02   \n",
              "2     100001.0  Bullet03   \n",
              "3     100001.0  Bullet04   \n",
              "4     100001.0  Bullet05   \n",
              "\n",
              "                                                                       value  \n",
              "0  Versatile connector for various 90Â° connections and home repair projects  \n",
              "1                      Stronger than angled nailing or screw fastening alone  \n",
              "2                    Help ensure joints are consistently straight and strong  \n",
              "3                                      Dimensions: 3 in. x 3 in. x 1-1/2 in.  \n",
              "4                                                   Made from 12-Gauge steel  "
            ]
          },
          "metadata": {
            "tags": []
          },
          "execution_count": 10
        }
      ]
    },
    {
      "cell_type": "code",
      "metadata": {
        "ExecuteTime": {
          "end_time": "2021-05-06T06:09:33.852518Z",
          "start_time": "2021-05-06T06:09:33.545520Z"
        },
        "colab": {
          "base_uri": "https://localhost:8080/"
        },
        "id": "VsW1RKzsycyu",
        "scrolled": true,
        "outputId": "fe525790-37be-4cd2-f617-7b98dbc05846"
      },
      "source": [
        "# check most repeating attributes\n",
        "attributes[\"name\"].value_counts().head(20)"
      ],
      "execution_count": null,
      "outputs": [
        {
          "output_type": "execute_result",
          "data": {
            "text/plain": [
              "MFG Brand Name                 86250\n",
              "Bullet02                       86248\n",
              "Bullet03                       86226\n",
              "Bullet04                       86174\n",
              "Bullet01                       85940\n",
              "Product Width (in.)            61137\n",
              "Bullet05                       60529\n",
              "Product Height (in.)           54698\n",
              "Product Depth (in.)            53652\n",
              "Product Weight (lb.)           45175\n",
              "Bullet06                       44901\n",
              "Color Family                   41508\n",
              "Bullet07                       34349\n",
              "Material                       31500\n",
              "Color/Finish                   28564\n",
              "Bullet08                       26645\n",
              "Certifications and Listings    24583\n",
              "Bullet09                       20567\n",
              "Assembled Height (in.)         18299\n",
              "Assembled Width (in.)          18263\n",
              "Name: name, dtype: int64"
            ]
          },
          "metadata": {
            "tags": []
          },
          "execution_count": 11
        }
      ]
    },
    {
      "cell_type": "code",
      "metadata": {
        "ExecuteTime": {
          "end_time": "2021-05-06T06:13:44.907485Z",
          "start_time": "2021-05-06T06:09:33.855676Z"
        },
        "colab": {
          "base_uri": "https://localhost:8080/",
          "height": 578
        },
        "id": "nUPYOvyQycyv",
        "scrolled": true,
        "outputId": "54016929-fb8e-4e6c-d832-0c0cccf0970c"
      },
      "source": [
        "# group attributes based on product id and create a feature dictionary for each product\n",
        "attributes[\"name\"] = attributes[\"name\"].apply(preprocess_text)\n",
        "attributes[\"value\"] = attributes[\"value\"].apply(preprocess_text)\n",
        "att_features = attributes.groupby(\"product_uid\").agg({\"name\": lambda s: s.tolist(), \"value\": lambda x: x.tolist()}).reset_index()\n",
        "att_features[\"features\"] = att_features.apply(lambda x: dict(zip(x[\"name\"], x[\"value\"])), axis=1)\n",
        "att_features.head()"
      ],
      "execution_count": null,
      "outputs": [
        {
          "output_type": "execute_result",
          "data": {
            "text/html": [
              "<div>\n",
              "<style scoped>\n",
              "    .dataframe tbody tr th:only-of-type {\n",
              "        vertical-align: middle;\n",
              "    }\n",
              "\n",
              "    .dataframe tbody tr th {\n",
              "        vertical-align: top;\n",
              "    }\n",
              "\n",
              "    .dataframe thead th {\n",
              "        text-align: right;\n",
              "    }\n",
              "</style>\n",
              "<table border=\"1\" class=\"dataframe\">\n",
              "  <thead>\n",
              "    <tr style=\"text-align: right;\">\n",
              "      <th></th>\n",
              "      <th>product_uid</th>\n",
              "      <th>name</th>\n",
              "      <th>value</th>\n",
              "      <th>features</th>\n",
              "    </tr>\n",
              "  </thead>\n",
              "  <tbody>\n",
              "    <tr>\n",
              "      <th>0</th>\n",
              "      <td>100001.0</td>\n",
              "      <td>[bullet01, bullet02, bullet03, bullet04, bullet05, bullet06, bullet07, gauge, material, mfg brand name, number of pieces, product depth in , product height in , product weight lb , product width in ]</td>\n",
              "      <td>[versatile connector for various 90â degrees connections and home repair projects, stronger than angled nailing or screw fastening alone, help ensure joints are consistently straight and strong, d...</td>\n",
              "      <td>{'bullet01': 'versatile connector for various 90â degrees connections and home repair projects', 'bullet02': 'stronger than angled nailing or screw fastening alone', 'bullet03': 'help ensure joint...</td>\n",
              "    </tr>\n",
              "    <tr>\n",
              "      <th>1</th>\n",
              "      <td>100002.0</td>\n",
              "      <td>[application method, assembled depth in , assembled height in , assembled width in , bullet01, bullet02, bullet03, bullet04, bullet05, bullet06, bullet07, bullet08, bullet10, bullet18, cleanup, co...</td>\n",
              "      <td>[brush roller spray, 663in. , 776in. , 663in. , revives wood and composite decks railings porches and boat docks also great for concrete pool decks patios and sidewalks, 100 acrylic solid color co...</td>\n",
              "      <td>{'application method': 'brush roller spray', 'assembled depth in ': '663in. ', 'assembled height in ': '776in. ', 'assembled width in ': '663in. ', 'bullet01': 'revives wood and composite decks ra...</td>\n",
              "    </tr>\n",
              "    <tr>\n",
              "      <th>2</th>\n",
              "      <td>100003.0</td>\n",
              "      <td>[built in flange, bullet01, bullet02, bullet03, bullet04, bullet05, caulkless, certifications and listings, color family, color finish, construction, drain included, drain location, exterior bath ...</td>\n",
              "      <td>[yes, slightly narrower for tighter spaces, designed with an 18in. apron, durable high gloss finish provides a smooth shiny surface that is easy to clean, conforms to ansi z1241 2 and csa b451 nat...</td>\n",
              "      <td>{'built in flange': 'yes', 'bullet01': 'slightly narrower for tighter spaces', 'bullet02': 'designed with an 18in. apron', 'bullet03': 'durable high gloss finish provides a smooth shiny surface th...</td>\n",
              "    </tr>\n",
              "    <tr>\n",
              "      <th>3</th>\n",
              "      <td>100004.0</td>\n",
              "      <td>[amperage amps , bullet01, bullet02, bullet03, bullet04, bullet05, bullet06, charge controller included, electrical product type, inverter included, low voltage audible alarm, mfg brand name, moun...</td>\n",
              "      <td>[856, positive power tolerance 0 to 5watt. , anti reflective and anti soiling surface reduces power loss from dirt and dust, outstanding performance in low light irradiances environments, certifie...</td>\n",
              "      <td>{'amperage amps ': '856', 'bullet01': 'positive power tolerance 0 to 5watt. ', 'bullet02': 'anti reflective and anti soiling surface reduces power loss from dirt and dust', 'bullet03': 'outstandin...</td>\n",
              "    </tr>\n",
              "    <tr>\n",
              "      <th>4</th>\n",
              "      <td>100005.0</td>\n",
              "      <td>[bath faucet type, built in water filter, bullet01, bullet02, bullet03, bullet04, certifications and listings, color family, color finish, connection size in , faucet features, faucet included com...</td>\n",
              "      <td>[combo tub and shower, no, includes the trim kit only the rough in kit r10000 unbx is sold separately, includes the handle, maintains a balanced pressure of hot and cold water even when a valve is...</td>\n",
              "      <td>{'bath faucet type': 'combo tub and shower', 'built in water filter': 'no', 'bullet01': 'includes the trim kit only the rough in kit r10000 unbx is sold separately', 'bullet02': 'includes the hand...</td>\n",
              "    </tr>\n",
              "  </tbody>\n",
              "</table>\n",
              "</div>"
            ],
            "text/plain": [
              "   product_uid  \\\n",
              "0     100001.0   \n",
              "1     100002.0   \n",
              "2     100003.0   \n",
              "3     100004.0   \n",
              "4     100005.0   \n",
              "\n",
              "                                                                                                                                                                                                      name  \\\n",
              "0  [bullet01, bullet02, bullet03, bullet04, bullet05, bullet06, bullet07, gauge, material, mfg brand name, number of pieces, product depth in , product height in , product weight lb , product width in ]   \n",
              "1  [application method, assembled depth in , assembled height in , assembled width in , bullet01, bullet02, bullet03, bullet04, bullet05, bullet06, bullet07, bullet08, bullet10, bullet18, cleanup, co...   \n",
              "2  [built in flange, bullet01, bullet02, bullet03, bullet04, bullet05, caulkless, certifications and listings, color family, color finish, construction, drain included, drain location, exterior bath ...   \n",
              "3  [amperage amps , bullet01, bullet02, bullet03, bullet04, bullet05, bullet06, charge controller included, electrical product type, inverter included, low voltage audible alarm, mfg brand name, moun...   \n",
              "4  [bath faucet type, built in water filter, bullet01, bullet02, bullet03, bullet04, certifications and listings, color family, color finish, connection size in , faucet features, faucet included com...   \n",
              "\n",
              "                                                                                                                                                                                                     value  \\\n",
              "0  [versatile connector for various 90â degrees connections and home repair projects, stronger than angled nailing or screw fastening alone, help ensure joints are consistently straight and strong, d...   \n",
              "1  [brush roller spray, 663in. , 776in. , 663in. , revives wood and composite decks railings porches and boat docks also great for concrete pool decks patios and sidewalks, 100 acrylic solid color co...   \n",
              "2  [yes, slightly narrower for tighter spaces, designed with an 18in. apron, durable high gloss finish provides a smooth shiny surface that is easy to clean, conforms to ansi z1241 2 and csa b451 nat...   \n",
              "3  [856, positive power tolerance 0 to 5watt. , anti reflective and anti soiling surface reduces power loss from dirt and dust, outstanding performance in low light irradiances environments, certifie...   \n",
              "4  [combo tub and shower, no, includes the trim kit only the rough in kit r10000 unbx is sold separately, includes the handle, maintains a balanced pressure of hot and cold water even when a valve is...   \n",
              "\n",
              "                                                                                                                                                                                                  features  \n",
              "0  {'bullet01': 'versatile connector for various 90â degrees connections and home repair projects', 'bullet02': 'stronger than angled nailing or screw fastening alone', 'bullet03': 'help ensure joint...  \n",
              "1  {'application method': 'brush roller spray', 'assembled depth in ': '663in. ', 'assembled height in ': '776in. ', 'assembled width in ': '663in. ', 'bullet01': 'revives wood and composite decks ra...  \n",
              "2  {'built in flange': 'yes', 'bullet01': 'slightly narrower for tighter spaces', 'bullet02': 'designed with an 18in. apron', 'bullet03': 'durable high gloss finish provides a smooth shiny surface th...  \n",
              "3  {'amperage amps ': '856', 'bullet01': 'positive power tolerance 0 to 5watt. ', 'bullet02': 'anti reflective and anti soiling surface reduces power loss from dirt and dust', 'bullet03': 'outstandin...  \n",
              "4  {'bath faucet type': 'combo tub and shower', 'built in water filter': 'no', 'bullet01': 'includes the trim kit only the rough in kit r10000 unbx is sold separately', 'bullet02': 'includes the hand...  "
            ]
          },
          "metadata": {
            "tags": []
          },
          "execution_count": 12
        }
      ]
    },
    {
      "cell_type": "code",
      "metadata": {
        "ExecuteTime": {
          "end_time": "2021-05-06T06:13:44.929123Z",
          "start_time": "2021-05-06T06:13:44.910324Z"
        },
        "colab": {
          "base_uri": "https://localhost:8080/"
        },
        "id": "khJhrhBrYNuF",
        "outputId": "9562f9da-4dc8-4b80-d04b-ef3d187877a4"
      },
      "source": [
        "att_features.isna().any()"
      ],
      "execution_count": null,
      "outputs": [
        {
          "output_type": "execute_result",
          "data": {
            "text/plain": [
              "product_uid    False\n",
              "name           False\n",
              "value          False\n",
              "features       False\n",
              "dtype: bool"
            ]
          },
          "metadata": {
            "tags": []
          },
          "execution_count": 13
        }
      ]
    },
    {
      "cell_type": "code",
      "metadata": {
        "ExecuteTime": {
          "end_time": "2021-05-06T06:13:45.998141Z",
          "start_time": "2021-05-06T06:13:44.930765Z"
        },
        "id": "wd77pbBMnCuL"
      },
      "source": [
        "# merge train and test with product description and attributes \n",
        "# concat train and test to get a complete dataframe\n",
        "\n",
        "train_df = pd.merge(train, description, on=\"product_uid\", how=\"left\")\n",
        "test_df = pd.merge(test, description, on=\"product_uid\", how=\"left\")\n",
        "train_df = pd.merge(train_df, att_features, on=\"product_uid\", how=\"left\")\n",
        "test_df = pd.merge(test_df, att_features, on=\"product_uid\", how=\"left\")\n",
        "\n",
        "train_shape = train_df.shape\n",
        "test_shape = test_df.shape\n",
        "\n",
        "df = pd.concat([train_df, test_df], axis=0)\n",
        "df.reset_index(inplace=True, drop=True)\n",
        "\n",
        "df[\"relevance\"].fillna(0, inplace=True)\n",
        "df[\"name\"][df[\"name\"].isna()] = df[\"name\"][df[\"name\"].isna()].apply(lambda x: [])\n",
        "df[\"value\"][df[\"value\"].isna()] = df[\"value\"][df[\"value\"].isna()].apply(lambda x: [])\n",
        "df[\"features\"][df[\"features\"].isna()] = df[\"features\"][df[\"features\"].isna()].apply(lambda x: {})"
      ],
      "execution_count": null,
      "outputs": []
    },
    {
      "cell_type": "code",
      "metadata": {
        "ExecuteTime": {
          "end_time": "2021-05-06T06:13:46.076751Z",
          "start_time": "2021-05-06T06:13:46.000776Z"
        },
        "colab": {
          "base_uri": "https://localhost:8080/"
        },
        "id": "fvuWhLfgn2FZ",
        "outputId": "cbbb42e5-7169-49ae-9fbf-d567d1699fe6"
      },
      "source": [
        "df.isna().any()"
      ],
      "execution_count": null,
      "outputs": [
        {
          "output_type": "execute_result",
          "data": {
            "text/plain": [
              "id                     False\n",
              "product_uid            False\n",
              "product_title          False\n",
              "search_term            False\n",
              "relevance              False\n",
              "product_description    False\n",
              "name                   False\n",
              "value                  False\n",
              "features               False\n",
              "dtype: bool"
            ]
          },
          "metadata": {
            "tags": []
          },
          "execution_count": 15
        }
      ]
    },
    {
      "cell_type": "code",
      "metadata": {
        "ExecuteTime": {
          "end_time": "2021-05-06T06:16:53.679014Z",
          "start_time": "2021-05-06T06:13:46.078987Z"
        },
        "id": "vzMzpAcpycyw"
      },
      "source": [
        "# preprocess the text columns\n",
        "df[\"product_title\"] = df[\"product_title\"].apply(preprocess_text)\n",
        "df[\"search_term\"] = df[\"search_term\"].apply(preprocess_text)\n",
        "df[\"product_description\"] = df[\"product_description\"].apply(preprocess_text)"
      ],
      "execution_count": null,
      "outputs": []
    },
    {
      "cell_type": "code",
      "metadata": {
        "ExecuteTime": {
          "end_time": "2021-05-06T06:16:53.711732Z",
          "start_time": "2021-05-06T06:16:53.681884Z"
        },
        "colab": {
          "base_uri": "https://localhost:8080/",
          "height": 1000
        },
        "id": "jWNRsuqXycyx",
        "scrolled": true,
        "outputId": "c56b3795-9f84-4554-9691-778fd5fc9399"
      },
      "source": [
        "df.head()"
      ],
      "execution_count": null,
      "outputs": [
        {
          "output_type": "execute_result",
          "data": {
            "text/html": [
              "<div>\n",
              "<style scoped>\n",
              "    .dataframe tbody tr th:only-of-type {\n",
              "        vertical-align: middle;\n",
              "    }\n",
              "\n",
              "    .dataframe tbody tr th {\n",
              "        vertical-align: top;\n",
              "    }\n",
              "\n",
              "    .dataframe thead th {\n",
              "        text-align: right;\n",
              "    }\n",
              "</style>\n",
              "<table border=\"1\" class=\"dataframe\">\n",
              "  <thead>\n",
              "    <tr style=\"text-align: right;\">\n",
              "      <th></th>\n",
              "      <th>id</th>\n",
              "      <th>product_uid</th>\n",
              "      <th>product_title</th>\n",
              "      <th>search_term</th>\n",
              "      <th>relevance</th>\n",
              "      <th>product_description</th>\n",
              "      <th>name</th>\n",
              "      <th>value</th>\n",
              "      <th>features</th>\n",
              "    </tr>\n",
              "  </thead>\n",
              "  <tbody>\n",
              "    <tr>\n",
              "      <th>0</th>\n",
              "      <td>2</td>\n",
              "      <td>100001</td>\n",
              "      <td>simpson strong tie 12 gauge angle</td>\n",
              "      <td>angle bracket</td>\n",
              "      <td>3.00</td>\n",
              "      <td>not only do angles make joints stronger they also provide more consistent straight corners simpson strong tie offers a wide variety of angles in various sizes and thicknesses to handle light duty ...</td>\n",
              "      <td>[bullet01, bullet02, bullet03, bullet04, bullet05, bullet06, bullet07, gauge, material, mfg brand name, number of pieces, product depth in , product height in , product weight lb , product width in ]</td>\n",
              "      <td>[versatile connector for various 90â degrees connections and home repair projects, stronger than angled nailing or screw fastening alone, help ensure joints are consistently straight and strong, d...</td>\n",
              "      <td>{'bullet01': 'versatile connector for various 90â degrees connections and home repair projects', 'bullet02': 'stronger than angled nailing or screw fastening alone', 'bullet03': 'help ensure joint...</td>\n",
              "    </tr>\n",
              "    <tr>\n",
              "      <th>1</th>\n",
              "      <td>3</td>\n",
              "      <td>100001</td>\n",
              "      <td>simpson strong tie 12 gauge angle</td>\n",
              "      <td>l bracket</td>\n",
              "      <td>2.50</td>\n",
              "      <td>not only do angles make joints stronger they also provide more consistent straight corners simpson strong tie offers a wide variety of angles in various sizes and thicknesses to handle light duty ...</td>\n",
              "      <td>[bullet01, bullet02, bullet03, bullet04, bullet05, bullet06, bullet07, gauge, material, mfg brand name, number of pieces, product depth in , product height in , product weight lb , product width in ]</td>\n",
              "      <td>[versatile connector for various 90â degrees connections and home repair projects, stronger than angled nailing or screw fastening alone, help ensure joints are consistently straight and strong, d...</td>\n",
              "      <td>{'bullet01': 'versatile connector for various 90â degrees connections and home repair projects', 'bullet02': 'stronger than angled nailing or screw fastening alone', 'bullet03': 'help ensure joint...</td>\n",
              "    </tr>\n",
              "    <tr>\n",
              "      <th>2</th>\n",
              "      <td>9</td>\n",
              "      <td>100002</td>\n",
              "      <td>behr premium textured deckover 1gal. sc 141 tugboat wood and concrete coating</td>\n",
              "      <td>deck over</td>\n",
              "      <td>3.00</td>\n",
              "      <td>behr premium textured deckover is an innovative solid color coating it will bring your old weathered wood or concrete back to life the advanced 100 acrylic resin formula creates a durable coating ...</td>\n",
              "      <td>[application method, assembled depth in , assembled height in , assembled width in , bullet01, bullet02, bullet03, bullet04, bullet05, bullet06, bullet07, bullet08, bullet10, bullet18, cleanup, co...</td>\n",
              "      <td>[brush roller spray, 663in. , 776in. , 663in. , revives wood and composite decks railings porches and boat docks also great for concrete pool decks patios and sidewalks, 100 acrylic solid color co...</td>\n",
              "      <td>{'application method': 'brush roller spray', 'assembled depth in ': '663in. ', 'assembled height in ': '776in. ', 'assembled width in ': '663in. ', 'bullet01': 'revives wood and composite decks ra...</td>\n",
              "    </tr>\n",
              "    <tr>\n",
              "      <th>3</th>\n",
              "      <td>16</td>\n",
              "      <td>100005</td>\n",
              "      <td>delta vero 1 handle shower only faucet trim kit in chrome valve not included</td>\n",
              "      <td>rain shower head</td>\n",
              "      <td>2.33</td>\n",
              "      <td>update your bathroom with the delta vero single handle shower faucet trim kit in chrome it has a sleek modern and minimalistic aesthetic the multichoice universal valve keeps the water temperature...</td>\n",
              "      <td>[bath faucet type, built in water filter, bullet01, bullet02, bullet03, bullet04, certifications and listings, color family, color finish, connection size in , faucet features, faucet included com...</td>\n",
              "      <td>[combo tub and shower, no, includes the trim kit only the rough in kit r10000 unbx is sold separately, includes the handle, maintains a balanced pressure of hot and cold water even when a valve is...</td>\n",
              "      <td>{'bath faucet type': 'combo tub and shower', 'built in water filter': 'no', 'bullet01': 'includes the trim kit only the rough in kit r10000 unbx is sold separately', 'bullet02': 'includes the hand...</td>\n",
              "    </tr>\n",
              "    <tr>\n",
              "      <th>4</th>\n",
              "      <td>17</td>\n",
              "      <td>100005</td>\n",
              "      <td>delta vero 1 handle shower only faucet trim kit in chrome valve not included</td>\n",
              "      <td>shower only faucet</td>\n",
              "      <td>2.67</td>\n",
              "      <td>update your bathroom with the delta vero single handle shower faucet trim kit in chrome it has a sleek modern and minimalistic aesthetic the multichoice universal valve keeps the water temperature...</td>\n",
              "      <td>[bath faucet type, built in water filter, bullet01, bullet02, bullet03, bullet04, certifications and listings, color family, color finish, connection size in , faucet features, faucet included com...</td>\n",
              "      <td>[combo tub and shower, no, includes the trim kit only the rough in kit r10000 unbx is sold separately, includes the handle, maintains a balanced pressure of hot and cold water even when a valve is...</td>\n",
              "      <td>{'bath faucet type': 'combo tub and shower', 'built in water filter': 'no', 'bullet01': 'includes the trim kit only the rough in kit r10000 unbx is sold separately', 'bullet02': 'includes the hand...</td>\n",
              "    </tr>\n",
              "  </tbody>\n",
              "</table>\n",
              "</div>"
            ],
            "text/plain": [
              "   id  product_uid  \\\n",
              "0   2       100001   \n",
              "1   3       100001   \n",
              "2   9       100002   \n",
              "3  16       100005   \n",
              "4  17       100005   \n",
              "\n",
              "                                                                   product_title  \\\n",
              "0                                              simpson strong tie 12 gauge angle   \n",
              "1                                              simpson strong tie 12 gauge angle   \n",
              "2  behr premium textured deckover 1gal. sc 141 tugboat wood and concrete coating   \n",
              "3  delta vero 1 handle shower only faucet trim kit in chrome valve not included    \n",
              "4  delta vero 1 handle shower only faucet trim kit in chrome valve not included    \n",
              "\n",
              "          search_term  relevance  \\\n",
              "0       angle bracket       3.00   \n",
              "1           l bracket       2.50   \n",
              "2           deck over       3.00   \n",
              "3    rain shower head       2.33   \n",
              "4  shower only faucet       2.67   \n",
              "\n",
              "                                                                                                                                                                                       product_description  \\\n",
              "0  not only do angles make joints stronger they also provide more consistent straight corners simpson strong tie offers a wide variety of angles in various sizes and thicknesses to handle light duty ...   \n",
              "1  not only do angles make joints stronger they also provide more consistent straight corners simpson strong tie offers a wide variety of angles in various sizes and thicknesses to handle light duty ...   \n",
              "2  behr premium textured deckover is an innovative solid color coating it will bring your old weathered wood or concrete back to life the advanced 100 acrylic resin formula creates a durable coating ...   \n",
              "3  update your bathroom with the delta vero single handle shower faucet trim kit in chrome it has a sleek modern and minimalistic aesthetic the multichoice universal valve keeps the water temperature...   \n",
              "4  update your bathroom with the delta vero single handle shower faucet trim kit in chrome it has a sleek modern and minimalistic aesthetic the multichoice universal valve keeps the water temperature...   \n",
              "\n",
              "                                                                                                                                                                                                      name  \\\n",
              "0  [bullet01, bullet02, bullet03, bullet04, bullet05, bullet06, bullet07, gauge, material, mfg brand name, number of pieces, product depth in , product height in , product weight lb , product width in ]   \n",
              "1  [bullet01, bullet02, bullet03, bullet04, bullet05, bullet06, bullet07, gauge, material, mfg brand name, number of pieces, product depth in , product height in , product weight lb , product width in ]   \n",
              "2  [application method, assembled depth in , assembled height in , assembled width in , bullet01, bullet02, bullet03, bullet04, bullet05, bullet06, bullet07, bullet08, bullet10, bullet18, cleanup, co...   \n",
              "3  [bath faucet type, built in water filter, bullet01, bullet02, bullet03, bullet04, certifications and listings, color family, color finish, connection size in , faucet features, faucet included com...   \n",
              "4  [bath faucet type, built in water filter, bullet01, bullet02, bullet03, bullet04, certifications and listings, color family, color finish, connection size in , faucet features, faucet included com...   \n",
              "\n",
              "                                                                                                                                                                                                     value  \\\n",
              "0  [versatile connector for various 90â degrees connections and home repair projects, stronger than angled nailing or screw fastening alone, help ensure joints are consistently straight and strong, d...   \n",
              "1  [versatile connector for various 90â degrees connections and home repair projects, stronger than angled nailing or screw fastening alone, help ensure joints are consistently straight and strong, d...   \n",
              "2  [brush roller spray, 663in. , 776in. , 663in. , revives wood and composite decks railings porches and boat docks also great for concrete pool decks patios and sidewalks, 100 acrylic solid color co...   \n",
              "3  [combo tub and shower, no, includes the trim kit only the rough in kit r10000 unbx is sold separately, includes the handle, maintains a balanced pressure of hot and cold water even when a valve is...   \n",
              "4  [combo tub and shower, no, includes the trim kit only the rough in kit r10000 unbx is sold separately, includes the handle, maintains a balanced pressure of hot and cold water even when a valve is...   \n",
              "\n",
              "                                                                                                                                                                                                  features  \n",
              "0  {'bullet01': 'versatile connector for various 90â degrees connections and home repair projects', 'bullet02': 'stronger than angled nailing or screw fastening alone', 'bullet03': 'help ensure joint...  \n",
              "1  {'bullet01': 'versatile connector for various 90â degrees connections and home repair projects', 'bullet02': 'stronger than angled nailing or screw fastening alone', 'bullet03': 'help ensure joint...  \n",
              "2  {'application method': 'brush roller spray', 'assembled depth in ': '663in. ', 'assembled height in ': '776in. ', 'assembled width in ': '663in. ', 'bullet01': 'revives wood and composite decks ra...  \n",
              "3  {'bath faucet type': 'combo tub and shower', 'built in water filter': 'no', 'bullet01': 'includes the trim kit only the rough in kit r10000 unbx is sold separately', 'bullet02': 'includes the hand...  \n",
              "4  {'bath faucet type': 'combo tub and shower', 'built in water filter': 'no', 'bullet01': 'includes the trim kit only the rough in kit r10000 unbx is sold separately', 'bullet02': 'includes the hand...  "
            ]
          },
          "metadata": {
            "tags": []
          },
          "execution_count": 17
        }
      ]
    },
    {
      "cell_type": "code",
      "metadata": {
        "ExecuteTime": {
          "end_time": "2021-05-06T06:16:54.525536Z",
          "start_time": "2021-05-06T06:16:53.713632Z"
        },
        "colab": {
          "base_uri": "https://localhost:8080/",
          "height": 336
        },
        "id": "o22MxB5nycyz",
        "scrolled": false,
        "outputId": "08cf2e69-2333-480c-b4e8-ed0399a0c5f7"
      },
      "source": [
        "# check the distribution of the relevance column\n",
        "plt.hist(train.relevance, bins=10)"
      ],
      "execution_count": null,
      "outputs": [
        {
          "output_type": "execute_result",
          "data": {
            "text/plain": [
              "(array([2.1050e+03, 3.0100e+03, 5.0000e+00, 6.7890e+03, 0.0000e+00,\n",
              "        1.1730e+04, 1.6071e+04, 1.9000e+01, 1.5213e+04, 1.9125e+04]),\n",
              " array([1. , 1.2, 1.4, 1.6, 1.8, 2. , 2.2, 2.4, 2.6, 2.8, 3. ]),\n",
              " <a list of 10 Patch objects>)"
            ]
          },
          "metadata": {
            "tags": []
          },
          "execution_count": 18
        },
        {
          "output_type": "display_data",
          "data": {
            "image/png": "[encoded data removed]",
            "text/plain": [
              "<Figure size 432x288 with 1 Axes>"
            ]
          },
          "metadata": {
            "tags": [],
            "needs_background": "light"
          }
        }
      ]
    },
    {
      "cell_type": "code",
      "metadata": {
        "ExecuteTime": {
          "end_time": "2021-05-06T06:16:54.530654Z",
          "start_time": "2021-05-06T06:16:54.528004Z"
        },
        "id": "mdzgY0stycy0"
      },
      "source": [
        "# generate a wordcloud to get an idea of the most repeating words\n",
        "\n",
        "# texts = \" \".join(df[\"product_description\"])\n",
        "# wordcloud = WordCloud(width = 800, height = 800, stopwords = stop, min_font_size = 10).generate(texts)\n",
        "\n",
        "# plt.figure(figsize = (8, 8))\n",
        "# plt.imshow(wordcloud, interpolation='bilinear')"
      ],
      "execution_count": null,
      "outputs": []
    },
    {
      "cell_type": "code",
      "metadata": {
        "ExecuteTime": {
          "end_time": "2021-05-06T06:16:55.541052Z",
          "start_time": "2021-05-06T06:16:54.532576Z"
        },
        "colab": {
          "base_uri": "https://localhost:8080/",
          "height": 810
        },
        "id": "AVrQcGy41y_U",
        "scrolled": true,
        "outputId": "2520f1f1-18ee-4574-847c-e446a447f212"
      },
      "source": [
        "train_df[(train_df[\"relevance\"] <=3) & (train_df[\"relevance\"] > 1)][[\"search_term\", \"product_title\", \"product_description\", \"relevance\"]]"
      ],
      "execution_count": null,
      "outputs": [
        {
          "output_type": "execute_result",
          "data": {
            "text/html": [
              "<div>\n",
              "<style scoped>\n",
              "    .dataframe tbody tr th:only-of-type {\n",
              "        vertical-align: middle;\n",
              "    }\n",
              "\n",
              "    .dataframe tbody tr th {\n",
              "        vertical-align: top;\n",
              "    }\n",
              "\n",
              "    .dataframe thead th {\n",
              "        text-align: right;\n",
              "    }\n",
              "</style>\n",
              "<table border=\"1\" class=\"dataframe\">\n",
              "  <thead>\n",
              "    <tr style=\"text-align: right;\">\n",
              "      <th></th>\n",
              "      <th>search_term</th>\n",
              "      <th>product_title</th>\n",
              "      <th>product_description</th>\n",
              "      <th>relevance</th>\n",
              "    </tr>\n",
              "  </thead>\n",
              "  <tbody>\n",
              "    <tr>\n",
              "      <th>0</th>\n",
              "      <td>angle bracket</td>\n",
              "      <td>Simpson Strong-Tie 12-Gauge Angle</td>\n",
              "      <td>Not only do angles make joints stronger, they also provide more consistent, straight corners. Simpson Strong-Tie offers a wide variety of angles in various sizes and thicknesses to handle light-du...</td>\n",
              "      <td>3.00</td>\n",
              "    </tr>\n",
              "    <tr>\n",
              "      <th>1</th>\n",
              "      <td>l bracket</td>\n",
              "      <td>Simpson Strong-Tie 12-Gauge Angle</td>\n",
              "      <td>Not only do angles make joints stronger, they also provide more consistent, straight corners. Simpson Strong-Tie offers a wide variety of angles in various sizes and thicknesses to handle light-du...</td>\n",
              "      <td>2.50</td>\n",
              "    </tr>\n",
              "    <tr>\n",
              "      <th>2</th>\n",
              "      <td>deck over</td>\n",
              "      <td>BEHR Premium Textured DeckOver 1-gal. #SC-141 Tugboat Wood and Concrete Coating</td>\n",
              "      <td>BEHR Premium Textured DECKOVER is an innovative solid color coating. It will bring your old, weathered wood or concrete back to life. The advanced 100% acrylic resin formula creates a durable coat...</td>\n",
              "      <td>3.00</td>\n",
              "    </tr>\n",
              "    <tr>\n",
              "      <th>3</th>\n",
              "      <td>rain shower head</td>\n",
              "      <td>Delta Vero 1-Handle Shower Only Faucet Trim Kit in Chrome (Valve Not Included)</td>\n",
              "      <td>Update your bathroom with the Delta Vero Single-Handle Shower Faucet Trim Kit in Chrome. It has a sleek, modern and minimalistic aesthetic. The MultiChoice universal valve keeps the water temperat...</td>\n",
              "      <td>2.33</td>\n",
              "    </tr>\n",
              "    <tr>\n",
              "      <th>4</th>\n",
              "      <td>shower only faucet</td>\n",
              "      <td>Delta Vero 1-Handle Shower Only Faucet Trim Kit in Chrome (Valve Not Included)</td>\n",
              "      <td>Update your bathroom with the Delta Vero Single-Handle Shower Faucet Trim Kit in Chrome. It has a sleek, modern and minimalistic aesthetic. The MultiChoice universal valve keeps the water temperat...</td>\n",
              "      <td>2.67</td>\n",
              "    </tr>\n",
              "    <tr>\n",
              "      <th>...</th>\n",
              "      <td>...</td>\n",
              "      <td>...</td>\n",
              "      <td>...</td>\n",
              "      <td>...</td>\n",
              "    </tr>\n",
              "    <tr>\n",
              "      <th>74061</th>\n",
              "      <td>rondec stainless steel 3/8 edge protection</td>\n",
              "      <td>Schluter Rondec Stainless Steel 3/8 in. x 1 in. Metal 90 Degree Outside Corner</td>\n",
              "      <td>The EV/RO100E is a prefabricated corner for Rondec that eliminates the need for a mitered edge. It is used to create 90 outside corners. The EV/RO100E corner is designed for use with the RO100E pr...</td>\n",
              "      <td>3.00</td>\n",
              "    </tr>\n",
              "    <tr>\n",
              "      <th>74063</th>\n",
              "      <td>r20 halogen light</td>\n",
              "      <td>Philips 40-Watt Halogen R20 Flood Light Bulb (12-Pack)</td>\n",
              "      <td>Philips Energy Advantage lamps use less energy while maintaining bright, crisp, white halogen light. Available in traditional lamp shapes to fit most incandescent fixtures. Halogen energy savers w...</td>\n",
              "      <td>3.00</td>\n",
              "    </tr>\n",
              "    <tr>\n",
              "      <th>74064</th>\n",
              "      <td>schlage lock siena half dummy knob with</td>\n",
              "      <td>Schlage Camelot In-Active Aged Bronze Handleset with Left-Hand Accent Lever</td>\n",
              "      <td>The Schlage Camelot In-Active Aged Bronze Handleset with Left-Hand Accent Lever is perfect for use as a decorative door pull on a pair of non-latching doors. The interior Accent lever is widely po...</td>\n",
              "      <td>2.33</td>\n",
              "    </tr>\n",
              "    <tr>\n",
              "      <th>74065</th>\n",
              "      <td>zen garden  decor</td>\n",
              "      <td>Plastec 11 in. x 24 in. Rose Garden Wall Decor Steel</td>\n",
              "      <td>The Rose Garden is inspired by the popular early 20th century Scottish design motif. Dark Bronze powder coated finish on steel makes it suitable for indoor or outdoor use.Indoor and outdoor useFin...</td>\n",
              "      <td>3.00</td>\n",
              "    </tr>\n",
              "    <tr>\n",
              "      <th>74066</th>\n",
              "      <td>fine sheer curtain 63 inches</td>\n",
              "      <td>LICHTENBERG Pool Blue No. 918 Millennial Ryan Heathered Texture Sheer Curtain Panel, 40 in. W x 63 in. L</td>\n",
              "      <td>No. 918 Millennial Ryan heathered texture semi-sheer curtain is a casual solid that adds freshness and a finishing touch to any decor setting. Enhances privacy while allowing light to gently filte...</td>\n",
              "      <td>2.33</td>\n",
              "    </tr>\n",
              "  </tbody>\n",
              "</table>\n",
              "<p>71962 rows × 4 columns</p>\n",
              "</div>"
            ],
            "text/plain": [
              "                                      search_term  \\\n",
              "0                                   angle bracket   \n",
              "1                                       l bracket   \n",
              "2                                       deck over   \n",
              "3                                rain shower head   \n",
              "4                              shower only faucet   \n",
              "...                                           ...   \n",
              "74061  rondec stainless steel 3/8 edge protection   \n",
              "74063                           r20 halogen light   \n",
              "74064     schlage lock siena half dummy knob with   \n",
              "74065                           zen garden  decor   \n",
              "74066                fine sheer curtain 63 inches   \n",
              "\n",
              "                                                                                                  product_title  \\\n",
              "0                                                                             Simpson Strong-Tie 12-Gauge Angle   \n",
              "1                                                                             Simpson Strong-Tie 12-Gauge Angle   \n",
              "2                               BEHR Premium Textured DeckOver 1-gal. #SC-141 Tugboat Wood and Concrete Coating   \n",
              "3                                Delta Vero 1-Handle Shower Only Faucet Trim Kit in Chrome (Valve Not Included)   \n",
              "4                                Delta Vero 1-Handle Shower Only Faucet Trim Kit in Chrome (Valve Not Included)   \n",
              "...                                                                                                         ...   \n",
              "74061                            Schluter Rondec Stainless Steel 3/8 in. x 1 in. Metal 90 Degree Outside Corner   \n",
              "74063                                                    Philips 40-Watt Halogen R20 Flood Light Bulb (12-Pack)   \n",
              "74064                               Schlage Camelot In-Active Aged Bronze Handleset with Left-Hand Accent Lever   \n",
              "74065                                                      Plastec 11 in. x 24 in. Rose Garden Wall Decor Steel   \n",
              "74066  LICHTENBERG Pool Blue No. 918 Millennial Ryan Heathered Texture Sheer Curtain Panel, 40 in. W x 63 in. L   \n",
              "\n",
              "                                                                                                                                                                                           product_description  \\\n",
              "0      Not only do angles make joints stronger, they also provide more consistent, straight corners. Simpson Strong-Tie offers a wide variety of angles in various sizes and thicknesses to handle light-du...   \n",
              "1      Not only do angles make joints stronger, they also provide more consistent, straight corners. Simpson Strong-Tie offers a wide variety of angles in various sizes and thicknesses to handle light-du...   \n",
              "2      BEHR Premium Textured DECKOVER is an innovative solid color coating. It will bring your old, weathered wood or concrete back to life. The advanced 100% acrylic resin formula creates a durable coat...   \n",
              "3      Update your bathroom with the Delta Vero Single-Handle Shower Faucet Trim Kit in Chrome. It has a sleek, modern and minimalistic aesthetic. The MultiChoice universal valve keeps the water temperat...   \n",
              "4      Update your bathroom with the Delta Vero Single-Handle Shower Faucet Trim Kit in Chrome. It has a sleek, modern and minimalistic aesthetic. The MultiChoice universal valve keeps the water temperat...   \n",
              "...                                                                                                                                                                                                        ...   \n",
              "74061  The EV/RO100E is a prefabricated corner for Rondec that eliminates the need for a mitered edge. It is used to create 90 outside corners. The EV/RO100E corner is designed for use with the RO100E pr...   \n",
              "74063  Philips Energy Advantage lamps use less energy while maintaining bright, crisp, white halogen light. Available in traditional lamp shapes to fit most incandescent fixtures. Halogen energy savers w...   \n",
              "74064  The Schlage Camelot In-Active Aged Bronze Handleset with Left-Hand Accent Lever is perfect for use as a decorative door pull on a pair of non-latching doors. The interior Accent lever is widely po...   \n",
              "74065  The Rose Garden is inspired by the popular early 20th century Scottish design motif. Dark Bronze powder coated finish on steel makes it suitable for indoor or outdoor use.Indoor and outdoor useFin...   \n",
              "74066  No. 918 Millennial Ryan heathered texture semi-sheer curtain is a casual solid that adds freshness and a finishing touch to any decor setting. Enhances privacy while allowing light to gently filte...   \n",
              "\n",
              "       relevance  \n",
              "0           3.00  \n",
              "1           2.50  \n",
              "2           3.00  \n",
              "3           2.33  \n",
              "4           2.67  \n",
              "...          ...  \n",
              "74061       3.00  \n",
              "74063       3.00  \n",
              "74064       2.33  \n",
              "74065       3.00  \n",
              "74066       2.33  \n",
              "\n",
              "[71962 rows x 4 columns]"
            ]
          },
          "metadata": {
            "tags": []
          },
          "execution_count": 20
        }
      ]
    },
    {
      "cell_type": "code",
      "metadata": {
        "ExecuteTime": {
          "end_time": "2021-05-06T06:16:55.553939Z",
          "start_time": "2021-05-06T06:16:55.543785Z"
        },
        "id": "C0lusMGo3mUD"
      },
      "source": [
        "def check_word_presence(word, text):\n",
        "\n",
        "  if word in text:\n",
        "    return 1\n",
        "  else:\n",
        "    return 0\n",
        "\n",
        "def check_ratio(query, text, mode=\"maximum\"):\n",
        "  \n",
        "  if mode == \"maximum\":\n",
        "\n",
        "    lev = [ratio(i, j) for i in query.split() for j in text.split() if i not in stop]\n",
        "    if lev:\n",
        "      return max(lev)\n",
        "    else:\n",
        "      return 0\n",
        "  \n",
        "  if mode == \"total\":\n",
        "    lev = [max([ratio(i, j)  for j in text.split()]) for i in query.split() if i not in stop]\n",
        "    return sum(lev)"
      ],
      "execution_count": null,
      "outputs": []
    },
    {
      "cell_type": "code",
      "metadata": {
        "ExecuteTime": {
          "end_time": "2021-05-06T06:16:59.478913Z",
          "start_time": "2021-05-06T06:16:55.556339Z"
        },
        "id": "4fwoVH9K3mxz"
      },
      "source": [
        "display_columns = [i for i in df.columns if i not in [\"product_uid\", \"name\", \"value\"]]\n",
        "\n",
        "# find the count of words in the search query making sure the word is not a stopword\n",
        "df[\"search_word_count\"] = df[\"search_term\"].apply(lambda x: len([i for i in x.split() if i not in stop]))\n",
        "\n",
        "# split relevance values into bins [1, 2, 3]\n",
        "df[\"relevance_bins\"] = df[\"relevance\"].apply(lambda x: np.floor(x) if not np.isnan(x) else 0.)\n",
        "\n",
        "# find if the query is actually just a stopword, which might result in low relevancy\n",
        "df[\"is_stopword\"] = df[\"search_term\"].apply(lambda x: x in stop).astype(int)"
      ],
      "execution_count": null,
      "outputs": []
    },
    {
      "cell_type": "code",
      "metadata": {
        "ExecuteTime": {
          "end_time": "2021-05-06T06:25:02.357527Z",
          "start_time": "2021-05-06T06:16:59.481189Z"
        },
        "id": "Yp02dQqkB599"
      },
      "source": [
        "# find the number of words in search term which are also present in product title and its ratio\n",
        "df[\"word_in_title\"] = df.apply(lambda x: sum([check_word_presence(i, x[\"product_title\"].split()) for i in x[\"search_term\"].split() if i not in stop]), axis=1)\n",
        "df[\"ratio_word_in_title\"] = df.apply(lambda x: x[\"word_in_title\"] / (len([i for i in x[\"search_term\"].split() if i not in stop]) + 1e-8), axis=1)\n",
        "\n",
        "# find the number of words in search term which are also present in product description and its ratio\n",
        "df[\"word_in_desc\"] = df.apply(lambda x: sum([check_word_presence(i, x[\"product_description\"].split()) for i in x[\"search_term\"].split() if i not in stop]), axis=1)\n",
        "df[\"ratio_word_in_desc\"] = df.apply(lambda x: x[\"word_in_desc\"] / (len([i for i in x[\"search_term\"].split() if i not in stop]) + 1e-8), axis=1)\n",
        "\n",
        "# find the levenshtein similarity between the search query word and words present in title and description\n",
        "df[\"max_levenshtein_title\"] = df.apply(lambda x: check_ratio(x[\"search_term\"], x[\"product_title\"], mode=\"maximum\"), axis=1)\n",
        "df[\"max_levenshtein_desc\"] = df.apply(lambda x: check_ratio(x[\"search_term\"], x[\"product_description\"], mode=\"maximum\"), axis=1)\n",
        "df[\"total_levenshtein_title\"] = df.apply(lambda x: check_ratio(x[\"search_term\"], x[\"product_title\"], mode=\"total\"), axis=1)\n",
        "df[\"total_levenshtein_desc\"] = df.apply(lambda x: check_ratio(x[\"search_term\"], x[\"product_description\"], mode=\"total\"), axis=1)"
      ],
      "execution_count": null,
      "outputs": []
    },
    {
      "cell_type": "code",
      "metadata": {
        "ExecuteTime": {
          "end_time": "2021-05-06T06:25:02.386205Z",
          "start_time": "2021-05-06T06:25:02.359771Z"
        },
        "scrolled": true,
        "colab": {
          "base_uri": "https://localhost:8080/",
          "height": 879
        },
        "id": "_8W2YFSwni35",
        "outputId": "c1635ff8-03ab-46b2-df15-c2fb6457e8fa"
      },
      "source": [
        "df.head(2)"
      ],
      "execution_count": null,
      "outputs": [
        {
          "output_type": "execute_result",
          "data": {
            "text/html": [
              "<div>\n",
              "<style scoped>\n",
              "    .dataframe tbody tr th:only-of-type {\n",
              "        vertical-align: middle;\n",
              "    }\n",
              "\n",
              "    .dataframe tbody tr th {\n",
              "        vertical-align: top;\n",
              "    }\n",
              "\n",
              "    .dataframe thead th {\n",
              "        text-align: right;\n",
              "    }\n",
              "</style>\n",
              "<table border=\"1\" class=\"dataframe\">\n",
              "  <thead>\n",
              "    <tr style=\"text-align: right;\">\n",
              "      <th></th>\n",
              "      <th>id</th>\n",
              "      <th>product_uid</th>\n",
              "      <th>product_title</th>\n",
              "      <th>search_term</th>\n",
              "      <th>relevance</th>\n",
              "      <th>product_description</th>\n",
              "      <th>name</th>\n",
              "      <th>value</th>\n",
              "      <th>features</th>\n",
              "      <th>search_word_count</th>\n",
              "      <th>relevance_bins</th>\n",
              "      <th>is_stopword</th>\n",
              "      <th>word_in_title</th>\n",
              "      <th>ratio_word_in_title</th>\n",
              "      <th>word_in_desc</th>\n",
              "      <th>ratio_word_in_desc</th>\n",
              "      <th>max_levenshtein_title</th>\n",
              "      <th>max_levenshtein_desc</th>\n",
              "      <th>total_levenshtein_title</th>\n",
              "      <th>total_levenshtein_desc</th>\n",
              "    </tr>\n",
              "  </thead>\n",
              "  <tbody>\n",
              "    <tr>\n",
              "      <th>0</th>\n",
              "      <td>2</td>\n",
              "      <td>100001</td>\n",
              "      <td>simpson strong tie 12 gauge angle</td>\n",
              "      <td>angle bracket</td>\n",
              "      <td>3.0</td>\n",
              "      <td>not only do angles make joints stronger they also provide more consistent straight corners simpson strong tie offers a wide variety of angles in various sizes and thicknesses to handle light duty ...</td>\n",
              "      <td>[bullet01, bullet02, bullet03, bullet04, bullet05, bullet06, bullet07, gauge, material, mfg brand name, number of pieces, product depth in , product height in , product weight lb , product width in ]</td>\n",
              "      <td>[versatile connector for various 90â degrees connections and home repair projects, stronger than angled nailing or screw fastening alone, help ensure joints are consistently straight and strong, d...</td>\n",
              "      <td>{'bullet01': 'versatile connector for various 90â degrees connections and home repair projects', 'bullet02': 'stronger than angled nailing or screw fastening alone', 'bullet03': 'help ensure joint...</td>\n",
              "      <td>2</td>\n",
              "      <td>3.0</td>\n",
              "      <td>0</td>\n",
              "      <td>1</td>\n",
              "      <td>0.5</td>\n",
              "      <td>0</td>\n",
              "      <td>0.0</td>\n",
              "      <td>1.000000</td>\n",
              "      <td>0.909091</td>\n",
              "      <td>1.333333</td>\n",
              "      <td>1.454545</td>\n",
              "    </tr>\n",
              "    <tr>\n",
              "      <th>1</th>\n",
              "      <td>3</td>\n",
              "      <td>100001</td>\n",
              "      <td>simpson strong tie 12 gauge angle</td>\n",
              "      <td>l bracket</td>\n",
              "      <td>2.5</td>\n",
              "      <td>not only do angles make joints stronger they also provide more consistent straight corners simpson strong tie offers a wide variety of angles in various sizes and thicknesses to handle light duty ...</td>\n",
              "      <td>[bullet01, bullet02, bullet03, bullet04, bullet05, bullet06, bullet07, gauge, material, mfg brand name, number of pieces, product depth in , product height in , product weight lb , product width in ]</td>\n",
              "      <td>[versatile connector for various 90â degrees connections and home repair projects, stronger than angled nailing or screw fastening alone, help ensure joints are consistently straight and strong, d...</td>\n",
              "      <td>{'bullet01': 'versatile connector for various 90â degrees connections and home repair projects', 'bullet02': 'stronger than angled nailing or screw fastening alone', 'bullet03': 'help ensure joint...</td>\n",
              "      <td>2</td>\n",
              "      <td>2.0</td>\n",
              "      <td>0</td>\n",
              "      <td>0</td>\n",
              "      <td>0.0</td>\n",
              "      <td>0</td>\n",
              "      <td>0.0</td>\n",
              "      <td>0.333333</td>\n",
              "      <td>0.545455</td>\n",
              "      <td>0.666667</td>\n",
              "      <td>0.945455</td>\n",
              "    </tr>\n",
              "  </tbody>\n",
              "</table>\n",
              "</div>"
            ],
            "text/plain": [
              "   id  product_uid                      product_title    search_term  \\\n",
              "0   2       100001  simpson strong tie 12 gauge angle  angle bracket   \n",
              "1   3       100001  simpson strong tie 12 gauge angle      l bracket   \n",
              "\n",
              "   relevance  \\\n",
              "0        3.0   \n",
              "1        2.5   \n",
              "\n",
              "                                                                                                                                                                                       product_description  \\\n",
              "0  not only do angles make joints stronger they also provide more consistent straight corners simpson strong tie offers a wide variety of angles in various sizes and thicknesses to handle light duty ...   \n",
              "1  not only do angles make joints stronger they also provide more consistent straight corners simpson strong tie offers a wide variety of angles in various sizes and thicknesses to handle light duty ...   \n",
              "\n",
              "                                                                                                                                                                                                      name  \\\n",
              "0  [bullet01, bullet02, bullet03, bullet04, bullet05, bullet06, bullet07, gauge, material, mfg brand name, number of pieces, product depth in , product height in , product weight lb , product width in ]   \n",
              "1  [bullet01, bullet02, bullet03, bullet04, bullet05, bullet06, bullet07, gauge, material, mfg brand name, number of pieces, product depth in , product height in , product weight lb , product width in ]   \n",
              "\n",
              "                                                                                                                                                                                                     value  \\\n",
              "0  [versatile connector for various 90â degrees connections and home repair projects, stronger than angled nailing or screw fastening alone, help ensure joints are consistently straight and strong, d...   \n",
              "1  [versatile connector for various 90â degrees connections and home repair projects, stronger than angled nailing or screw fastening alone, help ensure joints are consistently straight and strong, d...   \n",
              "\n",
              "                                                                                                                                                                                                  features  \\\n",
              "0  {'bullet01': 'versatile connector for various 90â degrees connections and home repair projects', 'bullet02': 'stronger than angled nailing or screw fastening alone', 'bullet03': 'help ensure joint...   \n",
              "1  {'bullet01': 'versatile connector for various 90â degrees connections and home repair projects', 'bullet02': 'stronger than angled nailing or screw fastening alone', 'bullet03': 'help ensure joint...   \n",
              "\n",
              "   search_word_count  relevance_bins  is_stopword  word_in_title  \\\n",
              "0                  2             3.0            0              1   \n",
              "1                  2             2.0            0              0   \n",
              "\n",
              "   ratio_word_in_title  word_in_desc  ratio_word_in_desc  \\\n",
              "0                  0.5             0                 0.0   \n",
              "1                  0.0             0                 0.0   \n",
              "\n",
              "   max_levenshtein_title  max_levenshtein_desc  total_levenshtein_title  \\\n",
              "0               1.000000              0.909091                 1.333333   \n",
              "1               0.333333              0.545455                 0.666667   \n",
              "\n",
              "   total_levenshtein_desc  \n",
              "0                1.454545  \n",
              "1                0.945455  "
            ]
          },
          "metadata": {
            "tags": []
          },
          "execution_count": 24
        }
      ]
    },
    {
      "cell_type": "code",
      "metadata": {
        "ExecuteTime": {
          "end_time": "2021-05-06T06:25:03.805801Z",
          "start_time": "2021-05-06T06:25:02.388208Z"
        },
        "colab": {
          "base_uri": "https://localhost:8080/",
          "height": 323
        },
        "id": "DLp7zXmioBFt",
        "outputId": "de1532bf-33a6-4d64-a19f-bff7dd2f0b7f"
      },
      "source": [
        "fig, ax = plt.subplots(1, 3, figsize=(20, 6))\n",
        "\n",
        "for i in range(len(df[\"relevance_bins\"].unique())):\n",
        "  if i != 0:\n",
        "    sns.distplot(df[df[\"relevance_bins\"] == i][\"search_word_count\"], hist=True, bins=10, ax=ax[i - 1], axlabel=i)\n",
        "plt.show()"
      ],
      "execution_count": null,
      "outputs": [
        {
          "output_type": "display_data",
          "data": {
            "image/png": "[encoded data removed]",
            "text/plain": [
              "<Figure size 1440x432 with 3 Axes>"
            ]
          },
          "metadata": {
            "tags": [],
            "needs_background": "light"
          }
        }
      ]
    },
    {
      "cell_type": "code",
      "metadata": {
        "ExecuteTime": {
          "end_time": "2021-05-06T06:25:04.049517Z",
          "start_time": "2021-05-06T06:25:03.808993Z"
        },
        "colab": {
          "base_uri": "https://localhost:8080/",
          "height": 262
        },
        "id": "b4TMk2xXKivH",
        "scrolled": true,
        "outputId": "57f1af8f-50e4-48ab-bf82-1f8e0b070b86"
      },
      "source": [
        "doc = nlp(df[\"product_description\"].iloc[1])\n",
        "spacy.displacy.render(doc, style=\"ent\", jupyter=True)"
      ],
      "execution_count": null,
      "outputs": [
        {
          "output_type": "display_data",
          "data": {
            "text/html": [
              "<span class=\"tex2jax_ignore\"><div class=\"entities\" style=\"line-height: 2.5; direction: ltr\">not only do angles make joints stronger they also provide more consistent straight \n",
              "<mark class=\"entity\" style=\"background: #aa9cfc; padding: 0.45em 0.6em; margin: 0 0.25em; line-height: 1; border-radius: 0.35em;\">\n",
              "    corners simpson\n",
              "    <span style=\"font-size: 0.8em; font-weight: bold; line-height: 1; border-radius: 0.35em; text-transform: uppercase; vertical-align: middle; margin-left: 0.5rem\">PERSON</span>\n",
              "</mark>\n",
              " strong tie offers a wide variety of angles in various sizes and thicknesses to handle light duty jobs or projects where a structural connection is needed some can be bent skewed to match the project for outdoor projects or those where moisture is present use our \n",
              "<mark class=\"entity\" style=\"background: #feca74; padding: 0.45em 0.6em; margin: 0 0.25em; line-height: 1; border-radius: 0.35em;\">\n",
              "    zmax\n",
              "    <span style=\"font-size: 0.8em; font-weight: bold; line-height: 1; border-radius: 0.35em; text-transform: uppercase; vertical-align: middle; margin-left: 0.5rem\">GPE</span>\n",
              "</mark>\n",
              " zinc coated connectors which provide extra resistance against corrosion look for a z at the end of the model number versatile connector for various \n",
              "<mark class=\"entity\" style=\"background: #e4e7d2; padding: 0.45em 0.6em; margin: 0 0.25em; line-height: 1; border-radius: 0.35em;\">\n",
              "    90\n",
              "    <span style=\"font-size: 0.8em; font-weight: bold; line-height: 1; border-radius: 0.35em; text-transform: uppercase; vertical-align: middle; margin-left: 0.5rem\">CARDINAL</span>\n",
              "</mark>\n",
              " connections and home repair projectsstronger than angled nailing or screw fastening alonehelp ensure joints are consistently straight and strongdimensions 3x3in. x \n",
              "<mark class=\"entity\" style=\"background: #e4e7d2; padding: 0.45em 0.6em; margin: 0 0.25em; line-height: 1; border-radius: 0.35em;\">\n",
              "    11\n",
              "    <span style=\"font-size: 0.8em; font-weight: bold; line-height: 1; border-radius: 0.35em; text-transform: uppercase; vertical-align: middle; margin-left: 0.5rem\">CARDINAL</span>\n",
              "</mark>\n",
              " 2in. made from \n",
              "<mark class=\"entity\" style=\"background: #e4e7d2; padding: 0.45em 0.6em; margin: 0 0.25em; line-height: 1; border-radius: 0.35em;\">\n",
              "    12\n",
              "    <span style=\"font-size: 0.8em; font-weight: bold; line-height: 1; border-radius: 0.35em; text-transform: uppercase; vertical-align: middle; margin-left: 0.5rem\">CARDINAL</span>\n",
              "</mark>\n",
              " gauge steelgalvanized for extra corrosion resistanceinstall with \n",
              "<mark class=\"entity\" style=\"background: #e4e7d2; padding: 0.45em 0.6em; margin: 0 0.25em; line-height: 1; border-radius: 0.35em;\">\n",
              "    10d\n",
              "    <span style=\"font-size: 0.8em; font-weight: bold; line-height: 1; border-radius: 0.35em; text-transform: uppercase; vertical-align: middle; margin-left: 0.5rem\">CARDINAL</span>\n",
              "</mark>\n",
              " common nails or \n",
              "<mark class=\"entity\" style=\"background: #e4e7d2; padding: 0.45em 0.6em; margin: 0 0.25em; line-height: 1; border-radius: 0.35em;\">\n",
              "    9 x\n",
              "    <span style=\"font-size: 0.8em; font-weight: bold; line-height: 1; border-radius: 0.35em; text-transform: uppercase; vertical-align: middle; margin-left: 0.5rem\">QUANTITY</span>\n",
              "</mark>\n",
              " 11 2in. strong drive sd screws</div></span>"
            ],
            "text/plain": [
              "<IPython.core.display.HTML object>"
            ]
          },
          "metadata": {
            "tags": []
          }
        }
      ]
    },
    {
      "cell_type": "code",
      "metadata": {
        "id": "i0u7FX7uMSVW",
        "colab": {
          "base_uri": "https://localhost:8080/"
        },
        "outputId": "878072fb-d085-4dd2-dfed-e727d5fd6a70"
      },
      "source": [
        "# df.to_csv(\"/content/drive/MyDrive/home_depot_product_search_relevance/temp.csv\")\n",
        "df = pd.read_csv(\"/content/drive/MyDrive/home_depot_product_search_relevance/temp.csv\")\n",
        "df.shape"
      ],
      "execution_count": null,
      "outputs": [
        {
          "output_type": "execute_result",
          "data": {
            "text/plain": [
              "(240760, 21)"
            ]
          },
          "metadata": {
            "tags": []
          },
          "execution_count": 4
        }
      ]
    },
    {
      "cell_type": "code",
      "metadata": {
        "ExecuteTime": {
          "end_time": "2021-05-07T07:46:31.477978Z",
          "start_time": "2021-05-07T07:46:29.818750Z"
        },
        "id": "4ge5g4pqYn8d"
      },
      "source": [
        "from pyspark.sql.types import *\n",
        "from pyspark import SparkConf, SparkContext\n",
        "from pyspark.sql import SparkSession\n",
        "from pyspark.sql import functions as F\n",
        "from pyspark.sql.functions import pandas_udf, PandasUDFType\n",
        "\n",
        "spark = SparkSession.builder\\\n",
        "        .master(\"local\")\\\n",
        "        .appName(\"Colab\")\\\n",
        "        .config('spark.driver.memory', '12g')\\\n",
        "        .config('spark.executor.memory', '12g')\\\n",
        "        .getOrCreate()"
      ],
      "execution_count": null,
      "outputs": []
    },
    {
      "cell_type": "code",
      "metadata": {
        "ExecuteTime": {
          "end_time": "2021-05-07T07:46:31.713641Z",
          "start_time": "2021-05-07T07:46:31.488938Z"
        },
        "colab": {
          "base_uri": "https://localhost:8080/"
        },
        "id": "eHa5z2-1i1M3",
        "scrolled": false,
        "outputId": "d2ea4bb6-7f4d-4f75-fc5b-3849d460e0ad"
      },
      "source": [
        "spark.sparkContext.getConf().getAll()"
      ],
      "execution_count": null,
      "outputs": [
        {
          "output_type": "execute_result",
          "data": {
            "text/plain": [
              "[('spark.master', 'local'),\n",
              " ('spark.app.name', 'Colab'),\n",
              " ('spark.app.id', 'local-1620454512478'),\n",
              " ('spark.driver.memory', '12g'),\n",
              " ('spark.rdd.compress', 'True'),\n",
              " ('spark.driver.host', '5db56e375080'),\n",
              " ('spark.serializer.objectStreamReset', '100'),\n",
              " ('spark.executor.id', 'driver'),\n",
              " ('spark.submit.deployMode', 'client'),\n",
              " ('spark.driver.port', '35987'),\n",
              " ('spark.ui.showConsoleProgress', 'true'),\n",
              " ('spark.executor.memory', '12g')]"
            ]
          },
          "metadata": {
            "tags": []
          },
          "execution_count": 6
        }
      ]
    },
    {
      "cell_type": "code",
      "metadata": {
        "ExecuteTime": {
          "end_time": "2021-05-07T07:46:31.930636Z",
          "start_time": "2021-05-07T07:46:31.925267Z"
        },
        "id": "4RbXEWIwni38"
      },
      "source": [
        "# spark.stop()"
      ],
      "execution_count": null,
      "outputs": []
    },
    {
      "cell_type": "code",
      "metadata": {
        "ExecuteTime": {
          "end_time": "2021-05-07T07:46:32.222060Z",
          "start_time": "2021-05-07T07:46:32.147766Z"
        },
        "id": "jELBnl4loH7s"
      },
      "source": [
        "\"\"\"sch = StructType([StructField(\"id\", IntegerType(), True),\n",
        "                  StructField(\"product_uid\", IntegerType(), True),\n",
        "                  StructField(\"product_title\", StringType(), True),\n",
        "                  StructField(\"search_term\", StringType(), True),\n",
        "                  StructField(\"relevance\", FloatType(), True),\n",
        "                  StructField(\"product_description\", StringType(), True),\n",
        "                  StructField(\"name\", ArrayType(StringType()), True),\n",
        "                  StructField(\"value\", ArrayType(StringType()), True),\n",
        "                  StructField(\"features\", MapType(StringType(), StringType()), True),\n",
        "                  StructField(\"word_in_title\", IntegerType(), True),\n",
        "                  StructField(\"ratio_word_in_title\", FloatType(), True),\n",
        "                  StructField(\"word_in_desc\", IntegerType(), True),\n",
        "                  StructField(\"ratio_word_in_desc\", FloatType(), True),\n",
        "                  StructField(\"search_word_count\", IntegerType(), True),\n",
        "                  StructField(\"relevance_bins\", FloatType(), True),\n",
        "                  StructField(\"is_stopword\", IntegerType(), True),\n",
        "                  StructField(\"total_levenshtein_title\", FloatType(), True),\n",
        "                  StructField(\"total_levenshtein_desc\", FloatType(), True),\n",
        "                  StructField(\"max_levenshtein_title\", FloatType(), True),\n",
        "                  StructField(\"max_levenshtein_desc\", FloatType(), True)])\"\"\""
      ],
      "execution_count": null,
      "outputs": []
    },
    {
      "cell_type": "code",
      "metadata": {
        "ExecuteTime": {
          "end_time": "2021-05-07T07:56:56.739709Z",
          "start_time": "2021-05-07T07:55:35.484667Z"
        },
        "id": "Rknjest0tSX-",
        "scrolled": true,
        "colab": {
          "base_uri": "https://localhost:8080/"
        },
        "outputId": "e40dc072-0da3-41c0-8a2b-897c2fa04e30"
      },
      "source": [
        "%%time\n",
        "spark_df = spark.createDataFrame(df.iloc[:50, :])\n",
        "spark_df.printSchema()"
      ],
      "execution_count": null,
      "outputs": [
        {
          "output_type": "stream",
          "text": [
            "root\n",
            " |-- Unnamed: 0: long (nullable = true)\n",
            " |-- id: long (nullable = true)\n",
            " |-- product_uid: long (nullable = true)\n",
            " |-- product_title: string (nullable = true)\n",
            " |-- search_term: string (nullable = true)\n",
            " |-- relevance: double (nullable = true)\n",
            " |-- product_description: string (nullable = true)\n",
            " |-- name: string (nullable = true)\n",
            " |-- value: string (nullable = true)\n",
            " |-- features: string (nullable = true)\n",
            " |-- search_word_count: long (nullable = true)\n",
            " |-- relevance_bins: double (nullable = true)\n",
            " |-- is_stopword: long (nullable = true)\n",
            " |-- word_in_title: long (nullable = true)\n",
            " |-- ratio_word_in_title: double (nullable = true)\n",
            " |-- word_in_desc: long (nullable = true)\n",
            " |-- ratio_word_in_desc: double (nullable = true)\n",
            " |-- max_levenshtein_title: double (nullable = true)\n",
            " |-- max_levenshtein_desc: double (nullable = true)\n",
            " |-- total_levenshtein_title: double (nullable = true)\n",
            " |-- total_levenshtein_desc: double (nullable = true)\n",
            "\n",
            "CPU times: user 38.9 ms, sys: 2.27 ms, total: 41.1 ms\n",
            "Wall time: 2.08 s\n"
          ],
          "name": "stdout"
        }
      ]
    },
    {
      "cell_type": "code",
      "metadata": {
        "ExecuteTime": {
          "end_time": "2021-05-07T07:57:10.306086Z",
          "start_time": "2021-05-07T07:56:56.800781Z"
        },
        "scrolled": true,
        "colab": {
          "base_uri": "https://localhost:8080/"
        },
        "id": "Mn-wmGfFni39",
        "outputId": "8ab04ebb-c974-41ae-932c-ddaedbe95097"
      },
      "source": [
        "spark_df.cache()\n",
        "spark_df.count(), len(spark_df.columns)"
      ],
      "execution_count": null,
      "outputs": [
        {
          "output_type": "execute_result",
          "data": {
            "text/plain": [
              "(50, 21)"
            ]
          },
          "metadata": {
            "tags": []
          },
          "execution_count": 9
        }
      ]
    },
    {
      "cell_type": "code",
      "metadata": {
        "colab": {
          "base_uri": "https://localhost:8080/"
        },
        "id": "Or2ZzEJ_8m2T",
        "outputId": "f8736437-16fc-4969-c915-8e0c5f16b88e"
      },
      "source": [
        "spark_df.rdd.getNumPartitions()"
      ],
      "execution_count": null,
      "outputs": [
        {
          "output_type": "execute_result",
          "data": {
            "text/plain": [
              "1"
            ]
          },
          "metadata": {
            "tags": []
          },
          "execution_count": 10
        }
      ]
    },
    {
      "cell_type": "code",
      "metadata": {
        "ExecuteTime": {
          "end_time": "2021-05-07T07:57:10.531969Z",
          "start_time": "2021-05-07T07:57:10.495372Z"
        },
        "id": "CXtPJp3Oni3-"
      },
      "source": [
        "# create a function to get NER tags for the product description column\n",
        "# load spacy model directly into worker node instead of driver in pyspark to avoid serialization\n",
        "\n",
        "spacy_model = None\n",
        "def get_spacy_model():\n",
        "    global spacy_model\n",
        "    if not spacy_model:\n",
        "        _spacy = spacy.load(\"en_core_web_sm\")\n",
        "        spacy_model = _spacy\n",
        "    \n",
        "    return spacy_model      \n",
        "\n",
        "# @pandas_udf(returnType=MapType(StringType(), IntegerType()), functionType=PandasUDFType.SCALAR)\n",
        "def create_tags(text):\n",
        "    nlp = get_spacy_model()\n",
        "    tags = dict(sorted(Counter([i.label_ for i in nlp(text).ents]).items(), key=lambda x: x[1], reverse=True))\n",
        "    return tags "
      ],
      "execution_count": null,
      "outputs": []
    },
    {
      "cell_type": "code",
      "metadata": {
        "ExecuteTime": {
          "end_time": "2021-05-07T08:00:07.054428Z",
          "start_time": "2021-05-07T08:00:07.018044Z"
        },
        "scrolled": true,
        "id": "Bb3oiPDJni3_"
      },
      "source": [
        "# create a udf in pyspark\n",
        "udf_new = F.udf(lambda x: create_tags(x), returnType=MapType(StringType(), IntegerType()))\n",
        "spark_df = spark_df.withColumn(\"tags\", udf_new(\"product_description\"))"
      ],
      "execution_count": null,
      "outputs": []
    },
    {
      "cell_type": "code",
      "metadata": {
        "ExecuteTime": {
          "end_time": "2021-05-07T08:00:11.055632Z",
          "start_time": "2021-05-07T08:00:11.050945Z"
        },
        "scrolled": true,
        "colab": {
          "base_uri": "https://localhost:8080/"
        },
        "id": "hMSOCZilni3_",
        "outputId": "a3d01ee6-c314-4ad2-aeda-aa02a5133d4f"
      },
      "source": [
        "spark_df.printSchema()"
      ],
      "execution_count": null,
      "outputs": [
        {
          "output_type": "stream",
          "text": [
            "root\n",
            " |-- Unnamed: 0: long (nullable = true)\n",
            " |-- id: long (nullable = true)\n",
            " |-- product_uid: long (nullable = true)\n",
            " |-- product_title: string (nullable = true)\n",
            " |-- search_term: string (nullable = true)\n",
            " |-- relevance: double (nullable = true)\n",
            " |-- product_description: string (nullable = true)\n",
            " |-- name: string (nullable = true)\n",
            " |-- value: string (nullable = true)\n",
            " |-- features: string (nullable = true)\n",
            " |-- search_word_count: long (nullable = true)\n",
            " |-- relevance_bins: double (nullable = true)\n",
            " |-- is_stopword: long (nullable = true)\n",
            " |-- word_in_title: long (nullable = true)\n",
            " |-- ratio_word_in_title: double (nullable = true)\n",
            " |-- word_in_desc: long (nullable = true)\n",
            " |-- ratio_word_in_desc: double (nullable = true)\n",
            " |-- max_levenshtein_title: double (nullable = true)\n",
            " |-- max_levenshtein_desc: double (nullable = true)\n",
            " |-- total_levenshtein_title: double (nullable = true)\n",
            " |-- total_levenshtein_desc: double (nullable = true)\n",
            " |-- tags: map (nullable = true)\n",
            " |    |-- key: string\n",
            " |    |-- value: integer (valueContainsNull = true)\n",
            "\n"
          ],
          "name": "stdout"
        }
      ]
    },
    {
      "cell_type": "code",
      "metadata": {
        "ExecuteTime": {
          "end_time": "2021-05-07T08:03:37.042717Z",
          "start_time": "2021-05-07T08:00:19.824333Z"
        },
        "colab": {
          "base_uri": "https://localhost:8080/"
        },
        "id": "eCEK0PQtni3_",
        "outputId": "94d2b892-7f8d-4c5d-974e-19a6efa73d0d"
      },
      "source": [
        "%%time\n",
        "spark_df.select(F.col(\"tags\")).show(1, truncate=False)"
      ],
      "execution_count": null,
      "outputs": [
        {
          "output_type": "stream",
          "text": [
            "+-----------------------------------------------------+\n",
            "|tags                                                 |\n",
            "+-----------------------------------------------------+\n",
            "|[CARDINAL -> 4, PERSON -> 1, QUANTITY -> 1, GPE -> 1]|\n",
            "+-----------------------------------------------------+\n",
            "only showing top 1 row\n",
            "\n",
            "CPU times: user 24.6 ms, sys: 973 µs, total: 25.6 ms\n",
            "Wall time: 4.22 s\n"
          ],
          "name": "stdout"
        }
      ]
    },
    {
      "cell_type": "code",
      "metadata": {
        "colab": {
          "base_uri": "https://localhost:8080/"
        },
        "id": "HXCiQNgXqfKE",
        "outputId": "42025eda-f360-4c6f-883c-8de2c72c3044"
      },
      "source": [
        "# create one column for each of the NER tags to show their counts\n",
        "keys_df = spark_df.select(F.explode(F.map_keys(F.col(\"tags\")))).distinct().collect()\n",
        "keys = list(map(lambda x: x[0], keys_df))\n",
        "\n",
        "col = list(map(lambda x: F.col(\"tags\").getItem(x).alias(x), keys))\n",
        "\n",
        "temp_df = spark_df.select(cols).fillna(0)\n",
        "temp_df.show(5, truncate=False)"
      ],
      "execution_count": null,
      "outputs": [
        {
          "output_type": "stream",
          "text": [
            "+--------+----+------+----+---+-----+---+----+-----+---+--------+---+\n",
            "|CARDINAL|DATE|PERSON|NORP|ORG|MONEY|LOC|TIME|EVENT|FAC|QUANTITY|GPE|\n",
            "+--------+----+------+----+---+-----+---+----+-----+---+--------+---+\n",
            "|4       |0   |1     |0   |0  |0    |0  |0   |0    |0  |1       |1  |\n",
            "|4       |0   |1     |0   |0  |0    |0  |0   |0    |0  |1       |1  |\n",
            "|4       |0   |0     |1   |1  |0    |0  |0   |0    |0  |1       |1  |\n",
            "|1       |0   |0     |0   |0  |0    |0  |0   |0    |0  |0       |2  |\n",
            "|1       |0   |0     |0   |0  |0    |0  |0   |0    |0  |0       |2  |\n",
            "+--------+----+------+----+---+-----+---+----+-----+---+--------+---+\n",
            "only showing top 5 rows\n",
            "\n"
          ],
          "name": "stdout"
        }
      ]
    },
    {
      "cell_type": "code",
      "metadata": {
        "id": "_uU5hVAPt3E9"
      },
      "source": [
        "spark_df = spark_df.withColumn(\"new_id\", F.monotonically_increasing_id())\n",
        "temp_df = temp_df.withColumn(\"new_id\", F.monotonically_increasing_id())\n",
        "result_df = spark_df.join(temp_df, \"new_id\", \"inner\").drop(\"new_id\")\n",
        "result_df.show(3, truncate=False)"
      ],
      "execution_count": null,
      "outputs": []
    },
    {
      "cell_type": "code",
      "metadata": {
        "colab": {
          "base_uri": "https://localhost:8080/"
        },
        "id": "aOZvfb6bu8vL",
        "outputId": "dded5338-bb05-4935-fa66-bfca76ca6577"
      },
      "source": [
        "result_df.show(3, truncate=False)"
      ],
      "execution_count": null,
      "outputs": [
        {
          "output_type": "stream",
          "text": [
            "+----------+---+-----------+-----------------------------------------------------------------------------+-------------+---------+-------------------------------------------------------------------------------------------------------------------------------------------------------------------------------------------------------------------------------------------------------------------------------------------------------------------------------------------------------------------------------------------------------------------------------------------------------------------------------------------------------------------------------------------------------------------------------------------------------------------------------------------------------------------------------------------------------------------------------------------------------------------------------------------------------------------------------------------------------------------------------------------------------------------------------------------------------------------------------------------------------------------------------------------------------------------------------------------------------------------+---------------------------------------------------------------------------------------------------------------------------------------------------------------------------------------------------------------------------------------------------------------------------------------------------------------------------------------------------------------------------------------------------------------------------------------------------------------------------------------------------------------------------------------------------------------------------------------------------+-----------------------------------------------------------------------------------------------------------------------------------------------------------------------------------------------------------------------------------------------------------------------------------------------------------------------------------------------------------------------------------------------------------------------------------------------------------------------------------------------------------------------------------------------------------------------------------------------------------------------------------------------------------------------------------------------------------------------------------------------------------------------------------------------------------------------------------------------------------------------------------------------------------------------------------------------------------------------------------------------------------------------------+--------------------------------------------------------------------------------------------------------------------------------------------------------------------------------------------------------------------------------------------------------------------------------------------------------------------------------------------------------------------------------------------------------------------------------------------------------------------------------------------------------------------------------------------------------------------------------------------------------------------------------------------------------------------------------------------------------------------------------------------------------------------------------------------------------------------------------------------------------------------------------------------------------------------------------------------------------------------------------------------------------------------------------------------------------------------------------------------------------------------------------------------------------------------------------------------------------------------------------------------------------------------------------------------------------------------------------------------------------------------------------------------------------------------------------------------------------------------------------------------------------------------------------------------------------------------------------------------------------------------------------+-----------------+--------------+-----------+-------------+-------------------+------------+------------------+---------------------+--------------------+-----------------------+----------------------+-------------------------------------------------------------+--------+----+------+----+---+-----+---+----+-----+---+--------+---+\n",
            "|Unnamed: 0|id |product_uid|product_title                                                                |search_term  |relevance|product_description                                                                                                                                                                                                                                                                                                                                                                                                                                                                                                                                                                                                                                                                                                                                                                                                                                                                                                                                                                                                                                                                                                |name                                                                                                                                                                                                                                                                                                                                                                                                                                                                                                                                                                                               |value                                                                                                                                                                                                                                                                                                                                                                                                                                                                                                                                                                                                                                                                                                                                                                                                                                                                                                                                                                                                                        |features                                                                                                                                                                                                                                                                                                                                                                                                                                                                                                                                                                                                                                                                                                                                                                                                                                                                                                                                                                                                                                                                                                                                                                                                                                                                                                                                                                                                                                                                                                                                                                                                                        |search_word_count|relevance_bins|is_stopword|word_in_title|ratio_word_in_title|word_in_desc|ratio_word_in_desc|max_levenshtein_title|max_levenshtein_desc|total_levenshtein_title|total_levenshtein_desc|tags                                                         |CARDINAL|DATE|PERSON|NORP|ORG|MONEY|LOC|TIME|EVENT|FAC|QUANTITY|GPE|\n",
            "+----------+---+-----------+-----------------------------------------------------------------------------+-------------+---------+-------------------------------------------------------------------------------------------------------------------------------------------------------------------------------------------------------------------------------------------------------------------------------------------------------------------------------------------------------------------------------------------------------------------------------------------------------------------------------------------------------------------------------------------------------------------------------------------------------------------------------------------------------------------------------------------------------------------------------------------------------------------------------------------------------------------------------------------------------------------------------------------------------------------------------------------------------------------------------------------------------------------------------------------------------------------------------------------------------------------+---------------------------------------------------------------------------------------------------------------------------------------------------------------------------------------------------------------------------------------------------------------------------------------------------------------------------------------------------------------------------------------------------------------------------------------------------------------------------------------------------------------------------------------------------------------------------------------------------+-----------------------------------------------------------------------------------------------------------------------------------------------------------------------------------------------------------------------------------------------------------------------------------------------------------------------------------------------------------------------------------------------------------------------------------------------------------------------------------------------------------------------------------------------------------------------------------------------------------------------------------------------------------------------------------------------------------------------------------------------------------------------------------------------------------------------------------------------------------------------------------------------------------------------------------------------------------------------------------------------------------------------------+--------------------------------------------------------------------------------------------------------------------------------------------------------------------------------------------------------------------------------------------------------------------------------------------------------------------------------------------------------------------------------------------------------------------------------------------------------------------------------------------------------------------------------------------------------------------------------------------------------------------------------------------------------------------------------------------------------------------------------------------------------------------------------------------------------------------------------------------------------------------------------------------------------------------------------------------------------------------------------------------------------------------------------------------------------------------------------------------------------------------------------------------------------------------------------------------------------------------------------------------------------------------------------------------------------------------------------------------------------------------------------------------------------------------------------------------------------------------------------------------------------------------------------------------------------------------------------------------------------------------------------+-----------------+--------------+-----------+-------------+-------------------+------------+------------------+---------------------+--------------------+-----------------------+----------------------+-------------------------------------------------------------+--------+----+------+----+---+-----+---+----+-----+---+--------+---+\n",
            "|0         |2  |100001     |simpson strong tie 12 gauge angle                                            |angle bracket|3.0      |not only do angles make joints stronger they also provide more consistent straight corners simpson strong tie offers a wide variety of angles in various sizes and thicknesses to handle light duty jobs or projects where a structural connection is needed some can be bent skewed to match the project for outdoor projects or those where moisture is present use our zmax zinc coated connectors which provide extra resistance against corrosion look for a z at the end of the model number versatile connector for various 90 connections and home repair projectsstronger than angled nailing or screw fastening alonehelp ensure joints are consistently straight and strongdimensions 3x3in. x 11 2in. made from 12 gauge steelgalvanized for extra corrosion resistanceinstall with 10d common nails or 9 x 11 2in. strong drive sd screws                                                                                                                                                                                                                                                             |['bullet01', 'bullet02', 'bullet03', 'bullet04', 'bullet05', 'bullet06', 'bullet07', 'gauge', 'material', 'mfg brand name', 'number of pieces', 'product depth in ', 'product height in ', 'product weight lb ', 'product width in ']                                                                                                                                                                                                                                                                                                                                                              |['versatile connector for various 90â degrees connections and home repair projects', 'stronger than angled nailing or screw fastening alone', 'help ensure joints are consistently straight and strong', 'dimensions 3x3in. x 11 2in. ', 'made from 12 gauge steel', 'galvanized for extra corrosion resistance', 'install with 10d common nails or 9 x 11 2in. strong drive sd screws', '12', 'galvanized steel', 'simpson strong tie', '1', '15', '3', '026', '3']                                                                                                                                                                                                                                                                                                                                                                                                                                                                                                                                                         |{'bullet01': 'versatile connector for various 90â degrees connections and home repair projects', 'bullet02': 'stronger than angled nailing or screw fastening alone', 'bullet03': 'help ensure joints are consistently straight and strong', 'bullet04': 'dimensions 3x3in. x 11 2in. ', 'bullet05': 'made from 12 gauge steel', 'bullet06': 'galvanized for extra corrosion resistance', 'bullet07': 'install with 10d common nails or 9 x 11 2in. strong drive sd screws', 'gauge': '12', 'material': 'galvanized steel', 'mfg brand name': 'simpson strong tie', 'number of pieces': '1', 'product depth in ': '15', 'product height in ': '3', 'product weight lb ': '026', 'product width in ': '3'}                                                                                                                                                                                                                                                                                                                                                                                                                                                                                                                                                                                                                                                                                                                                                                                                                                                                                                                       |2                |3.0           |0          |1            |0.4999999975       |0           |0.0               |1.0                  |0.9090909090909092  |1.3333333333333333     |1.4545454545454546    |[CARDINAL -> 4, PERSON -> 1, QUANTITY -> 1, GPE -> 1]        |4       |0   |1     |0   |0  |0    |0  |0   |0    |0  |1       |1  |\n",
            "|1         |3  |100001     |simpson strong tie 12 gauge angle                                            |l bracket    |2.5      |not only do angles make joints stronger they also provide more consistent straight corners simpson strong tie offers a wide variety of angles in various sizes and thicknesses to handle light duty jobs or projects where a structural connection is needed some can be bent skewed to match the project for outdoor projects or those where moisture is present use our zmax zinc coated connectors which provide extra resistance against corrosion look for a z at the end of the model number versatile connector for various 90 connections and home repair projectsstronger than angled nailing or screw fastening alonehelp ensure joints are consistently straight and strongdimensions 3x3in. x 11 2in. made from 12 gauge steelgalvanized for extra corrosion resistanceinstall with 10d common nails or 9 x 11 2in. strong drive sd screws                                                                                                                                                                                                                                                             |['bullet01', 'bullet02', 'bullet03', 'bullet04', 'bullet05', 'bullet06', 'bullet07', 'gauge', 'material', 'mfg brand name', 'number of pieces', 'product depth in ', 'product height in ', 'product weight lb ', 'product width in ']                                                                                                                                                                                                                                                                                                                                                              |['versatile connector for various 90â degrees connections and home repair projects', 'stronger than angled nailing or screw fastening alone', 'help ensure joints are consistently straight and strong', 'dimensions 3x3in. x 11 2in. ', 'made from 12 gauge steel', 'galvanized for extra corrosion resistance', 'install with 10d common nails or 9 x 11 2in. strong drive sd screws', '12', 'galvanized steel', 'simpson strong tie', '1', '15', '3', '026', '3']                                                                                                                                                                                                                                                                                                                                                                                                                                                                                                                                                         |{'bullet01': 'versatile connector for various 90â degrees connections and home repair projects', 'bullet02': 'stronger than angled nailing or screw fastening alone', 'bullet03': 'help ensure joints are consistently straight and strong', 'bullet04': 'dimensions 3x3in. x 11 2in. ', 'bullet05': 'made from 12 gauge steel', 'bullet06': 'galvanized for extra corrosion resistance', 'bullet07': 'install with 10d common nails or 9 x 11 2in. strong drive sd screws', 'gauge': '12', 'material': 'galvanized steel', 'mfg brand name': 'simpson strong tie', 'number of pieces': '1', 'product depth in ': '15', 'product height in ': '3', 'product weight lb ': '026', 'product width in ': '3'}                                                                                                                                                                                                                                                                                                                                                                                                                                                                                                                                                                                                                                                                                                                                                                                                                                                                                                                       |2                |2.0           |0          |0            |0.0                |0           |0.0               |0.3333333333333333   |0.5454545454545454  |0.6666666666666666     |0.9454545454545454    |[CARDINAL -> 4, PERSON -> 1, QUANTITY -> 1, GPE -> 1]        |4       |0   |1     |0   |0  |0    |0  |0   |0    |0  |1       |1  |\n",
            "|2         |9  |100002     |behr premium textured deckover 1gal. sc 141 tugboat wood and concrete coating|deck over    |3.0      |behr premium textured deckover is an innovative solid color coating it will bring your old weathered wood or concrete back to life the advanced 100 acrylic resin formula creates a durable coating for your tired and worn out deck rejuvenating to a whole new look for the best results be sure to properly prepare the surface using other applicable behr products displayed above california residents see nbsp proposition 65in. formationrevives wood and composite decks railings porches and boat docks also great for concrete pool decks patios and sidewalks100 acrylic solid color coatingresists cracking and peeling and conceals splinters and cracks up to 14in. provides a durable mildew resistant finishcovers up to 75 sq ft in 2 coats per galloncreates a textured slip resistant finishfor best results prepare with the appropriate behr product for your wood or concrete surfaceactual paint colors may vary from on screen and printer representationscolors available to be tinted in most storesonline price includes paint care fee in the following states ca co ct me mn or ri vt|['application method', 'assembled depth in ', 'assembled height in ', 'assembled width in ', 'bullet01', 'bullet02', 'bullet03', 'bullet04', 'bullet05', 'bullet06', 'bullet07', 'bullet08', 'bullet10', 'bullet18', 'cleanup', 'color family', 'color finish', 'concrete use', 'container size', 'coverage area sq ft ', 'deck use', 'interior exterior', 'mfg brand name', 'mildew resistant', 'opacity', 'paint product type', 'patching repair product type', 'product style', 'rgb value', 'sealer', 'time before recoating hours ', 'tintable', 'transparency', 'uv resistant', 'waterproof']|['brush roller spray', '663in. ', '776in. ', '663in. ', 'revives wood and composite decks railings porches and boat docks also great for concrete pool decks patios and sidewalks', '100 acrylic solid color coating', 'resists cracking and peeling and conceals splinters and cracks up to 14in. ', 'provides a durable mildew resistant finish', 'covers up to 75 sq ft in 2 coats per gallon', 'creates a textured slip resistant finish', 'for best results prepare with the appropriate behr product for your wood or concrete surface', 'actual paint colors may vary from on screen and printer representations', 'colors available to be tinted in most stores', 'online price includes paint care fee in the following states ca co ct me mn or ri vt', 'soap and water', 'browns tans', 'tugboat', 'yes', '1 ga gallon', '75', 'yes', 'exterior', 'behr premium textured deckover', 'yes', 'solid', 'exterior paint stain', 'restoration coating', 'cottage', '119100 086', 'no', '6', 'no', 'solid', 'yes', 'no']|{'application method': 'brush roller spray', 'assembled depth in ': '663in. ', 'assembled height in ': '776in. ', 'assembled width in ': '663in. ', 'bullet01': 'revives wood and composite decks railings porches and boat docks also great for concrete pool decks patios and sidewalks', 'bullet02': '100 acrylic solid color coating', 'bullet03': 'resists cracking and peeling and conceals splinters and cracks up to 14in. ', 'bullet04': 'provides a durable mildew resistant finish', 'bullet05': 'covers up to 75 sq ft in 2 coats per gallon', 'bullet06': 'creates a textured slip resistant finish', 'bullet07': 'for best results prepare with the appropriate behr product for your wood or concrete surface', 'bullet08': 'actual paint colors may vary from on screen and printer representations', 'bullet10': 'colors available to be tinted in most stores', 'bullet18': 'online price includes paint care fee in the following states ca co ct me mn or ri vt', 'cleanup': 'soap and water', 'color family': 'browns tans', 'color finish': 'tugboat', 'concrete use': 'yes', 'container size': '1 ga gallon', 'coverage area sq ft ': '75', 'deck use': 'yes', 'interior exterior': 'exterior', 'mfg brand name': 'behr premium textured deckover', 'mildew resistant': 'yes', 'opacity': 'solid', 'paint product type': 'exterior paint stain', 'patching repair product type': 'restoration coating', 'product style': 'cottage', 'rgb value': '119100 086', 'sealer': 'no', 'time before recoating hours ': '6', 'tintable': 'no', 'transparency': 'solid', 'uv resistant': 'yes', 'waterproof': 'no'}|1                |3.0           |0          |0            |0.0                |1           |0.9999999900000002|0.6666666666666666   |1.0                 |0.6666666666666666     |1.0                   |[CARDINAL -> 4, NORP -> 1, QUANTITY -> 1, ORG -> 1, GPE -> 1]|4       |0   |0     |1   |1  |0    |0  |0   |0    |0  |1       |1  |\n",
            "+----------+---+-----------+-----------------------------------------------------------------------------+-------------+---------+-------------------------------------------------------------------------------------------------------------------------------------------------------------------------------------------------------------------------------------------------------------------------------------------------------------------------------------------------------------------------------------------------------------------------------------------------------------------------------------------------------------------------------------------------------------------------------------------------------------------------------------------------------------------------------------------------------------------------------------------------------------------------------------------------------------------------------------------------------------------------------------------------------------------------------------------------------------------------------------------------------------------------------------------------------------------------------------------------------------------+---------------------------------------------------------------------------------------------------------------------------------------------------------------------------------------------------------------------------------------------------------------------------------------------------------------------------------------------------------------------------------------------------------------------------------------------------------------------------------------------------------------------------------------------------------------------------------------------------+-----------------------------------------------------------------------------------------------------------------------------------------------------------------------------------------------------------------------------------------------------------------------------------------------------------------------------------------------------------------------------------------------------------------------------------------------------------------------------------------------------------------------------------------------------------------------------------------------------------------------------------------------------------------------------------------------------------------------------------------------------------------------------------------------------------------------------------------------------------------------------------------------------------------------------------------------------------------------------------------------------------------------------+--------------------------------------------------------------------------------------------------------------------------------------------------------------------------------------------------------------------------------------------------------------------------------------------------------------------------------------------------------------------------------------------------------------------------------------------------------------------------------------------------------------------------------------------------------------------------------------------------------------------------------------------------------------------------------------------------------------------------------------------------------------------------------------------------------------------------------------------------------------------------------------------------------------------------------------------------------------------------------------------------------------------------------------------------------------------------------------------------------------------------------------------------------------------------------------------------------------------------------------------------------------------------------------------------------------------------------------------------------------------------------------------------------------------------------------------------------------------------------------------------------------------------------------------------------------------------------------------------------------------------------+-----------------+--------------+-----------+-------------+-------------------+------------+------------------+---------------------+--------------------+-----------------------+----------------------+-------------------------------------------------------------+--------+----+------+----+---+-----+---+----+-----+---+--------+---+\n",
            "only showing top 3 rows\n",
            "\n"
          ],
          "name": "stdout"
        }
      ]
    },
    {
      "cell_type": "code",
      "metadata": {
        "id": "qDQAXkkE8mCH"
      },
      "source": [
        "pdf = result_df.toPandas()"
      ],
      "execution_count": null,
      "outputs": []
    },
    {
      "cell_type": "code",
      "metadata": {
        "colab": {
          "base_uri": "https://localhost:8080/"
        },
        "id": "TSFa8rwH-f1N",
        "outputId": "dd3b7e5f-5156-4f71-ba64-78c59565a8dc"
      },
      "source": [
        "pdf[\"relevance_bins\"].unique()"
      ],
      "execution_count": null,
      "outputs": [
        {
          "output_type": "execute_result",
          "data": {
            "text/plain": [
              "array([3., 2., 1.])"
            ]
          },
          "metadata": {
            "tags": []
          },
          "execution_count": 51
        }
      ]
    },
    {
      "cell_type": "code",
      "metadata": {
        "colab": {
          "base_uri": "https://localhost:8080/",
          "height": 338
        },
        "id": "o1-lNGvf951q",
        "outputId": "cde40144-5a95-4429-8013-327ddeb37fcd"
      },
      "source": [
        "fig, ax = plt.subplots(1, 1, figsize=(20, 6))\n",
        "\n",
        "for i in pdf[\"relevance_bins\"].unique():\n",
        "    sns.distplot(pdf[pdf[\"relevance_bins\"] == i][\"ORG\"], hist=True, bins=10, ax=ax)\n",
        "\n",
        "fig.legend(pdf[\"relevance_bins\"].unique())\n",
        "plt.suptitle(\"organization\")\n",
        "plt.legend()\n",
        "plt.show()"
      ],
      "execution_count": null,
      "outputs": [
        {
          "output_type": "stream",
          "text": [
            "No handles with labels found to put in legend.\n"
          ],
          "name": "stderr"
        },
        {
          "output_type": "display_data",
          "data": {
            "image/png": "[encoded data removed]",
            "text/plain": [
              "<Figure size 1440x432 with 1 Axes>"
            ]
          },
          "metadata": {
            "tags": [],
            "needs_background": "light"
          }
        }
      ]
    },
    {
      "cell_type": "code",
      "metadata": {
        "colab": {
          "base_uri": "https://localhost:8080/",
          "height": 1000
        },
        "id": "CwKIKYxVHUnt",
        "scrolled": true,
        "outputId": "a14f568a-657b-429f-be7c-3afd11aa8ce8"
      },
      "source": [
        "df[(df[\"search_word_count\"] == 1) & (df[\"relevance\"] == 3) & (df[\"is_stopword\"] == 0)].iloc[:, [2, 3, 5, -4, -3, -2, -1]]"
      ],
      "execution_count": null,
      "outputs": [
        {
          "output_type": "execute_result",
          "data": {
            "text/html": [
              "<div>\n",
              "<style scoped>\n",
              "    .dataframe tbody tr th:only-of-type {\n",
              "        vertical-align: middle;\n",
              "    }\n",
              "\n",
              "    .dataframe tbody tr th {\n",
              "        vertical-align: top;\n",
              "    }\n",
              "\n",
              "    .dataframe thead th {\n",
              "        text-align: right;\n",
              "    }\n",
              "</style>\n",
              "<table border=\"1\" class=\"dataframe\">\n",
              "  <thead>\n",
              "    <tr style=\"text-align: right;\">\n",
              "      <th></th>\n",
              "      <th>product_title</th>\n",
              "      <th>search_term</th>\n",
              "      <th>product_description</th>\n",
              "      <th>max_levenshtein_title</th>\n",
              "      <th>max_levenshtein_desc</th>\n",
              "      <th>total_levenshtein_title</th>\n",
              "      <th>total_levenshtein_desc</th>\n",
              "    </tr>\n",
              "  </thead>\n",
              "  <tbody>\n",
              "    <tr>\n",
              "      <th>2</th>\n",
              "      <td>behr premium textured deckover 1gal. sc 141 tugboat wood and concrete coating</td>\n",
              "      <td>deck over</td>\n",
              "      <td>behr premium textured deckover is an innovative solid color coating it will bring your old weathered wood or concrete back to life the advanced 100 acrylic resin formula creates a durable coating ...</td>\n",
              "      <td>(0.6666666666666666, deck, deckover)</td>\n",
              "      <td>(1.0, deck, deck)</td>\n",
              "      <td>0.666667</td>\n",
              "      <td>1.000000</td>\n",
              "    </tr>\n",
              "    <tr>\n",
              "      <th>7</th>\n",
              "      <td>whirlpool 19 cu ft over the range convection microwave in stainless steel with sensor cooking</td>\n",
              "      <td>microwaves</td>\n",
              "      <td>achieving delicious results is almost effortless with this whirlpool over the range microwave hood with convection cooking with 19 cu ft capacity you ll have room to prepare multiple dishes at onc...</td>\n",
              "      <td>(0.9473684210526315, microwaves, microwave)</td>\n",
              "      <td>(0.9473684210526315, microwaves, microwave)</td>\n",
              "      <td>0.947368</td>\n",
              "      <td>0.947368</td>\n",
              "    </tr>\n",
              "    <tr>\n",
              "      <th>84</th>\n",
              "      <td>60in. x 150ft. 1010 remesh</td>\n",
              "      <td>wiremesh</td>\n",
              "      <td>the 60in. x 150ft. 1010 remesh provides expansion and contraction reinforcement to add strength when pouring concrete pads it is made from astm a615 material and covers up to 750 sq ft per roll pr...</td>\n",
              "      <td>(0.8571428571428571, wiremesh, remesh)</td>\n",
              "      <td>(0.8571428571428571, wiremesh, remesh)</td>\n",
              "      <td>0.857143</td>\n",
              "      <td>0.857143</td>\n",
              "    </tr>\n",
              "    <tr>\n",
              "      <th>145</th>\n",
              "      <td>kaleen soho thames beige 4x6ft. area rug</td>\n",
              "      <td>4x6</td>\n",
              "      <td>soho thames beige 4x6ft. area rug is a fun and functional collection of hip designs it is as funky and cheeky as the neighborhood that bears its name soho is great finish and cool designs 100 wool...</td>\n",
              "      <td>(0.6666666666666666, 4x6, 4x6ft.)</td>\n",
              "      <td>(0.6666666666666666, 4x6, 4x6ft.)</td>\n",
              "      <td>0.666667</td>\n",
              "      <td>0.666667</td>\n",
              "    </tr>\n",
              "    <tr>\n",
              "      <th>159</th>\n",
              "      <td>melnor adjustable rear trigger nozzle</td>\n",
              "      <td>melnor</td>\n",
              "      <td>this heavy duty melnor adjustable rear trigger nozzle features an adjustable tip that sprays from mist to jet so you can tackle a variety of watering jobs the nozzle s trigger lock feature allows ...</td>\n",
              "      <td>(1.0, melnor, melnor)</td>\n",
              "      <td>(1.0, melnor, melnor)</td>\n",
              "      <td>1.000000</td>\n",
              "      <td>1.000000</td>\n",
              "    </tr>\n",
              "    <tr>\n",
              "      <th>...</th>\n",
              "      <td>...</td>\n",
              "      <td>...</td>\n",
              "      <td>...</td>\n",
              "      <td>...</td>\n",
              "      <td>...</td>\n",
              "      <td>...</td>\n",
              "      <td>...</td>\n",
              "    </tr>\n",
              "    <tr>\n",
              "      <th>72207</th>\n",
              "      <td>ge silicone ii 101oz. white kitchen and bath caulk</td>\n",
              "      <td>whitesilicone</td>\n",
              "      <td>the shower doesn t have to be off limits for a full day caulk the shower or tub with ge silicone ii kitchen and bath and reduce the wait time dramatically ge silicone ii 100 silicone adheres to a ...</td>\n",
              "      <td>(0.7619047619047619, whitesilicone, silicone)</td>\n",
              "      <td>(0.7619047619047619, whitesilicone, silicone)</td>\n",
              "      <td>0.761905</td>\n",
              "      <td>0.761905</td>\n",
              "    </tr>\n",
              "    <tr>\n",
              "      <th>72455</th>\n",
              "      <td>fypon 36x24in. x 2in. polyurethane decorative peaked louver</td>\n",
              "      <td>fyrpon</td>\n",
              "      <td>designed to be both beautiful and functional louvers have been a useful design accent for centuries fypon offers two basic louver types functional venting and decorative non venting in a multitude...</td>\n",
              "      <td>(0.9090909090909091, fyrpon, fypon)</td>\n",
              "      <td>(0.9090909090909091, fyrpon, fypon)</td>\n",
              "      <td>0.909091</td>\n",
              "      <td>0.909091</td>\n",
              "    </tr>\n",
              "    <tr>\n",
              "      <th>72518</th>\n",
              "      <td>behr marquee 200a 3 blushing apricot exterior paint</td>\n",
              "      <td>blushing</td>\n",
              "      <td>behr marquee exterior flat is a stain blocking paint and primer that features the most advanced dirt and fade technology from behr marquee creates a tough non stick surface that helps resists dirt...</td>\n",
              "      <td>(1.0, blushing, blushing)</td>\n",
              "      <td>(0.6666666666666666, blushing, lasting)</td>\n",
              "      <td>1.000000</td>\n",
              "      <td>0.666667</td>\n",
              "    </tr>\n",
              "    <tr>\n",
              "      <th>72559</th>\n",
              "      <td>custom building products commercial 381 bright white 101oz. silicone caulk</td>\n",
              "      <td>whitesilicone</td>\n",
              "      <td>commercial 100 silicone caulk is designed for use in coves corners changes in plane and expansion joints associated with exterior and interior applications of tile and stone this caulk can be used...</td>\n",
              "      <td>(0.7619047619047619, whitesilicone, silicone)</td>\n",
              "      <td>(0.7619047619047619, whitesilicone, silicone)</td>\n",
              "      <td>0.761905</td>\n",
              "      <td>0.761905</td>\n",
              "    </tr>\n",
              "    <tr>\n",
              "      <th>73758</th>\n",
              "      <td>trafficmaster toulon color spices 12ft. carpet</td>\n",
              "      <td>toulone</td>\n",
              "      <td>expand your living and playing area into the outdoors with durable carpet designed specifically for your outdoor needs add color and style with toulon to screened porches covered patios basements ...</td>\n",
              "      <td>(0.9230769230769231, toulone, toulon)</td>\n",
              "      <td>(0.9230769230769231, toulone, toulon)</td>\n",
              "      <td>0.923077</td>\n",
              "      <td>0.923077</td>\n",
              "    </tr>\n",
              "  </tbody>\n",
              "</table>\n",
              "<p>1123 rows × 7 columns</p>\n",
              "</div>"
            ],
            "text/plain": [
              "                                                                                       product_title  \\\n",
              "2                      behr premium textured deckover 1gal. sc 141 tugboat wood and concrete coating   \n",
              "7      whirlpool 19 cu ft over the range convection microwave in stainless steel with sensor cooking   \n",
              "84                                                                        60in. x 150ft. 1010 remesh   \n",
              "145                                                         kaleen soho thames beige 4x6ft. area rug   \n",
              "159                                                            melnor adjustable rear trigger nozzle   \n",
              "...                                                                                              ...   \n",
              "72207                                             ge silicone ii 101oz. white kitchen and bath caulk   \n",
              "72455                                    fypon 36x24in. x 2in. polyurethane decorative peaked louver   \n",
              "72518                                            behr marquee 200a 3 blushing apricot exterior paint   \n",
              "72559                     custom building products commercial 381 bright white 101oz. silicone caulk   \n",
              "73758                                                 trafficmaster toulon color spices 12ft. carpet   \n",
              "\n",
              "         search_term  \\\n",
              "2          deck over   \n",
              "7         microwaves   \n",
              "84          wiremesh   \n",
              "145              4x6   \n",
              "159           melnor   \n",
              "...              ...   \n",
              "72207  whitesilicone   \n",
              "72455         fyrpon   \n",
              "72518       blushing   \n",
              "72559  whitesilicone   \n",
              "73758        toulone   \n",
              "\n",
              "                                                                                                                                                                                           product_description  \\\n",
              "2      behr premium textured deckover is an innovative solid color coating it will bring your old weathered wood or concrete back to life the advanced 100 acrylic resin formula creates a durable coating ...   \n",
              "7      achieving delicious results is almost effortless with this whirlpool over the range microwave hood with convection cooking with 19 cu ft capacity you ll have room to prepare multiple dishes at onc...   \n",
              "84     the 60in. x 150ft. 1010 remesh provides expansion and contraction reinforcement to add strength when pouring concrete pads it is made from astm a615 material and covers up to 750 sq ft per roll pr...   \n",
              "145    soho thames beige 4x6ft. area rug is a fun and functional collection of hip designs it is as funky and cheeky as the neighborhood that bears its name soho is great finish and cool designs 100 wool...   \n",
              "159    this heavy duty melnor adjustable rear trigger nozzle features an adjustable tip that sprays from mist to jet so you can tackle a variety of watering jobs the nozzle s trigger lock feature allows ...   \n",
              "...                                                                                                                                                                                                        ...   \n",
              "72207  the shower doesn t have to be off limits for a full day caulk the shower or tub with ge silicone ii kitchen and bath and reduce the wait time dramatically ge silicone ii 100 silicone adheres to a ...   \n",
              "72455  designed to be both beautiful and functional louvers have been a useful design accent for centuries fypon offers two basic louver types functional venting and decorative non venting in a multitude...   \n",
              "72518  behr marquee exterior flat is a stain blocking paint and primer that features the most advanced dirt and fade technology from behr marquee creates a tough non stick surface that helps resists dirt...   \n",
              "72559  commercial 100 silicone caulk is designed for use in coves corners changes in plane and expansion joints associated with exterior and interior applications of tile and stone this caulk can be used...   \n",
              "73758  expand your living and playing area into the outdoors with durable carpet designed specifically for your outdoor needs add color and style with toulon to screened porches covered patios basements ...   \n",
              "\n",
              "                               max_levenshtein_title  \\\n",
              "2               (0.6666666666666666, deck, deckover)   \n",
              "7        (0.9473684210526315, microwaves, microwave)   \n",
              "84            (0.8571428571428571, wiremesh, remesh)   \n",
              "145                (0.6666666666666666, 4x6, 4x6ft.)   \n",
              "159                            (1.0, melnor, melnor)   \n",
              "...                                              ...   \n",
              "72207  (0.7619047619047619, whitesilicone, silicone)   \n",
              "72455            (0.9090909090909091, fyrpon, fypon)   \n",
              "72518                      (1.0, blushing, blushing)   \n",
              "72559  (0.7619047619047619, whitesilicone, silicone)   \n",
              "73758          (0.9230769230769231, toulone, toulon)   \n",
              "\n",
              "                                max_levenshtein_desc  total_levenshtein_title  \\\n",
              "2                                  (1.0, deck, deck)                 0.666667   \n",
              "7        (0.9473684210526315, microwaves, microwave)                 0.947368   \n",
              "84            (0.8571428571428571, wiremesh, remesh)                 0.857143   \n",
              "145                (0.6666666666666666, 4x6, 4x6ft.)                 0.666667   \n",
              "159                            (1.0, melnor, melnor)                 1.000000   \n",
              "...                                              ...                      ...   \n",
              "72207  (0.7619047619047619, whitesilicone, silicone)                 0.761905   \n",
              "72455            (0.9090909090909091, fyrpon, fypon)                 0.909091   \n",
              "72518        (0.6666666666666666, blushing, lasting)                 1.000000   \n",
              "72559  (0.7619047619047619, whitesilicone, silicone)                 0.761905   \n",
              "73758          (0.9230769230769231, toulone, toulon)                 0.923077   \n",
              "\n",
              "       total_levenshtein_desc  \n",
              "2                    1.000000  \n",
              "7                    0.947368  \n",
              "84                   0.857143  \n",
              "145                  0.666667  \n",
              "159                  1.000000  \n",
              "...                       ...  \n",
              "72207                0.761905  \n",
              "72455                0.909091  \n",
              "72518                0.666667  \n",
              "72559                0.761905  \n",
              "73758                0.923077  \n",
              "\n",
              "[1123 rows x 7 columns]"
            ]
          },
          "metadata": {
            "tags": []
          },
          "execution_count": 22
        }
      ]
    },
    {
      "cell_type": "code",
      "metadata": {
        "colab": {
          "base_uri": "https://localhost:8080/",
          "height": 391
        },
        "id": "XFlE4oW4CZFd",
        "outputId": "d5f84b59-3fa8-42b4-ab30-a0e816324af3"
      },
      "source": [
        "plt.figure(figsize=(12, 6))\n",
        "plt.scatter(df[\"search_word_count\"], df[\"relevance_bins\"])"
      ],
      "execution_count": null,
      "outputs": [
        {
          "output_type": "execute_result",
          "data": {
            "text/plain": [
              "<matplotlib.collections.PathCollection at 0x7fe4f60cc710>"
            ]
          },
          "metadata": {
            "tags": []
          },
          "execution_count": 148
        },
        {
          "output_type": "display_data",
          "data": {
            "image/png": "[encoded data removed]",
            "text/plain": [
              "<Figure size 864x432 with 1 Axes>"
            ]
          },
          "metadata": {
            "tags": [],
            "needs_background": "light"
          }
        }
      ]
    },
    {
      "cell_type": "code",
      "metadata": {
        "colab": {
          "base_uri": "https://localhost:8080/",
          "height": 69
        },
        "id": "oHBoOQ4i6avf",
        "outputId": "91809672-e230-4b05-9e3f-42e74ea8126f"
      },
      "source": [
        "df[df[\"ratio_word_in_title\"] > 1][display_columns]"
      ],
      "execution_count": null,
      "outputs": [
        {
          "output_type": "execute_result",
          "data": {
            "text/html": [
              "<div>\n",
              "<style scoped>\n",
              "    .dataframe tbody tr th:only-of-type {\n",
              "        vertical-align: middle;\n",
              "    }\n",
              "\n",
              "    .dataframe tbody tr th {\n",
              "        vertical-align: top;\n",
              "    }\n",
              "\n",
              "    .dataframe thead th {\n",
              "        text-align: right;\n",
              "    }\n",
              "</style>\n",
              "<table border=\"1\" class=\"dataframe\">\n",
              "  <thead>\n",
              "    <tr style=\"text-align: right;\">\n",
              "      <th></th>\n",
              "      <th>id</th>\n",
              "      <th>product_title</th>\n",
              "      <th>search_term</th>\n",
              "      <th>relevance</th>\n",
              "      <th>product_description</th>\n",
              "      <th>features</th>\n",
              "      <th>word_in_title</th>\n",
              "      <th>ratio_word_in_title</th>\n",
              "      <th>word_in_desc</th>\n",
              "      <th>ratio_word_in_desc</th>\n",
              "    </tr>\n",
              "  </thead>\n",
              "  <tbody>\n",
              "  </tbody>\n",
              "</table>\n",
              "</div>"
            ],
            "text/plain": [
              "Empty DataFrame\n",
              "Columns: [id, product_title, search_term, relevance, product_description, features, word_in_title, ratio_word_in_title, word_in_desc, ratio_word_in_desc]\n",
              "Index: []"
            ]
          },
          "metadata": {
            "tags": []
          },
          "execution_count": 66
        }
      ]
    },
    {
      "cell_type": "code",
      "metadata": {
        "colab": {
          "base_uri": "https://localhost:8080/",
          "height": 759
        },
        "id": "pZpki0yJycy1",
        "scrolled": true,
        "outputId": "742def4f-c2b7-48a9-88c3-558827a10b6f"
      },
      "source": [
        "train[train[\"relevance\"] > 1][[\"search_term\", \"product_title\", \"product_description\", \"relevance\"]]"
      ],
      "execution_count": null,
      "outputs": [
        {
          "output_type": "execute_result",
          "data": {
            "text/html": [
              "<div>\n",
              "<style scoped>\n",
              "    .dataframe tbody tr th:only-of-type {\n",
              "        vertical-align: middle;\n",
              "    }\n",
              "\n",
              "    .dataframe tbody tr th {\n",
              "        vertical-align: top;\n",
              "    }\n",
              "\n",
              "    .dataframe thead th {\n",
              "        text-align: right;\n",
              "    }\n",
              "</style>\n",
              "<table border=\"1\" class=\"dataframe\">\n",
              "  <thead>\n",
              "    <tr style=\"text-align: right;\">\n",
              "      <th></th>\n",
              "      <th>search_term</th>\n",
              "      <th>product_title</th>\n",
              "      <th>product_description</th>\n",
              "      <th>relevance</th>\n",
              "    </tr>\n",
              "  </thead>\n",
              "  <tbody>\n",
              "    <tr>\n",
              "      <th>0</th>\n",
              "      <td>angle bracket</td>\n",
              "      <td>Simpson Strong-Tie 12-Gauge Angle</td>\n",
              "      <td>Not only do angles make joints stronger, they also provide more consistent, straight corners. Simpson Strong-Tie offers a wide variety of angles in various sizes and thicknesses to handle light-du...</td>\n",
              "      <td>3.00</td>\n",
              "    </tr>\n",
              "    <tr>\n",
              "      <th>1</th>\n",
              "      <td>l bracket</td>\n",
              "      <td>Simpson Strong-Tie 12-Gauge Angle</td>\n",
              "      <td>Not only do angles make joints stronger, they also provide more consistent, straight corners. Simpson Strong-Tie offers a wide variety of angles in various sizes and thicknesses to handle light-du...</td>\n",
              "      <td>2.50</td>\n",
              "    </tr>\n",
              "    <tr>\n",
              "      <th>2</th>\n",
              "      <td>deck over</td>\n",
              "      <td>BEHR Premium Textured DeckOver 1-gal. #SC-141 Tugboat Wood and Concrete Coating</td>\n",
              "      <td>BEHR Premium Textured DECKOVER is an innovative solid color coating. It will bring your old, weathered wood or concrete back to life. The advanced 100% acrylic resin formula creates a durable coat...</td>\n",
              "      <td>3.00</td>\n",
              "    </tr>\n",
              "    <tr>\n",
              "      <th>3</th>\n",
              "      <td>rain shower head</td>\n",
              "      <td>Delta Vero 1-Handle Shower Only Faucet Trim Kit in Chrome (Valve Not Included)</td>\n",
              "      <td>Update your bathroom with the Delta Vero Single-Handle Shower Faucet Trim Kit in Chrome. It has a sleek, modern and minimalistic aesthetic. The MultiChoice universal valve keeps the water temperat...</td>\n",
              "      <td>2.33</td>\n",
              "    </tr>\n",
              "    <tr>\n",
              "      <th>4</th>\n",
              "      <td>shower only faucet</td>\n",
              "      <td>Delta Vero 1-Handle Shower Only Faucet Trim Kit in Chrome (Valve Not Included)</td>\n",
              "      <td>Update your bathroom with the Delta Vero Single-Handle Shower Faucet Trim Kit in Chrome. It has a sleek, modern and minimalistic aesthetic. The MultiChoice universal valve keeps the water temperat...</td>\n",
              "      <td>2.67</td>\n",
              "    </tr>\n",
              "    <tr>\n",
              "      <th>...</th>\n",
              "      <td>...</td>\n",
              "      <td>...</td>\n",
              "      <td>...</td>\n",
              "      <td>...</td>\n",
              "    </tr>\n",
              "    <tr>\n",
              "      <th>74061</th>\n",
              "      <td>rondec stainless steel 3/8 edge protection</td>\n",
              "      <td>Schluter Rondec Stainless Steel 3/8 in. x 1 in. Metal 90 Degree Outside Corner</td>\n",
              "      <td>The EV/RO100E is a prefabricated corner for Rondec that eliminates the need for a mitered edge. It is used to create 90 outside corners. The EV/RO100E corner is designed for use with the RO100E pr...</td>\n",
              "      <td>3.00</td>\n",
              "    </tr>\n",
              "    <tr>\n",
              "      <th>74063</th>\n",
              "      <td>r20 halogen light</td>\n",
              "      <td>Philips 40-Watt Halogen R20 Flood Light Bulb (12-Pack)</td>\n",
              "      <td>Philips Energy Advantage lamps use less energy while maintaining bright, crisp, white halogen light. Available in traditional lamp shapes to fit most incandescent fixtures. Halogen energy savers w...</td>\n",
              "      <td>3.00</td>\n",
              "    </tr>\n",
              "    <tr>\n",
              "      <th>74064</th>\n",
              "      <td>schlage lock siena half dummy knob with</td>\n",
              "      <td>Schlage Camelot In-Active Aged Bronze Handleset with Left-Hand Accent Lever</td>\n",
              "      <td>The Schlage Camelot In-Active Aged Bronze Handleset with Left-Hand Accent Lever is perfect for use as a decorative door pull on a pair of non-latching doors. The interior Accent lever is widely po...</td>\n",
              "      <td>2.33</td>\n",
              "    </tr>\n",
              "    <tr>\n",
              "      <th>74065</th>\n",
              "      <td>zen garden  decor</td>\n",
              "      <td>Plastec 11 in. x 24 in. Rose Garden Wall Decor Steel</td>\n",
              "      <td>The Rose Garden is inspired by the popular early 20th century Scottish design motif. Dark Bronze powder coated finish on steel makes it suitable for indoor or outdoor use.Indoor and outdoor useFin...</td>\n",
              "      <td>3.00</td>\n",
              "    </tr>\n",
              "    <tr>\n",
              "      <th>74066</th>\n",
              "      <td>fine sheer curtain 63 inches</td>\n",
              "      <td>LICHTENBERG Pool Blue No. 918 Millennial Ryan Heathered Texture Sheer Curtain Panel, 40 in. W x 63 in. L</td>\n",
              "      <td>No. 918 Millennial Ryan heathered texture semi-sheer curtain is a casual solid that adds freshness and a finishing touch to any decor setting. Enhances privacy while allowing light to gently filte...</td>\n",
              "      <td>2.33</td>\n",
              "    </tr>\n",
              "  </tbody>\n",
              "</table>\n",
              "<p>71962 rows × 4 columns</p>\n",
              "</div>"
            ],
            "text/plain": [
              "                                      search_term  \\\n",
              "0                                   angle bracket   \n",
              "1                                       l bracket   \n",
              "2                                       deck over   \n",
              "3                                rain shower head   \n",
              "4                              shower only faucet   \n",
              "...                                           ...   \n",
              "74061  rondec stainless steel 3/8 edge protection   \n",
              "74063                           r20 halogen light   \n",
              "74064     schlage lock siena half dummy knob with   \n",
              "74065                           zen garden  decor   \n",
              "74066                fine sheer curtain 63 inches   \n",
              "\n",
              "                                                                                                  product_title  \\\n",
              "0                                                                             Simpson Strong-Tie 12-Gauge Angle   \n",
              "1                                                                             Simpson Strong-Tie 12-Gauge Angle   \n",
              "2                               BEHR Premium Textured DeckOver 1-gal. #SC-141 Tugboat Wood and Concrete Coating   \n",
              "3                                Delta Vero 1-Handle Shower Only Faucet Trim Kit in Chrome (Valve Not Included)   \n",
              "4                                Delta Vero 1-Handle Shower Only Faucet Trim Kit in Chrome (Valve Not Included)   \n",
              "...                                                                                                         ...   \n",
              "74061                            Schluter Rondec Stainless Steel 3/8 in. x 1 in. Metal 90 Degree Outside Corner   \n",
              "74063                                                    Philips 40-Watt Halogen R20 Flood Light Bulb (12-Pack)   \n",
              "74064                               Schlage Camelot In-Active Aged Bronze Handleset with Left-Hand Accent Lever   \n",
              "74065                                                      Plastec 11 in. x 24 in. Rose Garden Wall Decor Steel   \n",
              "74066  LICHTENBERG Pool Blue No. 918 Millennial Ryan Heathered Texture Sheer Curtain Panel, 40 in. W x 63 in. L   \n",
              "\n",
              "                                                                                                                                                                                           product_description  \\\n",
              "0      Not only do angles make joints stronger, they also provide more consistent, straight corners. Simpson Strong-Tie offers a wide variety of angles in various sizes and thicknesses to handle light-du...   \n",
              "1      Not only do angles make joints stronger, they also provide more consistent, straight corners. Simpson Strong-Tie offers a wide variety of angles in various sizes and thicknesses to handle light-du...   \n",
              "2      BEHR Premium Textured DECKOVER is an innovative solid color coating. It will bring your old, weathered wood or concrete back to life. The advanced 100% acrylic resin formula creates a durable coat...   \n",
              "3      Update your bathroom with the Delta Vero Single-Handle Shower Faucet Trim Kit in Chrome. It has a sleek, modern and minimalistic aesthetic. The MultiChoice universal valve keeps the water temperat...   \n",
              "4      Update your bathroom with the Delta Vero Single-Handle Shower Faucet Trim Kit in Chrome. It has a sleek, modern and minimalistic aesthetic. The MultiChoice universal valve keeps the water temperat...   \n",
              "...                                                                                                                                                                                                        ...   \n",
              "74061  The EV/RO100E is a prefabricated corner for Rondec that eliminates the need for a mitered edge. It is used to create 90 outside corners. The EV/RO100E corner is designed for use with the RO100E pr...   \n",
              "74063  Philips Energy Advantage lamps use less energy while maintaining bright, crisp, white halogen light. Available in traditional lamp shapes to fit most incandescent fixtures. Halogen energy savers w...   \n",
              "74064  The Schlage Camelot In-Active Aged Bronze Handleset with Left-Hand Accent Lever is perfect for use as a decorative door pull on a pair of non-latching doors. The interior Accent lever is widely po...   \n",
              "74065  The Rose Garden is inspired by the popular early 20th century Scottish design motif. Dark Bronze powder coated finish on steel makes it suitable for indoor or outdoor use.Indoor and outdoor useFin...   \n",
              "74066  No. 918 Millennial Ryan heathered texture semi-sheer curtain is a casual solid that adds freshness and a finishing touch to any decor setting. Enhances privacy while allowing light to gently filte...   \n",
              "\n",
              "       relevance  \n",
              "0           3.00  \n",
              "1           2.50  \n",
              "2           3.00  \n",
              "3           2.33  \n",
              "4           2.67  \n",
              "...          ...  \n",
              "74061       3.00  \n",
              "74063       3.00  \n",
              "74064       2.33  \n",
              "74065       3.00  \n",
              "74066       2.33  \n",
              "\n",
              "[71962 rows x 4 columns]"
            ]
          },
          "metadata": {
            "tags": []
          },
          "execution_count": 64
        }
      ]
    },
    {
      "cell_type": "code",
      "metadata": {
        "colab": {
          "base_uri": "https://localhost:8080/"
        },
        "id": "jBnN85g8ycy1",
        "outputId": "0ad9f6a4-ecc0-40cc-ae92-9366de50197d"
      },
      "source": [
        "train[\"relevance\"].min(), train[\"relevance\"].max()"
      ],
      "execution_count": null,
      "outputs": [
        {
          "output_type": "execute_result",
          "data": {
            "text/plain": [
              "(1.0, 3.0)"
            ]
          },
          "metadata": {
            "tags": []
          },
          "execution_count": 25
        }
      ]
    },
    {
      "cell_type": "markdown",
      "metadata": {
        "id": "uR_hBaeNni4H"
      },
      "source": [
        "### BERT EMBEDDINGS"
      ]
    },
    {
      "cell_type": "code",
      "metadata": {
        "id": "TlFbG5N-ycy2"
      },
      "source": [
        "def bert_encode(tokenizer, bert_layer, texts, max_len, mode=\"pooled\"):\n",
        "\n",
        "    def convert_tokens(tokenizer, text, max_len):\n",
        "\n",
        "        tokens = tokenizer.convert_tokens_to_ids(tokenizer.tokenize(text))\n",
        "\n",
        "        if len(tokens) <= max_len - 2:\n",
        "            tokens.append(tokenizer.convert_tokens_to_ids([\"[SEP]\"])[0])\n",
        "        else:\n",
        "            tokens = tokens[:max_len - 2] + tokenizer.convert_tokens_to_ids([\"[SEP]\"])\n",
        "\n",
        "        return tokens\n",
        "    \n",
        "    sentence = tf.ragged.constant([convert_tokens(tokenizer, i, max_len) for i in texts])\n",
        "    cls_token = [tokenizer.convert_tokens_to_ids([\"[CLS]\"])] * len(texts)\n",
        "    input_word = tf.concat([cls_token, sentence], axis=-1)\n",
        "\n",
        "    mask = tf.ones_like(input_word).to_tensor()\n",
        "    type_id = tf.zeros_like(input_word).to_tensor()\n",
        "\n",
        "    inputs = {\n",
        "    'input_word_ids': input_word.to_tensor(),\n",
        "    'input_mask': mask,\n",
        "    'input_type_ids': type_id}\n",
        "\n",
        "    bert_embeddings = bert_layer(inputs)\n",
        "\n",
        "    if mode == \"pooled\":\n",
        "        return bert_embeddings[\"pooled_output\"]\n",
        "\n",
        "    else:\n",
        "        return bert_embeddings[\"sequence_output\"]"
      ],
      "execution_count": null,
      "outputs": []
    },
    {
      "cell_type": "code",
      "metadata": {
        "id": "Q0V8rBBIycy3"
      },
      "source": [
        "# bert_layer = hub.KerasLayer(\"https://tfhub.dev/tensorflow/bert_en_uncased_L-12_H-768_A-12/3\", trainable=False)\n",
        "# bert_tokenizer = bert.bert_tokenization.FullTokenizer\n",
        "# vocabulary_file = bert_layer.resolved_object.vocab_file.asset_path.numpy()\n",
        "# to_lower_case = bert_layer.resolved_object.do_lower_case.numpy()\n",
        "# tokenizer = bert_tokenizer(vocabulary_file, to_lower_case)"
      ],
      "execution_count": null,
      "outputs": []
    },
    {
      "cell_type": "code",
      "metadata": {
        "id": "KGJRJ2prycy4",
        "scrolled": true
      },
      "source": [
        "# bert_embeddings = bert_encode(tokenizer, bert_layer, train[\"product_description\"].tolist()[:5], max_len=300, mode=\"pooled\")"
      ],
      "execution_count": null,
      "outputs": []
    },
    {
      "cell_type": "code",
      "metadata": {
        "id": "owu0QcN8bZfN"
      },
      "source": [
        ""
      ],
      "execution_count": null,
      "outputs": []
    },
    {
      "cell_type": "code",
      "metadata": {
        "id": "AkbaWcAOeysK"
      },
      "source": [
        ""
      ],
      "execution_count": null,
      "outputs": []
    },
    {
      "cell_type": "code",
      "metadata": {
        "id": "MLhRfK8we9X_"
      },
      "source": [
        ""
      ],
      "execution_count": null,
      "outputs": []
    },
    {
      "cell_type": "code",
      "metadata": {
        "id": "7SX9sqdxfYms"
      },
      "source": [
        ""
      ],
      "execution_count": null,
      "outputs": []
    },
    {
      "cell_type": "code",
      "metadata": {
        "id": "t_i8EuqmgsAO"
      },
      "source": [
        ""
      ],
      "execution_count": null,
      "outputs": []
    }
  ]
}