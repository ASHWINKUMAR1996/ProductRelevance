{
 "cells": [
  {
   "cell_type": "code",
   "execution_count": null,
   "metadata": {},
   "outputs": [],
   "source": [
    "# !apt-get update\n",
    "# !apt-get install openjdk-8-jdk-headless -qq > /dev/null\n",
    "! wget https://downloads.apache.org/spark/spark-3.1.1/spark-3.1.1-bin-hadoop2.7.tgz\n",
    "! tar -xf spark-3.1.1-bin-hadoop2.7.tgz\n",
    "! mv spark-3.1.1-bin-hadoop2.7 spark\n",
    "! pip install -q findspark"
   ]
  },
  {
   "cell_type": "code",
   "execution_count": 1,
   "metadata": {
    "ExecuteTime": {
     "end_time": "2021-05-17T15:50:05.708800Z",
     "start_time": "2021-05-17T15:49:45.860261Z"
    },
    "executionInfo": {
     "elapsed": 39678,
     "status": "ok",
     "timestamp": 1618915165534,
     "user": {
      "displayName": "Ashwinkumar Jayagopi",
      "photoUrl": "https://lh3.googleusercontent.com/a-/AOh14Gh47yVJAWTH0wh5QyDkeo1faM5evRToGXV4zKYa=s64",
      "userId": "16729666215456848120"
     },
     "user_tz": -330
    },
    "id": "vlQUW_6TycyS",
    "scrolled": false
   },
   "outputs": [],
   "source": [
    "import os\n",
    "# os.environ[\"JAVA_HOME\"] = \"/usr/lib/jvm/java-8-openjdk-amd64\"\n",
    "# os.environ[\"SPARK_HOME\"] = \"/content/spark\"\n",
    "# import findspark\n",
    "# findspark.init()\n",
    "\n",
    "import sys\n",
    "import re\n",
    "import string\n",
    "import warnings\n",
    "import numpy as np\n",
    "import pandas as pd\n",
    "import seaborn as sns\n",
    "import bert\n",
    "import nltk\n",
    "import PIL\n",
    "import datetime\n",
    "from collections import Counter\n",
    "from operator import itemgetter\n",
    "from Levenshtein import ratio\n",
    "from nltk.corpus import stopwords\n",
    "import transformers\n",
    "import tensorflow as tf\n",
    "import tensorflow_hub as hub\n",
    "import matplotlib.pyplot as plt\n",
    "from wordcloud import WordCloud\n",
    "\n",
    "stop = stopwords.words(\"english\")\n",
    "warnings.filterwarnings(\"ignore\")\n",
    "pd.set_option(\"display.max_colwidth\", 200)\n",
    "pd.set_option('display.max_columns', None)\n",
    "\n",
    "import spacy\n",
    "nlp = spacy.load(\"en_core_web_sm\")"
   ]
  },
  {
   "cell_type": "code",
   "execution_count": 28,
   "metadata": {
    "ExecuteTime": {
     "end_time": "2021-05-09T08:55:43.939658Z",
     "start_time": "2021-05-09T08:55:40.936429Z"
    },
    "colab": {
     "base_uri": "https://localhost:8080/"
    },
    "executionInfo": {
     "elapsed": 14150,
     "status": "ok",
     "timestamp": 1618906894962,
     "user": {
      "displayName": "Ashwinkumar Jayagopi",
      "photoUrl": "https://lh3.googleusercontent.com/a-/AOh14Gh47yVJAWTH0wh5QyDkeo1faM5evRToGXV4zKYa=s64",
      "userId": "16729666215456848120"
     },
     "user_tz": -330
    },
    "id": "McaTbalQycym",
    "outputId": "c40c92eb-8366-4c03-b000-23c75b201fcf",
    "scrolled": true
   },
   "outputs": [
    {
     "data": {
      "text/plain": [
       "((74067, 5), (166693, 4), (124428, 2), (2044803, 3))"
      ]
     },
     "execution_count": 28,
     "metadata": {},
     "output_type": "execute_result"
    }
   ],
   "source": [
    "# read data from files\n",
    "train = pd.read_csv(\"/home/ashwinkumar/Projects/home_depot_product_search_relevance/train.csv\", encoding=\"ISO-8859-1\")\n",
    "test = pd.read_csv(\"/home/ashwinkumar/Projects/home_depot_product_search_relevance/test.csv\", encoding=\"ISO-8859-1\")\n",
    "description = pd.read_csv(\"/home/ashwinkumar/Projects/home_depot_product_search_relevance/product_descriptions.csv\", encoding=\"ISO-8859-1\")\n",
    "attributes = pd.read_csv(\"/home/ashwinkumar/Projects/home_depot_product_search_relevance/attributes.csv\", encoding=\"ISO-8859-1\")\n",
    "train.shape, test.shape, description.shape, attributes.shape"
   ]
  },
  {
   "cell_type": "code",
   "execution_count": 24,
   "metadata": {
    "ExecuteTime": {
     "end_time": "2021-05-09T08:54:21.385220Z",
     "start_time": "2021-05-09T08:54:21.014969Z"
    }
   },
   "outputs": [],
   "source": [
    "from nltk.tokenize import word_tokenize\n",
    "import gensim"
   ]
  },
  {
   "cell_type": "code",
   "execution_count": 118,
   "metadata": {
    "ExecuteTime": {
     "end_time": "2021-05-10T05:11:53.208549Z",
     "start_time": "2021-05-10T05:11:53.062381Z"
    },
    "scrolled": true
   },
   "outputs": [],
   "source": [
    "description_new = description[\"product_description\"].iloc[:50].map(preprocess_text)\n",
    "description_new = description_new.apply(lambda x: \" \".join([i for i in x.split() if i not in stop]))\n",
    "description_new = description_new.apply(word_tokenize)"
   ]
  },
  {
   "cell_type": "code",
   "execution_count": 119,
   "metadata": {
    "ExecuteTime": {
     "end_time": "2021-05-10T05:11:53.257268Z",
     "start_time": "2021-05-10T05:11:53.211108Z"
    },
    "scrolled": true
   },
   "outputs": [
    {
     "data": {
      "text/plain": [
       "0     [angles, make, joints, stronger, also, provide, consistent, straight, corners, simpson, strong, tie, offers, wide, variety, angles, various, sizes, thicknesses, handle, light, duty, jobs, projects...\n",
       "1     [behr, premium, textured, deckover, innovative, solid, color, coating, bring, old, weathered, wood, concrete, back, life, advanced, 100, acrylic, resin, formula, creates, durable, coating, tired, ...\n",
       "2     [classic, architecture, meets, contemporary, design, ensemble, curve, series, made, solid, vikrell, material, blending, sleek, clean, lines, gentle, curves, corner, shelving, perfect, storing, bat...\n",
       "3     [grape, solar, 265watt, ., polycrystalline, pv, solar, panel, bonus, pack, bundles, 4, grape, solar, 265watt, ., solar, panels, extra, savings, grape, solar, 265watt, ., polycrystalline, pv, solar...\n",
       "4     [update, bathroom, delta, vero, single, handle, shower, faucet, trim, kit, chrome, sleek, modern, minimalistic, aesthetic, multichoice, universal, valve, keeps, water, temperature, within, 3deg, ....\n",
       "5     [achieving, delicious, results, almost, effortless, whirlpool, range, microwave, hood, convection, cooking, 19, cu, ft, capacity, room, prepare, multiple, dishes, micro, manage, cooking, process, ...\n",
       "6     [quantum, adjustable, 2, light, led, black, emergency, lighting, unit, lithonia, lighting, provides, minimum, 90, minutes, illumination, upon, loss, power, adjust, direction, light, using, unique,...\n",
       "7     [teks, 10, x, 11, 2in, ., zinc, plated, steel, washer, head, hex, self, tapping, drill, point, screws, 90, pack, helps, fasten, metal, metal, steel, screw, ideal, use, metal, thicker, gauge, drill...\n",
       "8     [get, house, fara, 34x3in, ., x, 8ft, ., mdf, fluted, casing, add, elegant, look, room, pre, primed, surface, free, knots, ready, painted, match, decor, cuts, installs, easily, quality, look, fini...\n",
       "9     [valley, view, industries, metal, stakes, 4, pack, 9in, ., galvanized, steel, stakes, use, valley, view, lawn, edgings, brick, paver, edgings, utility, stakes, also, used, many, purposes, recommen...\n",
       "10    [recycler, 22in, ., personal, pace, variable, speed, self, propelled, gas, lawn, mower, briggs, stratton, engine, homeowners, seeking, lawn, mower, high, quality, user, friendly, design, excellent...\n",
       "11    [96in, ., wide, caramel, simple, weave, rollup, bamboo, shade, adds, unique, casual, style, room, replace, white, window, blinds, versatile, natural, shade, add, warm, comforting, tones, decor, co...\n",
       "12    [insinkerator, sinktop, switch, single, outlet, insinkerator, disposers, stylish, alternative, wall, switch, switch, air, activated, mounts, easily, sink, countertop, ideal, island, installations,...\n",
       "13    [rubbermaid, 1, step, folding, plastic, step, stool, perfect, tool, need, extra, height, kitchen, bathroom, office, garage, folding, stool, features, solid, one, piece, platform, top, step, making...\n",
       "14    [backyard, x, scapes, inc, uses, finest, bamboo, canes, anji, mountain, located, china, manufacturer, bamboo, fencing, bamboo, fencing, goes, rigorous, process, ensure, customers, receiving, quali...\n",
       "15    [make, grilling, great, handsome, functional, grill, gazebo, grill, gazebo, great, gift, anyone, loves, grill, included, providing, shade, protection, harmful, uv, rays, rain, debris, grill, gazeb...\n",
       "16    [md, building, products, 36x36in, ., x, 150in, ., aluminum, cloverleaf, natural, sheet, mill, finish, lightweight, strong, rust, resistant, making, suitable, variety, home, repair, projects, easy,...\n",
       "17    [classic, plastic, sprinkler, head, fits, jw822gal, ., watering, cans, creating, gentle, shower, flowers, make, plastic, size, 325in, ., diameter, x, 275in, ., tallthreaded, sprinkler, head, easil...\n",
       "18    [house, fara, 8, linear, ft, primed, mdf, overlapping, wainscot, paneling, help, create, 8, linear, ft, section, wainscot, chair, rail, base, moulding, paint, easy, install, primed, paneling, comp...\n",
       "19    [unique, led, multi, color, sticks, sure, add, many, locations, within, home, flexibility, linkable, gives, many, options, particularly, cabinet, use, convenient, three, pack, sticks, great, led, ...\n",
       "20    [installed, parks, backyards, across, globe, rain, bird, 1800, series, 1, selling, commercial, grade, pop, sprinkler, world, chosen, reliability, heavy, duty, materials, versatility, 1800, series,...\n",
       "21    [samsung, 42, cu, ft, front, load, washer, steam, white, high, efficiency, energy, star, cee, tier, 3, rated, washer, equipped, vibration, reduction, technology, cleans, toughest, stains, capacity...\n",
       "22    [quikrete, 80lb, ., crack, resistant, concrete, designed, significantly, reduce, amount, cracking, caused, drying, shrinkage, concrete, ideal, driveways, walkways, floors, sidewalks, patios, speci...\n",
       "23    [smartphones, refrigerators, everything, gas, free, 1250watt, ., generator, situation, silent, safe, easy, use, indoors, powerful, enough, back, critical, appliances, refrigerators, freezers, well...\n",
       "24    [save, back, make, moving, easier, telescopic, furniture, dolly, easily, adjust, sturdy, stainless, steel, bars, fit, larger, furniture, rubber, swivel, wheels, make, moving, large, heavy, objects...\n",
       "25    [10x10ft, ., 100, sq, ft, yorkstone, patio, uniquely, designed, basketweave, pattern, add, beautiful, addition, backyard, get, expensive, natural, stone, look, fraction, price, entire, 10x10ft, .,...\n",
       "26    [ultratouch, 48in, ., x, 24ft, ., radiant, barrier, easy, use, install, made, recycled, natural, fibers, radiant, barrier, provides, excellent, thermal, acoustical, insulation, reflecting, 97, rad...\n",
       "27    [reed, fencing, convenient, cost, effective, way, add, texture, dynamic, aesthetic, home, garden, fencing, constructed, fresh, water, reed, grows, abundantly, along, river, banks, wetlands, estuar...\n",
       "28    [achieving, vintage, time, worn, look, simple, start, right, paint, americana, decorchalky, finish, paint, creating, beautiful, home, decor, furniture, pieces, require, skills, hours, training, ma...\n",
       "29    [white, designer, shelf, brackets, offer, stylish, alternative, typical, shelf, brackets, feature, seamless, white, vinyl, cover, placed, bracket, bases, hide, hardware, provide, clean, simple, lo...\n",
       "30    [mosser, lee, 5lb, ., assorted, polished, stone, makes, easy, add, attractive, look, container, plants, covering, soil, decorative, stones, stones, help, make, magnificent, displays, water, garden...\n",
       "31    [norskwall, nsnw4pk, panel, kit, innovative, modular, system, allows, users, add, space, garage, wall, need, norskwall, panels, patented, slatwall, kwik, connect, feature, allows, panel, quickly, ...\n",
       "32    [easy, assemble, decorative, wire, chrome, finish, commercial, shelving, unit, hdx, provides, storage, space, room, purpose, including, commercial, industrial, residential, use, 6, tier, shelving,...\n",
       "33    [use, marshalltown, masonry, brush, wide, variety, tasks, including, concrete, cement, masonry, needs, white, tampico, fiber, bristles, set, hardwood, block, bristles, made, white, tampico, fiberb...\n",
       "34    [firstime, champagne, essential, wall, clock, perfect, traditional, timepiece, wall, home, classically, modern, dominating, home, decor, bring, timeless, wall, clock, home, today, champagne, plast...\n",
       "35    [12in, ., single, track, bracket, rubbermaid, mounts, single, track, uprights, moved, suit, unique, storage, display, needs, coated, durable, epoxy, paint, bracket, smooth, finish, resistant, chip...\n",
       "36    [husky, 9, pocket, maintenance, pouch, multiple, pockets, loops, hold, tools, accessories, durable, little, pouch, fit, comfortably, 2in, ., wide, work, belts, ideal, small, projects, around, home...\n",
       "37    [ridgid, presents, x418volt, ., 12in, ., impact, wrench, console, item, console, tools, option, add, existing, kits, create, compact, lightweight, cordless, tool, delivers, 325ft, ., lbs, torque, ...\n",
       "38    [emberglow, vent, free, gas, stove, helps, add, warmth, ambiance, home, stove, heat, 1000, sq, ft, space, features, thermostat, control, easy, temperature, maintenance, stove, oxygen, depletion, s...\n",
       "39    [exceptional, variety, different, styles, veranda, pro, series, vinyl, privacy, fence, kit, perfect, pro, yourselfer, vinyl, fence, offers, perfect, combination, high, quality, low, maintenance, l...\n",
       "40    [12in, ., led, silver, cabinet, light, 2, pack, offers, energy, efficient, cabinet, lighting, option, designed, illuminated, kitchen, countertops, work, surfaces, high, quality, low, profile, hous...\n",
       "41    [update, look, bathroom, help, cadet, 3, flowise, tools, 2, piece, high, efficiency, round, front, toilet, bone, toilet, offers, watersense, certified, design, uses, 128, gpf, help, conserve, wate...\n",
       "42    [quikrete, 50lb, ., non, shrink, precision, grout, high, strength, non, metallic, non, shrink, grout, designed, variety, grouting, anchoring, applications, mixed, plastic, flowable, fluid, consist...\n",
       "43    [create, fixture, anywhere, westinghouse, lighting, 4x8in, ., white, clip, shade, durable, white, acrylic, dome, goes, well, decors, filters, soft, light, shade, features, small, brass, finial, bo...\n",
       "44    [grayson, collection, thomasville, brings, customized, hardware, solution, kitchen, bath, rooms, throughout, home, shown, oil, rubbed, bronze, finish, additional, pieces, murphy, collection, avail...\n",
       "45    [hdx, 6ft, ., long, heavy, duty, steel, green, painted, post, perfect, supporting, varying, height, weight, fences, farm, residential, applications, post, manufactured, recycled, railroad, steel, ...\n",
       "46    [expanded, sheet, metal, altered, shape, cut, proper, equipment, commonly, used, small, metal, repair, duct, work, patching, flashing, expanded, angle, comes, several, different, size, mesh, openi...\n",
       "47    [offering, ultimate, versatility, werner, 13ft, ., aluminum, telescoping, multi, position, ladder, set, four, different, positions, accommodate, range, jobs, around, home, use, step, ladder, stair...\n",
       "48    [henry, 587, durabrite, white, elastomeric, roof, coating, premium, high, solids, formula, offering, better, weather, protection, solar, reflectivity, longevity, economy, grade, reflective, roof, ...\n",
       "49    [sit, back, relax, comfort, style, beverly, patio, dining, armchairs, bare, cushions, 2, pack, hampton, bay, perfect, deck, porch, patio, sunroom, chairs, made, powder, coated, sturdy, durable, ru...\n",
       "Name: product_description, dtype: object"
      ]
     },
     "execution_count": 119,
     "metadata": {},
     "output_type": "execute_result"
    }
   ],
   "source": [
    "description_new"
   ]
  },
  {
   "cell_type": "code",
   "execution_count": 120,
   "metadata": {
    "ExecuteTime": {
     "end_time": "2021-05-10T05:11:53.336184Z",
     "start_time": "2021-05-10T05:11:53.259842Z"
    },
    "scrolled": true
   },
   "outputs": [],
   "source": [
    "dictionary = gensim.corpora.Dictionary(description_new)\n",
    "dictionary.filter_extremes(no_below=5, no_above=0.5, keep_n=100000)\n",
    "bow_corpus = [dictionary.doc2bow(doc) for doc in description_new]"
   ]
  },
  {
   "cell_type": "code",
   "execution_count": 121,
   "metadata": {
    "ExecuteTime": {
     "end_time": "2021-05-10T05:12:04.316568Z",
     "start_time": "2021-05-10T05:12:03.171985Z"
    }
   },
   "outputs": [],
   "source": [
    "lda_model = gensim.models.LdaMulticore(bow_corpus, num_topics=2, id2word=dictionary, passes=10, workers=2)"
   ]
  },
  {
   "cell_type": "code",
   "execution_count": 122,
   "metadata": {
    "ExecuteTime": {
     "end_time": "2021-05-10T05:12:04.329694Z",
     "start_time": "2021-05-10T05:12:04.321882Z"
    }
   },
   "outputs": [
    {
     "name": "stdout",
     "output_type": "stream",
     "text": [
      "Topic: 0 \n",
      "Words: 0.032*\"home\" + 0.023*\"look\" + 0.022*\"easily\" + 0.021*\"paint\" + 0.020*\"decor\" + 0.020*\"wall\" + 0.019*\"great\" + 0.018*\"see\" + 0.018*\"finish\" + 0.018*\"includes\"\n",
      "<class 'str'>\n",
      "Topic: 1 \n",
      "Words: 0.032*\"steel\" + 0.028*\"easy\" + 0.021*\"design\" + 0.020*\"light\" + 0.019*\"storage\" + 0.018*\"high\" + 0.018*\"product\" + 0.018*\"natural\" + 0.016*\"duty\" + 0.014*\"may\"\n",
      "<class 'str'>\n"
     ]
    }
   ],
   "source": [
    "for idx, topic in lda_model.print_topics(-1):\n",
    "    print('Topic: {} \\nWords: {}'.format(idx, topic))\n",
    "    print(type(topic))"
   ]
  },
  {
   "cell_type": "code",
   "execution_count": 123,
   "metadata": {
    "ExecuteTime": {
     "end_time": "2021-05-10T05:12:04.420476Z",
     "start_time": "2021-05-10T05:12:04.332497Z"
    }
   },
   "outputs": [
    {
     "data": {
      "text/plain": [
       "[(0, 0.09440991), (1, 0.90559006)]"
      ]
     },
     "execution_count": 123,
     "metadata": {},
     "output_type": "execute_result"
    }
   ],
   "source": [
    "lda_model[bow_corpus[0]]"
   ]
  },
  {
   "cell_type": "code",
   "execution_count": 124,
   "metadata": {
    "ExecuteTime": {
     "end_time": "2021-05-10T05:12:04.531805Z",
     "start_time": "2021-05-10T05:12:04.423783Z"
    }
   },
   "outputs": [
    {
     "name": "stdout",
     "output_type": "stream",
     "text": [
      "\n",
      "Score: 0.9056009650230408\t \n",
      "Topic: 0.032*\"steel\" + 0.028*\"easy\" + 0.021*\"design\" + 0.020*\"light\" + 0.019*\"storage\" + 0.018*\"high\" + 0.018*\"product\" + 0.018*\"natural\" + 0.016*\"duty\" + 0.014*\"may\"\n",
      "\n",
      "Score: 0.09439904987812042\t \n",
      "Topic: 0.032*\"home\" + 0.023*\"look\" + 0.022*\"easily\" + 0.021*\"paint\" + 0.020*\"decor\" + 0.020*\"wall\" + 0.019*\"great\" + 0.018*\"see\" + 0.018*\"finish\" + 0.018*\"includes\"\n"
     ]
    }
   ],
   "source": [
    "for index, score in sorted(lda_model[bow_corpus[0]], key=lambda tup: -1*tup[1]):\n",
    "    print(\"\\nScore: {}\\t \\nTopic: {}\".format(score, lda_model.print_topic(index, 10)))"
   ]
  },
  {
   "cell_type": "code",
   "execution_count": 68,
   "metadata": {
    "ExecuteTime": {
     "end_time": "2021-05-09T15:28:15.889647Z",
     "start_time": "2021-05-09T15:28:15.886172Z"
    }
   },
   "outputs": [],
   "source": [
    "from sklearn.decomposition import LatentDirichletAllocation\n",
    "from sklearn.feature_extraction.text import CountVectorizer"
   ]
  },
  {
   "cell_type": "code",
   "execution_count": 105,
   "metadata": {
    "ExecuteTime": {
     "end_time": "2021-05-10T05:00:03.802195Z",
     "start_time": "2021-05-10T05:00:03.785928Z"
    }
   },
   "outputs": [
    {
     "data": {
      "text/plain": [
       "(50, 2119)"
      ]
     },
     "execution_count": 105,
     "metadata": {},
     "output_type": "execute_result"
    }
   ],
   "source": [
    "vec = CountVectorizer()\n",
    "bow_sklearn = vec.fit_transform(description_new).toarray()\n",
    "features = vec.get_feature_names()\n",
    "bow_sklearn.shape"
   ]
  },
  {
   "cell_type": "code",
   "execution_count": 106,
   "metadata": {
    "ExecuteTime": {
     "end_time": "2021-05-10T05:00:05.551323Z",
     "start_time": "2021-05-10T05:00:05.337953Z"
    }
   },
   "outputs": [
    {
     "data": {
      "text/plain": [
       "LatentDirichletAllocation(n_components=2)"
      ]
     },
     "execution_count": 106,
     "metadata": {},
     "output_type": "execute_result"
    }
   ],
   "source": [
    "lda = LatentDirichletAllocation(n_components=2)\n",
    "lda.fit(bow_sklearn)"
   ]
  },
  {
   "cell_type": "code",
   "execution_count": 108,
   "metadata": {
    "ExecuteTime": {
     "end_time": "2021-05-10T05:01:38.622416Z",
     "start_time": "2021-05-10T05:01:38.614301Z"
    }
   },
   "outputs": [
    {
     "data": {
      "text/plain": [
       "'patio full upgrade standard plastic spotsheavy uprights pockets specifications used'"
      ]
     },
     "execution_count": 108,
     "metadata": {},
     "output_type": "execute_result"
    }
   ],
   "source": [
    "\" \".join([features[i] for i in np.argsort(lda.components_[0][::-1])][:10])"
   ]
  },
  {
   "cell_type": "code",
   "execution_count": 110,
   "metadata": {
    "ExecuteTime": {
     "end_time": "2021-05-10T05:01:56.419036Z",
     "start_time": "2021-05-10T05:01:56.413109Z"
    }
   },
   "outputs": [
    {
     "data": {
      "text/plain": [
       "'assembled blade white durability kit iron integral elsewhere driveways ensure'"
      ]
     },
     "execution_count": 110,
     "metadata": {},
     "output_type": "execute_result"
    }
   ],
   "source": [
    "\" \".join([features[i] for i in np.argsort(lda.components_[1][::-1])][:10])"
   ]
  },
  {
   "cell_type": "code",
   "execution_count": 114,
   "metadata": {
    "ExecuteTime": {
     "end_time": "2021-05-10T05:10:19.639621Z",
     "start_time": "2021-05-10T05:10:19.634605Z"
    }
   },
   "outputs": [
    {
     "data": {
      "text/plain": [
       "0    angles make joints stronger also provide consistent straight corners simpson strong tie offers wide variety angles various sizes thicknesses handle light duty jobs projects structural connection n...\n",
       "1    behr premium textured deckover innovative solid color coating bring old weathered wood concrete back life advanced 100 acrylic resin formula creates durable coating tired worn deck rejuvenating wh...\n",
       "2    classic architecture meets contemporary design ensemble curve series made solid vikrell material blending sleek clean lines gentle curves corner shelving perfect storing bath accessories modular d...\n",
       "Name: product_description, dtype: object"
      ]
     },
     "execution_count": 114,
     "metadata": {},
     "output_type": "execute_result"
    }
   ],
   "source": [
    "description_new.iloc[:3]"
   ]
  },
  {
   "cell_type": "code",
   "execution_count": 113,
   "metadata": {
    "ExecuteTime": {
     "end_time": "2021-05-10T05:08:33.762433Z",
     "start_time": "2021-05-10T05:08:33.749760Z"
    }
   },
   "outputs": [
    {
     "data": {
      "text/plain": [
       "array([[0.9920559 , 0.0079441 ],\n",
       "       [0.99468837, 0.00531163],\n",
       "       [0.00809738, 0.99190262]])"
      ]
     },
     "execution_count": 113,
     "metadata": {},
     "output_type": "execute_result"
    }
   ],
   "source": [
    "lda.transform(vec.transform(description_new.iloc[:3]))"
   ]
  },
  {
   "cell_type": "code",
   "execution_count": null,
   "metadata": {},
   "outputs": [],
   "source": []
  },
  {
   "cell_type": "code",
   "execution_count": 14,
   "metadata": {
    "ExecuteTime": {
     "end_time": "2021-05-09T08:48:20.109801Z",
     "start_time": "2021-05-09T08:48:20.098545Z"
    },
    "id": "mc16ZR6jIwkT"
   },
   "outputs": [],
   "source": [
    "def preprocess_text(s):\n",
    "\n",
    "    if isinstance(s, str):\n",
    "    \n",
    "        s = s.lower()\n",
    "        s = s.translate(str.maketrans(string.punctuation, ' '*len(string.punctuation), \"\"))\n",
    "        s = re.sub(r\"([0-9])( *)\\.( *)([0-9])\", r\"\\1.\\4\", s)\n",
    "        s = re.sub(r\"([0-9]+)(\\s*)(inches|inch|in)\\.?(\\s*x\\s*)([0-9]+)(\\s*)(inches|inch|in)\\.?\", r\"\\1x\\5in.\", s)\n",
    "        s = re.sub(r\"([0-9]+)( *)(inches|inch|in|')\\.?\", r\"\\1in. \", s)\n",
    "        s = re.sub(r\"([0-9]+)(\\s*)(foot|feet|ft)\\.?(\\s*x\\s*)([0-9]+)(\\s*)(foot|feet|ft)\\.?\", r\"\\1x\\5ft.\", s)\n",
    "        s = re.sub(r\"([0-9]+)( *)(foot|feet|ft|'')\\.?\", r\"\\1ft. \", s)\n",
    "        s = re.sub(r\"([0-9]+)( *)(pounds|pound|lbs|lb)\\.?\", r\"\\1lb. \", s)\n",
    "        s = re.sub(r\"([0-9]+)( *)(square|sq) ?\\.?(feet|foot|ft)\\.?\", r\"\\1sq.ft. \", s)\n",
    "        s = re.sub(r\"([0-9]+)( *)(cubic|cu) ?\\.?(feet|foot|ft)\\.?\", r\"\\1cu.ft. \", s)\n",
    "        s = re.sub(r\"([0-9]+)( *)(gallons|gallon|gal)\\.?\", r\"\\1gal. \", s)\n",
    "        s = re.sub(r\"([0-9]+)( *)(ounces|ounce|oz)\\.?\", r\"\\1oz. \", s)\n",
    "        s = re.sub(r\"([0-9]+)( *)(centimeters|cm)\\.?\", r\"\\1cm. \", s)\n",
    "        s = re.sub(r\"([0-9]+)( *)(milimeters|mm)\\.?\", r\"\\1mm. \", s)\n",
    "        s = s.replace(\"°\",\" degrees \")\n",
    "        s = re.sub(r\"([0-9]+)( *)(degrees|degree)\\.?\", r\"\\1deg. \", s)\n",
    "        s = s.replace(\" v \",\" volts \")\n",
    "        s = re.sub(r\"([0-9]+)( *)(volts|volt)\\.?\", r\"\\1volt. \", s)\n",
    "        s = re.sub(r\"([0-9]+)( *)(watts|watt)\\.?\", r\"\\1watt. \", s)\n",
    "        s = re.sub(r\"([0-9]+)( *)(amperes|ampere|amps|amp)\\.?\", r\"\\1amp. \", s)\n",
    "        s = re.sub(r\"([0-9])( *)\\.( *)([0-9])\", r\"\\1.\\4\", s)\n",
    "        s = re.sub(r'(\\d+[\\s]{1}[\\d]+\\d*)+', lambda x: x.group(1).replace(\" \", \"\"), s)\n",
    "        s = re.sub(r\" +\", r\" \", s)    \n",
    "        return s\n",
    "    else:\n",
    "        return \"null\""
   ]
  },
  {
   "cell_type": "code",
   "execution_count": 4,
   "metadata": {
    "ExecuteTime": {
     "end_time": "2021-05-06T06:09:33.460980Z",
     "start_time": "2021-05-06T06:09:33.198466Z"
    },
    "colab": {
     "base_uri": "https://localhost:8080/",
     "height": 204
    },
    "executionInfo": {
     "elapsed": 1488,
     "status": "ok",
     "timestamp": 1618906991558,
     "user": {
      "displayName": "Ashwinkumar Jayagopi",
      "photoUrl": "https://lh3.googleusercontent.com/a-/AOh14Gh47yVJAWTH0wh5QyDkeo1faM5evRToGXV4zKYa=s64",
      "userId": "16729666215456848120"
     },
     "user_tz": -330
    },
    "id": "e3juk2p6ycyq",
    "outputId": "9e2fe387-6016-4108-b7b5-ca8a468cce4f",
    "scrolled": false
   },
   "outputs": [
    {
     "data": {
      "text/html": [
       "<div>\n",
       "<style scoped>\n",
       "    .dataframe tbody tr th:only-of-type {\n",
       "        vertical-align: middle;\n",
       "    }\n",
       "\n",
       "    .dataframe tbody tr th {\n",
       "        vertical-align: top;\n",
       "    }\n",
       "\n",
       "    .dataframe thead th {\n",
       "        text-align: right;\n",
       "    }\n",
       "</style>\n",
       "<table border=\"1\" class=\"dataframe\">\n",
       "  <thead>\n",
       "    <tr style=\"text-align: right;\">\n",
       "      <th></th>\n",
       "      <th>id</th>\n",
       "      <th>product_uid</th>\n",
       "      <th>product_title</th>\n",
       "      <th>search_term</th>\n",
       "      <th>relevance</th>\n",
       "    </tr>\n",
       "  </thead>\n",
       "  <tbody>\n",
       "    <tr>\n",
       "      <th>0</th>\n",
       "      <td>2</td>\n",
       "      <td>100001</td>\n",
       "      <td>Simpson Strong-Tie 12-Gauge Angle</td>\n",
       "      <td>angle bracket</td>\n",
       "      <td>3.00</td>\n",
       "    </tr>\n",
       "    <tr>\n",
       "      <th>1</th>\n",
       "      <td>3</td>\n",
       "      <td>100001</td>\n",
       "      <td>Simpson Strong-Tie 12-Gauge Angle</td>\n",
       "      <td>l bracket</td>\n",
       "      <td>2.50</td>\n",
       "    </tr>\n",
       "    <tr>\n",
       "      <th>2</th>\n",
       "      <td>9</td>\n",
       "      <td>100002</td>\n",
       "      <td>BEHR Premium Textured DeckOver 1-gal. #SC-141 Tugboat Wood and Concrete Coating</td>\n",
       "      <td>deck over</td>\n",
       "      <td>3.00</td>\n",
       "    </tr>\n",
       "    <tr>\n",
       "      <th>3</th>\n",
       "      <td>16</td>\n",
       "      <td>100005</td>\n",
       "      <td>Delta Vero 1-Handle Shower Only Faucet Trim Kit in Chrome (Valve Not Included)</td>\n",
       "      <td>rain shower head</td>\n",
       "      <td>2.33</td>\n",
       "    </tr>\n",
       "    <tr>\n",
       "      <th>4</th>\n",
       "      <td>17</td>\n",
       "      <td>100005</td>\n",
       "      <td>Delta Vero 1-Handle Shower Only Faucet Trim Kit in Chrome (Valve Not Included)</td>\n",
       "      <td>shower only faucet</td>\n",
       "      <td>2.67</td>\n",
       "    </tr>\n",
       "  </tbody>\n",
       "</table>\n",
       "</div>"
      ],
      "text/plain": [
       "   id  product_uid  \\\n",
       "0   2       100001   \n",
       "1   3       100001   \n",
       "2   9       100002   \n",
       "3  16       100005   \n",
       "4  17       100005   \n",
       "\n",
       "                                                                     product_title  \\\n",
       "0                                                Simpson Strong-Tie 12-Gauge Angle   \n",
       "1                                                Simpson Strong-Tie 12-Gauge Angle   \n",
       "2  BEHR Premium Textured DeckOver 1-gal. #SC-141 Tugboat Wood and Concrete Coating   \n",
       "3   Delta Vero 1-Handle Shower Only Faucet Trim Kit in Chrome (Valve Not Included)   \n",
       "4   Delta Vero 1-Handle Shower Only Faucet Trim Kit in Chrome (Valve Not Included)   \n",
       "\n",
       "          search_term  relevance  \n",
       "0       angle bracket       3.00  \n",
       "1           l bracket       2.50  \n",
       "2           deck over       3.00  \n",
       "3    rain shower head       2.33  \n",
       "4  shower only faucet       2.67  "
      ]
     },
     "execution_count": 4,
     "metadata": {},
     "output_type": "execute_result"
    }
   ],
   "source": [
    "train.head()"
   ]
  },
  {
   "cell_type": "code",
   "execution_count": 5,
   "metadata": {
    "ExecuteTime": {
     "end_time": "2021-05-06T06:09:33.487129Z",
     "start_time": "2021-05-06T06:09:33.463681Z"
    },
    "colab": {
     "base_uri": "https://localhost:8080/",
     "height": 289
    },
    "executionInfo": {
     "elapsed": 1476,
     "status": "ok",
     "timestamp": 1618906991560,
     "user": {
      "displayName": "Ashwinkumar Jayagopi",
      "photoUrl": "https://lh3.googleusercontent.com/a-/AOh14Gh47yVJAWTH0wh5QyDkeo1faM5evRToGXV4zKYa=s64",
      "userId": "16729666215456848120"
     },
     "user_tz": -330
    },
    "id": "QmGde9ilycyr",
    "outputId": "a00bbe06-d1da-45da-fc5b-34bd201d9925",
    "scrolled": true
   },
   "outputs": [
    {
     "data": {
      "text/html": [
       "<div>\n",
       "<style scoped>\n",
       "    .dataframe tbody tr th:only-of-type {\n",
       "        vertical-align: middle;\n",
       "    }\n",
       "\n",
       "    .dataframe tbody tr th {\n",
       "        vertical-align: top;\n",
       "    }\n",
       "\n",
       "    .dataframe thead th {\n",
       "        text-align: right;\n",
       "    }\n",
       "</style>\n",
       "<table border=\"1\" class=\"dataframe\">\n",
       "  <thead>\n",
       "    <tr style=\"text-align: right;\">\n",
       "      <th></th>\n",
       "      <th>product_uid</th>\n",
       "      <th>product_description</th>\n",
       "    </tr>\n",
       "  </thead>\n",
       "  <tbody>\n",
       "    <tr>\n",
       "      <th>0</th>\n",
       "      <td>100001</td>\n",
       "      <td>Not only do angles make joints stronger, they also provide more consistent, straight corners. Simpson Strong-Tie offers a wide variety of angles in various sizes and thicknesses to handle light-du...</td>\n",
       "    </tr>\n",
       "    <tr>\n",
       "      <th>1</th>\n",
       "      <td>100002</td>\n",
       "      <td>BEHR Premium Textured DECKOVER is an innovative solid color coating. It will bring your old, weathered wood or concrete back to life. The advanced 100% acrylic resin formula creates a durable coat...</td>\n",
       "    </tr>\n",
       "    <tr>\n",
       "      <th>2</th>\n",
       "      <td>100003</td>\n",
       "      <td>Classic architecture meets contemporary design in the Ensemble Curve series, made of solid Vikrell material, blending sleek, clean lines with gentle curves. Corner shelving is perfect for storing ...</td>\n",
       "    </tr>\n",
       "    <tr>\n",
       "      <th>3</th>\n",
       "      <td>100004</td>\n",
       "      <td>The Grape Solar 265-Watt Polycrystalline PV Solar Panel bonus pack bundles 4 Grape Solar 265-Watt solar panels for extra savings. The Grape Solar 265-Watt Polycrystalline PV Solar Panel uses high ...</td>\n",
       "    </tr>\n",
       "    <tr>\n",
       "      <th>4</th>\n",
       "      <td>100005</td>\n",
       "      <td>Update your bathroom with the Delta Vero Single-Handle Shower Faucet Trim Kit in Chrome. It has a sleek, modern and minimalistic aesthetic. The MultiChoice universal valve keeps the water temperat...</td>\n",
       "    </tr>\n",
       "  </tbody>\n",
       "</table>\n",
       "</div>"
      ],
      "text/plain": [
       "   product_uid  \\\n",
       "0       100001   \n",
       "1       100002   \n",
       "2       100003   \n",
       "3       100004   \n",
       "4       100005   \n",
       "\n",
       "                                                                                                                                                                                       product_description  \n",
       "0  Not only do angles make joints stronger, they also provide more consistent, straight corners. Simpson Strong-Tie offers a wide variety of angles in various sizes and thicknesses to handle light-du...  \n",
       "1  BEHR Premium Textured DECKOVER is an innovative solid color coating. It will bring your old, weathered wood or concrete back to life. The advanced 100% acrylic resin formula creates a durable coat...  \n",
       "2  Classic architecture meets contemporary design in the Ensemble Curve series, made of solid Vikrell material, blending sleek, clean lines with gentle curves. Corner shelving is perfect for storing ...  \n",
       "3  The Grape Solar 265-Watt Polycrystalline PV Solar Panel bonus pack bundles 4 Grape Solar 265-Watt solar panels for extra savings. The Grape Solar 265-Watt Polycrystalline PV Solar Panel uses high ...  \n",
       "4  Update your bathroom with the Delta Vero Single-Handle Shower Faucet Trim Kit in Chrome. It has a sleek, modern and minimalistic aesthetic. The MultiChoice universal valve keeps the water temperat...  "
      ]
     },
     "execution_count": 5,
     "metadata": {},
     "output_type": "execute_result"
    }
   ],
   "source": [
    "description.head()"
   ]
  },
  {
   "cell_type": "code",
   "execution_count": 6,
   "metadata": {
    "ExecuteTime": {
     "end_time": "2021-05-06T06:09:33.543403Z",
     "start_time": "2021-05-06T06:09:33.491250Z"
    },
    "colab": {
     "base_uri": "https://localhost:8080/",
     "height": 204
    },
    "executionInfo": {
     "elapsed": 1465,
     "status": "ok",
     "timestamp": 1618906991561,
     "user": {
      "displayName": "Ashwinkumar Jayagopi",
      "photoUrl": "https://lh3.googleusercontent.com/a-/AOh14Gh47yVJAWTH0wh5QyDkeo1faM5evRToGXV4zKYa=s64",
      "userId": "16729666215456848120"
     },
     "user_tz": -330
    },
    "id": "vw1gwwnwycyt",
    "outputId": "4be0818e-846c-435f-b6e4-d171be0f3cfa"
   },
   "outputs": [
    {
     "data": {
      "text/html": [
       "<div>\n",
       "<style scoped>\n",
       "    .dataframe tbody tr th:only-of-type {\n",
       "        vertical-align: middle;\n",
       "    }\n",
       "\n",
       "    .dataframe tbody tr th {\n",
       "        vertical-align: top;\n",
       "    }\n",
       "\n",
       "    .dataframe thead th {\n",
       "        text-align: right;\n",
       "    }\n",
       "</style>\n",
       "<table border=\"1\" class=\"dataframe\">\n",
       "  <thead>\n",
       "    <tr style=\"text-align: right;\">\n",
       "      <th></th>\n",
       "      <th>product_uid</th>\n",
       "      <th>name</th>\n",
       "      <th>value</th>\n",
       "    </tr>\n",
       "  </thead>\n",
       "  <tbody>\n",
       "    <tr>\n",
       "      <th>0</th>\n",
       "      <td>100001.0</td>\n",
       "      <td>Bullet01</td>\n",
       "      <td>Versatile connector for various 90Â° connections and home repair projects</td>\n",
       "    </tr>\n",
       "    <tr>\n",
       "      <th>1</th>\n",
       "      <td>100001.0</td>\n",
       "      <td>Bullet02</td>\n",
       "      <td>Stronger than angled nailing or screw fastening alone</td>\n",
       "    </tr>\n",
       "    <tr>\n",
       "      <th>2</th>\n",
       "      <td>100001.0</td>\n",
       "      <td>Bullet03</td>\n",
       "      <td>Help ensure joints are consistently straight and strong</td>\n",
       "    </tr>\n",
       "    <tr>\n",
       "      <th>3</th>\n",
       "      <td>100001.0</td>\n",
       "      <td>Bullet04</td>\n",
       "      <td>Dimensions: 3 in. x 3 in. x 1-1/2 in.</td>\n",
       "    </tr>\n",
       "    <tr>\n",
       "      <th>4</th>\n",
       "      <td>100001.0</td>\n",
       "      <td>Bullet05</td>\n",
       "      <td>Made from 12-Gauge steel</td>\n",
       "    </tr>\n",
       "  </tbody>\n",
       "</table>\n",
       "</div>"
      ],
      "text/plain": [
       "   product_uid      name  \\\n",
       "0     100001.0  Bullet01   \n",
       "1     100001.0  Bullet02   \n",
       "2     100001.0  Bullet03   \n",
       "3     100001.0  Bullet04   \n",
       "4     100001.0  Bullet05   \n",
       "\n",
       "                                                                       value  \n",
       "0  Versatile connector for various 90Â° connections and home repair projects  \n",
       "1                      Stronger than angled nailing or screw fastening alone  \n",
       "2                    Help ensure joints are consistently straight and strong  \n",
       "3                                      Dimensions: 3 in. x 3 in. x 1-1/2 in.  \n",
       "4                                                   Made from 12-Gauge steel  "
      ]
     },
     "execution_count": 6,
     "metadata": {},
     "output_type": "execute_result"
    }
   ],
   "source": [
    "attributes.head()"
   ]
  },
  {
   "cell_type": "code",
   "execution_count": 7,
   "metadata": {
    "ExecuteTime": {
     "end_time": "2021-05-06T06:09:33.852518Z",
     "start_time": "2021-05-06T06:09:33.545520Z"
    },
    "colab": {
     "base_uri": "https://localhost:8080/"
    },
    "executionInfo": {
     "elapsed": 2355,
     "status": "ok",
     "timestamp": 1618906992463,
     "user": {
      "displayName": "Ashwinkumar Jayagopi",
      "photoUrl": "https://lh3.googleusercontent.com/a-/AOh14Gh47yVJAWTH0wh5QyDkeo1faM5evRToGXV4zKYa=s64",
      "userId": "16729666215456848120"
     },
     "user_tz": -330
    },
    "id": "VsW1RKzsycyu",
    "outputId": "e305d4e7-92d4-45c7-9a5f-34431122aa93",
    "scrolled": true
   },
   "outputs": [
    {
     "data": {
      "text/plain": [
       "MFG Brand Name                 86250\n",
       "Bullet02                       86248\n",
       "Bullet03                       86226\n",
       "Bullet04                       86174\n",
       "Bullet01                       85940\n",
       "Product Width (in.)            61137\n",
       "Bullet05                       60529\n",
       "Product Height (in.)           54698\n",
       "Product Depth (in.)            53652\n",
       "Product Weight (lb.)           45175\n",
       "Bullet06                       44901\n",
       "Color Family                   41508\n",
       "Bullet07                       34349\n",
       "Material                       31500\n",
       "Color/Finish                   28564\n",
       "Bullet08                       26645\n",
       "Certifications and Listings    24583\n",
       "Bullet09                       20567\n",
       "Assembled Height (in.)         18299\n",
       "Assembled Width (in.)          18263\n",
       "Name: name, dtype: int64"
      ]
     },
     "execution_count": 7,
     "metadata": {},
     "output_type": "execute_result"
    }
   ],
   "source": [
    "# check most repeating attributes\n",
    "attributes[\"name\"].value_counts().head(20)"
   ]
  },
  {
   "cell_type": "code",
   "execution_count": 8,
   "metadata": {
    "ExecuteTime": {
     "end_time": "2021-05-06T06:13:44.907485Z",
     "start_time": "2021-05-06T06:09:33.855676Z"
    },
    "colab": {
     "base_uri": "https://localhost:8080/",
     "height": 459
    },
    "executionInfo": {
     "elapsed": 242037,
     "status": "ok",
     "timestamp": 1618907249749,
     "user": {
      "displayName": "Ashwinkumar Jayagopi",
      "photoUrl": "https://lh3.googleusercontent.com/a-/AOh14Gh47yVJAWTH0wh5QyDkeo1faM5evRToGXV4zKYa=s64",
      "userId": "16729666215456848120"
     },
     "user_tz": -330
    },
    "id": "nUPYOvyQycyv",
    "outputId": "7a46c686-3d59-4092-fa26-34d48dad9dd2",
    "scrolled": true
   },
   "outputs": [
    {
     "data": {
      "text/html": [
       "<div>\n",
       "<style scoped>\n",
       "    .dataframe tbody tr th:only-of-type {\n",
       "        vertical-align: middle;\n",
       "    }\n",
       "\n",
       "    .dataframe tbody tr th {\n",
       "        vertical-align: top;\n",
       "    }\n",
       "\n",
       "    .dataframe thead th {\n",
       "        text-align: right;\n",
       "    }\n",
       "</style>\n",
       "<table border=\"1\" class=\"dataframe\">\n",
       "  <thead>\n",
       "    <tr style=\"text-align: right;\">\n",
       "      <th></th>\n",
       "      <th>product_uid</th>\n",
       "      <th>name</th>\n",
       "      <th>value</th>\n",
       "      <th>features</th>\n",
       "    </tr>\n",
       "  </thead>\n",
       "  <tbody>\n",
       "    <tr>\n",
       "      <th>0</th>\n",
       "      <td>100001.0</td>\n",
       "      <td>[bullet01, bullet02, bullet03, bullet04, bullet05, bullet06, bullet07, gauge, material, mfg brand name, number of pieces, product depth in , product height in , product weight lb , product width in ]</td>\n",
       "      <td>[versatile connector for various 90â degrees connections and home repair projects, stronger than angled nailing or screw fastening alone, help ensure joints are consistently straight and strong, d...</td>\n",
       "      <td>{'bullet01': 'versatile connector for various 90â degrees connections and home repair projects', 'bullet02': 'stronger than angled nailing or screw fastening alone', 'bullet03': 'help ensure joint...</td>\n",
       "    </tr>\n",
       "    <tr>\n",
       "      <th>1</th>\n",
       "      <td>100002.0</td>\n",
       "      <td>[application method, assembled depth in , assembled height in , assembled width in , bullet01, bullet02, bullet03, bullet04, bullet05, bullet06, bullet07, bullet08, bullet10, bullet18, cleanup, co...</td>\n",
       "      <td>[brush roller spray, 663in. , 776in. , 663in. , revives wood and composite decks railings porches and boat docks also great for concrete pool decks patios and sidewalks, 100 acrylic solid color co...</td>\n",
       "      <td>{'application method': 'brush roller spray', 'assembled depth in ': '663in. ', 'assembled height in ': '776in. ', 'assembled width in ': '663in. ', 'bullet01': 'revives wood and composite decks ra...</td>\n",
       "    </tr>\n",
       "    <tr>\n",
       "      <th>2</th>\n",
       "      <td>100003.0</td>\n",
       "      <td>[built in flange, bullet01, bullet02, bullet03, bullet04, bullet05, caulkless, certifications and listings, color family, color finish, construction, drain included, drain location, exterior bath ...</td>\n",
       "      <td>[yes, slightly narrower for tighter spaces, designed with an 18in. apron, durable high gloss finish provides a smooth shiny surface that is easy to clean, conforms to ansi z1241 2 and csa b451 nat...</td>\n",
       "      <td>{'built in flange': 'yes', 'bullet01': 'slightly narrower for tighter spaces', 'bullet02': 'designed with an 18in. apron', 'bullet03': 'durable high gloss finish provides a smooth shiny surface th...</td>\n",
       "    </tr>\n",
       "    <tr>\n",
       "      <th>3</th>\n",
       "      <td>100004.0</td>\n",
       "      <td>[amperage amps , bullet01, bullet02, bullet03, bullet04, bullet05, bullet06, charge controller included, electrical product type, inverter included, low voltage audible alarm, mfg brand name, moun...</td>\n",
       "      <td>[856, positive power tolerance 0 to 5watt. , anti reflective and anti soiling surface reduces power loss from dirt and dust, outstanding performance in low light irradiances environments, certifie...</td>\n",
       "      <td>{'amperage amps ': '856', 'bullet01': 'positive power tolerance 0 to 5watt. ', 'bullet02': 'anti reflective and anti soiling surface reduces power loss from dirt and dust', 'bullet03': 'outstandin...</td>\n",
       "    </tr>\n",
       "    <tr>\n",
       "      <th>4</th>\n",
       "      <td>100005.0</td>\n",
       "      <td>[bath faucet type, built in water filter, bullet01, bullet02, bullet03, bullet04, certifications and listings, color family, color finish, connection size in , faucet features, faucet included com...</td>\n",
       "      <td>[combo tub and shower, no, includes the trim kit only the rough in kit r10000 unbx is sold separately, includes the handle, maintains a balanced pressure of hot and cold water even when a valve is...</td>\n",
       "      <td>{'bath faucet type': 'combo tub and shower', 'built in water filter': 'no', 'bullet01': 'includes the trim kit only the rough in kit r10000 unbx is sold separately', 'bullet02': 'includes the hand...</td>\n",
       "    </tr>\n",
       "  </tbody>\n",
       "</table>\n",
       "</div>"
      ],
      "text/plain": [
       "   product_uid  \\\n",
       "0     100001.0   \n",
       "1     100002.0   \n",
       "2     100003.0   \n",
       "3     100004.0   \n",
       "4     100005.0   \n",
       "\n",
       "                                                                                                                                                                                                      name  \\\n",
       "0  [bullet01, bullet02, bullet03, bullet04, bullet05, bullet06, bullet07, gauge, material, mfg brand name, number of pieces, product depth in , product height in , product weight lb , product width in ]   \n",
       "1  [application method, assembled depth in , assembled height in , assembled width in , bullet01, bullet02, bullet03, bullet04, bullet05, bullet06, bullet07, bullet08, bullet10, bullet18, cleanup, co...   \n",
       "2  [built in flange, bullet01, bullet02, bullet03, bullet04, bullet05, caulkless, certifications and listings, color family, color finish, construction, drain included, drain location, exterior bath ...   \n",
       "3  [amperage amps , bullet01, bullet02, bullet03, bullet04, bullet05, bullet06, charge controller included, electrical product type, inverter included, low voltage audible alarm, mfg brand name, moun...   \n",
       "4  [bath faucet type, built in water filter, bullet01, bullet02, bullet03, bullet04, certifications and listings, color family, color finish, connection size in , faucet features, faucet included com...   \n",
       "\n",
       "                                                                                                                                                                                                     value  \\\n",
       "0  [versatile connector for various 90â degrees connections and home repair projects, stronger than angled nailing or screw fastening alone, help ensure joints are consistently straight and strong, d...   \n",
       "1  [brush roller spray, 663in. , 776in. , 663in. , revives wood and composite decks railings porches and boat docks also great for concrete pool decks patios and sidewalks, 100 acrylic solid color co...   \n",
       "2  [yes, slightly narrower for tighter spaces, designed with an 18in. apron, durable high gloss finish provides a smooth shiny surface that is easy to clean, conforms to ansi z1241 2 and csa b451 nat...   \n",
       "3  [856, positive power tolerance 0 to 5watt. , anti reflective and anti soiling surface reduces power loss from dirt and dust, outstanding performance in low light irradiances environments, certifie...   \n",
       "4  [combo tub and shower, no, includes the trim kit only the rough in kit r10000 unbx is sold separately, includes the handle, maintains a balanced pressure of hot and cold water even when a valve is...   \n",
       "\n",
       "                                                                                                                                                                                                  features  \n",
       "0  {'bullet01': 'versatile connector for various 90â degrees connections and home repair projects', 'bullet02': 'stronger than angled nailing or screw fastening alone', 'bullet03': 'help ensure joint...  \n",
       "1  {'application method': 'brush roller spray', 'assembled depth in ': '663in. ', 'assembled height in ': '776in. ', 'assembled width in ': '663in. ', 'bullet01': 'revives wood and composite decks ra...  \n",
       "2  {'built in flange': 'yes', 'bullet01': 'slightly narrower for tighter spaces', 'bullet02': 'designed with an 18in. apron', 'bullet03': 'durable high gloss finish provides a smooth shiny surface th...  \n",
       "3  {'amperage amps ': '856', 'bullet01': 'positive power tolerance 0 to 5watt. ', 'bullet02': 'anti reflective and anti soiling surface reduces power loss from dirt and dust', 'bullet03': 'outstandin...  \n",
       "4  {'bath faucet type': 'combo tub and shower', 'built in water filter': 'no', 'bullet01': 'includes the trim kit only the rough in kit r10000 unbx is sold separately', 'bullet02': 'includes the hand...  "
      ]
     },
     "execution_count": 8,
     "metadata": {},
     "output_type": "execute_result"
    }
   ],
   "source": [
    "# group attributes based on product id and create a feature dictionary for each product\n",
    "attributes[\"name\"] = attributes[\"name\"].apply(preprocess_text)\n",
    "attributes[\"value\"] = attributes[\"value\"].apply(preprocess_text)\n",
    "att_features = attributes.groupby(\"product_uid\").agg({\"name\": lambda s: s.tolist(), \"value\": lambda x: x.tolist()}).reset_index()\n",
    "att_features[\"features\"] = att_features.apply(lambda x: dict(zip(x[\"name\"], x[\"value\"])), axis=1)\n",
    "att_features.head()"
   ]
  },
  {
   "cell_type": "code",
   "execution_count": 9,
   "metadata": {
    "ExecuteTime": {
     "end_time": "2021-05-06T06:13:44.929123Z",
     "start_time": "2021-05-06T06:13:44.910324Z"
    },
    "colab": {
     "base_uri": "https://localhost:8080/"
    },
    "executionInfo": {
     "elapsed": 1393,
     "status": "ok",
     "timestamp": 1618907694285,
     "user": {
      "displayName": "Ashwinkumar Jayagopi",
      "photoUrl": "https://lh3.googleusercontent.com/a-/AOh14Gh47yVJAWTH0wh5QyDkeo1faM5evRToGXV4zKYa=s64",
      "userId": "16729666215456848120"
     },
     "user_tz": -330
    },
    "id": "khJhrhBrYNuF",
    "outputId": "168d57ac-f3a3-4ac4-9d23-466fa8bbf321"
   },
   "outputs": [
    {
     "data": {
      "text/plain": [
       "product_uid    False\n",
       "name           False\n",
       "value          False\n",
       "features       False\n",
       "dtype: bool"
      ]
     },
     "execution_count": 9,
     "metadata": {},
     "output_type": "execute_result"
    }
   ],
   "source": [
    "att_features.isna().any()"
   ]
  },
  {
   "cell_type": "code",
   "execution_count": 10,
   "metadata": {
    "ExecuteTime": {
     "end_time": "2021-05-06T06:13:45.998141Z",
     "start_time": "2021-05-06T06:13:44.930765Z"
    },
    "id": "wd77pbBMnCuL"
   },
   "outputs": [],
   "source": [
    "# merge train and test with product description and attributes \n",
    "# concat train and test to get a complete dataframe\n",
    "\n",
    "train_df = pd.merge(train, description, on=\"product_uid\", how=\"left\")\n",
    "test_df = pd.merge(test, description, on=\"product_uid\", how=\"left\")\n",
    "train_df = pd.merge(train_df, att_features, on=\"product_uid\", how=\"left\")\n",
    "test_df = pd.merge(test_df, att_features, on=\"product_uid\", how=\"left\")\n",
    "\n",
    "train_shape = train_df.shape\n",
    "test_shape = test_df.shape\n",
    "\n",
    "df = pd.concat([train_df, test_df], axis=0)\n",
    "df.reset_index(inplace=True, drop=True)\n",
    "\n",
    "df[\"relevance\"].fillna(0, inplace=True)\n",
    "df[\"name\"][df[\"name\"].isna()] = df[\"name\"][df[\"name\"].isna()].apply(lambda x: [])\n",
    "df[\"value\"][df[\"value\"].isna()] = df[\"value\"][df[\"value\"].isna()].apply(lambda x: [])\n",
    "df[\"features\"][df[\"features\"].isna()] = df[\"features\"][df[\"features\"].isna()].apply(lambda x: {})"
   ]
  },
  {
   "cell_type": "code",
   "execution_count": 11,
   "metadata": {
    "ExecuteTime": {
     "end_time": "2021-05-06T06:13:46.076751Z",
     "start_time": "2021-05-06T06:13:46.000776Z"
    },
    "colab": {
     "base_uri": "https://localhost:8080/"
    },
    "executionInfo": {
     "elapsed": 280848,
     "status": "ok",
     "timestamp": 1618820773371,
     "user": {
      "displayName": "Ashwinkumar Jayagopi",
      "photoUrl": "https://lh3.googleusercontent.com/a-/AOh14Gh47yVJAWTH0wh5QyDkeo1faM5evRToGXV4zKYa=s64",
      "userId": "16729666215456848120"
     },
     "user_tz": -330
    },
    "id": "fvuWhLfgn2FZ",
    "outputId": "7d4ea4d9-c1f2-4e8b-d930-0d4258b09a35"
   },
   "outputs": [
    {
     "data": {
      "text/plain": [
       "id                     False\n",
       "product_uid            False\n",
       "product_title          False\n",
       "search_term            False\n",
       "relevance              False\n",
       "product_description    False\n",
       "name                   False\n",
       "value                  False\n",
       "features               False\n",
       "dtype: bool"
      ]
     },
     "execution_count": 11,
     "metadata": {},
     "output_type": "execute_result"
    }
   ],
   "source": [
    "df.isna().any()"
   ]
  },
  {
   "cell_type": "code",
   "execution_count": 12,
   "metadata": {
    "ExecuteTime": {
     "end_time": "2021-05-06T06:16:53.679014Z",
     "start_time": "2021-05-06T06:13:46.078987Z"
    },
    "id": "vzMzpAcpycyw"
   },
   "outputs": [],
   "source": [
    "# preprocess the text columns\n",
    "df[\"product_title\"] = df[\"product_title\"].apply(preprocess_text)\n",
    "df[\"search_term\"] = df[\"search_term\"].apply(preprocess_text)\n",
    "df[\"product_description\"] = df[\"product_description\"].apply(preprocess_text)"
   ]
  },
  {
   "cell_type": "code",
   "execution_count": 13,
   "metadata": {
    "ExecuteTime": {
     "end_time": "2021-05-06T06:16:53.711732Z",
     "start_time": "2021-05-06T06:16:53.681884Z"
    },
    "colab": {
     "base_uri": "https://localhost:8080/",
     "height": 1000
    },
    "executionInfo": {
     "elapsed": 449754,
     "status": "ok",
     "timestamp": 1618820942290,
     "user": {
      "displayName": "Ashwinkumar Jayagopi",
      "photoUrl": "https://lh3.googleusercontent.com/a-/AOh14Gh47yVJAWTH0wh5QyDkeo1faM5evRToGXV4zKYa=s64",
      "userId": "16729666215456848120"
     },
     "user_tz": -330
    },
    "id": "jWNRsuqXycyx",
    "outputId": "6473a762-7f92-4884-dcea-9f2586df25ba",
    "scrolled": true
   },
   "outputs": [
    {
     "data": {
      "text/html": [
       "<div>\n",
       "<style scoped>\n",
       "    .dataframe tbody tr th:only-of-type {\n",
       "        vertical-align: middle;\n",
       "    }\n",
       "\n",
       "    .dataframe tbody tr th {\n",
       "        vertical-align: top;\n",
       "    }\n",
       "\n",
       "    .dataframe thead th {\n",
       "        text-align: right;\n",
       "    }\n",
       "</style>\n",
       "<table border=\"1\" class=\"dataframe\">\n",
       "  <thead>\n",
       "    <tr style=\"text-align: right;\">\n",
       "      <th></th>\n",
       "      <th>id</th>\n",
       "      <th>product_uid</th>\n",
       "      <th>product_title</th>\n",
       "      <th>search_term</th>\n",
       "      <th>relevance</th>\n",
       "      <th>product_description</th>\n",
       "      <th>name</th>\n",
       "      <th>value</th>\n",
       "      <th>features</th>\n",
       "    </tr>\n",
       "  </thead>\n",
       "  <tbody>\n",
       "    <tr>\n",
       "      <th>0</th>\n",
       "      <td>2</td>\n",
       "      <td>100001</td>\n",
       "      <td>simpson strong tie 12 gauge angle</td>\n",
       "      <td>angle bracket</td>\n",
       "      <td>3.00</td>\n",
       "      <td>not only do angles make joints stronger they also provide more consistent straight corners simpson strong tie offers a wide variety of angles in various sizes and thicknesses to handle light duty ...</td>\n",
       "      <td>[bullet01, bullet02, bullet03, bullet04, bullet05, bullet06, bullet07, gauge, material, mfg brand name, number of pieces, product depth in , product height in , product weight lb , product width in ]</td>\n",
       "      <td>[versatile connector for various 90â degrees connections and home repair projects, stronger than angled nailing or screw fastening alone, help ensure joints are consistently straight and strong, d...</td>\n",
       "      <td>{'bullet01': 'versatile connector for various 90â degrees connections and home repair projects', 'bullet02': 'stronger than angled nailing or screw fastening alone', 'bullet03': 'help ensure joint...</td>\n",
       "    </tr>\n",
       "    <tr>\n",
       "      <th>1</th>\n",
       "      <td>3</td>\n",
       "      <td>100001</td>\n",
       "      <td>simpson strong tie 12 gauge angle</td>\n",
       "      <td>l bracket</td>\n",
       "      <td>2.50</td>\n",
       "      <td>not only do angles make joints stronger they also provide more consistent straight corners simpson strong tie offers a wide variety of angles in various sizes and thicknesses to handle light duty ...</td>\n",
       "      <td>[bullet01, bullet02, bullet03, bullet04, bullet05, bullet06, bullet07, gauge, material, mfg brand name, number of pieces, product depth in , product height in , product weight lb , product width in ]</td>\n",
       "      <td>[versatile connector for various 90â degrees connections and home repair projects, stronger than angled nailing or screw fastening alone, help ensure joints are consistently straight and strong, d...</td>\n",
       "      <td>{'bullet01': 'versatile connector for various 90â degrees connections and home repair projects', 'bullet02': 'stronger than angled nailing or screw fastening alone', 'bullet03': 'help ensure joint...</td>\n",
       "    </tr>\n",
       "    <tr>\n",
       "      <th>2</th>\n",
       "      <td>9</td>\n",
       "      <td>100002</td>\n",
       "      <td>behr premium textured deckover 1gal. sc 141 tugboat wood and concrete coating</td>\n",
       "      <td>deck over</td>\n",
       "      <td>3.00</td>\n",
       "      <td>behr premium textured deckover is an innovative solid color coating it will bring your old weathered wood or concrete back to life the advanced 100 acrylic resin formula creates a durable coating ...</td>\n",
       "      <td>[application method, assembled depth in , assembled height in , assembled width in , bullet01, bullet02, bullet03, bullet04, bullet05, bullet06, bullet07, bullet08, bullet10, bullet18, cleanup, co...</td>\n",
       "      <td>[brush roller spray, 663in. , 776in. , 663in. , revives wood and composite decks railings porches and boat docks also great for concrete pool decks patios and sidewalks, 100 acrylic solid color co...</td>\n",
       "      <td>{'application method': 'brush roller spray', 'assembled depth in ': '663in. ', 'assembled height in ': '776in. ', 'assembled width in ': '663in. ', 'bullet01': 'revives wood and composite decks ra...</td>\n",
       "    </tr>\n",
       "    <tr>\n",
       "      <th>3</th>\n",
       "      <td>16</td>\n",
       "      <td>100005</td>\n",
       "      <td>delta vero 1 handle shower only faucet trim kit in chrome valve not included</td>\n",
       "      <td>rain shower head</td>\n",
       "      <td>2.33</td>\n",
       "      <td>update your bathroom with the delta vero single handle shower faucet trim kit in chrome it has a sleek modern and minimalistic aesthetic the multichoice universal valve keeps the water temperature...</td>\n",
       "      <td>[bath faucet type, built in water filter, bullet01, bullet02, bullet03, bullet04, certifications and listings, color family, color finish, connection size in , faucet features, faucet included com...</td>\n",
       "      <td>[combo tub and shower, no, includes the trim kit only the rough in kit r10000 unbx is sold separately, includes the handle, maintains a balanced pressure of hot and cold water even when a valve is...</td>\n",
       "      <td>{'bath faucet type': 'combo tub and shower', 'built in water filter': 'no', 'bullet01': 'includes the trim kit only the rough in kit r10000 unbx is sold separately', 'bullet02': 'includes the hand...</td>\n",
       "    </tr>\n",
       "    <tr>\n",
       "      <th>4</th>\n",
       "      <td>17</td>\n",
       "      <td>100005</td>\n",
       "      <td>delta vero 1 handle shower only faucet trim kit in chrome valve not included</td>\n",
       "      <td>shower only faucet</td>\n",
       "      <td>2.67</td>\n",
       "      <td>update your bathroom with the delta vero single handle shower faucet trim kit in chrome it has a sleek modern and minimalistic aesthetic the multichoice universal valve keeps the water temperature...</td>\n",
       "      <td>[bath faucet type, built in water filter, bullet01, bullet02, bullet03, bullet04, certifications and listings, color family, color finish, connection size in , faucet features, faucet included com...</td>\n",
       "      <td>[combo tub and shower, no, includes the trim kit only the rough in kit r10000 unbx is sold separately, includes the handle, maintains a balanced pressure of hot and cold water even when a valve is...</td>\n",
       "      <td>{'bath faucet type': 'combo tub and shower', 'built in water filter': 'no', 'bullet01': 'includes the trim kit only the rough in kit r10000 unbx is sold separately', 'bullet02': 'includes the hand...</td>\n",
       "    </tr>\n",
       "  </tbody>\n",
       "</table>\n",
       "</div>"
      ],
      "text/plain": [
       "   id  product_uid  \\\n",
       "0   2       100001   \n",
       "1   3       100001   \n",
       "2   9       100002   \n",
       "3  16       100005   \n",
       "4  17       100005   \n",
       "\n",
       "                                                                   product_title  \\\n",
       "0                                              simpson strong tie 12 gauge angle   \n",
       "1                                              simpson strong tie 12 gauge angle   \n",
       "2  behr premium textured deckover 1gal. sc 141 tugboat wood and concrete coating   \n",
       "3  delta vero 1 handle shower only faucet trim kit in chrome valve not included    \n",
       "4  delta vero 1 handle shower only faucet trim kit in chrome valve not included    \n",
       "\n",
       "          search_term  relevance  \\\n",
       "0       angle bracket       3.00   \n",
       "1           l bracket       2.50   \n",
       "2           deck over       3.00   \n",
       "3    rain shower head       2.33   \n",
       "4  shower only faucet       2.67   \n",
       "\n",
       "                                                                                                                                                                                       product_description  \\\n",
       "0  not only do angles make joints stronger they also provide more consistent straight corners simpson strong tie offers a wide variety of angles in various sizes and thicknesses to handle light duty ...   \n",
       "1  not only do angles make joints stronger they also provide more consistent straight corners simpson strong tie offers a wide variety of angles in various sizes and thicknesses to handle light duty ...   \n",
       "2  behr premium textured deckover is an innovative solid color coating it will bring your old weathered wood or concrete back to life the advanced 100 acrylic resin formula creates a durable coating ...   \n",
       "3  update your bathroom with the delta vero single handle shower faucet trim kit in chrome it has a sleek modern and minimalistic aesthetic the multichoice universal valve keeps the water temperature...   \n",
       "4  update your bathroom with the delta vero single handle shower faucet trim kit in chrome it has a sleek modern and minimalistic aesthetic the multichoice universal valve keeps the water temperature...   \n",
       "\n",
       "                                                                                                                                                                                                      name  \\\n",
       "0  [bullet01, bullet02, bullet03, bullet04, bullet05, bullet06, bullet07, gauge, material, mfg brand name, number of pieces, product depth in , product height in , product weight lb , product width in ]   \n",
       "1  [bullet01, bullet02, bullet03, bullet04, bullet05, bullet06, bullet07, gauge, material, mfg brand name, number of pieces, product depth in , product height in , product weight lb , product width in ]   \n",
       "2  [application method, assembled depth in , assembled height in , assembled width in , bullet01, bullet02, bullet03, bullet04, bullet05, bullet06, bullet07, bullet08, bullet10, bullet18, cleanup, co...   \n",
       "3  [bath faucet type, built in water filter, bullet01, bullet02, bullet03, bullet04, certifications and listings, color family, color finish, connection size in , faucet features, faucet included com...   \n",
       "4  [bath faucet type, built in water filter, bullet01, bullet02, bullet03, bullet04, certifications and listings, color family, color finish, connection size in , faucet features, faucet included com...   \n",
       "\n",
       "                                                                                                                                                                                                     value  \\\n",
       "0  [versatile connector for various 90â degrees connections and home repair projects, stronger than angled nailing or screw fastening alone, help ensure joints are consistently straight and strong, d...   \n",
       "1  [versatile connector for various 90â degrees connections and home repair projects, stronger than angled nailing or screw fastening alone, help ensure joints are consistently straight and strong, d...   \n",
       "2  [brush roller spray, 663in. , 776in. , 663in. , revives wood and composite decks railings porches and boat docks also great for concrete pool decks patios and sidewalks, 100 acrylic solid color co...   \n",
       "3  [combo tub and shower, no, includes the trim kit only the rough in kit r10000 unbx is sold separately, includes the handle, maintains a balanced pressure of hot and cold water even when a valve is...   \n",
       "4  [combo tub and shower, no, includes the trim kit only the rough in kit r10000 unbx is sold separately, includes the handle, maintains a balanced pressure of hot and cold water even when a valve is...   \n",
       "\n",
       "                                                                                                                                                                                                  features  \n",
       "0  {'bullet01': 'versatile connector for various 90â degrees connections and home repair projects', 'bullet02': 'stronger than angled nailing or screw fastening alone', 'bullet03': 'help ensure joint...  \n",
       "1  {'bullet01': 'versatile connector for various 90â degrees connections and home repair projects', 'bullet02': 'stronger than angled nailing or screw fastening alone', 'bullet03': 'help ensure joint...  \n",
       "2  {'application method': 'brush roller spray', 'assembled depth in ': '663in. ', 'assembled height in ': '776in. ', 'assembled width in ': '663in. ', 'bullet01': 'revives wood and composite decks ra...  \n",
       "3  {'bath faucet type': 'combo tub and shower', 'built in water filter': 'no', 'bullet01': 'includes the trim kit only the rough in kit r10000 unbx is sold separately', 'bullet02': 'includes the hand...  \n",
       "4  {'bath faucet type': 'combo tub and shower', 'built in water filter': 'no', 'bullet01': 'includes the trim kit only the rough in kit r10000 unbx is sold separately', 'bullet02': 'includes the hand...  "
      ]
     },
     "execution_count": 13,
     "metadata": {},
     "output_type": "execute_result"
    }
   ],
   "source": [
    "df.head()"
   ]
  },
  {
   "cell_type": "code",
   "execution_count": 14,
   "metadata": {
    "ExecuteTime": {
     "end_time": "2021-05-06T06:16:54.525536Z",
     "start_time": "2021-05-06T06:16:53.713632Z"
    },
    "colab": {
     "base_uri": "https://localhost:8080/",
     "height": 336
    },
    "executionInfo": {
     "elapsed": 449751,
     "status": "ok",
     "timestamp": 1618820942292,
     "user": {
      "displayName": "Ashwinkumar Jayagopi",
      "photoUrl": "https://lh3.googleusercontent.com/a-/AOh14Gh47yVJAWTH0wh5QyDkeo1faM5evRToGXV4zKYa=s64",
      "userId": "16729666215456848120"
     },
     "user_tz": -330
    },
    "id": "o22MxB5nycyz",
    "outputId": "15dd74c1-86b2-4ae5-a213-3cbd9f3853f9",
    "scrolled": false
   },
   "outputs": [
    {
     "data": {
      "text/plain": [
       "(array([2.1050e+03, 3.0100e+03, 5.0000e+00, 6.7890e+03, 0.0000e+00,\n",
       "        1.1730e+04, 1.6071e+04, 1.9000e+01, 1.5213e+04, 1.9125e+04]),\n",
       " array([1. , 1.2, 1.4, 1.6, 1.8, 2. , 2.2, 2.4, 2.6, 2.8, 3. ]),\n",
       " <BarContainer object of 10 artists>)"
      ]
     },
     "execution_count": 14,
     "metadata": {},
     "output_type": "execute_result"
    },
    {
     "data": {
      "image/png": "[encoded data removed]",
      "text/plain": [
       "<Figure size 432x288 with 1 Axes>"
      ]
     },
     "metadata": {
      "needs_background": "light"
     },
     "output_type": "display_data"
    }
   ],
   "source": [
    "# check the distribution of the relevance column\n",
    "plt.hist(train.relevance, bins=10)"
   ]
  },
  {
   "cell_type": "code",
   "execution_count": 15,
   "metadata": {
    "ExecuteTime": {
     "end_time": "2021-05-06T06:16:54.530654Z",
     "start_time": "2021-05-06T06:16:54.528004Z"
    },
    "id": "mdzgY0stycy0"
   },
   "outputs": [],
   "source": [
    "# generate a wordcloud to get an idea of the most repeating words\n",
    "\n",
    "# texts = \" \".join(df[\"product_description\"])\n",
    "# wordcloud = WordCloud(width = 800, height = 800, stopwords = stop, min_font_size = 10).generate(texts)\n",
    "\n",
    "# plt.figure(figsize = (8, 8))\n",
    "# plt.imshow(wordcloud, interpolation='bilinear')"
   ]
  },
  {
   "cell_type": "code",
   "execution_count": 16,
   "metadata": {
    "ExecuteTime": {
     "end_time": "2021-05-06T06:16:55.541052Z",
     "start_time": "2021-05-06T06:16:54.532576Z"
    },
    "colab": {
     "base_uri": "https://localhost:8080/",
     "height": 929
    },
    "executionInfo": {
     "elapsed": 450467,
     "status": "ok",
     "timestamp": 1618820943018,
     "user": {
      "displayName": "Ashwinkumar Jayagopi",
      "photoUrl": "https://lh3.googleusercontent.com/a-/AOh14Gh47yVJAWTH0wh5QyDkeo1faM5evRToGXV4zKYa=s64",
      "userId": "16729666215456848120"
     },
     "user_tz": -330
    },
    "id": "AVrQcGy41y_U",
    "outputId": "99414109-3dc9-4fa5-bc30-107ee6ad700a",
    "scrolled": true
   },
   "outputs": [
    {
     "data": {
      "text/html": [
       "<div>\n",
       "<style scoped>\n",
       "    .dataframe tbody tr th:only-of-type {\n",
       "        vertical-align: middle;\n",
       "    }\n",
       "\n",
       "    .dataframe tbody tr th {\n",
       "        vertical-align: top;\n",
       "    }\n",
       "\n",
       "    .dataframe thead th {\n",
       "        text-align: right;\n",
       "    }\n",
       "</style>\n",
       "<table border=\"1\" class=\"dataframe\">\n",
       "  <thead>\n",
       "    <tr style=\"text-align: right;\">\n",
       "      <th></th>\n",
       "      <th>search_term</th>\n",
       "      <th>product_title</th>\n",
       "      <th>product_description</th>\n",
       "      <th>relevance</th>\n",
       "    </tr>\n",
       "  </thead>\n",
       "  <tbody>\n",
       "    <tr>\n",
       "      <th>0</th>\n",
       "      <td>angle bracket</td>\n",
       "      <td>Simpson Strong-Tie 12-Gauge Angle</td>\n",
       "      <td>Not only do angles make joints stronger, they also provide more consistent, straight corners. Simpson Strong-Tie offers a wide variety of angles in various sizes and thicknesses to handle light-du...</td>\n",
       "      <td>3.00</td>\n",
       "    </tr>\n",
       "    <tr>\n",
       "      <th>1</th>\n",
       "      <td>l bracket</td>\n",
       "      <td>Simpson Strong-Tie 12-Gauge Angle</td>\n",
       "      <td>Not only do angles make joints stronger, they also provide more consistent, straight corners. Simpson Strong-Tie offers a wide variety of angles in various sizes and thicknesses to handle light-du...</td>\n",
       "      <td>2.50</td>\n",
       "    </tr>\n",
       "    <tr>\n",
       "      <th>2</th>\n",
       "      <td>deck over</td>\n",
       "      <td>BEHR Premium Textured DeckOver 1-gal. #SC-141 Tugboat Wood and Concrete Coating</td>\n",
       "      <td>BEHR Premium Textured DECKOVER is an innovative solid color coating. It will bring your old, weathered wood or concrete back to life. The advanced 100% acrylic resin formula creates a durable coat...</td>\n",
       "      <td>3.00</td>\n",
       "    </tr>\n",
       "    <tr>\n",
       "      <th>3</th>\n",
       "      <td>rain shower head</td>\n",
       "      <td>Delta Vero 1-Handle Shower Only Faucet Trim Kit in Chrome (Valve Not Included)</td>\n",
       "      <td>Update your bathroom with the Delta Vero Single-Handle Shower Faucet Trim Kit in Chrome. It has a sleek, modern and minimalistic aesthetic. The MultiChoice universal valve keeps the water temperat...</td>\n",
       "      <td>2.33</td>\n",
       "    </tr>\n",
       "    <tr>\n",
       "      <th>4</th>\n",
       "      <td>shower only faucet</td>\n",
       "      <td>Delta Vero 1-Handle Shower Only Faucet Trim Kit in Chrome (Valve Not Included)</td>\n",
       "      <td>Update your bathroom with the Delta Vero Single-Handle Shower Faucet Trim Kit in Chrome. It has a sleek, modern and minimalistic aesthetic. The MultiChoice universal valve keeps the water temperat...</td>\n",
       "      <td>2.67</td>\n",
       "    </tr>\n",
       "    <tr>\n",
       "      <th>...</th>\n",
       "      <td>...</td>\n",
       "      <td>...</td>\n",
       "      <td>...</td>\n",
       "      <td>...</td>\n",
       "    </tr>\n",
       "    <tr>\n",
       "      <th>74061</th>\n",
       "      <td>rondec stainless steel 3/8 edge protection</td>\n",
       "      <td>Schluter Rondec Stainless Steel 3/8 in. x 1 in. Metal 90 Degree Outside Corner</td>\n",
       "      <td>The EV/RO100E is a prefabricated corner for Rondec that eliminates the need for a mitered edge. It is used to create 90 outside corners. The EV/RO100E corner is designed for use with the RO100E pr...</td>\n",
       "      <td>3.00</td>\n",
       "    </tr>\n",
       "    <tr>\n",
       "      <th>74063</th>\n",
       "      <td>r20 halogen light</td>\n",
       "      <td>Philips 40-Watt Halogen R20 Flood Light Bulb (12-Pack)</td>\n",
       "      <td>Philips Energy Advantage lamps use less energy while maintaining bright, crisp, white halogen light. Available in traditional lamp shapes to fit most incandescent fixtures. Halogen energy savers w...</td>\n",
       "      <td>3.00</td>\n",
       "    </tr>\n",
       "    <tr>\n",
       "      <th>74064</th>\n",
       "      <td>schlage lock siena half dummy knob with</td>\n",
       "      <td>Schlage Camelot In-Active Aged Bronze Handleset with Left-Hand Accent Lever</td>\n",
       "      <td>The Schlage Camelot In-Active Aged Bronze Handleset with Left-Hand Accent Lever is perfect for use as a decorative door pull on a pair of non-latching doors. The interior Accent lever is widely po...</td>\n",
       "      <td>2.33</td>\n",
       "    </tr>\n",
       "    <tr>\n",
       "      <th>74065</th>\n",
       "      <td>zen garden  decor</td>\n",
       "      <td>Plastec 11 in. x 24 in. Rose Garden Wall Decor Steel</td>\n",
       "      <td>The Rose Garden is inspired by the popular early 20th century Scottish design motif. Dark Bronze powder coated finish on steel makes it suitable for indoor or outdoor use.Indoor and outdoor useFin...</td>\n",
       "      <td>3.00</td>\n",
       "    </tr>\n",
       "    <tr>\n",
       "      <th>74066</th>\n",
       "      <td>fine sheer curtain 63 inches</td>\n",
       "      <td>LICHTENBERG Pool Blue No. 918 Millennial Ryan Heathered Texture Sheer Curtain Panel, 40 in. W x 63 in. L</td>\n",
       "      <td>No. 918 Millennial Ryan heathered texture semi-sheer curtain is a casual solid that adds freshness and a finishing touch to any decor setting. Enhances privacy while allowing light to gently filte...</td>\n",
       "      <td>2.33</td>\n",
       "    </tr>\n",
       "  </tbody>\n",
       "</table>\n",
       "<p>71962 rows × 4 columns</p>\n",
       "</div>"
      ],
      "text/plain": [
       "                                      search_term  \\\n",
       "0                                   angle bracket   \n",
       "1                                       l bracket   \n",
       "2                                       deck over   \n",
       "3                                rain shower head   \n",
       "4                              shower only faucet   \n",
       "...                                           ...   \n",
       "74061  rondec stainless steel 3/8 edge protection   \n",
       "74063                           r20 halogen light   \n",
       "74064     schlage lock siena half dummy knob with   \n",
       "74065                           zen garden  decor   \n",
       "74066                fine sheer curtain 63 inches   \n",
       "\n",
       "                                                                                                  product_title  \\\n",
       "0                                                                             Simpson Strong-Tie 12-Gauge Angle   \n",
       "1                                                                             Simpson Strong-Tie 12-Gauge Angle   \n",
       "2                               BEHR Premium Textured DeckOver 1-gal. #SC-141 Tugboat Wood and Concrete Coating   \n",
       "3                                Delta Vero 1-Handle Shower Only Faucet Trim Kit in Chrome (Valve Not Included)   \n",
       "4                                Delta Vero 1-Handle Shower Only Faucet Trim Kit in Chrome (Valve Not Included)   \n",
       "...                                                                                                         ...   \n",
       "74061                            Schluter Rondec Stainless Steel 3/8 in. x 1 in. Metal 90 Degree Outside Corner   \n",
       "74063                                                    Philips 40-Watt Halogen R20 Flood Light Bulb (12-Pack)   \n",
       "74064                               Schlage Camelot In-Active Aged Bronze Handleset with Left-Hand Accent Lever   \n",
       "74065                                                      Plastec 11 in. x 24 in. Rose Garden Wall Decor Steel   \n",
       "74066  LICHTENBERG Pool Blue No. 918 Millennial Ryan Heathered Texture Sheer Curtain Panel, 40 in. W x 63 in. L   \n",
       "\n",
       "                                                                                                                                                                                           product_description  \\\n",
       "0      Not only do angles make joints stronger, they also provide more consistent, straight corners. Simpson Strong-Tie offers a wide variety of angles in various sizes and thicknesses to handle light-du...   \n",
       "1      Not only do angles make joints stronger, they also provide more consistent, straight corners. Simpson Strong-Tie offers a wide variety of angles in various sizes and thicknesses to handle light-du...   \n",
       "2      BEHR Premium Textured DECKOVER is an innovative solid color coating. It will bring your old, weathered wood or concrete back to life. The advanced 100% acrylic resin formula creates a durable coat...   \n",
       "3      Update your bathroom with the Delta Vero Single-Handle Shower Faucet Trim Kit in Chrome. It has a sleek, modern and minimalistic aesthetic. The MultiChoice universal valve keeps the water temperat...   \n",
       "4      Update your bathroom with the Delta Vero Single-Handle Shower Faucet Trim Kit in Chrome. It has a sleek, modern and minimalistic aesthetic. The MultiChoice universal valve keeps the water temperat...   \n",
       "...                                                                                                                                                                                                        ...   \n",
       "74061  The EV/RO100E is a prefabricated corner for Rondec that eliminates the need for a mitered edge. It is used to create 90 outside corners. The EV/RO100E corner is designed for use with the RO100E pr...   \n",
       "74063  Philips Energy Advantage lamps use less energy while maintaining bright, crisp, white halogen light. Available in traditional lamp shapes to fit most incandescent fixtures. Halogen energy savers w...   \n",
       "74064  The Schlage Camelot In-Active Aged Bronze Handleset with Left-Hand Accent Lever is perfect for use as a decorative door pull on a pair of non-latching doors. The interior Accent lever is widely po...   \n",
       "74065  The Rose Garden is inspired by the popular early 20th century Scottish design motif. Dark Bronze powder coated finish on steel makes it suitable for indoor or outdoor use.Indoor and outdoor useFin...   \n",
       "74066  No. 918 Millennial Ryan heathered texture semi-sheer curtain is a casual solid that adds freshness and a finishing touch to any decor setting. Enhances privacy while allowing light to gently filte...   \n",
       "\n",
       "       relevance  \n",
       "0           3.00  \n",
       "1           2.50  \n",
       "2           3.00  \n",
       "3           2.33  \n",
       "4           2.67  \n",
       "...          ...  \n",
       "74061       3.00  \n",
       "74063       3.00  \n",
       "74064       2.33  \n",
       "74065       3.00  \n",
       "74066       2.33  \n",
       "\n",
       "[71962 rows x 4 columns]"
      ]
     },
     "execution_count": 16,
     "metadata": {},
     "output_type": "execute_result"
    }
   ],
   "source": [
    "train_df[(train_df[\"relevance\"] <=3) & (train_df[\"relevance\"] > 1)][[\"search_term\", \"product_title\", \"product_description\", \"relevance\"]]"
   ]
  },
  {
   "cell_type": "code",
   "execution_count": 17,
   "metadata": {
    "ExecuteTime": {
     "end_time": "2021-05-06T06:16:55.553939Z",
     "start_time": "2021-05-06T06:16:55.543785Z"
    },
    "id": "C0lusMGo3mUD"
   },
   "outputs": [],
   "source": [
    "def check_word_presence(word, text):\n",
    "\n",
    "  if word in text:\n",
    "    return 1\n",
    "  else:\n",
    "    return 0\n",
    "\n",
    "def check_ratio(query, text, mode=\"maximum\"):\n",
    "  \n",
    "  if mode == \"maximum\":\n",
    "\n",
    "    lev = [ratio(i, j) for i in query.split() for j in text.split() if i not in stop]\n",
    "    if lev:\n",
    "      return max(lev)\n",
    "    else:\n",
    "      return 0\n",
    "  \n",
    "  if mode == \"total\":\n",
    "    lev = [max([ratio(i, j)  for j in text.split()]) for i in query.split() if i not in stop]\n",
    "    return sum(lev)"
   ]
  },
  {
   "cell_type": "code",
   "execution_count": 18,
   "metadata": {
    "ExecuteTime": {
     "end_time": "2021-05-06T06:16:59.478913Z",
     "start_time": "2021-05-06T06:16:55.556339Z"
    },
    "id": "4fwoVH9K3mxz"
   },
   "outputs": [],
   "source": [
    "display_columns = [i for i in df.columns if i not in [\"product_uid\", \"name\", \"value\"]]\n",
    "\n",
    "# find the count of words in the search query making sure the word is not a stopword\n",
    "df[\"search_word_count\"] = df[\"search_term\"].apply(lambda x: len([i for i in x.split() if i not in stop]))\n",
    "\n",
    "# split relevance values into bins [1, 2, 3]\n",
    "df[\"relevance_bins\"] = df[\"relevance\"].apply(lambda x: np.floor(x) if not np.isnan(x) else 0.)\n",
    "\n",
    "# find if the query is actually just a stopword, which might result in low relevancy\n",
    "df[\"is_stopword\"] = df[\"search_term\"].apply(lambda x: x in stop).astype(int)"
   ]
  },
  {
   "cell_type": "code",
   "execution_count": 19,
   "metadata": {
    "ExecuteTime": {
     "end_time": "2021-05-06T06:25:02.357527Z",
     "start_time": "2021-05-06T06:16:59.481189Z"
    },
    "id": "Yp02dQqkB599"
   },
   "outputs": [],
   "source": [
    "# find the number of words in search term which are also present in product title and its ratio\n",
    "df[\"word_in_title\"] = df.apply(lambda x: sum([check_word_presence(i, x[\"product_title\"].split()) for i in x[\"search_term\"].split() if i not in stop]), axis=1)\n",
    "df[\"ratio_word_in_title\"] = df.apply(lambda x: x[\"word_in_title\"] / (len([i for i in x[\"search_term\"].split() if i not in stop]) + 1e-8), axis=1)\n",
    "\n",
    "# find the number of words in search term which are also present in product description and its ratio\n",
    "df[\"word_in_desc\"] = df.apply(lambda x: sum([check_word_presence(i, x[\"product_description\"].split()) for i in x[\"search_term\"].split() if i not in stop]), axis=1)\n",
    "df[\"ratio_word_in_desc\"] = df.apply(lambda x: x[\"word_in_desc\"] / (len([i for i in x[\"search_term\"].split() if i not in stop]) + 1e-8), axis=1)\n",
    "\n",
    "# find the levenshtein similarity between the search query word and words present in title and description\n",
    "df[\"max_levenshtein_title\"] = df.apply(lambda x: check_ratio(x[\"search_term\"], x[\"product_title\"], mode=\"maximum\"), axis=1)\n",
    "df[\"max_levenshtein_desc\"] = df.apply(lambda x: check_ratio(x[\"search_term\"], x[\"product_description\"], mode=\"maximum\"), axis=1)\n",
    "df[\"total_levenshtein_title\"] = df.apply(lambda x: check_ratio(x[\"search_term\"], x[\"product_title\"], mode=\"total\"), axis=1)\n",
    "df[\"total_levenshtein_desc\"] = df.apply(lambda x: check_ratio(x[\"search_term\"], x[\"product_description\"], mode=\"total\"), axis=1)"
   ]
  },
  {
   "cell_type": "code",
   "execution_count": 20,
   "metadata": {
    "ExecuteTime": {
     "end_time": "2021-05-06T06:25:02.386205Z",
     "start_time": "2021-05-06T06:25:02.359771Z"
    },
    "scrolled": true
   },
   "outputs": [
    {
     "data": {
      "text/html": [
       "<div>\n",
       "<style scoped>\n",
       "    .dataframe tbody tr th:only-of-type {\n",
       "        vertical-align: middle;\n",
       "    }\n",
       "\n",
       "    .dataframe tbody tr th {\n",
       "        vertical-align: top;\n",
       "    }\n",
       "\n",
       "    .dataframe thead th {\n",
       "        text-align: right;\n",
       "    }\n",
       "</style>\n",
       "<table border=\"1\" class=\"dataframe\">\n",
       "  <thead>\n",
       "    <tr style=\"text-align: right;\">\n",
       "      <th></th>\n",
       "      <th>id</th>\n",
       "      <th>product_uid</th>\n",
       "      <th>product_title</th>\n",
       "      <th>search_term</th>\n",
       "      <th>relevance</th>\n",
       "      <th>product_description</th>\n",
       "      <th>name</th>\n",
       "      <th>value</th>\n",
       "      <th>features</th>\n",
       "      <th>search_word_count</th>\n",
       "      <th>relevance_bins</th>\n",
       "      <th>is_stopword</th>\n",
       "      <th>word_in_title</th>\n",
       "      <th>ratio_word_in_title</th>\n",
       "      <th>word_in_desc</th>\n",
       "      <th>ratio_word_in_desc</th>\n",
       "      <th>max_levenshtein_title</th>\n",
       "      <th>max_levenshtein_desc</th>\n",
       "      <th>total_levenshtein_title</th>\n",
       "      <th>total_levenshtein_desc</th>\n",
       "    </tr>\n",
       "  </thead>\n",
       "  <tbody>\n",
       "    <tr>\n",
       "      <th>0</th>\n",
       "      <td>2</td>\n",
       "      <td>100001</td>\n",
       "      <td>simpson strong tie 12 gauge angle</td>\n",
       "      <td>angle bracket</td>\n",
       "      <td>3.0</td>\n",
       "      <td>not only do angles make joints stronger they also provide more consistent straight corners simpson strong tie offers a wide variety of angles in various sizes and thicknesses to handle light duty ...</td>\n",
       "      <td>[bullet01, bullet02, bullet03, bullet04, bullet05, bullet06, bullet07, gauge, material, mfg brand name, number of pieces, product depth in , product height in , product weight lb , product width in ]</td>\n",
       "      <td>[versatile connector for various 90â degrees connections and home repair projects, stronger than angled nailing or screw fastening alone, help ensure joints are consistently straight and strong, d...</td>\n",
       "      <td>{'bullet01': 'versatile connector for various 90â degrees connections and home repair projects', 'bullet02': 'stronger than angled nailing or screw fastening alone', 'bullet03': 'help ensure joint...</td>\n",
       "      <td>2</td>\n",
       "      <td>3.0</td>\n",
       "      <td>0</td>\n",
       "      <td>1</td>\n",
       "      <td>0.5</td>\n",
       "      <td>0</td>\n",
       "      <td>0.0</td>\n",
       "      <td>1.000000</td>\n",
       "      <td>0.909091</td>\n",
       "      <td>1.333333</td>\n",
       "      <td>1.454545</td>\n",
       "    </tr>\n",
       "    <tr>\n",
       "      <th>1</th>\n",
       "      <td>3</td>\n",
       "      <td>100001</td>\n",
       "      <td>simpson strong tie 12 gauge angle</td>\n",
       "      <td>l bracket</td>\n",
       "      <td>2.5</td>\n",
       "      <td>not only do angles make joints stronger they also provide more consistent straight corners simpson strong tie offers a wide variety of angles in various sizes and thicknesses to handle light duty ...</td>\n",
       "      <td>[bullet01, bullet02, bullet03, bullet04, bullet05, bullet06, bullet07, gauge, material, mfg brand name, number of pieces, product depth in , product height in , product weight lb , product width in ]</td>\n",
       "      <td>[versatile connector for various 90â degrees connections and home repair projects, stronger than angled nailing or screw fastening alone, help ensure joints are consistently straight and strong, d...</td>\n",
       "      <td>{'bullet01': 'versatile connector for various 90â degrees connections and home repair projects', 'bullet02': 'stronger than angled nailing or screw fastening alone', 'bullet03': 'help ensure joint...</td>\n",
       "      <td>2</td>\n",
       "      <td>2.0</td>\n",
       "      <td>0</td>\n",
       "      <td>0</td>\n",
       "      <td>0.0</td>\n",
       "      <td>0</td>\n",
       "      <td>0.0</td>\n",
       "      <td>0.333333</td>\n",
       "      <td>0.545455</td>\n",
       "      <td>0.666667</td>\n",
       "      <td>0.945455</td>\n",
       "    </tr>\n",
       "  </tbody>\n",
       "</table>\n",
       "</div>"
      ],
      "text/plain": [
       "   id  product_uid                      product_title    search_term  \\\n",
       "0   2       100001  simpson strong tie 12 gauge angle  angle bracket   \n",
       "1   3       100001  simpson strong tie 12 gauge angle      l bracket   \n",
       "\n",
       "   relevance  \\\n",
       "0        3.0   \n",
       "1        2.5   \n",
       "\n",
       "                                                                                                                                                                                       product_description  \\\n",
       "0  not only do angles make joints stronger they also provide more consistent straight corners simpson strong tie offers a wide variety of angles in various sizes and thicknesses to handle light duty ...   \n",
       "1  not only do angles make joints stronger they also provide more consistent straight corners simpson strong tie offers a wide variety of angles in various sizes and thicknesses to handle light duty ...   \n",
       "\n",
       "                                                                                                                                                                                                      name  \\\n",
       "0  [bullet01, bullet02, bullet03, bullet04, bullet05, bullet06, bullet07, gauge, material, mfg brand name, number of pieces, product depth in , product height in , product weight lb , product width in ]   \n",
       "1  [bullet01, bullet02, bullet03, bullet04, bullet05, bullet06, bullet07, gauge, material, mfg brand name, number of pieces, product depth in , product height in , product weight lb , product width in ]   \n",
       "\n",
       "                                                                                                                                                                                                     value  \\\n",
       "0  [versatile connector for various 90â degrees connections and home repair projects, stronger than angled nailing or screw fastening alone, help ensure joints are consistently straight and strong, d...   \n",
       "1  [versatile connector for various 90â degrees connections and home repair projects, stronger than angled nailing or screw fastening alone, help ensure joints are consistently straight and strong, d...   \n",
       "\n",
       "                                                                                                                                                                                                  features  \\\n",
       "0  {'bullet01': 'versatile connector for various 90â degrees connections and home repair projects', 'bullet02': 'stronger than angled nailing or screw fastening alone', 'bullet03': 'help ensure joint...   \n",
       "1  {'bullet01': 'versatile connector for various 90â degrees connections and home repair projects', 'bullet02': 'stronger than angled nailing or screw fastening alone', 'bullet03': 'help ensure joint...   \n",
       "\n",
       "   search_word_count  relevance_bins  is_stopword  word_in_title  \\\n",
       "0                  2             3.0            0              1   \n",
       "1                  2             2.0            0              0   \n",
       "\n",
       "   ratio_word_in_title  word_in_desc  ratio_word_in_desc  \\\n",
       "0                  0.5             0                 0.0   \n",
       "1                  0.0             0                 0.0   \n",
       "\n",
       "   max_levenshtein_title  max_levenshtein_desc  total_levenshtein_title  \\\n",
       "0               1.000000              0.909091                 1.333333   \n",
       "1               0.333333              0.545455                 0.666667   \n",
       "\n",
       "   total_levenshtein_desc  \n",
       "0                1.454545  \n",
       "1                0.945455  "
      ]
     },
     "execution_count": 20,
     "metadata": {},
     "output_type": "execute_result"
    }
   ],
   "source": [
    "df.head(2)"
   ]
  },
  {
   "cell_type": "code",
   "execution_count": 21,
   "metadata": {
    "ExecuteTime": {
     "end_time": "2021-05-06T06:25:03.805801Z",
     "start_time": "2021-05-06T06:25:02.388208Z"
    },
    "colab": {
     "base_uri": "https://localhost:8080/",
     "height": 308
    },
    "executionInfo": {
     "elapsed": 892099,
     "status": "ok",
     "timestamp": 1618821384671,
     "user": {
      "displayName": "Ashwinkumar Jayagopi",
      "photoUrl": "https://lh3.googleusercontent.com/a-/AOh14Gh47yVJAWTH0wh5QyDkeo1faM5evRToGXV4zKYa=s64",
      "userId": "16729666215456848120"
     },
     "user_tz": -330
    },
    "id": "DLp7zXmioBFt",
    "outputId": "18caffd8-daa9-40d0-c9c6-6ae06c02648d"
   },
   "outputs": [
    {
     "data": {
      "image/png": "[encoded data removed]",
      "text/plain": [
       "<Figure size 1440x432 with 3 Axes>"
      ]
     },
     "metadata": {
      "needs_background": "light"
     },
     "output_type": "display_data"
    }
   ],
   "source": [
    "fig, ax = plt.subplots(1, 3, figsize=(20, 6))\n",
    "\n",
    "for i in range(len(df[\"relevance_bins\"].unique())):\n",
    "  if i != 0:\n",
    "    sns.distplot(df[df[\"relevance_bins\"] == i][\"search_word_count\"], hist=True, bins=10, ax=ax[i - 1], axlabel=i)\n",
    "plt.show()"
   ]
  },
  {
   "cell_type": "code",
   "execution_count": 22,
   "metadata": {
    "ExecuteTime": {
     "end_time": "2021-05-06T06:25:04.049517Z",
     "start_time": "2021-05-06T06:25:03.808993Z"
    },
    "colab": {
     "base_uri": "https://localhost:8080/",
     "height": 262
    },
    "executionInfo": {
     "elapsed": 892095,
     "status": "ok",
     "timestamp": 1618821384673,
     "user": {
      "displayName": "Ashwinkumar Jayagopi",
      "photoUrl": "https://lh3.googleusercontent.com/a-/AOh14Gh47yVJAWTH0wh5QyDkeo1faM5evRToGXV4zKYa=s64",
      "userId": "16729666215456848120"
     },
     "user_tz": -330
    },
    "id": "b4TMk2xXKivH",
    "outputId": "e08965c1-c450-4e7e-f6f0-9ddc74f65a18",
    "scrolled": true
   },
   "outputs": [
    {
     "data": {
      "text/html": [
       "<span class=\"tex2jax_ignore\"><div class=\"entities\" style=\"line-height: 2.5; direction: ltr\">not only do angles make joints stronger they also provide more consistent straight corners simpson strong tie offers a wide variety of angles in various sizes and thicknesses to handle light duty jobs or projects where a structural connection is needed some can be bent skewed to match the project for outdoor projects or those where moisture is present use our zmax zinc coated connectors which provide extra resistance against corrosion look for a z at the end of the model number versatile connector for various \n",
       "<mark class=\"entity\" style=\"background: #e4e7d2; padding: 0.45em 0.6em; margin: 0 0.25em; line-height: 1; border-radius: 0.35em;\">\n",
       "    90\n",
       "    <span style=\"font-size: 0.8em; font-weight: bold; line-height: 1; border-radius: 0.35em; vertical-align: middle; margin-left: 0.5rem\">CARDINAL</span>\n",
       "</mark>\n",
       " connections and home repair projectsstronger than angled nailing or screw fastening alonehelp ensure joints are consistently straight and strongdimensions \n",
       "<mark class=\"entity\" style=\"background: #e4e7d2; padding: 0.45em 0.6em; margin: 0 0.25em; line-height: 1; border-radius: 0.35em;\">\n",
       "    3x3\n",
       "    <span style=\"font-size: 0.8em; font-weight: bold; line-height: 1; border-radius: 0.35em; vertical-align: middle; margin-left: 0.5rem\">CARDINAL</span>\n",
       "</mark>\n",
       "in. x 11 2in. made from \n",
       "<mark class=\"entity\" style=\"background: #e4e7d2; padding: 0.45em 0.6em; margin: 0 0.25em; line-height: 1; border-radius: 0.35em;\">\n",
       "    12\n",
       "    <span style=\"font-size: 0.8em; font-weight: bold; line-height: 1; border-radius: 0.35em; vertical-align: middle; margin-left: 0.5rem\">CARDINAL</span>\n",
       "</mark>\n",
       " gauge steelgalvanized for extra corrosion resistanceinstall with \n",
       "<mark class=\"entity\" style=\"background: #e4e7d2; padding: 0.45em 0.6em; margin: 0 0.25em; line-height: 1; border-radius: 0.35em;\">\n",
       "    10d\n",
       "    <span style=\"font-size: 0.8em; font-weight: bold; line-height: 1; border-radius: 0.35em; vertical-align: middle; margin-left: 0.5rem\">CARDINAL</span>\n",
       "</mark>\n",
       " common nails or \n",
       "<mark class=\"entity\" style=\"background: #e4e7d2; padding: 0.45em 0.6em; margin: 0 0.25em; line-height: 1; border-radius: 0.35em;\">\n",
       "    9\n",
       "    <span style=\"font-size: 0.8em; font-weight: bold; line-height: 1; border-radius: 0.35em; vertical-align: middle; margin-left: 0.5rem\">CARDINAL</span>\n",
       "</mark>\n",
       " x 11 2in. strong drive sd screws</div></span>"
      ],
      "text/plain": [
       "<IPython.core.display.HTML object>"
      ]
     },
     "metadata": {},
     "output_type": "display_data"
    }
   ],
   "source": [
    "doc = nlp(df[\"product_description\"].iloc[1])\n",
    "spacy.displacy.render(doc, style=\"ent\", jupyter=True)"
   ]
  },
  {
   "cell_type": "code",
   "execution_count": 98,
   "metadata": {
    "ExecuteTime": {
     "end_time": "2021-05-07T07:46:31.477978Z",
     "start_time": "2021-05-07T07:46:29.818750Z"
    },
    "executionInfo": {
     "elapsed": 10871,
     "status": "ok",
     "timestamp": 1618915312983,
     "user": {
      "displayName": "Ashwinkumar Jayagopi",
      "photoUrl": "https://lh3.googleusercontent.com/a-/AOh14Gh47yVJAWTH0wh5QyDkeo1faM5evRToGXV4zKYa=s64",
      "userId": "16729666215456848120"
     },
     "user_tz": -330
    },
    "id": "4ge5g4pqYn8d"
   },
   "outputs": [],
   "source": [
    "from pyspark.sql.types import *\n",
    "from pyspark import SparkConf, SparkContext\n",
    "from pyspark.sql import SparkSession\n",
    "from pyspark.sql import functions as F\n",
    "from pyspark.sql.functions import pandas_udf, PandasUDFType\n",
    "\n",
    "spark = SparkSession.builder\\\n",
    "        .master(\"local\")\\\n",
    "        .appName(\"Colab\")\\\n",
    "        .config('spark.driver.memory', '12g')\\\n",
    "        .config('spark.executor.memory', '12g')\\\n",
    "        .getOrCreate()"
   ]
  },
  {
   "cell_type": "code",
   "execution_count": 99,
   "metadata": {
    "ExecuteTime": {
     "end_time": "2021-05-07T07:46:31.713641Z",
     "start_time": "2021-05-07T07:46:31.488938Z"
    },
    "colab": {
     "base_uri": "https://localhost:8080/"
    },
    "executionInfo": {
     "elapsed": 6373,
     "status": "ok",
     "timestamp": 1618915312984,
     "user": {
      "displayName": "Ashwinkumar Jayagopi",
      "photoUrl": "https://lh3.googleusercontent.com/a-/AOh14Gh47yVJAWTH0wh5QyDkeo1faM5evRToGXV4zKYa=s64",
      "userId": "16729666215456848120"
     },
     "user_tz": -330
    },
    "id": "eHa5z2-1i1M3",
    "outputId": "b2e59f61-fcd5-47f6-fdf0-15dca9ef3be7",
    "scrolled": false
   },
   "outputs": [
    {
     "data": {
      "text/plain": [
       "[('spark.master', 'local'),\n",
       " ('spark.app.name', 'Colab'),\n",
       " ('spark.app.startTime', '1620373590396'),\n",
       " ('spark.driver.memory', '12g'),\n",
       " ('spark.executor.id', 'driver'),\n",
       " ('spark.executor.memory', '12g'),\n",
       " ('spark.sql.warehouse.dir',\n",
       "  'file:/home/ashwinkumar/Projects/home_depot_product_search_relevance/spark-warehouse'),\n",
       " ('spark.driver.host', '192.168.0.104'),\n",
       " ('spark.rdd.compress', 'True'),\n",
       " ('spark.serializer.objectStreamReset', '100'),\n",
       " ('spark.driver.port', '41071'),\n",
       " ('spark.submit.pyFiles', ''),\n",
       " ('spark.submit.deployMode', 'client'),\n",
       " ('spark.app.id', 'local-1620373591103'),\n",
       " ('spark.ui.showConsoleProgress', 'true')]"
      ]
     },
     "execution_count": 99,
     "metadata": {},
     "output_type": "execute_result"
    }
   ],
   "source": [
    "spark.sparkContext.getConf().getAll()"
   ]
  },
  {
   "cell_type": "code",
   "execution_count": 100,
   "metadata": {
    "ExecuteTime": {
     "end_time": "2021-05-07T07:46:31.922221Z",
     "start_time": "2021-05-07T07:46:31.741924Z"
    }
   },
   "outputs": [
    {
     "data": {
      "text/plain": [
       "5"
      ]
     },
     "execution_count": 100,
     "metadata": {},
     "output_type": "execute_result"
    }
   ],
   "source": [
    "spark_df.rdd.getNumPartitions()"
   ]
  },
  {
   "cell_type": "code",
   "execution_count": 101,
   "metadata": {
    "ExecuteTime": {
     "end_time": "2021-05-07T07:46:31.930636Z",
     "start_time": "2021-05-07T07:46:31.925267Z"
    }
   },
   "outputs": [],
   "source": [
    "# spark.stop()"
   ]
  },
  {
   "cell_type": "code",
   "execution_count": 102,
   "metadata": {
    "ExecuteTime": {
     "end_time": "2021-05-07T07:46:32.222060Z",
     "start_time": "2021-05-07T07:46:32.147766Z"
    },
    "executionInfo": {
     "elapsed": 1408,
     "status": "ok",
     "timestamp": 1618915609222,
     "user": {
      "displayName": "Ashwinkumar Jayagopi",
      "photoUrl": "https://lh3.googleusercontent.com/a-/AOh14Gh47yVJAWTH0wh5QyDkeo1faM5evRToGXV4zKYa=s64",
      "userId": "16729666215456848120"
     },
     "user_tz": -330
    },
    "id": "jELBnl4loH7s"
   },
   "outputs": [],
   "source": [
    "sch = StructType([StructField(\"id\", IntegerType(), False),\n",
    "                  StructField(\"product_uid\", IntegerType(), False)])\n",
    "                  # StructField(\"product_title\", StringType(), True),\n",
    "                  # StructField(\"search_term\", StringType(), True)])\n",
    "                  # StructField(\"relevance\", FloatType(), True),\n",
    "                  # StructField(\"product_description\", StringType(), True),\n",
    "                  # StructField(\"name\", StringType(), True),\n",
    "                  # StructField(\"value\", StringType(), True)])\n",
    "                  # StructField(\"features\", StringType(), True),\n",
    "                  # StructField(\"word_in_title\", IntegerType(), True),\n",
    "                  # StructField(\"ratio_word_in_title\", FloatType(), True),\n",
    "                  # StructField(\"word_in_desc\", IntegerType(), True),\n",
    "                  # StructField(\"ratio_word_in_desc\", FloatType(), True),\n",
    "                  # StructField(\"search_word_count\", IntegerType(), True),\n",
    "                  # StructField(\"relevance_bins\", FloatType(), True),\n",
    "                  # StructField(\"is_stopword\", IntegerType(), True),\n",
    "                  # StructField(\"total_levenshtein_title\", FloatType(), True),\n",
    "                  # StructField(\"total_levenshtein_desc\", FloatType(), True),\n",
    "                  # StructField(\"max_levenshtein_title\", FloatType(), True),\n",
    "                  # StructField(\"max_levenshtein_desc\", FloatType(), True)])"
   ]
  },
  {
   "cell_type": "code",
   "execution_count": 112,
   "metadata": {
    "ExecuteTime": {
     "end_time": "2021-05-07T07:56:56.739709Z",
     "start_time": "2021-05-07T07:55:35.484667Z"
    },
    "id": "Rknjest0tSX-",
    "scrolled": true
   },
   "outputs": [
    {
     "name": "stdout",
     "output_type": "stream",
     "text": [
      "root\n",
      " |-- id: long (nullable = true)\n",
      " |-- product_uid: long (nullable = true)\n",
      " |-- product_title: string (nullable = true)\n",
      " |-- search_term: string (nullable = true)\n",
      " |-- relevance: double (nullable = true)\n",
      " |-- product_description: string (nullable = true)\n",
      " |-- name: array (nullable = true)\n",
      " |    |-- element: string (containsNull = true)\n",
      " |-- value: array (nullable = true)\n",
      " |    |-- element: string (containsNull = true)\n",
      " |-- features: map (nullable = true)\n",
      " |    |-- key: string\n",
      " |    |-- value: string (valueContainsNull = true)\n",
      " |-- search_word_count: long (nullable = true)\n",
      " |-- relevance_bins: double (nullable = true)\n",
      " |-- is_stopword: long (nullable = true)\n",
      " |-- word_in_title: long (nullable = true)\n",
      " |-- ratio_word_in_title: double (nullable = true)\n",
      " |-- word_in_desc: long (nullable = true)\n",
      " |-- ratio_word_in_desc: double (nullable = true)\n",
      " |-- max_levenshtein_title: double (nullable = true)\n",
      " |-- max_levenshtein_desc: double (nullable = true)\n",
      " |-- total_levenshtein_title: double (nullable = true)\n",
      " |-- total_levenshtein_desc: double (nullable = true)\n",
      " |-- next: array (nullable = true)\n",
      " |    |-- element: struct (containsNull = true)\n",
      " |    |    |-- _1: string (nullable = true)\n",
      " |    |    |-- _2: long (nullable = true)\n",
      "\n"
     ]
    }
   ],
   "source": [
    "spark_df = spark.createDataFrame(df)\n",
    "spark_df.printSchema()"
   ]
  },
  {
   "cell_type": "code",
   "execution_count": 113,
   "metadata": {
    "ExecuteTime": {
     "end_time": "2021-05-07T07:57:10.306086Z",
     "start_time": "2021-05-07T07:56:56.800781Z"
    },
    "scrolled": true
   },
   "outputs": [
    {
     "data": {
      "text/plain": [
       "(240760, 21)"
      ]
     },
     "execution_count": 113,
     "metadata": {},
     "output_type": "execute_result"
    }
   ],
   "source": [
    "spark_df.count(), len(spark_df.columns)"
   ]
  },
  {
   "cell_type": "code",
   "execution_count": 114,
   "metadata": {
    "ExecuteTime": {
     "end_time": "2021-05-07T07:57:10.492381Z",
     "start_time": "2021-05-07T07:57:10.310428Z"
    }
   },
   "outputs": [
    {
     "data": {
      "text/plain": [
       "5"
      ]
     },
     "execution_count": 114,
     "metadata": {},
     "output_type": "execute_result"
    }
   ],
   "source": [
    "spark_df = spark_df.repartition(5)\n",
    "spark_df.rdd.getNumPartitions()"
   ]
  },
  {
   "cell_type": "code",
   "execution_count": 115,
   "metadata": {
    "ExecuteTime": {
     "end_time": "2021-05-07T07:57:10.531969Z",
     "start_time": "2021-05-07T07:57:10.495372Z"
    }
   },
   "outputs": [],
   "source": [
    "spacy_model = None\n",
    "def get_spacy_model():\n",
    "    global spacy_model\n",
    "    if not spacy_model:\n",
    "        _spacy = spacy.load(\"en_core_web_sm\")\n",
    "        spacy_model = _spacy\n",
    "    \n",
    "    return spacy_model      \n",
    "\n",
    "# @pandas_udf(returnType=MapType(StringType(), IntegerType()), functionType=PandasUDFType.SCALAR)\n",
    "def create_tags(text):\n",
    "    nlp = get_spacy_model()\n",
    "#     docs = [nlp(text) for text in documents]\n",
    "    tags = dict(sorted(Counter([i.label_ for i in nlp(text).ents]).items(), key=lambda x: x[1], reverse=True))\n",
    "#     tags_series = pd.Series(tags)\n",
    "    return tags "
   ]
  },
  {
   "cell_type": "code",
   "execution_count": 121,
   "metadata": {
    "ExecuteTime": {
     "end_time": "2021-05-07T08:00:07.054428Z",
     "start_time": "2021-05-07T08:00:07.018044Z"
    },
    "scrolled": true
   },
   "outputs": [],
   "source": [
    "# spark.udf.register(\"new_function\", create_tags)\n",
    "udf_new = F.udf(lambda x: create_tags(x), returnType=MapType(StringType(), IntegerType()))\n",
    "spark_df = spark_df.withColumn(\"tags\", udf_new(\"product_description\"))"
   ]
  },
  {
   "cell_type": "code",
   "execution_count": 122,
   "metadata": {
    "ExecuteTime": {
     "end_time": "2021-05-07T08:00:11.055632Z",
     "start_time": "2021-05-07T08:00:11.050945Z"
    },
    "scrolled": true
   },
   "outputs": [
    {
     "name": "stdout",
     "output_type": "stream",
     "text": [
      "root\n",
      " |-- id: long (nullable = true)\n",
      " |-- product_uid: long (nullable = true)\n",
      " |-- product_title: string (nullable = true)\n",
      " |-- search_term: string (nullable = true)\n",
      " |-- relevance: double (nullable = true)\n",
      " |-- product_description: string (nullable = true)\n",
      " |-- name: array (nullable = true)\n",
      " |    |-- element: string (containsNull = true)\n",
      " |-- value: array (nullable = true)\n",
      " |    |-- element: string (containsNull = true)\n",
      " |-- features: map (nullable = true)\n",
      " |    |-- key: string\n",
      " |    |-- value: string (valueContainsNull = true)\n",
      " |-- search_word_count: long (nullable = true)\n",
      " |-- relevance_bins: double (nullable = true)\n",
      " |-- is_stopword: long (nullable = true)\n",
      " |-- word_in_title: long (nullable = true)\n",
      " |-- ratio_word_in_title: double (nullable = true)\n",
      " |-- word_in_desc: long (nullable = true)\n",
      " |-- ratio_word_in_desc: double (nullable = true)\n",
      " |-- max_levenshtein_title: double (nullable = true)\n",
      " |-- max_levenshtein_desc: double (nullable = true)\n",
      " |-- total_levenshtein_title: double (nullable = true)\n",
      " |-- total_levenshtein_desc: double (nullable = true)\n",
      " |-- next: array (nullable = true)\n",
      " |    |-- element: struct (containsNull = true)\n",
      " |    |    |-- _1: string (nullable = true)\n",
      " |    |    |-- _2: long (nullable = true)\n",
      " |-- tags: map (nullable = true)\n",
      " |    |-- key: string\n",
      " |    |-- value: integer (valueContainsNull = true)\n",
      "\n"
     ]
    }
   ],
   "source": [
    "spark_df.printSchema()"
   ]
  },
  {
   "cell_type": "code",
   "execution_count": 123,
   "metadata": {
    "ExecuteTime": {
     "end_time": "2021-05-07T08:03:37.042717Z",
     "start_time": "2021-05-07T08:00:19.824333Z"
    }
   },
   "outputs": [
    {
     "name": "stdout",
     "output_type": "stream",
     "text": [
      "+--------------------------+\n",
      "|tags                      |\n",
      "+--------------------------+\n",
      "|{DATE -> 1, CARDINAL -> 1}|\n",
      "+--------------------------+\n",
      "only showing top 1 row\n",
      "\n"
     ]
    }
   ],
   "source": [
    "spark_df.select(F.col(\"tags\")).show(1, truncate=False)"
   ]
  },
  {
   "cell_type": "code",
   "execution_count": 145,
   "metadata": {
    "ExecuteTime": {
     "end_time": "2021-05-07T10:12:34.765402Z",
     "start_time": "2021-05-07T10:12:34.667056Z"
    },
    "scrolled": true
   },
   "outputs": [
    {
     "name": "stdout",
     "output_type": "stream",
     "text": [
      "root\n",
      " |-- id: long (nullable = true)\n",
      " |-- product_uid: long (nullable = true)\n",
      " |-- product_title: string (nullable = true)\n",
      " |-- search_term: string (nullable = true)\n",
      " |-- relevance: double (nullable = true)\n",
      " |-- product_description: string (nullable = true)\n",
      " |-- name: array (nullable = true)\n",
      " |    |-- element: string (containsNull = true)\n",
      " |-- value: array (nullable = true)\n",
      " |    |-- element: string (containsNull = true)\n",
      " |-- features: map (nullable = true)\n",
      " |    |-- key: string\n",
      " |    |-- value: string (valueContainsNull = true)\n",
      " |-- search_word_count: long (nullable = true)\n",
      " |-- relevance_bins: double (nullable = true)\n",
      " |-- is_stopword: long (nullable = true)\n",
      " |-- word_in_title: long (nullable = true)\n",
      " |-- ratio_word_in_title: double (nullable = true)\n",
      " |-- word_in_desc: long (nullable = true)\n",
      " |-- ratio_word_in_desc: double (nullable = true)\n",
      " |-- max_levenshtein_title: double (nullable = true)\n",
      " |-- max_levenshtein_desc: double (nullable = true)\n",
      " |-- total_levenshtein_title: double (nullable = true)\n",
      " |-- total_levenshtein_desc: double (nullable = true)\n",
      " |-- next: array (nullable = true)\n",
      " |    |-- element: struct (containsNull = true)\n",
      " |    |    |-- _1: string (nullable = true)\n",
      " |    |    |-- _2: long (nullable = true)\n",
      " |-- tags: map (nullable = true)\n",
      " |    |-- key: string\n",
      " |    |-- value: integer (valueContainsNull = true)\n",
      "\n"
     ]
    }
   ],
   "source": [
    "spark_df.printSchema()"
   ]
  },
  {
   "cell_type": "code",
   "execution_count": 149,
   "metadata": {
    "ExecuteTime": {
     "end_time": "2021-05-07T11:50:51.722711Z",
     "start_time": "2021-05-07T10:15:24.349308Z"
    },
    "scrolled": true
   },
   "outputs": [
    {
     "ename": "KeyboardInterrupt",
     "evalue": "",
     "output_type": "error",
     "traceback": [
      "\u001b[0;31m---------------------------------------------------------------------------\u001b[0m",
      "\u001b[0;31mKeyboardInterrupt\u001b[0m                         Traceback (most recent call last)",
      "\u001b[0;32m<ipython-input-149-d41b403cb71d>\u001b[0m in \u001b[0;36m<module>\u001b[0;34m\u001b[0m\n\u001b[0;32m----> 1\u001b[0;31m \u001b[0mspark_df\u001b[0m\u001b[0;34m.\u001b[0m\u001b[0mwithColumn\u001b[0m\u001b[0;34m(\u001b[0m\u001b[0;34m\"name\"\u001b[0m\u001b[0;34m,\u001b[0m \u001b[0mF\u001b[0m\u001b[0;34m.\u001b[0m\u001b[0mcol\u001b[0m\u001b[0;34m(\u001b[0m\u001b[0;34m\"name\"\u001b[0m\u001b[0;34m)\u001b[0m\u001b[0;34m.\u001b[0m\u001b[0mcast\u001b[0m\u001b[0;34m(\u001b[0m\u001b[0;34m\"string\"\u001b[0m\u001b[0;34m)\u001b[0m\u001b[0;34m)\u001b[0m\u001b[0;31m\\\u001b[0m\u001b[0;34m\u001b[0m\u001b[0;34m\u001b[0m\u001b[0m\n\u001b[0m\u001b[1;32m      2\u001b[0m         \u001b[0;34m.\u001b[0m\u001b[0mwithColumn\u001b[0m\u001b[0;34m(\u001b[0m\u001b[0;34m\"value\"\u001b[0m\u001b[0;34m,\u001b[0m \u001b[0mF\u001b[0m\u001b[0;34m.\u001b[0m\u001b[0mcol\u001b[0m\u001b[0;34m(\u001b[0m\u001b[0;34m\"value\"\u001b[0m\u001b[0;34m)\u001b[0m\u001b[0;34m.\u001b[0m\u001b[0mcast\u001b[0m\u001b[0;34m(\u001b[0m\u001b[0;34m\"string\"\u001b[0m\u001b[0;34m)\u001b[0m\u001b[0;34m)\u001b[0m\u001b[0;31m\\\u001b[0m\u001b[0;34m\u001b[0m\u001b[0;34m\u001b[0m\u001b[0m\n\u001b[1;32m      3\u001b[0m         \u001b[0;34m.\u001b[0m\u001b[0mwithColumn\u001b[0m\u001b[0;34m(\u001b[0m\u001b[0;34m\"features\"\u001b[0m\u001b[0;34m,\u001b[0m \u001b[0mF\u001b[0m\u001b[0;34m.\u001b[0m\u001b[0mcol\u001b[0m\u001b[0;34m(\u001b[0m\u001b[0;34m\"features\"\u001b[0m\u001b[0;34m)\u001b[0m\u001b[0;34m.\u001b[0m\u001b[0mcast\u001b[0m\u001b[0;34m(\u001b[0m\u001b[0;34m\"string\"\u001b[0m\u001b[0;34m)\u001b[0m\u001b[0;34m)\u001b[0m\u001b[0;31m\\\u001b[0m\u001b[0;34m\u001b[0m\u001b[0;34m\u001b[0m\u001b[0m\n\u001b[1;32m      4\u001b[0m         \u001b[0;34m.\u001b[0m\u001b[0mwithColumn\u001b[0m\u001b[0;34m(\u001b[0m\u001b[0;34m\"next\"\u001b[0m\u001b[0;34m,\u001b[0m \u001b[0mF\u001b[0m\u001b[0;34m.\u001b[0m\u001b[0mcol\u001b[0m\u001b[0;34m(\u001b[0m\u001b[0;34m\"next\"\u001b[0m\u001b[0;34m)\u001b[0m\u001b[0;34m.\u001b[0m\u001b[0mcast\u001b[0m\u001b[0;34m(\u001b[0m\u001b[0;34m\"string\"\u001b[0m\u001b[0;34m)\u001b[0m\u001b[0;34m)\u001b[0m\u001b[0;31m\\\u001b[0m\u001b[0;34m\u001b[0m\u001b[0;34m\u001b[0m\u001b[0m\n\u001b[1;32m      5\u001b[0m         \u001b[0;34m.\u001b[0m\u001b[0mwithColumn\u001b[0m\u001b[0;34m(\u001b[0m\u001b[0;34m\"tags\"\u001b[0m\u001b[0;34m,\u001b[0m \u001b[0mF\u001b[0m\u001b[0;34m.\u001b[0m\u001b[0mcol\u001b[0m\u001b[0;34m(\u001b[0m\u001b[0;34m\"tags\"\u001b[0m\u001b[0;34m)\u001b[0m\u001b[0;34m.\u001b[0m\u001b[0mcast\u001b[0m\u001b[0;34m(\u001b[0m\u001b[0;34m\"string\"\u001b[0m\u001b[0;34m)\u001b[0m\u001b[0;34m)\u001b[0m\u001b[0;34m.\u001b[0m\u001b[0mwrite\u001b[0m\u001b[0;34m.\u001b[0m\u001b[0mcsv\u001b[0m\u001b[0;34m(\u001b[0m\u001b[0;34m\"temp_new.csv\"\u001b[0m\u001b[0;34m)\u001b[0m\u001b[0;34m\u001b[0m\u001b[0;34m\u001b[0m\u001b[0m\n",
      "\u001b[0;32m~/.local/lib/python3.8/site-packages/pyspark/sql/readwriter.py\u001b[0m in \u001b[0;36mcsv\u001b[0;34m(self, path, mode, compression, sep, quote, escape, header, nullValue, escapeQuotes, quoteAll, dateFormat, timestampFormat, ignoreLeadingWhiteSpace, ignoreTrailingWhiteSpace, charToEscapeQuoteEscaping, encoding, emptyValue, lineSep)\u001b[0m\n\u001b[1;32m   1369\u001b[0m                        \u001b[0mcharToEscapeQuoteEscaping\u001b[0m\u001b[0;34m=\u001b[0m\u001b[0mcharToEscapeQuoteEscaping\u001b[0m\u001b[0;34m,\u001b[0m\u001b[0;34m\u001b[0m\u001b[0;34m\u001b[0m\u001b[0m\n\u001b[1;32m   1370\u001b[0m                        encoding=encoding, emptyValue=emptyValue, lineSep=lineSep)\n\u001b[0;32m-> 1371\u001b[0;31m         \u001b[0mself\u001b[0m\u001b[0;34m.\u001b[0m\u001b[0m_jwrite\u001b[0m\u001b[0;34m.\u001b[0m\u001b[0mcsv\u001b[0m\u001b[0;34m(\u001b[0m\u001b[0mpath\u001b[0m\u001b[0;34m)\u001b[0m\u001b[0;34m\u001b[0m\u001b[0;34m\u001b[0m\u001b[0m\n\u001b[0m\u001b[1;32m   1372\u001b[0m \u001b[0;34m\u001b[0m\u001b[0m\n\u001b[1;32m   1373\u001b[0m     \u001b[0;32mdef\u001b[0m \u001b[0morc\u001b[0m\u001b[0;34m(\u001b[0m\u001b[0mself\u001b[0m\u001b[0;34m,\u001b[0m \u001b[0mpath\u001b[0m\u001b[0;34m,\u001b[0m \u001b[0mmode\u001b[0m\u001b[0;34m=\u001b[0m\u001b[0;32mNone\u001b[0m\u001b[0;34m,\u001b[0m \u001b[0mpartitionBy\u001b[0m\u001b[0;34m=\u001b[0m\u001b[0;32mNone\u001b[0m\u001b[0;34m,\u001b[0m \u001b[0mcompression\u001b[0m\u001b[0;34m=\u001b[0m\u001b[0;32mNone\u001b[0m\u001b[0;34m)\u001b[0m\u001b[0;34m:\u001b[0m\u001b[0;34m\u001b[0m\u001b[0;34m\u001b[0m\u001b[0m\n",
      "\u001b[0;32m~/.local/lib/python3.8/site-packages/py4j/java_gateway.py\u001b[0m in \u001b[0;36m__call__\u001b[0;34m(self, *args)\u001b[0m\n\u001b[1;32m   1301\u001b[0m             \u001b[0mproto\u001b[0m\u001b[0;34m.\u001b[0m\u001b[0mEND_COMMAND_PART\u001b[0m\u001b[0;34m\u001b[0m\u001b[0;34m\u001b[0m\u001b[0m\n\u001b[1;32m   1302\u001b[0m \u001b[0;34m\u001b[0m\u001b[0m\n\u001b[0;32m-> 1303\u001b[0;31m         \u001b[0manswer\u001b[0m \u001b[0;34m=\u001b[0m \u001b[0mself\u001b[0m\u001b[0;34m.\u001b[0m\u001b[0mgateway_client\u001b[0m\u001b[0;34m.\u001b[0m\u001b[0msend_command\u001b[0m\u001b[0;34m(\u001b[0m\u001b[0mcommand\u001b[0m\u001b[0;34m)\u001b[0m\u001b[0;34m\u001b[0m\u001b[0;34m\u001b[0m\u001b[0m\n\u001b[0m\u001b[1;32m   1304\u001b[0m         return_value = get_return_value(\n\u001b[1;32m   1305\u001b[0m             answer, self.gateway_client, self.target_id, self.name)\n",
      "\u001b[0;32m~/.local/lib/python3.8/site-packages/py4j/java_gateway.py\u001b[0m in \u001b[0;36msend_command\u001b[0;34m(self, command, retry, binary)\u001b[0m\n\u001b[1;32m   1031\u001b[0m         \u001b[0mconnection\u001b[0m \u001b[0;34m=\u001b[0m \u001b[0mself\u001b[0m\u001b[0;34m.\u001b[0m\u001b[0m_get_connection\u001b[0m\u001b[0;34m(\u001b[0m\u001b[0;34m)\u001b[0m\u001b[0;34m\u001b[0m\u001b[0;34m\u001b[0m\u001b[0m\n\u001b[1;32m   1032\u001b[0m         \u001b[0;32mtry\u001b[0m\u001b[0;34m:\u001b[0m\u001b[0;34m\u001b[0m\u001b[0;34m\u001b[0m\u001b[0m\n\u001b[0;32m-> 1033\u001b[0;31m             \u001b[0mresponse\u001b[0m \u001b[0;34m=\u001b[0m \u001b[0mconnection\u001b[0m\u001b[0;34m.\u001b[0m\u001b[0msend_command\u001b[0m\u001b[0;34m(\u001b[0m\u001b[0mcommand\u001b[0m\u001b[0;34m)\u001b[0m\u001b[0;34m\u001b[0m\u001b[0;34m\u001b[0m\u001b[0m\n\u001b[0m\u001b[1;32m   1034\u001b[0m             \u001b[0;32mif\u001b[0m \u001b[0mbinary\u001b[0m\u001b[0;34m:\u001b[0m\u001b[0;34m\u001b[0m\u001b[0;34m\u001b[0m\u001b[0m\n\u001b[1;32m   1035\u001b[0m                 \u001b[0;32mreturn\u001b[0m \u001b[0mresponse\u001b[0m\u001b[0;34m,\u001b[0m \u001b[0mself\u001b[0m\u001b[0;34m.\u001b[0m\u001b[0m_create_connection_guard\u001b[0m\u001b[0;34m(\u001b[0m\u001b[0mconnection\u001b[0m\u001b[0;34m)\u001b[0m\u001b[0;34m\u001b[0m\u001b[0;34m\u001b[0m\u001b[0m\n",
      "\u001b[0;32m~/.local/lib/python3.8/site-packages/py4j/java_gateway.py\u001b[0m in \u001b[0;36msend_command\u001b[0;34m(self, command)\u001b[0m\n\u001b[1;32m   1198\u001b[0m \u001b[0;34m\u001b[0m\u001b[0m\n\u001b[1;32m   1199\u001b[0m         \u001b[0;32mtry\u001b[0m\u001b[0;34m:\u001b[0m\u001b[0;34m\u001b[0m\u001b[0;34m\u001b[0m\u001b[0m\n\u001b[0;32m-> 1200\u001b[0;31m             \u001b[0manswer\u001b[0m \u001b[0;34m=\u001b[0m \u001b[0msmart_decode\u001b[0m\u001b[0;34m(\u001b[0m\u001b[0mself\u001b[0m\u001b[0;34m.\u001b[0m\u001b[0mstream\u001b[0m\u001b[0;34m.\u001b[0m\u001b[0mreadline\u001b[0m\u001b[0;34m(\u001b[0m\u001b[0;34m)\u001b[0m\u001b[0;34m[\u001b[0m\u001b[0;34m:\u001b[0m\u001b[0;34m-\u001b[0m\u001b[0;36m1\u001b[0m\u001b[0;34m]\u001b[0m\u001b[0;34m)\u001b[0m\u001b[0;34m\u001b[0m\u001b[0;34m\u001b[0m\u001b[0m\n\u001b[0m\u001b[1;32m   1201\u001b[0m             \u001b[0mlogger\u001b[0m\u001b[0;34m.\u001b[0m\u001b[0mdebug\u001b[0m\u001b[0;34m(\u001b[0m\u001b[0;34m\"Answer received: {0}\"\u001b[0m\u001b[0;34m.\u001b[0m\u001b[0mformat\u001b[0m\u001b[0;34m(\u001b[0m\u001b[0manswer\u001b[0m\u001b[0;34m)\u001b[0m\u001b[0;34m)\u001b[0m\u001b[0;34m\u001b[0m\u001b[0;34m\u001b[0m\u001b[0m\n\u001b[1;32m   1202\u001b[0m             \u001b[0;32mif\u001b[0m \u001b[0manswer\u001b[0m\u001b[0;34m.\u001b[0m\u001b[0mstartswith\u001b[0m\u001b[0;34m(\u001b[0m\u001b[0mproto\u001b[0m\u001b[0;34m.\u001b[0m\u001b[0mRETURN_MESSAGE\u001b[0m\u001b[0;34m)\u001b[0m\u001b[0;34m:\u001b[0m\u001b[0;34m\u001b[0m\u001b[0;34m\u001b[0m\u001b[0m\n",
      "\u001b[0;32m~/anaconda3/lib/python3.8/socket.py\u001b[0m in \u001b[0;36mreadinto\u001b[0;34m(self, b)\u001b[0m\n\u001b[1;32m    667\u001b[0m         \u001b[0;32mwhile\u001b[0m \u001b[0;32mTrue\u001b[0m\u001b[0;34m:\u001b[0m\u001b[0;34m\u001b[0m\u001b[0;34m\u001b[0m\u001b[0m\n\u001b[1;32m    668\u001b[0m             \u001b[0;32mtry\u001b[0m\u001b[0;34m:\u001b[0m\u001b[0;34m\u001b[0m\u001b[0;34m\u001b[0m\u001b[0m\n\u001b[0;32m--> 669\u001b[0;31m                 \u001b[0;32mreturn\u001b[0m \u001b[0mself\u001b[0m\u001b[0;34m.\u001b[0m\u001b[0m_sock\u001b[0m\u001b[0;34m.\u001b[0m\u001b[0mrecv_into\u001b[0m\u001b[0;34m(\u001b[0m\u001b[0mb\u001b[0m\u001b[0;34m)\u001b[0m\u001b[0;34m\u001b[0m\u001b[0;34m\u001b[0m\u001b[0m\n\u001b[0m\u001b[1;32m    670\u001b[0m             \u001b[0;32mexcept\u001b[0m \u001b[0mtimeout\u001b[0m\u001b[0;34m:\u001b[0m\u001b[0;34m\u001b[0m\u001b[0;34m\u001b[0m\u001b[0m\n\u001b[1;32m    671\u001b[0m                 \u001b[0mself\u001b[0m\u001b[0;34m.\u001b[0m\u001b[0m_timeout_occurred\u001b[0m \u001b[0;34m=\u001b[0m \u001b[0;32mTrue\u001b[0m\u001b[0;34m\u001b[0m\u001b[0;34m\u001b[0m\u001b[0m\n",
      "\u001b[0;31mKeyboardInterrupt\u001b[0m: "
     ]
    }
   ],
   "source": [
    "spark_df.withColumn(\"name\", F.col(\"name\").cast(\"string\"))\\\n",
    "        .withColumn(\"value\", F.col(\"value\").cast(\"string\"))\\\n",
    "        .withColumn(\"features\", F.col(\"features\").cast(\"string\"))\\\n",
    "        .withColumn(\"next\", F.col(\"next\").cast(\"string\"))\\\n",
    "        .withColumn(\"tags\", F.col(\"tags\").cast(\"string\")).write.csv(\"temp_new.csv\")"
   ]
  },
  {
   "cell_type": "code",
   "execution_count": 143,
   "metadata": {
    "ExecuteTime": {
     "end_time": "2021-05-07T10:10:26.907626Z",
     "start_time": "2021-05-07T10:08:39.858933Z"
    },
    "scrolled": true
   },
   "outputs": [
    {
     "ename": "KeyboardInterrupt",
     "evalue": "",
     "output_type": "error",
     "traceback": [
      "\u001b[0;31m---------------------------------------------------------------------------\u001b[0m",
      "\u001b[0;31mKeyboardInterrupt\u001b[0m                         Traceback (most recent call last)",
      "\u001b[0;32m<ipython-input-143-766d90f207fa>\u001b[0m in \u001b[0;36m<module>\u001b[0;34m\u001b[0m\n\u001b[0;32m----> 1\u001b[0;31m \u001b[0mkeys_df\u001b[0m \u001b[0;34m=\u001b[0m \u001b[0mspark_df\u001b[0m\u001b[0;34m.\u001b[0m\u001b[0mselect\u001b[0m\u001b[0;34m(\u001b[0m\u001b[0mF\u001b[0m\u001b[0;34m.\u001b[0m\u001b[0mexplode\u001b[0m\u001b[0;34m(\u001b[0m\u001b[0mF\u001b[0m\u001b[0;34m.\u001b[0m\u001b[0mmap_keys\u001b[0m\u001b[0;34m(\u001b[0m\u001b[0mF\u001b[0m\u001b[0;34m.\u001b[0m\u001b[0mcol\u001b[0m\u001b[0;34m(\u001b[0m\u001b[0;34m\"tags\"\u001b[0m\u001b[0;34m)\u001b[0m\u001b[0;34m)\u001b[0m\u001b[0;34m)\u001b[0m\u001b[0;34m)\u001b[0m\u001b[0;34m.\u001b[0m\u001b[0mdistinct\u001b[0m\u001b[0;34m(\u001b[0m\u001b[0;34m)\u001b[0m\u001b[0;34m.\u001b[0m\u001b[0mcollect\u001b[0m\u001b[0;34m(\u001b[0m\u001b[0;34m)\u001b[0m\u001b[0;34m\u001b[0m\u001b[0;34m\u001b[0m\u001b[0m\n\u001b[0m\u001b[1;32m      2\u001b[0m \u001b[0mkeys_df\u001b[0m\u001b[0;34m\u001b[0m\u001b[0;34m\u001b[0m\u001b[0m\n",
      "\u001b[0;32m~/.local/lib/python3.8/site-packages/pyspark/sql/dataframe.py\u001b[0m in \u001b[0;36mcollect\u001b[0;34m(self)\u001b[0m\n\u001b[1;32m    675\u001b[0m         \"\"\"\n\u001b[1;32m    676\u001b[0m         \u001b[0;32mwith\u001b[0m \u001b[0mSCCallSiteSync\u001b[0m\u001b[0;34m(\u001b[0m\u001b[0mself\u001b[0m\u001b[0;34m.\u001b[0m\u001b[0m_sc\u001b[0m\u001b[0;34m)\u001b[0m \u001b[0;32mas\u001b[0m \u001b[0mcss\u001b[0m\u001b[0;34m:\u001b[0m\u001b[0;34m\u001b[0m\u001b[0;34m\u001b[0m\u001b[0m\n\u001b[0;32m--> 677\u001b[0;31m             \u001b[0msock_info\u001b[0m \u001b[0;34m=\u001b[0m \u001b[0mself\u001b[0m\u001b[0;34m.\u001b[0m\u001b[0m_jdf\u001b[0m\u001b[0;34m.\u001b[0m\u001b[0mcollectToPython\u001b[0m\u001b[0;34m(\u001b[0m\u001b[0;34m)\u001b[0m\u001b[0;34m\u001b[0m\u001b[0;34m\u001b[0m\u001b[0m\n\u001b[0m\u001b[1;32m    678\u001b[0m         \u001b[0;32mreturn\u001b[0m \u001b[0mlist\u001b[0m\u001b[0;34m(\u001b[0m\u001b[0m_load_from_socket\u001b[0m\u001b[0;34m(\u001b[0m\u001b[0msock_info\u001b[0m\u001b[0;34m,\u001b[0m \u001b[0mBatchedSerializer\u001b[0m\u001b[0;34m(\u001b[0m\u001b[0mPickleSerializer\u001b[0m\u001b[0;34m(\u001b[0m\u001b[0;34m)\u001b[0m\u001b[0;34m)\u001b[0m\u001b[0;34m)\u001b[0m\u001b[0;34m)\u001b[0m\u001b[0;34m\u001b[0m\u001b[0;34m\u001b[0m\u001b[0m\n\u001b[1;32m    679\u001b[0m \u001b[0;34m\u001b[0m\u001b[0m\n",
      "\u001b[0;32m~/.local/lib/python3.8/site-packages/py4j/java_gateway.py\u001b[0m in \u001b[0;36m__call__\u001b[0;34m(self, *args)\u001b[0m\n\u001b[1;32m   1301\u001b[0m             \u001b[0mproto\u001b[0m\u001b[0;34m.\u001b[0m\u001b[0mEND_COMMAND_PART\u001b[0m\u001b[0;34m\u001b[0m\u001b[0;34m\u001b[0m\u001b[0m\n\u001b[1;32m   1302\u001b[0m \u001b[0;34m\u001b[0m\u001b[0m\n\u001b[0;32m-> 1303\u001b[0;31m         \u001b[0manswer\u001b[0m \u001b[0;34m=\u001b[0m \u001b[0mself\u001b[0m\u001b[0;34m.\u001b[0m\u001b[0mgateway_client\u001b[0m\u001b[0;34m.\u001b[0m\u001b[0msend_command\u001b[0m\u001b[0;34m(\u001b[0m\u001b[0mcommand\u001b[0m\u001b[0;34m)\u001b[0m\u001b[0;34m\u001b[0m\u001b[0;34m\u001b[0m\u001b[0m\n\u001b[0m\u001b[1;32m   1304\u001b[0m         return_value = get_return_value(\n\u001b[1;32m   1305\u001b[0m             answer, self.gateway_client, self.target_id, self.name)\n",
      "\u001b[0;32m~/.local/lib/python3.8/site-packages/py4j/java_gateway.py\u001b[0m in \u001b[0;36msend_command\u001b[0;34m(self, command, retry, binary)\u001b[0m\n\u001b[1;32m   1031\u001b[0m         \u001b[0mconnection\u001b[0m \u001b[0;34m=\u001b[0m \u001b[0mself\u001b[0m\u001b[0;34m.\u001b[0m\u001b[0m_get_connection\u001b[0m\u001b[0;34m(\u001b[0m\u001b[0;34m)\u001b[0m\u001b[0;34m\u001b[0m\u001b[0;34m\u001b[0m\u001b[0m\n\u001b[1;32m   1032\u001b[0m         \u001b[0;32mtry\u001b[0m\u001b[0;34m:\u001b[0m\u001b[0;34m\u001b[0m\u001b[0;34m\u001b[0m\u001b[0m\n\u001b[0;32m-> 1033\u001b[0;31m             \u001b[0mresponse\u001b[0m \u001b[0;34m=\u001b[0m \u001b[0mconnection\u001b[0m\u001b[0;34m.\u001b[0m\u001b[0msend_command\u001b[0m\u001b[0;34m(\u001b[0m\u001b[0mcommand\u001b[0m\u001b[0;34m)\u001b[0m\u001b[0;34m\u001b[0m\u001b[0;34m\u001b[0m\u001b[0m\n\u001b[0m\u001b[1;32m   1034\u001b[0m             \u001b[0;32mif\u001b[0m \u001b[0mbinary\u001b[0m\u001b[0;34m:\u001b[0m\u001b[0;34m\u001b[0m\u001b[0;34m\u001b[0m\u001b[0m\n\u001b[1;32m   1035\u001b[0m                 \u001b[0;32mreturn\u001b[0m \u001b[0mresponse\u001b[0m\u001b[0;34m,\u001b[0m \u001b[0mself\u001b[0m\u001b[0;34m.\u001b[0m\u001b[0m_create_connection_guard\u001b[0m\u001b[0;34m(\u001b[0m\u001b[0mconnection\u001b[0m\u001b[0;34m)\u001b[0m\u001b[0;34m\u001b[0m\u001b[0;34m\u001b[0m\u001b[0m\n",
      "\u001b[0;32m~/.local/lib/python3.8/site-packages/py4j/java_gateway.py\u001b[0m in \u001b[0;36msend_command\u001b[0;34m(self, command)\u001b[0m\n\u001b[1;32m   1198\u001b[0m \u001b[0;34m\u001b[0m\u001b[0m\n\u001b[1;32m   1199\u001b[0m         \u001b[0;32mtry\u001b[0m\u001b[0;34m:\u001b[0m\u001b[0;34m\u001b[0m\u001b[0;34m\u001b[0m\u001b[0m\n\u001b[0;32m-> 1200\u001b[0;31m             \u001b[0manswer\u001b[0m \u001b[0;34m=\u001b[0m \u001b[0msmart_decode\u001b[0m\u001b[0;34m(\u001b[0m\u001b[0mself\u001b[0m\u001b[0;34m.\u001b[0m\u001b[0mstream\u001b[0m\u001b[0;34m.\u001b[0m\u001b[0mreadline\u001b[0m\u001b[0;34m(\u001b[0m\u001b[0;34m)\u001b[0m\u001b[0;34m[\u001b[0m\u001b[0;34m:\u001b[0m\u001b[0;34m-\u001b[0m\u001b[0;36m1\u001b[0m\u001b[0;34m]\u001b[0m\u001b[0;34m)\u001b[0m\u001b[0;34m\u001b[0m\u001b[0;34m\u001b[0m\u001b[0m\n\u001b[0m\u001b[1;32m   1201\u001b[0m             \u001b[0mlogger\u001b[0m\u001b[0;34m.\u001b[0m\u001b[0mdebug\u001b[0m\u001b[0;34m(\u001b[0m\u001b[0;34m\"Answer received: {0}\"\u001b[0m\u001b[0;34m.\u001b[0m\u001b[0mformat\u001b[0m\u001b[0;34m(\u001b[0m\u001b[0manswer\u001b[0m\u001b[0;34m)\u001b[0m\u001b[0;34m)\u001b[0m\u001b[0;34m\u001b[0m\u001b[0;34m\u001b[0m\u001b[0m\n\u001b[1;32m   1202\u001b[0m             \u001b[0;32mif\u001b[0m \u001b[0manswer\u001b[0m\u001b[0;34m.\u001b[0m\u001b[0mstartswith\u001b[0m\u001b[0;34m(\u001b[0m\u001b[0mproto\u001b[0m\u001b[0;34m.\u001b[0m\u001b[0mRETURN_MESSAGE\u001b[0m\u001b[0;34m)\u001b[0m\u001b[0;34m:\u001b[0m\u001b[0;34m\u001b[0m\u001b[0;34m\u001b[0m\u001b[0m\n",
      "\u001b[0;32m~/anaconda3/lib/python3.8/socket.py\u001b[0m in \u001b[0;36mreadinto\u001b[0;34m(self, b)\u001b[0m\n\u001b[1;32m    667\u001b[0m         \u001b[0;32mwhile\u001b[0m \u001b[0;32mTrue\u001b[0m\u001b[0;34m:\u001b[0m\u001b[0;34m\u001b[0m\u001b[0;34m\u001b[0m\u001b[0m\n\u001b[1;32m    668\u001b[0m             \u001b[0;32mtry\u001b[0m\u001b[0;34m:\u001b[0m\u001b[0;34m\u001b[0m\u001b[0;34m\u001b[0m\u001b[0m\n\u001b[0;32m--> 669\u001b[0;31m                 \u001b[0;32mreturn\u001b[0m \u001b[0mself\u001b[0m\u001b[0;34m.\u001b[0m\u001b[0m_sock\u001b[0m\u001b[0;34m.\u001b[0m\u001b[0mrecv_into\u001b[0m\u001b[0;34m(\u001b[0m\u001b[0mb\u001b[0m\u001b[0;34m)\u001b[0m\u001b[0;34m\u001b[0m\u001b[0;34m\u001b[0m\u001b[0m\n\u001b[0m\u001b[1;32m    670\u001b[0m             \u001b[0;32mexcept\u001b[0m \u001b[0mtimeout\u001b[0m\u001b[0;34m:\u001b[0m\u001b[0;34m\u001b[0m\u001b[0;34m\u001b[0m\u001b[0m\n\u001b[1;32m    671\u001b[0m                 \u001b[0mself\u001b[0m\u001b[0;34m.\u001b[0m\u001b[0m_timeout_occurred\u001b[0m \u001b[0;34m=\u001b[0m \u001b[0;32mTrue\u001b[0m\u001b[0;34m\u001b[0m\u001b[0;34m\u001b[0m\u001b[0m\n",
      "\u001b[0;31mKeyboardInterrupt\u001b[0m: "
     ]
    }
   ],
   "source": [
    "keys_df = spark_df.select(F.explode(F.map_keys(F.col(\"tags\")))).distinct().collect()\n",
    "keys_df"
   ]
  },
  {
   "cell_type": "code",
   "execution_count": 138,
   "metadata": {
    "ExecuteTime": {
     "end_time": "2021-05-07T10:04:57.751042Z",
     "start_time": "2021-05-07T10:04:57.745537Z"
    }
   },
   "outputs": [
    {
     "data": {
      "text/plain": [
       "['col']"
      ]
     },
     "execution_count": 138,
     "metadata": {},
     "output_type": "execute_result"
    }
   ],
   "source": [
    "keys_df.columns"
   ]
  },
  {
   "cell_type": "code",
   "execution_count": 140,
   "metadata": {
    "ExecuteTime": {
     "end_time": "2021-05-07T10:05:06.249646Z",
     "start_time": "2021-05-07T10:05:06.193649Z"
    }
   },
   "outputs": [
    {
     "data": {
      "text/plain": [
       "DataFrame[collect_set(col): array<string>]"
      ]
     },
     "execution_count": 140,
     "metadata": {},
     "output_type": "execute_result"
    }
   ],
   "source": [
    "keys = keys_df.select(F.collect_set(F.col(\"col\")))\n",
    "keys"
   ]
  },
  {
   "cell_type": "code",
   "execution_count": 133,
   "metadata": {
    "ExecuteTime": {
     "end_time": "2021-05-07T10:02:22.748245Z",
     "start_time": "2021-05-07T09:54:58.032667Z"
    },
    "scrolled": true
   },
   "outputs": [
    {
     "ename": "KeyboardInterrupt",
     "evalue": "",
     "output_type": "error",
     "traceback": [
      "\u001b[0;31m---------------------------------------------------------------------------\u001b[0m",
      "\u001b[0;31mKeyboardInterrupt\u001b[0m                         Traceback (most recent call last)",
      "\u001b[0;32m<ipython-input-133-3f1e363af3e5>\u001b[0m in \u001b[0;36m<module>\u001b[0;34m\u001b[0m\n\u001b[0;32m----> 1\u001b[0;31m \u001b[0mkeys\u001b[0m \u001b[0;34m=\u001b[0m \u001b[0mlist\u001b[0m\u001b[0;34m(\u001b[0m\u001b[0mmap\u001b[0m\u001b[0;34m(\u001b[0m\u001b[0;32mlambda\u001b[0m \u001b[0mx\u001b[0m\u001b[0;34m:\u001b[0m \u001b[0mx\u001b[0m\u001b[0;34m[\u001b[0m\u001b[0;36m0\u001b[0m\u001b[0;34m]\u001b[0m\u001b[0;34m,\u001b[0m \u001b[0mkeys_df\u001b[0m\u001b[0;34m.\u001b[0m\u001b[0mcollect\u001b[0m\u001b[0;34m(\u001b[0m\u001b[0;34m)\u001b[0m\u001b[0;34m)\u001b[0m\u001b[0;34m)\u001b[0m\u001b[0;34m\u001b[0m\u001b[0;34m\u001b[0m\u001b[0m\n\u001b[0m\u001b[1;32m      2\u001b[0m \u001b[0mkeys\u001b[0m\u001b[0;34m\u001b[0m\u001b[0;34m\u001b[0m\u001b[0m\n",
      "\u001b[0;32m~/.local/lib/python3.8/site-packages/pyspark/sql/dataframe.py\u001b[0m in \u001b[0;36mcollect\u001b[0;34m(self)\u001b[0m\n\u001b[1;32m    675\u001b[0m         \"\"\"\n\u001b[1;32m    676\u001b[0m         \u001b[0;32mwith\u001b[0m \u001b[0mSCCallSiteSync\u001b[0m\u001b[0;34m(\u001b[0m\u001b[0mself\u001b[0m\u001b[0;34m.\u001b[0m\u001b[0m_sc\u001b[0m\u001b[0;34m)\u001b[0m \u001b[0;32mas\u001b[0m \u001b[0mcss\u001b[0m\u001b[0;34m:\u001b[0m\u001b[0;34m\u001b[0m\u001b[0;34m\u001b[0m\u001b[0m\n\u001b[0;32m--> 677\u001b[0;31m             \u001b[0msock_info\u001b[0m \u001b[0;34m=\u001b[0m \u001b[0mself\u001b[0m\u001b[0;34m.\u001b[0m\u001b[0m_jdf\u001b[0m\u001b[0;34m.\u001b[0m\u001b[0mcollectToPython\u001b[0m\u001b[0;34m(\u001b[0m\u001b[0;34m)\u001b[0m\u001b[0;34m\u001b[0m\u001b[0;34m\u001b[0m\u001b[0m\n\u001b[0m\u001b[1;32m    678\u001b[0m         \u001b[0;32mreturn\u001b[0m \u001b[0mlist\u001b[0m\u001b[0;34m(\u001b[0m\u001b[0m_load_from_socket\u001b[0m\u001b[0;34m(\u001b[0m\u001b[0msock_info\u001b[0m\u001b[0;34m,\u001b[0m \u001b[0mBatchedSerializer\u001b[0m\u001b[0;34m(\u001b[0m\u001b[0mPickleSerializer\u001b[0m\u001b[0;34m(\u001b[0m\u001b[0;34m)\u001b[0m\u001b[0;34m)\u001b[0m\u001b[0;34m)\u001b[0m\u001b[0;34m)\u001b[0m\u001b[0;34m\u001b[0m\u001b[0;34m\u001b[0m\u001b[0m\n\u001b[1;32m    679\u001b[0m \u001b[0;34m\u001b[0m\u001b[0m\n",
      "\u001b[0;32m~/.local/lib/python3.8/site-packages/py4j/java_gateway.py\u001b[0m in \u001b[0;36m__call__\u001b[0;34m(self, *args)\u001b[0m\n\u001b[1;32m   1301\u001b[0m             \u001b[0mproto\u001b[0m\u001b[0;34m.\u001b[0m\u001b[0mEND_COMMAND_PART\u001b[0m\u001b[0;34m\u001b[0m\u001b[0;34m\u001b[0m\u001b[0m\n\u001b[1;32m   1302\u001b[0m \u001b[0;34m\u001b[0m\u001b[0m\n\u001b[0;32m-> 1303\u001b[0;31m         \u001b[0manswer\u001b[0m \u001b[0;34m=\u001b[0m \u001b[0mself\u001b[0m\u001b[0;34m.\u001b[0m\u001b[0mgateway_client\u001b[0m\u001b[0;34m.\u001b[0m\u001b[0msend_command\u001b[0m\u001b[0;34m(\u001b[0m\u001b[0mcommand\u001b[0m\u001b[0;34m)\u001b[0m\u001b[0;34m\u001b[0m\u001b[0;34m\u001b[0m\u001b[0m\n\u001b[0m\u001b[1;32m   1304\u001b[0m         return_value = get_return_value(\n\u001b[1;32m   1305\u001b[0m             answer, self.gateway_client, self.target_id, self.name)\n",
      "\u001b[0;32m~/.local/lib/python3.8/site-packages/py4j/java_gateway.py\u001b[0m in \u001b[0;36msend_command\u001b[0;34m(self, command, retry, binary)\u001b[0m\n\u001b[1;32m   1031\u001b[0m         \u001b[0mconnection\u001b[0m \u001b[0;34m=\u001b[0m \u001b[0mself\u001b[0m\u001b[0;34m.\u001b[0m\u001b[0m_get_connection\u001b[0m\u001b[0;34m(\u001b[0m\u001b[0;34m)\u001b[0m\u001b[0;34m\u001b[0m\u001b[0;34m\u001b[0m\u001b[0m\n\u001b[1;32m   1032\u001b[0m         \u001b[0;32mtry\u001b[0m\u001b[0;34m:\u001b[0m\u001b[0;34m\u001b[0m\u001b[0;34m\u001b[0m\u001b[0m\n\u001b[0;32m-> 1033\u001b[0;31m             \u001b[0mresponse\u001b[0m \u001b[0;34m=\u001b[0m \u001b[0mconnection\u001b[0m\u001b[0;34m.\u001b[0m\u001b[0msend_command\u001b[0m\u001b[0;34m(\u001b[0m\u001b[0mcommand\u001b[0m\u001b[0;34m)\u001b[0m\u001b[0;34m\u001b[0m\u001b[0;34m\u001b[0m\u001b[0m\n\u001b[0m\u001b[1;32m   1034\u001b[0m             \u001b[0;32mif\u001b[0m \u001b[0mbinary\u001b[0m\u001b[0;34m:\u001b[0m\u001b[0;34m\u001b[0m\u001b[0;34m\u001b[0m\u001b[0m\n\u001b[1;32m   1035\u001b[0m                 \u001b[0;32mreturn\u001b[0m \u001b[0mresponse\u001b[0m\u001b[0;34m,\u001b[0m \u001b[0mself\u001b[0m\u001b[0;34m.\u001b[0m\u001b[0m_create_connection_guard\u001b[0m\u001b[0;34m(\u001b[0m\u001b[0mconnection\u001b[0m\u001b[0;34m)\u001b[0m\u001b[0;34m\u001b[0m\u001b[0;34m\u001b[0m\u001b[0m\n",
      "\u001b[0;32m~/.local/lib/python3.8/site-packages/py4j/java_gateway.py\u001b[0m in \u001b[0;36msend_command\u001b[0;34m(self, command)\u001b[0m\n\u001b[1;32m   1198\u001b[0m \u001b[0;34m\u001b[0m\u001b[0m\n\u001b[1;32m   1199\u001b[0m         \u001b[0;32mtry\u001b[0m\u001b[0;34m:\u001b[0m\u001b[0;34m\u001b[0m\u001b[0;34m\u001b[0m\u001b[0m\n\u001b[0;32m-> 1200\u001b[0;31m             \u001b[0manswer\u001b[0m \u001b[0;34m=\u001b[0m \u001b[0msmart_decode\u001b[0m\u001b[0;34m(\u001b[0m\u001b[0mself\u001b[0m\u001b[0;34m.\u001b[0m\u001b[0mstream\u001b[0m\u001b[0;34m.\u001b[0m\u001b[0mreadline\u001b[0m\u001b[0;34m(\u001b[0m\u001b[0;34m)\u001b[0m\u001b[0;34m[\u001b[0m\u001b[0;34m:\u001b[0m\u001b[0;34m-\u001b[0m\u001b[0;36m1\u001b[0m\u001b[0;34m]\u001b[0m\u001b[0;34m)\u001b[0m\u001b[0;34m\u001b[0m\u001b[0;34m\u001b[0m\u001b[0m\n\u001b[0m\u001b[1;32m   1201\u001b[0m             \u001b[0mlogger\u001b[0m\u001b[0;34m.\u001b[0m\u001b[0mdebug\u001b[0m\u001b[0;34m(\u001b[0m\u001b[0;34m\"Answer received: {0}\"\u001b[0m\u001b[0;34m.\u001b[0m\u001b[0mformat\u001b[0m\u001b[0;34m(\u001b[0m\u001b[0manswer\u001b[0m\u001b[0;34m)\u001b[0m\u001b[0;34m)\u001b[0m\u001b[0;34m\u001b[0m\u001b[0;34m\u001b[0m\u001b[0m\n\u001b[1;32m   1202\u001b[0m             \u001b[0;32mif\u001b[0m \u001b[0manswer\u001b[0m\u001b[0;34m.\u001b[0m\u001b[0mstartswith\u001b[0m\u001b[0;34m(\u001b[0m\u001b[0mproto\u001b[0m\u001b[0;34m.\u001b[0m\u001b[0mRETURN_MESSAGE\u001b[0m\u001b[0;34m)\u001b[0m\u001b[0;34m:\u001b[0m\u001b[0;34m\u001b[0m\u001b[0;34m\u001b[0m\u001b[0m\n",
      "\u001b[0;32m~/anaconda3/lib/python3.8/socket.py\u001b[0m in \u001b[0;36mreadinto\u001b[0;34m(self, b)\u001b[0m\n\u001b[1;32m    667\u001b[0m         \u001b[0;32mwhile\u001b[0m \u001b[0;32mTrue\u001b[0m\u001b[0;34m:\u001b[0m\u001b[0;34m\u001b[0m\u001b[0;34m\u001b[0m\u001b[0m\n\u001b[1;32m    668\u001b[0m             \u001b[0;32mtry\u001b[0m\u001b[0;34m:\u001b[0m\u001b[0;34m\u001b[0m\u001b[0;34m\u001b[0m\u001b[0m\n\u001b[0;32m--> 669\u001b[0;31m                 \u001b[0;32mreturn\u001b[0m \u001b[0mself\u001b[0m\u001b[0;34m.\u001b[0m\u001b[0m_sock\u001b[0m\u001b[0;34m.\u001b[0m\u001b[0mrecv_into\u001b[0m\u001b[0;34m(\u001b[0m\u001b[0mb\u001b[0m\u001b[0;34m)\u001b[0m\u001b[0;34m\u001b[0m\u001b[0;34m\u001b[0m\u001b[0m\n\u001b[0m\u001b[1;32m    670\u001b[0m             \u001b[0;32mexcept\u001b[0m \u001b[0mtimeout\u001b[0m\u001b[0;34m:\u001b[0m\u001b[0;34m\u001b[0m\u001b[0;34m\u001b[0m\u001b[0m\n\u001b[1;32m    671\u001b[0m                 \u001b[0mself\u001b[0m\u001b[0;34m.\u001b[0m\u001b[0m_timeout_occurred\u001b[0m \u001b[0;34m=\u001b[0m \u001b[0;32mTrue\u001b[0m\u001b[0;34m\u001b[0m\u001b[0;34m\u001b[0m\u001b[0m\n",
      "\u001b[0;31mKeyboardInterrupt\u001b[0m: "
     ]
    }
   ],
   "source": [
    "keys = list(map(lambda x: x[0], keys_df.collect()))\n",
    "keys"
   ]
  },
  {
   "cell_type": "code",
   "execution_count": 141,
   "metadata": {
    "ExecuteTime": {
     "end_time": "2021-05-07T10:05:33.893007Z",
     "start_time": "2021-05-07T10:05:31.491174Z"
    }
   },
   "outputs": [
    {
     "ename": "TypeError",
     "evalue": "'Column' object is not callable",
     "output_type": "error",
     "traceback": [
      "\u001b[0;31m---------------------------------------------------------------------------\u001b[0m",
      "\u001b[0;31mTypeError\u001b[0m                                 Traceback (most recent call last)",
      "\u001b[0;32m<ipython-input-141-d24a3742ba9d>\u001b[0m in \u001b[0;36m<module>\u001b[0;34m\u001b[0m\n\u001b[0;32m----> 1\u001b[0;31m \u001b[0mcols\u001b[0m \u001b[0;34m=\u001b[0m \u001b[0mlist\u001b[0m\u001b[0;34m(\u001b[0m\u001b[0mmap\u001b[0m\u001b[0;34m(\u001b[0m\u001b[0;32mlambda\u001b[0m \u001b[0mx\u001b[0m\u001b[0;34m:\u001b[0m \u001b[0mF\u001b[0m\u001b[0;34m.\u001b[0m\u001b[0mcol\u001b[0m\u001b[0;34m(\u001b[0m\u001b[0;34m\"tags\"\u001b[0m\u001b[0;34m)\u001b[0m\u001b[0;34m.\u001b[0m\u001b[0mgetitem\u001b[0m\u001b[0;34m(\u001b[0m\u001b[0mx\u001b[0m\u001b[0;34m)\u001b[0m\u001b[0;34m.\u001b[0m\u001b[0malias\u001b[0m\u001b[0;34m(\u001b[0m\u001b[0mx\u001b[0m\u001b[0;34m)\u001b[0m\u001b[0;34m,\u001b[0m \u001b[0mkeys\u001b[0m\u001b[0;34m)\u001b[0m\u001b[0;34m)\u001b[0m\u001b[0;34m\u001b[0m\u001b[0;34m\u001b[0m\u001b[0m\n\u001b[0m\u001b[1;32m      2\u001b[0m \u001b[0mcols\u001b[0m\u001b[0;34m\u001b[0m\u001b[0;34m\u001b[0m\u001b[0m\n",
      "\u001b[0;32m<ipython-input-141-d24a3742ba9d>\u001b[0m in \u001b[0;36m<lambda>\u001b[0;34m(x)\u001b[0m\n\u001b[0;32m----> 1\u001b[0;31m \u001b[0mcols\u001b[0m \u001b[0;34m=\u001b[0m \u001b[0mlist\u001b[0m\u001b[0;34m(\u001b[0m\u001b[0mmap\u001b[0m\u001b[0;34m(\u001b[0m\u001b[0;32mlambda\u001b[0m \u001b[0mx\u001b[0m\u001b[0;34m:\u001b[0m \u001b[0mF\u001b[0m\u001b[0;34m.\u001b[0m\u001b[0mcol\u001b[0m\u001b[0;34m(\u001b[0m\u001b[0;34m\"tags\"\u001b[0m\u001b[0;34m)\u001b[0m\u001b[0;34m.\u001b[0m\u001b[0mgetitem\u001b[0m\u001b[0;34m(\u001b[0m\u001b[0mx\u001b[0m\u001b[0;34m)\u001b[0m\u001b[0;34m.\u001b[0m\u001b[0malias\u001b[0m\u001b[0;34m(\u001b[0m\u001b[0mx\u001b[0m\u001b[0;34m)\u001b[0m\u001b[0;34m,\u001b[0m \u001b[0mkeys\u001b[0m\u001b[0;34m)\u001b[0m\u001b[0;34m)\u001b[0m\u001b[0;34m\u001b[0m\u001b[0;34m\u001b[0m\u001b[0m\n\u001b[0m\u001b[1;32m      2\u001b[0m \u001b[0mcols\u001b[0m\u001b[0;34m\u001b[0m\u001b[0;34m\u001b[0m\u001b[0m\n",
      "\u001b[0;31mTypeError\u001b[0m: 'Column' object is not callable"
     ]
    }
   ],
   "source": [
    "cols = list(map(lambda x: F.col(\"tags\").getitem(x).alias(x), keys))\n",
    "cols"
   ]
  },
  {
   "cell_type": "code",
   "execution_count": null,
   "metadata": {
    "ExecuteTime": {
     "end_time": "2021-05-07T10:02:22.766510Z",
     "start_time": "2021-05-07T09:54:56.593Z"
    }
   },
   "outputs": [],
   "source": [
    "spark_df.show(cols)"
   ]
  },
  {
   "cell_type": "code",
   "execution_count": 130,
   "metadata": {
    "ExecuteTime": {
     "end_time": "2021-05-07T08:33:57.179908Z",
     "start_time": "2021-05-07T08:12:45.487620Z"
    },
    "scrolled": true
   },
   "outputs": [
    {
     "ename": "KeyboardInterrupt",
     "evalue": "",
     "output_type": "error",
     "traceback": [
      "\u001b[0;31m---------------------------------------------------------------------------\u001b[0m",
      "\u001b[0;31mKeyboardInterrupt\u001b[0m                         Traceback (most recent call last)",
      "\u001b[0;32m<ipython-input-130-bfd85222d055>\u001b[0m in \u001b[0;36m<module>\u001b[0;34m\u001b[0m\n\u001b[0;32m----> 1\u001b[0;31m \u001b[0mspark_df\u001b[0m\u001b[0;34m.\u001b[0m\u001b[0mselect\u001b[0m\u001b[0;34m(\u001b[0m\u001b[0mF\u001b[0m\u001b[0;34m.\u001b[0m\u001b[0mexplode\u001b[0m\u001b[0;34m(\u001b[0m\u001b[0mF\u001b[0m\u001b[0;34m.\u001b[0m\u001b[0mmap_keys\u001b[0m\u001b[0;34m(\u001b[0m\u001b[0mF\u001b[0m\u001b[0;34m.\u001b[0m\u001b[0mcol\u001b[0m\u001b[0;34m(\u001b[0m\u001b[0;34m\"tags\"\u001b[0m\u001b[0;34m)\u001b[0m\u001b[0;34m)\u001b[0m\u001b[0;34m)\u001b[0m\u001b[0;34m)\u001b[0m\u001b[0;34m.\u001b[0m\u001b[0mdistinct\u001b[0m\u001b[0;34m(\u001b[0m\u001b[0;34m)\u001b[0m\u001b[0;34m.\u001b[0m\u001b[0mshow\u001b[0m\u001b[0;34m(\u001b[0m\u001b[0;34m)\u001b[0m\u001b[0;34m\u001b[0m\u001b[0;34m\u001b[0m\u001b[0m\n\u001b[0m",
      "\u001b[0;32m~/.local/lib/python3.8/site-packages/pyspark/sql/dataframe.py\u001b[0m in \u001b[0;36mshow\u001b[0;34m(self, n, truncate, vertical)\u001b[0m\n\u001b[1;32m    482\u001b[0m         \"\"\"\n\u001b[1;32m    483\u001b[0m         \u001b[0;32mif\u001b[0m \u001b[0misinstance\u001b[0m\u001b[0;34m(\u001b[0m\u001b[0mtruncate\u001b[0m\u001b[0;34m,\u001b[0m \u001b[0mbool\u001b[0m\u001b[0;34m)\u001b[0m \u001b[0;32mand\u001b[0m \u001b[0mtruncate\u001b[0m\u001b[0;34m:\u001b[0m\u001b[0;34m\u001b[0m\u001b[0;34m\u001b[0m\u001b[0m\n\u001b[0;32m--> 484\u001b[0;31m             \u001b[0mprint\u001b[0m\u001b[0;34m(\u001b[0m\u001b[0mself\u001b[0m\u001b[0;34m.\u001b[0m\u001b[0m_jdf\u001b[0m\u001b[0;34m.\u001b[0m\u001b[0mshowString\u001b[0m\u001b[0;34m(\u001b[0m\u001b[0mn\u001b[0m\u001b[0;34m,\u001b[0m \u001b[0;36m20\u001b[0m\u001b[0;34m,\u001b[0m \u001b[0mvertical\u001b[0m\u001b[0;34m)\u001b[0m\u001b[0;34m)\u001b[0m\u001b[0;34m\u001b[0m\u001b[0;34m\u001b[0m\u001b[0m\n\u001b[0m\u001b[1;32m    485\u001b[0m         \u001b[0;32melse\u001b[0m\u001b[0;34m:\u001b[0m\u001b[0;34m\u001b[0m\u001b[0;34m\u001b[0m\u001b[0m\n\u001b[1;32m    486\u001b[0m             \u001b[0mprint\u001b[0m\u001b[0;34m(\u001b[0m\u001b[0mself\u001b[0m\u001b[0;34m.\u001b[0m\u001b[0m_jdf\u001b[0m\u001b[0;34m.\u001b[0m\u001b[0mshowString\u001b[0m\u001b[0;34m(\u001b[0m\u001b[0mn\u001b[0m\u001b[0;34m,\u001b[0m \u001b[0mint\u001b[0m\u001b[0;34m(\u001b[0m\u001b[0mtruncate\u001b[0m\u001b[0;34m)\u001b[0m\u001b[0;34m,\u001b[0m \u001b[0mvertical\u001b[0m\u001b[0;34m)\u001b[0m\u001b[0;34m)\u001b[0m\u001b[0;34m\u001b[0m\u001b[0;34m\u001b[0m\u001b[0m\n",
      "\u001b[0;32m~/.local/lib/python3.8/site-packages/py4j/java_gateway.py\u001b[0m in \u001b[0;36m__call__\u001b[0;34m(self, *args)\u001b[0m\n\u001b[1;32m   1301\u001b[0m             \u001b[0mproto\u001b[0m\u001b[0;34m.\u001b[0m\u001b[0mEND_COMMAND_PART\u001b[0m\u001b[0;34m\u001b[0m\u001b[0;34m\u001b[0m\u001b[0m\n\u001b[1;32m   1302\u001b[0m \u001b[0;34m\u001b[0m\u001b[0m\n\u001b[0;32m-> 1303\u001b[0;31m         \u001b[0manswer\u001b[0m \u001b[0;34m=\u001b[0m \u001b[0mself\u001b[0m\u001b[0;34m.\u001b[0m\u001b[0mgateway_client\u001b[0m\u001b[0;34m.\u001b[0m\u001b[0msend_command\u001b[0m\u001b[0;34m(\u001b[0m\u001b[0mcommand\u001b[0m\u001b[0;34m)\u001b[0m\u001b[0;34m\u001b[0m\u001b[0;34m\u001b[0m\u001b[0m\n\u001b[0m\u001b[1;32m   1304\u001b[0m         return_value = get_return_value(\n\u001b[1;32m   1305\u001b[0m             answer, self.gateway_client, self.target_id, self.name)\n",
      "\u001b[0;32m~/.local/lib/python3.8/site-packages/py4j/java_gateway.py\u001b[0m in \u001b[0;36msend_command\u001b[0;34m(self, command, retry, binary)\u001b[0m\n\u001b[1;32m   1031\u001b[0m         \u001b[0mconnection\u001b[0m \u001b[0;34m=\u001b[0m \u001b[0mself\u001b[0m\u001b[0;34m.\u001b[0m\u001b[0m_get_connection\u001b[0m\u001b[0;34m(\u001b[0m\u001b[0;34m)\u001b[0m\u001b[0;34m\u001b[0m\u001b[0;34m\u001b[0m\u001b[0m\n\u001b[1;32m   1032\u001b[0m         \u001b[0;32mtry\u001b[0m\u001b[0;34m:\u001b[0m\u001b[0;34m\u001b[0m\u001b[0;34m\u001b[0m\u001b[0m\n\u001b[0;32m-> 1033\u001b[0;31m             \u001b[0mresponse\u001b[0m \u001b[0;34m=\u001b[0m \u001b[0mconnection\u001b[0m\u001b[0;34m.\u001b[0m\u001b[0msend_command\u001b[0m\u001b[0;34m(\u001b[0m\u001b[0mcommand\u001b[0m\u001b[0;34m)\u001b[0m\u001b[0;34m\u001b[0m\u001b[0;34m\u001b[0m\u001b[0m\n\u001b[0m\u001b[1;32m   1034\u001b[0m             \u001b[0;32mif\u001b[0m \u001b[0mbinary\u001b[0m\u001b[0;34m:\u001b[0m\u001b[0;34m\u001b[0m\u001b[0;34m\u001b[0m\u001b[0m\n\u001b[1;32m   1035\u001b[0m                 \u001b[0;32mreturn\u001b[0m \u001b[0mresponse\u001b[0m\u001b[0;34m,\u001b[0m \u001b[0mself\u001b[0m\u001b[0;34m.\u001b[0m\u001b[0m_create_connection_guard\u001b[0m\u001b[0;34m(\u001b[0m\u001b[0mconnection\u001b[0m\u001b[0;34m)\u001b[0m\u001b[0;34m\u001b[0m\u001b[0;34m\u001b[0m\u001b[0m\n",
      "\u001b[0;32m~/.local/lib/python3.8/site-packages/py4j/java_gateway.py\u001b[0m in \u001b[0;36msend_command\u001b[0;34m(self, command)\u001b[0m\n\u001b[1;32m   1198\u001b[0m \u001b[0;34m\u001b[0m\u001b[0m\n\u001b[1;32m   1199\u001b[0m         \u001b[0;32mtry\u001b[0m\u001b[0;34m:\u001b[0m\u001b[0;34m\u001b[0m\u001b[0;34m\u001b[0m\u001b[0m\n\u001b[0;32m-> 1200\u001b[0;31m             \u001b[0manswer\u001b[0m \u001b[0;34m=\u001b[0m \u001b[0msmart_decode\u001b[0m\u001b[0;34m(\u001b[0m\u001b[0mself\u001b[0m\u001b[0;34m.\u001b[0m\u001b[0mstream\u001b[0m\u001b[0;34m.\u001b[0m\u001b[0mreadline\u001b[0m\u001b[0;34m(\u001b[0m\u001b[0;34m)\u001b[0m\u001b[0;34m[\u001b[0m\u001b[0;34m:\u001b[0m\u001b[0;34m-\u001b[0m\u001b[0;36m1\u001b[0m\u001b[0;34m]\u001b[0m\u001b[0;34m)\u001b[0m\u001b[0;34m\u001b[0m\u001b[0;34m\u001b[0m\u001b[0m\n\u001b[0m\u001b[1;32m   1201\u001b[0m             \u001b[0mlogger\u001b[0m\u001b[0;34m.\u001b[0m\u001b[0mdebug\u001b[0m\u001b[0;34m(\u001b[0m\u001b[0;34m\"Answer received: {0}\"\u001b[0m\u001b[0;34m.\u001b[0m\u001b[0mformat\u001b[0m\u001b[0;34m(\u001b[0m\u001b[0manswer\u001b[0m\u001b[0;34m)\u001b[0m\u001b[0;34m)\u001b[0m\u001b[0;34m\u001b[0m\u001b[0;34m\u001b[0m\u001b[0m\n\u001b[1;32m   1202\u001b[0m             \u001b[0;32mif\u001b[0m \u001b[0manswer\u001b[0m\u001b[0;34m.\u001b[0m\u001b[0mstartswith\u001b[0m\u001b[0;34m(\u001b[0m\u001b[0mproto\u001b[0m\u001b[0;34m.\u001b[0m\u001b[0mRETURN_MESSAGE\u001b[0m\u001b[0;34m)\u001b[0m\u001b[0;34m:\u001b[0m\u001b[0;34m\u001b[0m\u001b[0;34m\u001b[0m\u001b[0m\n",
      "\u001b[0;32m~/anaconda3/lib/python3.8/socket.py\u001b[0m in \u001b[0;36mreadinto\u001b[0;34m(self, b)\u001b[0m\n\u001b[1;32m    667\u001b[0m         \u001b[0;32mwhile\u001b[0m \u001b[0;32mTrue\u001b[0m\u001b[0;34m:\u001b[0m\u001b[0;34m\u001b[0m\u001b[0;34m\u001b[0m\u001b[0m\n\u001b[1;32m    668\u001b[0m             \u001b[0;32mtry\u001b[0m\u001b[0;34m:\u001b[0m\u001b[0;34m\u001b[0m\u001b[0;34m\u001b[0m\u001b[0m\n\u001b[0;32m--> 669\u001b[0;31m                 \u001b[0;32mreturn\u001b[0m \u001b[0mself\u001b[0m\u001b[0;34m.\u001b[0m\u001b[0m_sock\u001b[0m\u001b[0;34m.\u001b[0m\u001b[0mrecv_into\u001b[0m\u001b[0;34m(\u001b[0m\u001b[0mb\u001b[0m\u001b[0;34m)\u001b[0m\u001b[0;34m\u001b[0m\u001b[0;34m\u001b[0m\u001b[0m\n\u001b[0m\u001b[1;32m    670\u001b[0m             \u001b[0;32mexcept\u001b[0m \u001b[0mtimeout\u001b[0m\u001b[0;34m:\u001b[0m\u001b[0;34m\u001b[0m\u001b[0;34m\u001b[0m\u001b[0m\n\u001b[1;32m    671\u001b[0m                 \u001b[0mself\u001b[0m\u001b[0;34m.\u001b[0m\u001b[0m_timeout_occurred\u001b[0m \u001b[0;34m=\u001b[0m \u001b[0;32mTrue\u001b[0m\u001b[0;34m\u001b[0m\u001b[0;34m\u001b[0m\u001b[0m\n",
      "\u001b[0;31mKeyboardInterrupt\u001b[0m: "
     ]
    }
   ],
   "source": [
    "keys_df = spark_df.select(F.explode(F.map_keys(F.col(\"tags\")))).distinct()\n",
    "keys = list(map(lambda x: x[0], keys_df.collect()))\n",
    "cols = list(map(lambda x: F.col(\"tags\").getitem(x).alias(x), keys))\n",
    "spark_df.show(cols)"
   ]
  },
  {
   "cell_type": "code",
   "execution_count": null,
   "metadata": {
    "id": "UMyUm2TCXQS4"
   },
   "outputs": [],
   "source": [
    "tags_list = set(df[\"tags\"].apply(lambda x: set([i[0] for i in x])).tolist())\n",
    "\n",
    "for tag in tags_list:\n",
    "  df[\"feature_\" + tag] = df[\"tags\"].apply(lambda x: [i[0] for i in x if i[0] == tag else 0][0])"
   ]
  },
  {
   "cell_type": "code",
   "execution_count": null,
   "metadata": {
    "colab": {
     "base_uri": "https://localhost:8080/",
     "height": 1000
    },
    "executionInfo": {
     "elapsed": 631751,
     "status": "ok",
     "timestamp": 1618321736115,
     "user": {
      "displayName": "Ashwinkumar Jayagopi",
      "photoUrl": "https://lh3.googleusercontent.com/a-/AOh14Gh47yVJAWTH0wh5QyDkeo1faM5evRToGXV4zKYa=s64",
      "userId": "16729666215456848120"
     },
     "user_tz": -330
    },
    "id": "CwKIKYxVHUnt",
    "outputId": "a14f568a-657b-429f-be7c-3afd11aa8ce8",
    "scrolled": true
   },
   "outputs": [
    {
     "data": {
      "text/html": [
       "<div>\n",
       "<style scoped>\n",
       "    .dataframe tbody tr th:only-of-type {\n",
       "        vertical-align: middle;\n",
       "    }\n",
       "\n",
       "    .dataframe tbody tr th {\n",
       "        vertical-align: top;\n",
       "    }\n",
       "\n",
       "    .dataframe thead th {\n",
       "        text-align: right;\n",
       "    }\n",
       "</style>\n",
       "<table border=\"1\" class=\"dataframe\">\n",
       "  <thead>\n",
       "    <tr style=\"text-align: right;\">\n",
       "      <th></th>\n",
       "      <th>product_title</th>\n",
       "      <th>search_term</th>\n",
       "      <th>product_description</th>\n",
       "      <th>max_levenshtein_title</th>\n",
       "      <th>max_levenshtein_desc</th>\n",
       "      <th>total_levenshtein_title</th>\n",
       "      <th>total_levenshtein_desc</th>\n",
       "    </tr>\n",
       "  </thead>\n",
       "  <tbody>\n",
       "    <tr>\n",
       "      <th>2</th>\n",
       "      <td>behr premium textured deckover 1gal. sc 141 tugboat wood and concrete coating</td>\n",
       "      <td>deck over</td>\n",
       "      <td>behr premium textured deckover is an innovative solid color coating it will bring your old weathered wood or concrete back to life the advanced 100 acrylic resin formula creates a durable coating ...</td>\n",
       "      <td>(0.6666666666666666, deck, deckover)</td>\n",
       "      <td>(1.0, deck, deck)</td>\n",
       "      <td>0.666667</td>\n",
       "      <td>1.000000</td>\n",
       "    </tr>\n",
       "    <tr>\n",
       "      <th>7</th>\n",
       "      <td>whirlpool 19 cu ft over the range convection microwave in stainless steel with sensor cooking</td>\n",
       "      <td>microwaves</td>\n",
       "      <td>achieving delicious results is almost effortless with this whirlpool over the range microwave hood with convection cooking with 19 cu ft capacity you ll have room to prepare multiple dishes at onc...</td>\n",
       "      <td>(0.9473684210526315, microwaves, microwave)</td>\n",
       "      <td>(0.9473684210526315, microwaves, microwave)</td>\n",
       "      <td>0.947368</td>\n",
       "      <td>0.947368</td>\n",
       "    </tr>\n",
       "    <tr>\n",
       "      <th>84</th>\n",
       "      <td>60in. x 150ft. 1010 remesh</td>\n",
       "      <td>wiremesh</td>\n",
       "      <td>the 60in. x 150ft. 1010 remesh provides expansion and contraction reinforcement to add strength when pouring concrete pads it is made from astm a615 material and covers up to 750 sq ft per roll pr...</td>\n",
       "      <td>(0.8571428571428571, wiremesh, remesh)</td>\n",
       "      <td>(0.8571428571428571, wiremesh, remesh)</td>\n",
       "      <td>0.857143</td>\n",
       "      <td>0.857143</td>\n",
       "    </tr>\n",
       "    <tr>\n",
       "      <th>145</th>\n",
       "      <td>kaleen soho thames beige 4x6ft. area rug</td>\n",
       "      <td>4x6</td>\n",
       "      <td>soho thames beige 4x6ft. area rug is a fun and functional collection of hip designs it is as funky and cheeky as the neighborhood that bears its name soho is great finish and cool designs 100 wool...</td>\n",
       "      <td>(0.6666666666666666, 4x6, 4x6ft.)</td>\n",
       "      <td>(0.6666666666666666, 4x6, 4x6ft.)</td>\n",
       "      <td>0.666667</td>\n",
       "      <td>0.666667</td>\n",
       "    </tr>\n",
       "    <tr>\n",
       "      <th>159</th>\n",
       "      <td>melnor adjustable rear trigger nozzle</td>\n",
       "      <td>melnor</td>\n",
       "      <td>this heavy duty melnor adjustable rear trigger nozzle features an adjustable tip that sprays from mist to jet so you can tackle a variety of watering jobs the nozzle s trigger lock feature allows ...</td>\n",
       "      <td>(1.0, melnor, melnor)</td>\n",
       "      <td>(1.0, melnor, melnor)</td>\n",
       "      <td>1.000000</td>\n",
       "      <td>1.000000</td>\n",
       "    </tr>\n",
       "    <tr>\n",
       "      <th>...</th>\n",
       "      <td>...</td>\n",
       "      <td>...</td>\n",
       "      <td>...</td>\n",
       "      <td>...</td>\n",
       "      <td>...</td>\n",
       "      <td>...</td>\n",
       "      <td>...</td>\n",
       "    </tr>\n",
       "    <tr>\n",
       "      <th>72207</th>\n",
       "      <td>ge silicone ii 101oz. white kitchen and bath caulk</td>\n",
       "      <td>whitesilicone</td>\n",
       "      <td>the shower doesn t have to be off limits for a full day caulk the shower or tub with ge silicone ii kitchen and bath and reduce the wait time dramatically ge silicone ii 100 silicone adheres to a ...</td>\n",
       "      <td>(0.7619047619047619, whitesilicone, silicone)</td>\n",
       "      <td>(0.7619047619047619, whitesilicone, silicone)</td>\n",
       "      <td>0.761905</td>\n",
       "      <td>0.761905</td>\n",
       "    </tr>\n",
       "    <tr>\n",
       "      <th>72455</th>\n",
       "      <td>fypon 36x24in. x 2in. polyurethane decorative peaked louver</td>\n",
       "      <td>fyrpon</td>\n",
       "      <td>designed to be both beautiful and functional louvers have been a useful design accent for centuries fypon offers two basic louver types functional venting and decorative non venting in a multitude...</td>\n",
       "      <td>(0.9090909090909091, fyrpon, fypon)</td>\n",
       "      <td>(0.9090909090909091, fyrpon, fypon)</td>\n",
       "      <td>0.909091</td>\n",
       "      <td>0.909091</td>\n",
       "    </tr>\n",
       "    <tr>\n",
       "      <th>72518</th>\n",
       "      <td>behr marquee 200a 3 blushing apricot exterior paint</td>\n",
       "      <td>blushing</td>\n",
       "      <td>behr marquee exterior flat is a stain blocking paint and primer that features the most advanced dirt and fade technology from behr marquee creates a tough non stick surface that helps resists dirt...</td>\n",
       "      <td>(1.0, blushing, blushing)</td>\n",
       "      <td>(0.6666666666666666, blushing, lasting)</td>\n",
       "      <td>1.000000</td>\n",
       "      <td>0.666667</td>\n",
       "    </tr>\n",
       "    <tr>\n",
       "      <th>72559</th>\n",
       "      <td>custom building products commercial 381 bright white 101oz. silicone caulk</td>\n",
       "      <td>whitesilicone</td>\n",
       "      <td>commercial 100 silicone caulk is designed for use in coves corners changes in plane and expansion joints associated with exterior and interior applications of tile and stone this caulk can be used...</td>\n",
       "      <td>(0.7619047619047619, whitesilicone, silicone)</td>\n",
       "      <td>(0.7619047619047619, whitesilicone, silicone)</td>\n",
       "      <td>0.761905</td>\n",
       "      <td>0.761905</td>\n",
       "    </tr>\n",
       "    <tr>\n",
       "      <th>73758</th>\n",
       "      <td>trafficmaster toulon color spices 12ft. carpet</td>\n",
       "      <td>toulone</td>\n",
       "      <td>expand your living and playing area into the outdoors with durable carpet designed specifically for your outdoor needs add color and style with toulon to screened porches covered patios basements ...</td>\n",
       "      <td>(0.9230769230769231, toulone, toulon)</td>\n",
       "      <td>(0.9230769230769231, toulone, toulon)</td>\n",
       "      <td>0.923077</td>\n",
       "      <td>0.923077</td>\n",
       "    </tr>\n",
       "  </tbody>\n",
       "</table>\n",
       "<p>1123 rows × 7 columns</p>\n",
       "</div>"
      ],
      "text/plain": [
       "                                                                                       product_title  \\\n",
       "2                      behr premium textured deckover 1gal. sc 141 tugboat wood and concrete coating   \n",
       "7      whirlpool 19 cu ft over the range convection microwave in stainless steel with sensor cooking   \n",
       "84                                                                        60in. x 150ft. 1010 remesh   \n",
       "145                                                         kaleen soho thames beige 4x6ft. area rug   \n",
       "159                                                            melnor adjustable rear trigger nozzle   \n",
       "...                                                                                              ...   \n",
       "72207                                             ge silicone ii 101oz. white kitchen and bath caulk   \n",
       "72455                                    fypon 36x24in. x 2in. polyurethane decorative peaked louver   \n",
       "72518                                            behr marquee 200a 3 blushing apricot exterior paint   \n",
       "72559                     custom building products commercial 381 bright white 101oz. silicone caulk   \n",
       "73758                                                 trafficmaster toulon color spices 12ft. carpet   \n",
       "\n",
       "         search_term  \\\n",
       "2          deck over   \n",
       "7         microwaves   \n",
       "84          wiremesh   \n",
       "145              4x6   \n",
       "159           melnor   \n",
       "...              ...   \n",
       "72207  whitesilicone   \n",
       "72455         fyrpon   \n",
       "72518       blushing   \n",
       "72559  whitesilicone   \n",
       "73758        toulone   \n",
       "\n",
       "                                                                                                                                                                                           product_description  \\\n",
       "2      behr premium textured deckover is an innovative solid color coating it will bring your old weathered wood or concrete back to life the advanced 100 acrylic resin formula creates a durable coating ...   \n",
       "7      achieving delicious results is almost effortless with this whirlpool over the range microwave hood with convection cooking with 19 cu ft capacity you ll have room to prepare multiple dishes at onc...   \n",
       "84     the 60in. x 150ft. 1010 remesh provides expansion and contraction reinforcement to add strength when pouring concrete pads it is made from astm a615 material and covers up to 750 sq ft per roll pr...   \n",
       "145    soho thames beige 4x6ft. area rug is a fun and functional collection of hip designs it is as funky and cheeky as the neighborhood that bears its name soho is great finish and cool designs 100 wool...   \n",
       "159    this heavy duty melnor adjustable rear trigger nozzle features an adjustable tip that sprays from mist to jet so you can tackle a variety of watering jobs the nozzle s trigger lock feature allows ...   \n",
       "...                                                                                                                                                                                                        ...   \n",
       "72207  the shower doesn t have to be off limits for a full day caulk the shower or tub with ge silicone ii kitchen and bath and reduce the wait time dramatically ge silicone ii 100 silicone adheres to a ...   \n",
       "72455  designed to be both beautiful and functional louvers have been a useful design accent for centuries fypon offers two basic louver types functional venting and decorative non venting in a multitude...   \n",
       "72518  behr marquee exterior flat is a stain blocking paint and primer that features the most advanced dirt and fade technology from behr marquee creates a tough non stick surface that helps resists dirt...   \n",
       "72559  commercial 100 silicone caulk is designed for use in coves corners changes in plane and expansion joints associated with exterior and interior applications of tile and stone this caulk can be used...   \n",
       "73758  expand your living and playing area into the outdoors with durable carpet designed specifically for your outdoor needs add color and style with toulon to screened porches covered patios basements ...   \n",
       "\n",
       "                               max_levenshtein_title  \\\n",
       "2               (0.6666666666666666, deck, deckover)   \n",
       "7        (0.9473684210526315, microwaves, microwave)   \n",
       "84            (0.8571428571428571, wiremesh, remesh)   \n",
       "145                (0.6666666666666666, 4x6, 4x6ft.)   \n",
       "159                            (1.0, melnor, melnor)   \n",
       "...                                              ...   \n",
       "72207  (0.7619047619047619, whitesilicone, silicone)   \n",
       "72455            (0.9090909090909091, fyrpon, fypon)   \n",
       "72518                      (1.0, blushing, blushing)   \n",
       "72559  (0.7619047619047619, whitesilicone, silicone)   \n",
       "73758          (0.9230769230769231, toulone, toulon)   \n",
       "\n",
       "                                max_levenshtein_desc  total_levenshtein_title  \\\n",
       "2                                  (1.0, deck, deck)                 0.666667   \n",
       "7        (0.9473684210526315, microwaves, microwave)                 0.947368   \n",
       "84            (0.8571428571428571, wiremesh, remesh)                 0.857143   \n",
       "145                (0.6666666666666666, 4x6, 4x6ft.)                 0.666667   \n",
       "159                            (1.0, melnor, melnor)                 1.000000   \n",
       "...                                              ...                      ...   \n",
       "72207  (0.7619047619047619, whitesilicone, silicone)                 0.761905   \n",
       "72455            (0.9090909090909091, fyrpon, fypon)                 0.909091   \n",
       "72518        (0.6666666666666666, blushing, lasting)                 1.000000   \n",
       "72559  (0.7619047619047619, whitesilicone, silicone)                 0.761905   \n",
       "73758          (0.9230769230769231, toulone, toulon)                 0.923077   \n",
       "\n",
       "       total_levenshtein_desc  \n",
       "2                    1.000000  \n",
       "7                    0.947368  \n",
       "84                   0.857143  \n",
       "145                  0.666667  \n",
       "159                  1.000000  \n",
       "...                       ...  \n",
       "72207                0.761905  \n",
       "72455                0.909091  \n",
       "72518                0.666667  \n",
       "72559                0.761905  \n",
       "73758                0.923077  \n",
       "\n",
       "[1123 rows x 7 columns]"
      ]
     },
     "execution_count": 22,
     "metadata": {
      "tags": []
     },
     "output_type": "execute_result"
    }
   ],
   "source": [
    "df[(df[\"search_word_count\"] == 1) & (df[\"relevance\"] == 3) & (df[\"is_stopword\"] == 0)].iloc[:, [2, 3, 5, -4, -3, -2, -1]]"
   ]
  },
  {
   "cell_type": "code",
   "execution_count": null,
   "metadata": {
    "colab": {
     "base_uri": "https://localhost:8080/",
     "height": 391
    },
    "executionInfo": {
     "elapsed": 614371,
     "status": "ok",
     "timestamp": 1618309294043,
     "user": {
      "displayName": "Ashwinkumar Jayagopi",
      "photoUrl": "https://lh3.googleusercontent.com/a-/AOh14Gh47yVJAWTH0wh5QyDkeo1faM5evRToGXV4zKYa=s64",
      "userId": "16729666215456848120"
     },
     "user_tz": -330
    },
    "id": "XFlE4oW4CZFd",
    "outputId": "d5f84b59-3fa8-42b4-ab30-a0e816324af3"
   },
   "outputs": [
    {
     "data": {
      "text/plain": [
       "<matplotlib.collections.PathCollection at 0x7fe4f60cc710>"
      ]
     },
     "execution_count": 148,
     "metadata": {
      "tags": []
     },
     "output_type": "execute_result"
    },
    {
     "data": {
      "image/png": "[encoded data removed]",
      "text/plain": [
       "<Figure size 864x432 with 1 Axes>"
      ]
     },
     "metadata": {
      "needs_background": "light",
      "tags": []
     },
     "output_type": "display_data"
    }
   ],
   "source": [
    "plt.figure(figsize=(12, 6))\n",
    "plt.scatter(df[\"search_word_count\"], df[\"relevance_bins\"])"
   ]
  },
  {
   "cell_type": "code",
   "execution_count": null,
   "metadata": {
    "colab": {
     "base_uri": "https://localhost:8080/",
     "height": 69
    },
    "executionInfo": {
     "elapsed": 2378,
     "status": "ok",
     "timestamp": 1618128946876,
     "user": {
      "displayName": "Ashwinkumar Jayagopi",
      "photoUrl": "https://lh3.googleusercontent.com/a-/AOh14Gh47yVJAWTH0wh5QyDkeo1faM5evRToGXV4zKYa=s64",
      "userId": "16729666215456848120"
     },
     "user_tz": -330
    },
    "id": "oHBoOQ4i6avf",
    "outputId": "91809672-e230-4b05-9e3f-42e74ea8126f"
   },
   "outputs": [
    {
     "data": {
      "text/html": [
       "<div>\n",
       "<style scoped>\n",
       "    .dataframe tbody tr th:only-of-type {\n",
       "        vertical-align: middle;\n",
       "    }\n",
       "\n",
       "    .dataframe tbody tr th {\n",
       "        vertical-align: top;\n",
       "    }\n",
       "\n",
       "    .dataframe thead th {\n",
       "        text-align: right;\n",
       "    }\n",
       "</style>\n",
       "<table border=\"1\" class=\"dataframe\">\n",
       "  <thead>\n",
       "    <tr style=\"text-align: right;\">\n",
       "      <th></th>\n",
       "      <th>id</th>\n",
       "      <th>product_title</th>\n",
       "      <th>search_term</th>\n",
       "      <th>relevance</th>\n",
       "      <th>product_description</th>\n",
       "      <th>features</th>\n",
       "      <th>word_in_title</th>\n",
       "      <th>ratio_word_in_title</th>\n",
       "      <th>word_in_desc</th>\n",
       "      <th>ratio_word_in_desc</th>\n",
       "    </tr>\n",
       "  </thead>\n",
       "  <tbody>\n",
       "  </tbody>\n",
       "</table>\n",
       "</div>"
      ],
      "text/plain": [
       "Empty DataFrame\n",
       "Columns: [id, product_title, search_term, relevance, product_description, features, word_in_title, ratio_word_in_title, word_in_desc, ratio_word_in_desc]\n",
       "Index: []"
      ]
     },
     "execution_count": 66,
     "metadata": {
      "tags": []
     },
     "output_type": "execute_result"
    }
   ],
   "source": [
    "df[df[\"ratio_word_in_title\"] > 1][display_columns]"
   ]
  },
  {
   "cell_type": "code",
   "execution_count": null,
   "metadata": {
    "colab": {
     "base_uri": "https://localhost:8080/",
     "height": 759
    },
    "executionInfo": {
     "elapsed": 1268,
     "status": "ok",
     "timestamp": 1618128929624,
     "user": {
      "displayName": "Ashwinkumar Jayagopi",
      "photoUrl": "https://lh3.googleusercontent.com/a-/AOh14Gh47yVJAWTH0wh5QyDkeo1faM5evRToGXV4zKYa=s64",
      "userId": "16729666215456848120"
     },
     "user_tz": -330
    },
    "id": "pZpki0yJycy1",
    "outputId": "742def4f-c2b7-48a9-88c3-558827a10b6f",
    "scrolled": true
   },
   "outputs": [
    {
     "data": {
      "text/html": [
       "<div>\n",
       "<style scoped>\n",
       "    .dataframe tbody tr th:only-of-type {\n",
       "        vertical-align: middle;\n",
       "    }\n",
       "\n",
       "    .dataframe tbody tr th {\n",
       "        vertical-align: top;\n",
       "    }\n",
       "\n",
       "    .dataframe thead th {\n",
       "        text-align: right;\n",
       "    }\n",
       "</style>\n",
       "<table border=\"1\" class=\"dataframe\">\n",
       "  <thead>\n",
       "    <tr style=\"text-align: right;\">\n",
       "      <th></th>\n",
       "      <th>search_term</th>\n",
       "      <th>product_title</th>\n",
       "      <th>product_description</th>\n",
       "      <th>relevance</th>\n",
       "    </tr>\n",
       "  </thead>\n",
       "  <tbody>\n",
       "    <tr>\n",
       "      <th>0</th>\n",
       "      <td>angle bracket</td>\n",
       "      <td>Simpson Strong-Tie 12-Gauge Angle</td>\n",
       "      <td>Not only do angles make joints stronger, they also provide more consistent, straight corners. Simpson Strong-Tie offers a wide variety of angles in various sizes and thicknesses to handle light-du...</td>\n",
       "      <td>3.00</td>\n",
       "    </tr>\n",
       "    <tr>\n",
       "      <th>1</th>\n",
       "      <td>l bracket</td>\n",
       "      <td>Simpson Strong-Tie 12-Gauge Angle</td>\n",
       "      <td>Not only do angles make joints stronger, they also provide more consistent, straight corners. Simpson Strong-Tie offers a wide variety of angles in various sizes and thicknesses to handle light-du...</td>\n",
       "      <td>2.50</td>\n",
       "    </tr>\n",
       "    <tr>\n",
       "      <th>2</th>\n",
       "      <td>deck over</td>\n",
       "      <td>BEHR Premium Textured DeckOver 1-gal. #SC-141 Tugboat Wood and Concrete Coating</td>\n",
       "      <td>BEHR Premium Textured DECKOVER is an innovative solid color coating. It will bring your old, weathered wood or concrete back to life. The advanced 100% acrylic resin formula creates a durable coat...</td>\n",
       "      <td>3.00</td>\n",
       "    </tr>\n",
       "    <tr>\n",
       "      <th>3</th>\n",
       "      <td>rain shower head</td>\n",
       "      <td>Delta Vero 1-Handle Shower Only Faucet Trim Kit in Chrome (Valve Not Included)</td>\n",
       "      <td>Update your bathroom with the Delta Vero Single-Handle Shower Faucet Trim Kit in Chrome. It has a sleek, modern and minimalistic aesthetic. The MultiChoice universal valve keeps the water temperat...</td>\n",
       "      <td>2.33</td>\n",
       "    </tr>\n",
       "    <tr>\n",
       "      <th>4</th>\n",
       "      <td>shower only faucet</td>\n",
       "      <td>Delta Vero 1-Handle Shower Only Faucet Trim Kit in Chrome (Valve Not Included)</td>\n",
       "      <td>Update your bathroom with the Delta Vero Single-Handle Shower Faucet Trim Kit in Chrome. It has a sleek, modern and minimalistic aesthetic. The MultiChoice universal valve keeps the water temperat...</td>\n",
       "      <td>2.67</td>\n",
       "    </tr>\n",
       "    <tr>\n",
       "      <th>...</th>\n",
       "      <td>...</td>\n",
       "      <td>...</td>\n",
       "      <td>...</td>\n",
       "      <td>...</td>\n",
       "    </tr>\n",
       "    <tr>\n",
       "      <th>74061</th>\n",
       "      <td>rondec stainless steel 3/8 edge protection</td>\n",
       "      <td>Schluter Rondec Stainless Steel 3/8 in. x 1 in. Metal 90 Degree Outside Corner</td>\n",
       "      <td>The EV/RO100E is a prefabricated corner for Rondec that eliminates the need for a mitered edge. It is used to create 90 outside corners. The EV/RO100E corner is designed for use with the RO100E pr...</td>\n",
       "      <td>3.00</td>\n",
       "    </tr>\n",
       "    <tr>\n",
       "      <th>74063</th>\n",
       "      <td>r20 halogen light</td>\n",
       "      <td>Philips 40-Watt Halogen R20 Flood Light Bulb (12-Pack)</td>\n",
       "      <td>Philips Energy Advantage lamps use less energy while maintaining bright, crisp, white halogen light. Available in traditional lamp shapes to fit most incandescent fixtures. Halogen energy savers w...</td>\n",
       "      <td>3.00</td>\n",
       "    </tr>\n",
       "    <tr>\n",
       "      <th>74064</th>\n",
       "      <td>schlage lock siena half dummy knob with</td>\n",
       "      <td>Schlage Camelot In-Active Aged Bronze Handleset with Left-Hand Accent Lever</td>\n",
       "      <td>The Schlage Camelot In-Active Aged Bronze Handleset with Left-Hand Accent Lever is perfect for use as a decorative door pull on a pair of non-latching doors. The interior Accent lever is widely po...</td>\n",
       "      <td>2.33</td>\n",
       "    </tr>\n",
       "    <tr>\n",
       "      <th>74065</th>\n",
       "      <td>zen garden  decor</td>\n",
       "      <td>Plastec 11 in. x 24 in. Rose Garden Wall Decor Steel</td>\n",
       "      <td>The Rose Garden is inspired by the popular early 20th century Scottish design motif. Dark Bronze powder coated finish on steel makes it suitable for indoor or outdoor use.Indoor and outdoor useFin...</td>\n",
       "      <td>3.00</td>\n",
       "    </tr>\n",
       "    <tr>\n",
       "      <th>74066</th>\n",
       "      <td>fine sheer curtain 63 inches</td>\n",
       "      <td>LICHTENBERG Pool Blue No. 918 Millennial Ryan Heathered Texture Sheer Curtain Panel, 40 in. W x 63 in. L</td>\n",
       "      <td>No. 918 Millennial Ryan heathered texture semi-sheer curtain is a casual solid that adds freshness and a finishing touch to any decor setting. Enhances privacy while allowing light to gently filte...</td>\n",
       "      <td>2.33</td>\n",
       "    </tr>\n",
       "  </tbody>\n",
       "</table>\n",
       "<p>71962 rows × 4 columns</p>\n",
       "</div>"
      ],
      "text/plain": [
       "                                      search_term  \\\n",
       "0                                   angle bracket   \n",
       "1                                       l bracket   \n",
       "2                                       deck over   \n",
       "3                                rain shower head   \n",
       "4                              shower only faucet   \n",
       "...                                           ...   \n",
       "74061  rondec stainless steel 3/8 edge protection   \n",
       "74063                           r20 halogen light   \n",
       "74064     schlage lock siena half dummy knob with   \n",
       "74065                           zen garden  decor   \n",
       "74066                fine sheer curtain 63 inches   \n",
       "\n",
       "                                                                                                  product_title  \\\n",
       "0                                                                             Simpson Strong-Tie 12-Gauge Angle   \n",
       "1                                                                             Simpson Strong-Tie 12-Gauge Angle   \n",
       "2                               BEHR Premium Textured DeckOver 1-gal. #SC-141 Tugboat Wood and Concrete Coating   \n",
       "3                                Delta Vero 1-Handle Shower Only Faucet Trim Kit in Chrome (Valve Not Included)   \n",
       "4                                Delta Vero 1-Handle Shower Only Faucet Trim Kit in Chrome (Valve Not Included)   \n",
       "...                                                                                                         ...   \n",
       "74061                            Schluter Rondec Stainless Steel 3/8 in. x 1 in. Metal 90 Degree Outside Corner   \n",
       "74063                                                    Philips 40-Watt Halogen R20 Flood Light Bulb (12-Pack)   \n",
       "74064                               Schlage Camelot In-Active Aged Bronze Handleset with Left-Hand Accent Lever   \n",
       "74065                                                      Plastec 11 in. x 24 in. Rose Garden Wall Decor Steel   \n",
       "74066  LICHTENBERG Pool Blue No. 918 Millennial Ryan Heathered Texture Sheer Curtain Panel, 40 in. W x 63 in. L   \n",
       "\n",
       "                                                                                                                                                                                           product_description  \\\n",
       "0      Not only do angles make joints stronger, they also provide more consistent, straight corners. Simpson Strong-Tie offers a wide variety of angles in various sizes and thicknesses to handle light-du...   \n",
       "1      Not only do angles make joints stronger, they also provide more consistent, straight corners. Simpson Strong-Tie offers a wide variety of angles in various sizes and thicknesses to handle light-du...   \n",
       "2      BEHR Premium Textured DECKOVER is an innovative solid color coating. It will bring your old, weathered wood or concrete back to life. The advanced 100% acrylic resin formula creates a durable coat...   \n",
       "3      Update your bathroom with the Delta Vero Single-Handle Shower Faucet Trim Kit in Chrome. It has a sleek, modern and minimalistic aesthetic. The MultiChoice universal valve keeps the water temperat...   \n",
       "4      Update your bathroom with the Delta Vero Single-Handle Shower Faucet Trim Kit in Chrome. It has a sleek, modern and minimalistic aesthetic. The MultiChoice universal valve keeps the water temperat...   \n",
       "...                                                                                                                                                                                                        ...   \n",
       "74061  The EV/RO100E is a prefabricated corner for Rondec that eliminates the need for a mitered edge. It is used to create 90 outside corners. The EV/RO100E corner is designed for use with the RO100E pr...   \n",
       "74063  Philips Energy Advantage lamps use less energy while maintaining bright, crisp, white halogen light. Available in traditional lamp shapes to fit most incandescent fixtures. Halogen energy savers w...   \n",
       "74064  The Schlage Camelot In-Active Aged Bronze Handleset with Left-Hand Accent Lever is perfect for use as a decorative door pull on a pair of non-latching doors. The interior Accent lever is widely po...   \n",
       "74065  The Rose Garden is inspired by the popular early 20th century Scottish design motif. Dark Bronze powder coated finish on steel makes it suitable for indoor or outdoor use.Indoor and outdoor useFin...   \n",
       "74066  No. 918 Millennial Ryan heathered texture semi-sheer curtain is a casual solid that adds freshness and a finishing touch to any decor setting. Enhances privacy while allowing light to gently filte...   \n",
       "\n",
       "       relevance  \n",
       "0           3.00  \n",
       "1           2.50  \n",
       "2           3.00  \n",
       "3           2.33  \n",
       "4           2.67  \n",
       "...          ...  \n",
       "74061       3.00  \n",
       "74063       3.00  \n",
       "74064       2.33  \n",
       "74065       3.00  \n",
       "74066       2.33  \n",
       "\n",
       "[71962 rows x 4 columns]"
      ]
     },
     "execution_count": 64,
     "metadata": {
      "tags": []
     },
     "output_type": "execute_result"
    }
   ],
   "source": [
    "train[train[\"relevance\"] > 1][[\"search_term\", \"product_title\", \"product_description\", \"relevance\"]]"
   ]
  },
  {
   "cell_type": "code",
   "execution_count": null,
   "metadata": {
    "colab": {
     "base_uri": "https://localhost:8080/"
    },
    "executionInfo": {
     "elapsed": 1014,
     "status": "ok",
     "timestamp": 1618126164171,
     "user": {
      "displayName": "Ashwinkumar Jayagopi",
      "photoUrl": "https://lh3.googleusercontent.com/a-/AOh14Gh47yVJAWTH0wh5QyDkeo1faM5evRToGXV4zKYa=s64",
      "userId": "16729666215456848120"
     },
     "user_tz": -330
    },
    "id": "jBnN85g8ycy1",
    "outputId": "0ad9f6a4-ecc0-40cc-ae92-9366de50197d"
   },
   "outputs": [
    {
     "data": {
      "text/plain": [
       "(1.0, 3.0)"
      ]
     },
     "execution_count": 25,
     "metadata": {
      "tags": []
     },
     "output_type": "execute_result"
    }
   ],
   "source": [
    "train[\"relevance\"].min(), train[\"relevance\"].max()"
   ]
  },
  {
   "cell_type": "markdown",
   "metadata": {},
   "source": [
    "### BERT EMBEDDINGS"
   ]
  },
  {
   "cell_type": "code",
   "execution_count": null,
   "metadata": {
    "id": "TlFbG5N-ycy2"
   },
   "outputs": [],
   "source": [
    "def bert_encode(tokenizer, bert_layer, texts, max_len, mode=\"pooled\"):\n",
    "\n",
    "    def convert_tokens(tokenizer, text, max_len):\n",
    "\n",
    "        tokens = tokenizer.convert_tokens_to_ids(tokenizer.tokenize(text))\n",
    "\n",
    "        if len(tokens) <= max_len - 2:\n",
    "            tokens.append(tokenizer.convert_tokens_to_ids([\"[SEP]\"])[0])\n",
    "        else:\n",
    "            tokens = tokens[:max_len - 2] + tokenizer.convert_tokens_to_ids([\"[SEP]\"])\n",
    "\n",
    "        return tokens\n",
    "    \n",
    "    sentence = tf.ragged.constant([convert_tokens(tokenizer, i, max_len) for i in texts])\n",
    "    cls_token = [tokenizer.convert_tokens_to_ids([\"[CLS]\"])] * len(texts)\n",
    "    input_word = tf.concat([cls_token, sentence], axis=-1)\n",
    "\n",
    "    mask = tf.ones_like(input_word).to_tensor()\n",
    "    type_id = tf.zeros_like(input_word).to_tensor()\n",
    "\n",
    "    inputs = {\n",
    "    'input_word_ids': input_word.to_tensor(),\n",
    "    'input_mask': mask,\n",
    "    'input_type_ids': type_id}\n",
    "\n",
    "    bert_embeddings = bert_layer(inputs)\n",
    "\n",
    "    if mode == \"pooled\":\n",
    "        return bert_embeddings[\"pooled_output\"]\n",
    "\n",
    "    else:\n",
    "        return bert_embeddings[\"sequence_output\"]"
   ]
  },
  {
   "cell_type": "code",
   "execution_count": null,
   "metadata": {
    "id": "Q0V8rBBIycy3"
   },
   "outputs": [],
   "source": [
    "# bert_layer = hub.KerasLayer(\"https://tfhub.dev/tensorflow/bert_en_uncased_L-12_H-768_A-12/3\", trainable=False)\n",
    "# bert_tokenizer = bert.bert_tokenization.FullTokenizer\n",
    "# vocabulary_file = bert_layer.resolved_object.vocab_file.asset_path.numpy()\n",
    "# to_lower_case = bert_layer.resolved_object.do_lower_case.numpy()\n",
    "# tokenizer = bert_tokenizer(vocabulary_file, to_lower_case)"
   ]
  },
  {
   "cell_type": "code",
   "execution_count": null,
   "metadata": {
    "id": "KGJRJ2prycy4",
    "scrolled": true
   },
   "outputs": [],
   "source": [
    "# bert_embeddings = bert_encode(tokenizer, bert_layer, train[\"product_description\"].tolist()[:5], max_len=300, mode=\"pooled\")"
   ]
  },
  {
   "cell_type": "code",
   "execution_count": null,
   "metadata": {
    "id": "owu0QcN8bZfN"
   },
   "outputs": [],
   "source": []
  },
  {
   "cell_type": "code",
   "execution_count": null,
   "metadata": {
    "id": "AkbaWcAOeysK"
   },
   "outputs": [],
   "source": []
  },
  {
   "cell_type": "code",
   "execution_count": 18,
   "metadata": {
    "ExecuteTime": {
     "end_time": "2021-05-11T05:34:08.682741Z",
     "start_time": "2021-05-11T05:34:08.678708Z"
    },
    "id": "MLhRfK8we9X_"
   },
   "outputs": [],
   "source": [
    "import tensorflow as tf\n",
    "import pathlib\n",
    "import os\n",
    "import glob"
   ]
  },
  {
   "cell_type": "code",
   "execution_count": 80,
   "metadata": {
    "ExecuteTime": {
     "end_time": "2021-05-11T07:45:14.871973Z",
     "start_time": "2021-05-11T07:45:14.867215Z"
    },
    "id": "7SX9sqdxfYms"
   },
   "outputs": [],
   "source": [
    "import pathlib\n",
    "dataset_url = \"https://storage.googleapis.com/download.tensorflow.org/example_images/flower_photos.tgz\"\n",
    "data_dir = tf.keras.utils.get_file(origin=dataset_url, \n",
    "                                   fname='flower_photos', \n",
    "                                   untar=True)"
   ]
  },
  {
   "cell_type": "code",
   "execution_count": 81,
   "metadata": {
    "ExecuteTime": {
     "end_time": "2021-05-11T07:45:14.943508Z",
     "start_time": "2021-05-11T07:45:14.881027Z"
    }
   },
   "outputs": [
    {
     "data": {
      "text/plain": [
       "'/home/ashwinkumar/.keras/datasets/flower_photos'"
      ]
     },
     "execution_count": 81,
     "metadata": {},
     "output_type": "execute_result"
    }
   ],
   "source": [
    "data_dir"
   ]
  },
  {
   "cell_type": "code",
   "execution_count": 82,
   "metadata": {
    "ExecuteTime": {
     "end_time": "2021-05-11T07:45:15.006749Z",
     "start_time": "2021-05-11T07:45:14.945574Z"
    }
   },
   "outputs": [],
   "source": [
    "data_dir = pathlib.Path(data_dir)"
   ]
  },
  {
   "cell_type": "code",
   "execution_count": 83,
   "metadata": {
    "ExecuteTime": {
     "end_time": "2021-05-11T07:45:15.076034Z",
     "start_time": "2021-05-11T07:45:15.009336Z"
    }
   },
   "outputs": [
    {
     "data": {
      "text/plain": [
       "PosixPath('/home/ashwinkumar/.keras/datasets/flower_photos')"
      ]
     },
     "execution_count": 83,
     "metadata": {},
     "output_type": "execute_result"
    }
   ],
   "source": [
    "data_dir"
   ]
  },
  {
   "cell_type": "code",
   "execution_count": 31,
   "metadata": {
    "ExecuteTime": {
     "end_time": "2021-05-11T05:50:24.578993Z",
     "start_time": "2021-05-11T05:50:24.572880Z"
    }
   },
   "outputs": [
    {
     "data": {
      "text/plain": [
       "[PosixPath('/home/ashwinkumar/.keras/datasets/flower_photos/daisy'),\n",
       " PosixPath('/home/ashwinkumar/.keras/datasets/flower_photos/roses'),\n",
       " PosixPath('/home/ashwinkumar/.keras/datasets/flower_photos/LICENSE.txt'),\n",
       " PosixPath('/home/ashwinkumar/.keras/datasets/flower_photos/tulips'),\n",
       " PosixPath('/home/ashwinkumar/.keras/datasets/flower_photos/sunflowers'),\n",
       " PosixPath('/home/ashwinkumar/.keras/datasets/flower_photos/dandelion')]"
      ]
     },
     "execution_count": 31,
     "metadata": {},
     "output_type": "execute_result"
    }
   ],
   "source": [
    "list(data_dir.glob(\"*\"))"
   ]
  },
  {
   "cell_type": "code",
   "execution_count": 34,
   "metadata": {
    "ExecuteTime": {
     "end_time": "2021-05-11T05:51:04.060588Z",
     "start_time": "2021-05-11T05:51:04.037338Z"
    }
   },
   "outputs": [
    {
     "data": {
      "text/plain": [
       "3670"
      ]
     },
     "execution_count": 34,
     "metadata": {},
     "output_type": "execute_result"
    }
   ],
   "source": [
    "len(list(data_dir.glob('*/*.jpg')))"
   ]
  },
  {
   "cell_type": "code",
   "execution_count": 38,
   "metadata": {
    "ExecuteTime": {
     "end_time": "2021-05-11T05:51:53.642679Z",
     "start_time": "2021-05-11T05:51:53.624982Z"
    }
   },
   "outputs": [
    {
     "data": {
      "text/plain": [
       "3670"
      ]
     },
     "execution_count": 38,
     "metadata": {},
     "output_type": "execute_result"
    }
   ],
   "source": [
    "len(glob.glob(data_dir + \"/*/*.jpg\"))"
   ]
  },
  {
   "cell_type": "code",
   "execution_count": 43,
   "metadata": {
    "ExecuteTime": {
     "end_time": "2021-05-11T05:54:59.776650Z",
     "start_time": "2021-05-11T05:54:59.730891Z"
    }
   },
   "outputs": [
    {
     "data": {
      "image/png": "[encoded data removed]",
      "text/plain": [
       "<PIL.JpegImagePlugin.JpegImageFile image mode=RGB size=240x208 at 0x7F4ACD3AB100>"
      ]
     },
     "execution_count": 43,
     "metadata": {},
     "output_type": "execute_result"
    }
   ],
   "source": [
    "roses = list(data_dir.glob('roses/*'))\n",
    "PIL.Image.open(roses[0])"
   ]
  },
  {
   "cell_type": "code",
   "execution_count": 62,
   "metadata": {
    "ExecuteTime": {
     "end_time": "2021-05-11T06:19:51.473319Z",
     "start_time": "2021-05-11T06:19:51.282599Z"
    },
    "scrolled": true
   },
   "outputs": [
    {
     "name": "stdout",
     "output_type": "stream",
     "text": [
      "Found 3670 files belonging to 5 classes.\n",
      "Using 2936 files for training.\n"
     ]
    }
   ],
   "source": [
    "train_ds = tf.keras.preprocessing.image_dataset_from_directory(\n",
    "  data_dir,\n",
    "  validation_split=0.2,\n",
    "  subset=\"training\",\n",
    "  seed=123,\n",
    "  image_size=(224, 224),\n",
    "  batch_size=128)"
   ]
  },
  {
   "cell_type": "code",
   "execution_count": 66,
   "metadata": {
    "ExecuteTime": {
     "end_time": "2021-05-11T06:20:22.206326Z",
     "start_time": "2021-05-11T06:20:22.201249Z"
    }
   },
   "outputs": [
    {
     "name": "stdout",
     "output_type": "stream",
     "text": [
      "23 tf.Tensor(23, shape=(), dtype=int64)\n"
     ]
    }
   ],
   "source": [
    "print(tf.data.experimental.cardinality(train_ds).numpy(), train_ds.__len__())"
   ]
  },
  {
   "cell_type": "code",
   "execution_count": 50,
   "metadata": {
    "ExecuteTime": {
     "end_time": "2021-05-11T05:56:17.572108Z",
     "start_time": "2021-05-11T05:56:17.567476Z"
    }
   },
   "outputs": [
    {
     "data": {
      "text/plain": [
       "['daisy', 'dandelion', 'roses', 'sunflowers', 'tulips']"
      ]
     },
     "execution_count": 50,
     "metadata": {},
     "output_type": "execute_result"
    }
   ],
   "source": [
    "train_ds.class_names"
   ]
  },
  {
   "cell_type": "code",
   "execution_count": 52,
   "metadata": {
    "ExecuteTime": {
     "end_time": "2021-05-11T05:56:59.221352Z",
     "start_time": "2021-05-11T05:56:59.080584Z"
    }
   },
   "outputs": [
    {
     "name": "stdout",
     "output_type": "stream",
     "text": [
      "Found 3670 files belonging to 5 classes.\n",
      "Using 734 files for validation.\n"
     ]
    }
   ],
   "source": [
    "val_ds = tf.keras.preprocessing.image_dataset_from_directory(\n",
    "  data_dir,\n",
    "  validation_split=0.2,\n",
    "  subset=\"validation\",\n",
    "  seed=123,\n",
    "  image_size=(224, 224),\n",
    "  batch_size=128)"
   ]
  },
  {
   "cell_type": "code",
   "execution_count": 55,
   "metadata": {
    "ExecuteTime": {
     "end_time": "2021-05-11T05:58:12.106359Z",
     "start_time": "2021-05-11T05:58:09.382530Z"
    }
   },
   "outputs": [
    {
     "name": "stdout",
     "output_type": "stream",
     "text": [
      "tf.Tensor(\n",
      "[3 4 4 3 4 1 1 2 4 3 0 2 0 1 1 1 3 2 4 1 1 1 4 2 1 3 1 2 3 1 4 4 2 4 1 4 3\n",
      " 3 1 2 1 1 1 0 2 2 1 1 1 4 0 0 1 3 1 0 1 4 3 0 4 4 4 1 0 1 3 0 1 4 2 0 1 4\n",
      " 0 4 1 0 1 3 2 3 1 2 4 1 3 3 0 0 1 2 4 1 1 1 1 4 1 4 4 1 3 1 0 3 0 2 4 1 4\n",
      " 3 3 4 2 3 2 1 1 3 1 0 1 1 4 2 2 1], shape=(128,), dtype=int32)\n"
     ]
    }
   ],
   "source": [
    "for i in train_ds.take(1):\n",
    "    print(i[1])"
   ]
  },
  {
   "cell_type": "code",
   "execution_count": 67,
   "metadata": {
    "ExecuteTime": {
     "end_time": "2021-05-11T06:20:29.981877Z",
     "start_time": "2021-05-11T06:20:29.976218Z"
    }
   },
   "outputs": [],
   "source": [
    "AUTOTUNE = tf.data.AUTOTUNE\n",
    "\n",
    "train_ds = train_ds.cache().prefetch(buffer_size=AUTOTUNE)\n",
    "val_ds = val_ds.cache().prefetch(buffer_size=AUTOTUNE)"
   ]
  },
  {
   "cell_type": "code",
   "execution_count": 84,
   "metadata": {
    "ExecuteTime": {
     "end_time": "2021-05-11T07:46:30.943982Z",
     "start_time": "2021-05-11T07:46:30.921269Z"
    }
   },
   "outputs": [],
   "source": [
    "list_ds = tf.data.Dataset.list_files(str(data_dir/'*/*'), shuffle=False)\n",
    "# list_ds = list_ds.shuffle(image_count, reshuffle_each_iteration=False)"
   ]
  },
  {
   "cell_type": "code",
   "execution_count": 78,
   "metadata": {
    "ExecuteTime": {
     "end_time": "2021-05-11T07:24:12.458633Z",
     "start_time": "2021-05-11T07:24:12.449247Z"
    }
   },
   "outputs": [
    {
     "name": "stdout",
     "output_type": "stream",
     "text": [
      "b'/home/ashwinkumar/.keras/datasets/flower_photos/daisy/100080576_f52e8ee070_n.jpg'\n",
      "<class 'bytes'>\n"
     ]
    }
   ],
   "source": [
    "for i in list_ds.take(1):\n",
    "    print(i.numpy())\n",
    "    print(type(i.numpy()))"
   ]
  },
  {
   "cell_type": "code",
   "execution_count": 16,
   "metadata": {
    "ExecuteTime": {
     "end_time": "2021-05-17T07:15:52.687181Z",
     "start_time": "2021-05-17T07:15:52.676352Z"
    },
    "scrolled": true
   },
   "outputs": [
    {
     "name": "stdout",
     "output_type": "stream",
     "text": [
      "Start of Image\n",
      "Application Default Header\n",
      "Quantization Table\n",
      "Quantization Table\n",
      "Start of Frame\n",
      "Define Huffman Table\n",
      "Define Huffman Table\n",
      "Define Huffman Table\n",
      "Define Huffman Table\n",
      "Start of Scan\n",
      "End of Image\n"
     ]
    }
   ],
   "source": [
    "from struct import unpack\n",
    "\n",
    "marker_mapping = {\n",
    "    0xffd8: \"Start of Image\",\n",
    "    0xffe0: \"Application Default Header\",\n",
    "    0xffdb: \"Quantization Table\",\n",
    "    0xffc0: \"Start of Frame\",\n",
    "    0xffc4: \"Define Huffman Table\",\n",
    "    0xffda: \"Start of Scan\",\n",
    "    0xffd9: \"End of Image\"\n",
    "}\n",
    "\n",
    "\n",
    "class JPEG:\n",
    "    def __init__(self, image_file):\n",
    "        with open(image_file, 'rb') as f:\n",
    "            self.img_data = f.read()\n",
    "    \n",
    "    def decode(self):\n",
    "        data = self.img_data\n",
    "        while(True):\n",
    "            marker, = unpack(\">H\", data[0:2])\n",
    "            print(marker_mapping.get(marker))\n",
    "            if marker == 0xffd8:\n",
    "                data = data[2:]\n",
    "            elif marker == 0xffd9:\n",
    "                return\n",
    "            elif marker == 0xffda:\n",
    "                data = data[-2:]\n",
    "            else:\n",
    "                lenchunk, = unpack(\">H\", data[2:4])\n",
    "                data = data[2+lenchunk:]            \n",
    "            if len(data)==0:\n",
    "                break        \n",
    "\n",
    "if __name__ == \"__main__\":\n",
    "    img = JPEG('/home/ashwinkumar/Upwork_Projects/Fakeddit/images/79w55p.jpg')\n",
    "    img.decode() "
   ]
  },
  {
   "cell_type": "code",
   "execution_count": 30,
   "metadata": {
    "ExecuteTime": {
     "end_time": "2021-05-17T09:12:29.570161Z",
     "start_time": "2021-05-17T09:12:29.438143Z"
    },
    "scrolled": true
   },
   "outputs": [
    {
     "name": "stdout",
     "output_type": "stream",
     "text": [
      "[[[245 245 245]\n",
      "  [245 245 245]\n",
      "  [245 245 245]\n",
      "  ...\n",
      "  [245 245 245]\n",
      "  [245 245 245]\n",
      "  [245 245 245]]\n",
      "\n",
      " [[245 245 245]\n",
      "  [245 245 245]\n",
      "  [245 245 245]\n",
      "  ...\n",
      "  [245 245 245]\n",
      "  [245 245 245]\n",
      "  [245 245 245]]\n",
      "\n",
      " [[245 245 245]\n",
      "  [245 245 245]\n",
      "  [245 245 245]\n",
      "  ...\n",
      "  [245 245 245]\n",
      "  [245 245 245]\n",
      "  [245 245 245]]\n",
      "\n",
      " ...\n",
      "\n",
      " [[245 245 245]\n",
      "  [245 245 245]\n",
      "  [245 245 245]\n",
      "  ...\n",
      "  [245 245 245]\n",
      "  [245 245 245]\n",
      "  [245 245 245]]\n",
      "\n",
      " [[245 245 245]\n",
      "  [245 245 245]\n",
      "  [245 245 245]\n",
      "  ...\n",
      "  [245 245 245]\n",
      "  [245 245 245]\n",
      "  [245 245 245]]\n",
      "\n",
      " [[245 245 245]\n",
      "  [245 245 245]\n",
      "  [245 245 245]\n",
      "  ...\n",
      "  [245 245 245]\n",
      "  [245 245 245]\n",
      "  [245 245 245]]] ['/home/ashwinkumar/Upwork_Projects/Fakeddit/images/79w55p.jpg']\n"
     ]
    }
   ],
   "source": [
    "filename = '/home/ashwinkumar/Upwork_Projects/Fakeddit/images/79w55p.jpg'\n",
    "img = tf.io.read_file(filename)\n",
    "img = tf.image.decode_jpeg(img, channels=3)\n",
    "image = tf.print(img,[filename]) "
   ]
  },
  {
   "cell_type": "code",
   "execution_count": 21,
   "metadata": {
    "ExecuteTime": {
     "end_time": "2021-05-17T07:51:47.243585Z",
     "start_time": "2021-05-17T07:51:47.238558Z"
    },
    "scrolled": true
   },
   "outputs": [
    {
     "data": {
      "text/plain": [
       "b'\\xff\\xd8\\xff\\xe0\\x00\\x10JFIF\\x00\\x01\\x01\\x00\\x00\\x01\\x00\\x01\\x00\\x00\\xff\\xdb\\x00C\\x00\\x08\\x06\\x06\\x07\\x06\\x05\\x08\\x07\\x07\\x07\\t\\t\\x08\\n\\x0c\\x14\\r\\x0c\\x0b\\x0b\\x0c\\x19\\x12\\x13\\x0f\\x14\\x1d\\x1a\\x1f\\x1e\\x1d\\x1a\\x1c\\x1c $.\\' \",#\\x1c\\x1c(7),01444\\x1f\\'9=82<.342\\xff\\xdb\\x00C\\x01\\t\\t\\t\\x0c\\x0b\\x0c\\x18\\r\\r\\x182!\\x1c!22222222222222222222222222222222222222222222222222\\xff\\xc0\\x00\\x11\\x08\\x00\\xa8\\x01@\\x03\\x01\"\\x00\\x02\\x11\\x01\\x03\\x11\\x01\\xff\\xc4\\x00\\x1f\\x00\\x00\\x01\\x05\\x01\\x01\\x01\\x01\\x01\\x01\\x00\\x00\\x00\\x00\\x00\\x00\\x00\\x00\\x01\\x02\\x03\\x04\\x05\\x06\\x07\\x08\\t\\n\\x0b\\xff\\xc4\\x00\\xb5\\x10\\x00\\x02\\x01\\x03\\x03\\x02\\x04\\x03\\x05\\x05\\x04\\x04\\x00\\x00\\x01}\\x01\\x02\\x03\\x00\\x04\\x11\\x05\\x12!1A\\x06\\x13Qa\\x07\"q\\x142\\x81\\x91\\xa1\\x08#B\\xb1\\xc1\\x15R\\xd1\\xf0$3br\\x82\\t\\n\\x16\\x17\\x18\\x19\\x1a%&\\'()*456789:CDEFGHIJSTUVWXYZcdefghijstuvwxyz\\x83\\x84\\x85\\x86\\x87\\x88\\x89\\x8a\\x92\\x93\\x94\\x95\\x96\\x97\\x98\\x99\\x9a\\xa2\\xa3\\xa4\\xa5\\xa6\\xa7\\xa8\\xa9\\xaa\\xb2\\xb3\\xb4\\xb5\\xb6\\xb7\\xb8\\xb9\\xba\\xc2\\xc3\\xc4\\xc5\\xc6\\xc7\\xc8\\xc9\\xca\\xd2\\xd3\\xd4\\xd5\\xd6\\xd7\\xd8\\xd9\\xda\\xe1\\xe2\\xe3\\xe4\\xe5\\xe6\\xe7\\xe8\\xe9\\xea\\xf1\\xf2\\xf3\\xf4\\xf5\\xf6\\xf7\\xf8\\xf9\\xfa\\xff\\xc4\\x00\\x1f\\x01\\x00\\x03\\x01\\x01\\x01\\x01\\x01\\x01\\x01\\x01\\x01\\x00\\x00\\x00\\x00\\x00\\x00\\x01\\x02\\x03\\x04\\x05\\x06\\x07\\x08\\t\\n\\x0b\\xff\\xc4\\x00\\xb5\\x11\\x00\\x02\\x01\\x02\\x04\\x04\\x03\\x04\\x07\\x05\\x04\\x04\\x00\\x01\\x02w\\x00\\x01\\x02\\x03\\x11\\x04\\x05!1\\x06\\x12AQ\\x07aq\\x13\"2\\x81\\x08\\x14B\\x91\\xa1\\xb1\\xc1\\t#3R\\xf0\\x15br\\xd1\\n\\x16$4\\xe1%\\xf1\\x17\\x18\\x19\\x1a&\\'()*56789:CDEFGHIJSTUVWXYZcdefghijstuvwxyz\\x82\\x83\\x84\\x85\\x86\\x87\\x88\\x89\\x8a\\x92\\x93\\x94\\x95\\x96\\x97\\x98\\x99\\x9a\\xa2\\xa3\\xa4\\xa5\\xa6\\xa7\\xa8\\xa9\\xaa\\xb2\\xb3\\xb4\\xb5\\xb6\\xb7\\xb8\\xb9\\xba\\xc2\\xc3\\xc4\\xc5\\xc6\\xc7\\xc8\\xc9\\xca\\xd2\\xd3\\xd4\\xd5\\xd6\\xd7\\xd8\\xd9\\xda\\xe2\\xe3\\xe4\\xe5\\xe6\\xe7\\xe8\\xe9\\xea\\xf2\\xf3\\xf4\\xf5\\xf6\\xf7\\xf8\\xf9\\xfa\\xff\\xda\\x00\\x0c\\x03\\x01\\x00\\x02\\x11\\x03\\x11\\x00?\\x00\\xf7Z(\\xa2\\x80\\n(\\xa2\\x80\\n(\\xa2\\x80\\n(\\xa2\\x80\\n(\\xa2\\x80\\n(\\xa2\\x80\\n(\\xa2\\x80\\n(\\xa2\\x80\\n(\\xa2\\x80\\n(\\xa2\\x80\\n(\\xa2\\x80\\n(\\xa2\\x80\\n(\\xa2\\x80\\n(\\xa2\\x80\\n(\\xa2\\x80\\n(\\xa2\\x80\\n(\\xa2\\x80\\n(\\xa2\\x80\\n(\\xa2\\x80\\n(\\xa2\\x80\\n(\\xa2\\x80\\n(\\xa2\\x80\\n(\\xa2\\x80\\n(\\xa2\\x80\\n(\\xa2\\x80\\n(\\xa2\\x80\\n(\\xa2\\x80\\n(\\xa2\\x80\\n(\\xa2\\x80\\n(\\xa2\\x80\\n(\\xa2\\x80\\n(\\xa2\\x80\\n(\\xa2\\x80\\n(\\xa2\\x80\\n(\\xa2\\x80\\n(\\xa2\\x80\\n(\\xa2\\x80\\n(\\xa2\\x80\\n(\\xa2\\x80\\n(\\xa2\\x80\\n(\\xa2\\x80\\n(\\xa2\\x80\\n(\\xa2\\x80\\n(\\xa2\\x80\\n(\\xa2\\x80\\n(\\xa2\\x80\\n(\\xa2\\x80\\n(\\xa2\\x80\\n(\\xa6\\xbb\\xa4j]\\xd8*\\x8e\\xe4\\xe0P\\x03\\xa8\\xa8\\x1e\\xe1\\x96h\\x91#.\\x8f\\xc9q\\xd0R\\x85\\xb8&`\\xd2 S\\xfe\\xa8\\x81\\xca\\xfdh\\x02j*\\x12\\xb7\\x00\\xc2\\x16D!\\x7f\\xd6\\x129oqH\\x97\\x0c\\xd3\\xca\\x8f\\x19DA\\x90\\xe4\\xf0h\\x02z)\\xa8\\xeb\"\\x87F\\x0c\\xa7\\xa1\\x07\"\\x9d@\\x05\\x14Q@\\x05\\x14Q@\\x05\\x14Q@\\x05\\x14Q@\\x05\\x14Q@\\x05\\x14Q@\\x05\\x14Q@\\x05\\x14Q@\\x05\\x14Q@\\x05\\x14Q@\\x05\\x14Q@\\x05\\x14Q@\\x05\\x14Q@\\x05\\x14Q@\\x05\\x14Q@\\x05\\x14Q@\\x018\\x04\\xfaV|s&\\xa6\\xb2D\\xf1\\xb2\\x05!\\x81\\x07\\xf0\\xfc\\xe9\\xda\\x94\\xf3@\\xa8b\\xe01;\\x9b\\x19\\xc7\\xa0\\xa7y\\x84\\xc3\\x0crB\\xc1\\xa7\\x18r\\x83\\x1bO\\xa9\\xa0\\tW(\\xbeD \\xaf\\x96\\x14e\\xc1\\xc1\\x1e\\xc7\\xb9\\xa8\\xe7X|\\x99\\xbc\\xd9]\\xd00f\\x01\\xb9_@1O \\x85Hm\\xe5P\\xd1\\x91\\xb87\\'\\x1e\\xfe\\xe6\\xab\\xb4\\xca\\xe1\\xde\\xce\\x15\\x90\\xb3\\xed\\x93p\\xeb\\xff\\x00\\xd64\\x003\\xdb\\x19V\\xe1fd\\x92d*\\xb9\\xe8;d\\xd3%\\x95\\xec\\xed\\x84\\x179\\x94\\xc9\\x9c\\x90\\xdd\\x07L\\x02z\\x9a\\x99\\xd66\\xb8>t\\x0b\\x1aB\\x07\\x96\\xe4\\xe0}=*(VH\\x1d\\xd6\\xe6dg\\x7f\\xf5a\\x8ey\\xf5\\xf6\\xa0\\x05\\x92t\\xd3\\x128\\xd1\\x19\\xc3e\\x89c\\x83\\xff\\x00\\xeb\\xad\\x10r\\x01\\xf5\\x15\\x9b\\x02\\xdd\\xc7\\x04\\xcd8\\xf3\\x1dF\\xe4W\\xc19\\xeeG\\xb5I\\xa7\\\\M:\\xc9\\xe6\\x8c\\x85#kc\\x1fQ@\\x17\\xa8\\xa2\\x8a\\x00(\\xa2\\x8a\\x00(\\xa2\\x8a\\x00(\\xa2\\x8a\\x00(\\xa2\\x8a\\x00(\\xa2\\x8a\\x00(\\xa2\\x8a\\x00(\\xa2\\x8a\\x00(\\xa2\\x8a\\x00(\\xa2\\x8a\\x00(\\xa2\\x8a\\x00(\\xa2\\x8a\\x00(\\xa2\\x8a\\x00(\\xa2\\x8a\\x00(\\xa2\\x8a\\x00(\\xa2\\x8a\\x00\\xcb\\xbe\\xbe\\x9e\\x0b\\xaf.<*\\xa8\\x07\\x91\\x9d\\xd5m\\x1aV\\xb9\\x0c\\xd2\\xa8F@|\\xae\\xe0\\xfa\\xd4Z\\x8d\\xc0\\xb7\\xf2\\xc8\\x89\\x1d\\x898g\\x19\\xc7\\xd2\\xa2i\\xad\\xe2\\x96\\x1b\\xd7Y<\\xc9\\x17;GA\\xd8\\x9eh\\x02\\xca34S\\xc8c\\x16\\xef\\xc8\\xde\\xc39\\x03\\xa15<j\\x11\\x06\\xd0\\xbc\\x80IQ\\x80O\\xaf\\xe3T\\x96Qi+<\\xf7\\x05\\xd6o\\x99\\x06\\t\\xc0\\xf5>\\x95:\\xca\\xf0\\xc9\\x14\\x12o\\x91\\x9f\\'x\\\\\\x00=\\xe8\\x02i\\x11^2\\x1c)\\\\d\\xee\\xe9\\xeb\\xcdU\\x9f\\xcbd\\xb7\\x99\\xe2\\xf3\\xdb \\x06\\x8f8\\xfa\\xfd)\\r\\xcc\\xd7HE\\xb2\\xed*\\xfb[\\xcc\\xc7#\\xfc\\xf5\\xa9\\xd3\\x0e\\xe8\\xd0J\\xa24\\xca\\xb2(\\xe0\\x9fOlP\\x042,k\\xa8\\x99D\\xa4\\xca\\x10\\xb0\\x8f\\xd7\\x8f_\\xe9PX\\xdfO=\\xd0I0\\xca\\xc0\\x9e\\x066\\xd5\\x96\\x90\\xa1\\x9eg\\xb6\\x00\\xc40\\x8d\\xdd\\x853N\\xb8\\x17\\x1ea1\"0\\xc1,\\x83\\x19\\xfa\\xd0\\x05\\xea(\\xa2\\x80\\n(\\xa2\\x80\\n(\\xa2\\x80\\n(\\xa2\\x80\\n(\\xa2\\x80\\n(\\xa2\\x80\\n(\\xa2\\x80\\n(\\xa2\\x80\\n(\\xa2\\x80\\n(\\xa2\\x80\\n(\\xa2\\x80\\n(\\xa2\\x80\\n(\\xa2\\x80\\n(\\xa2\\x80\\n(\\xa2\\x80\\n(\\xa2\\x80\\x1a\\xe8\\xae\\xb8dW\\xc7 0\\xcf5\\x9f\\x02\\xc9x\\\\]\\xc06\\xa7\\xdd\\xca\\xe3\\x07\\xd3\\xe9ZU\\r\\xdc\\x06\\xe6\\x03\\x18r\\x9c\\x83\\x9e\\xbf\\x81\\xa0\\n\\n\\xdb\\xf2\\xfa\\x84aQ\\x08\\t\\xf2\\x91\\xcf\\xa0\\x1d\\xc5L\\x91]\\xa0\\x9d\\xd2e}\\xe31\\x8c\\xf1\\xd79\\xc1\\xe9\\xc5:D\\x0b\\xe4[<-,d\\x00\\\\\\xf6>\\xb4\\xe5[f\\xbbiVB\\x1a\\x15\\xda\\xcb\\xd0(\\xc5\\x00=c\\x99\\x96\\x06\\x92]\\x8e\\xa7.\\xab\\x8c1\\xf4\\xa0\\xe2Q\\xb25\\x06&\\xdc\\xae\\xcapA\\xe9\\xf9\\xd3\\x15m\\xa2\\x10#9}\\xccZ2\\xc4\\x9c\\x9f\\\\\\xd3\\x8b\\xbd\\xc3\\xdc[\\x98\\xda5\\x03\\n\\xfe\\xbfJ\\x00\\x86\\xe9\\xee-\\xd6\\x18\\xed\\x90\\xbac\\x04\\x91\\xbb>\\xc6\\xae\\xa2*(\\n\\x8a\\x99\\xe4\\x85\\x18\\xe6\\xa2\\xb4\\xb76\\xd0\\x08\\xcb\\x97\\xe4\\x9c\\xf4\\xfc\\x05O@\\x05\\x14Q@\\x05\\x14Q@\\x05\\x14Q@\\x05\\x14Q@\\x05\\x14Q@\\x05\\x14Q@\\x05\\x14Q@\\x05\\x14Q@\\x05\\x14Q@\\x05\\x14Q@\\x05\\x14Q@\\x05\\x14Q@\\x05\\x14Q@\\x05\\x14Q@\\x05\\x14Q@\\x05\\x14Q@\\x05\\x14Q@\\x05!E!\\x81U\\xf9\\xbe\\xf7\\x1d~\\xb4\\xb4P\\x02\\x04P\\x14\\x05\\\\/\\xdd\\xe3\\xa7\\xd2\\x96\\x8a(\\x00\\xa2\\x8a(\\x00\\xa2\\x8a(\\x00\\xa2\\x8a(\\x00\\xa2\\x8a(\\x00\\xa2\\x8a(\\x00\\xa2\\x8a(\\x00\\xa2\\x8a(\\x00\\xa2\\x8a(\\x00\\xa2\\x8a(\\x00\\xa2\\x8a(\\x00\\xa2\\x8a(\\x00\\xa2\\x8a(\\x00\\xa2\\x8a(\\x00\\xa2\\x8a(\\x00\\xa2\\x8a(\\x00\\xa2\\x8a(\\x00\\xac\\xb8^y-\\xdeczP\\xa9o\\x94\\x81\\x8e+R\\xb2\\xd3M\\xddf\\xe1\\xe3\\x0b>IV=}\\x87\\xd2\\x80\\x1f-\\xdc\\x8dgl\\xfb\\xc4fV\\xc36:\\x0fZ\\x96\\x06\\xc6\\xf2/|\\xe2\\x10\\x9d\\xb8\\x1c{\\xd3.#\\x9a[{w\\xf2r\\xf1\\xb0-\\x1f\\x03#\\xa7\\x1d\\xb1SA\\x97,\\xadi\\xe4\\x82\\x08\\xdd\\x91\\xcf\\xb5\\x00%\\xa4\\xb2I\\xa7\\x89\\x1d\\x89|1\\xdd\\xf9\\xd4Q\\x19\\xe7\\xb1\\x8ear\\xc8\\xc1X\\x9c(;\\xa9\\xb1\\x8b\\xa8-\\xcd\\xb2\\xdb\\xef\\xc6@p\\xc0\\x0c\\x1e\\xe6\\xac\\xc3\\x01\\x86\\xc4C\\x9c\\xb0B8\\xf5\\xc5\\x00Chgkqr\\xf3\\xb3\\x82\\x84\\xec*1\\x9f\\xadE\\x04\\xad,j\\xef\\xa8lv\\xea\\x98\\x1cs\\xd2\\xadZ\\xc2\\xe9`\\xb18\\xda\\xfbH \\xf6\\xebU\\xad\\xd6HbX\\xde\\xc3{/\\x05\\xb29\\xe7\\xaf4\\x00\\xf9\\xdeV\\xbf\\xf2V\\xe0\\xc4\\x9b\\x03p\\x07\\\\\\xfb\\xd2\\xc3q2\\x9b\\x98\\xf7\\x89\\x8cK\\xb9X\\x0e\\xa7\\xd0\\xd2\\xc9j&\\xd47\\xc9\\x18x\\xbc\\xb02zg4\\xb6\\xb1Ik\\xe7F#\\xdc\\x80\\x96\\x8d\\xb8\\x1b\\xbd\\x8d\\x00El\\xf2N\\x15\\x85\\xf1\\xdf\\xd5\\xa3\\xda8\\xf6\\xc5h\\xd6l\\xd1\\xcdr\\xe9\\x8bO)\\xc3\\x02d,8\\x1f\\xd6\\xb4\\xa8\\x00\\xa2\\x8a(\\x00\\xa2\\x8a(\\x00\\xa2\\x8a(\\x00\\xa2\\x8a(\\x00\\xa2\\x8a(\\x00\\xa2\\x8a(\\x00\\xa2\\x8a(\\x00\\xa2\\x8a(\\x00\\xa2\\x8a(\\x00\\xa2\\x8a(\\x00\\xa2\\x8a(\\x00\\xa2\\x8a(\\x00\\xa2\\x8a(\\x00\\xa2\\x8a(\\x00\\xa2\\x8a(\\x00\\xa2\\x8a(\\x00\\xa2\\x8a(\\x00\\xa2\\x8a(\\x00\\xa2\\x8a(\\x00\\xa2\\x8a(\\x00\\xa2\\x8a(\\x00\\xa2\\x8a(\\x00\\xa2\\x8a(\\x00\\xa2\\x8a(\\x00\\xa2\\x8a(\\x00\\xa2\\x8a(\\x00\\xa2\\x8a(\\x00\\xa2\\x8a(\\x00\\xa2\\x8a(\\x00\\xa2\\x8a(\\x00\\xa2\\x8a(\\x00\\xa2\\x8a(\\x00\\xa2\\x8a(\\x00\\xa2\\x8a(\\x00\\xa2\\x8a(\\x00\\xa2\\x8a(\\x00\\xa2\\x8a(\\x00\\xa2\\x8a(\\x00\\xa2\\x8a(\\x00\\xa2\\x8a(\\x00\\xa2\\x8a(\\x00\\xa2\\x8a(\\x00\\xa2\\x8a(\\x00\\xa2\\x8a(\\x00\\xa2\\x8a(\\x00\\xa2\\x8a(\\x00\\xa2\\x8a(\\x00\\xa2\\x8a(\\x00\\xa2\\x8a(\\x00\\xa2\\x8a(\\x00\\xa2\\x8a(\\x00\\xa2\\x8a(\\x00\\xa2\\x8a(\\x00\\xa2\\x8a(\\x00\\xa2\\x8a(\\x00\\xa2\\x8a(\\x00\\xa2\\x8a(\\x00\\xa2\\x8a(\\x00\\xa2\\x8a(\\x00\\xa2\\x8a(\\x00\\xa2\\x8a(\\x00\\xa2\\x8a(\\x00\\xa2\\x8a(\\x00\\xa2\\x8a(\\x00\\xa2\\x8a(\\x00\\xa2\\x8a(\\x00\\xa2\\x8a(\\x03\\xff\\xd9'"
      ]
     },
     "execution_count": 21,
     "metadata": {},
     "output_type": "execute_result"
    }
   ],
   "source": [
    "tf.io.read_file(\"/home/ashwinkumar/Upwork_Projects/Fakeddit/images/79w55p.jpg\").numpy()"
   ]
  },
  {
   "cell_type": "code",
   "execution_count": 17,
   "metadata": {
    "ExecuteTime": {
     "end_time": "2021-05-17T07:15:56.204102Z",
     "start_time": "2021-05-17T07:15:56.199044Z"
    }
   },
   "outputs": [
    {
     "data": {
      "text/plain": [
       "(65496,)"
      ]
     },
     "execution_count": 17,
     "metadata": {},
     "output_type": "execute_result"
    }
   ],
   "source": [
    "unpack(\">H\", img.img_data[:2])"
   ]
  },
  {
   "cell_type": "code",
   "execution_count": 26,
   "metadata": {
    "ExecuteTime": {
     "end_time": "2021-05-17T15:56:16.939538Z",
     "start_time": "2021-05-17T15:56:16.929331Z"
    }
   },
   "outputs": [
    {
     "data": {
      "text/plain": [
       "<tf.Tensor: shape=(), dtype=string, numpy=b'ab'>"
      ]
     },
     "execution_count": 26,
     "metadata": {},
     "output_type": "execute_result"
    }
   ],
   "source": [
    "a = tf.constant(\"ab\")\n",
    "b = [\"ab\", \"dc\"]\n",
    "a"
   ]
  },
  {
   "cell_type": "code",
   "execution_count": 34,
   "metadata": {
    "ExecuteTime": {
     "end_time": "2021-05-17T15:56:59.181152Z",
     "start_time": "2021-05-17T15:56:59.082862Z"
    },
    "scrolled": true
   },
   "outputs": [
    {
     "data": {
      "text/plain": [
       "<tf.Tensor: shape=(), dtype=bool, numpy=True>"
      ]
     },
     "execution_count": 34,
     "metadata": {},
     "output_type": "execute_result"
    }
   ],
   "source": [
    "a = tf.constant(\"a1212\")\n",
    "tf.math.logical_not(tf.strings.regex_full_match(a, \".*[^\\w]+.*\"))"
   ]
  },
  {
   "cell_type": "code",
   "execution_count": 78,
   "metadata": {
    "ExecuteTime": {
     "end_time": "2021-05-17T10:07:19.446780Z",
     "start_time": "2021-05-17T10:07:19.442703Z"
    }
   },
   "outputs": [],
   "source": [
    "b = tf.convert_to_tensor(b)"
   ]
  },
  {
   "cell_type": "code",
   "execution_count": 79,
   "metadata": {
    "ExecuteTime": {
     "end_time": "2021-05-17T10:07:19.798631Z",
     "start_time": "2021-05-17T10:07:19.792566Z"
    }
   },
   "outputs": [
    {
     "data": {
      "text/plain": [
       "<tf.Tensor: shape=(2,), dtype=bool, numpy=array([ True, False])>"
      ]
     },
     "execution_count": 79,
     "metadata": {},
     "output_type": "execute_result"
    }
   ],
   "source": [
    "tf.math.equal(a, b)"
   ]
  },
  {
   "cell_type": "code",
   "execution_count": 80,
   "metadata": {
    "ExecuteTime": {
     "end_time": "2021-05-17T10:07:20.961177Z",
     "start_time": "2021-05-17T10:07:20.953604Z"
    }
   },
   "outputs": [
    {
     "data": {
      "text/plain": [
       "<tf.Tensor: shape=(), dtype=bool, numpy=True>"
      ]
     },
     "execution_count": 80,
     "metadata": {},
     "output_type": "execute_result"
    }
   ],
   "source": [
    "tf.math.reduce_any(tf.math.equal(a, b))"
   ]
  },
  {
   "cell_type": "code",
   "execution_count": 9,
   "metadata": {
    "ExecuteTime": {
     "end_time": "2021-05-17T07:07:46.826485Z",
     "start_time": "2021-05-17T07:07:46.820962Z"
    }
   },
   "outputs": [
    {
     "data": {
      "text/plain": [
       "65536"
      ]
     },
     "execution_count": 9,
     "metadata": {},
     "output_type": "execute_result"
    }
   ],
   "source": [
    "2**16"
   ]
  },
  {
   "cell_type": "code",
   "execution_count": 15,
   "metadata": {
    "ExecuteTime": {
     "end_time": "2021-05-17T07:10:00.212159Z",
     "start_time": "2021-05-17T07:10:00.208011Z"
    }
   },
   "outputs": [
    {
     "data": {
      "text/plain": [
       "'A'"
      ]
     },
     "execution_count": 15,
     "metadata": {},
     "output_type": "execute_result"
    }
   ],
   "source": [
    "\"\\x41\""
   ]
  },
  {
   "cell_type": "code",
   "execution_count": 13,
   "metadata": {
    "ExecuteTime": {
     "end_time": "2021-05-17T07:09:09.714863Z",
     "start_time": "2021-05-17T07:09:09.708661Z"
    }
   },
   "outputs": [
    {
     "data": {
      "text/plain": [
       "True"
      ]
     },
     "execution_count": 13,
     "metadata": {},
     "output_type": "execute_result"
    }
   ],
   "source": [
    "65496 == 0xffd8"
   ]
  }
 ],
 "metadata": {
  "colab": {
   "name": "Copy of Search Relevance.ipynb",
   "provenance": []
  },
  "kernelspec": {
   "display_name": "Python 3",
   "language": "python",
   "name": "python3"
  },
  "language_info": {
   "codemirror_mode": {
    "name": "ipython",
    "version": 3
   },
   "file_extension": ".py",
   "mimetype": "text/x-python",
   "name": "python",
   "nbconvert_exporter": "python",
   "pygments_lexer": "ipython3",
   "version": "3.8.5"
  },
  "varInspector": {
   "cols": {
    "lenName": 16,
    "lenType": 16,
    "lenVar": 40
   },
   "kernels_config": {
    "python": {
     "delete_cmd_postfix": "",
     "delete_cmd_prefix": "del ",
     "library": "var_list.py",
     "varRefreshCmd": "print(var_dic_list())"
    },
    "r": {
     "delete_cmd_postfix": ") ",
     "delete_cmd_prefix": "rm(",
     "library": "var_list.r",
     "varRefreshCmd": "cat(var_dic_list()) "
    }
   },
   "types_to_exclude": [
    "module",
    "function",
    "builtin_function_or_method",
    "instance",
    "_Feature"
   ],
   "window_display": false
  }
 },
 "nbformat": 4,
 "nbformat_minor": 1
}
